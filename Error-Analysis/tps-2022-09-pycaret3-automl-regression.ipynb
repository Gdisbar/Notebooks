{
 "cells": [
  {
   "cell_type": "markdown",
   "id": "2deca72c",
   "metadata": {
    "papermill": {
     "duration": 0.014318,
     "end_time": "2022-09-18T21:44:14.375103",
     "exception": false,
     "start_time": "2022-09-18T21:44:14.360785",
     "status": "completed"
    },
    "tags": []
   },
   "source": [
    "# TPS 2022-09 - PyCaret3 AutoML Classification\n",
    "\n",
    "- https://pycaret.org/\n",
    "\n",
    "> PyCaret is an open-source, low-code machine learning library in Python that aims to reduce the cycle time from hypothesis to insights. It is well suited for seasoned data scientists who want to increase the productivity of their ML experiments by using PyCaret in their workflows or for citizen data scientists and those new to data science with little or no background in coding. PyCaret allows you to go from preparing your data to deploying your model within seconds using your choice of notebook environment.\n",
    "\n",
    "This notebook is part of a series using PyCaret to create baseline AutoML predictions"
   ]
  },
  {
   "cell_type": "code",
   "execution_count": 1,
   "id": "1d4f94c9",
   "metadata": {
    "execution": {
     "iopub.execute_input": "2022-09-18T21:44:14.403115Z",
     "iopub.status.busy": "2022-09-18T21:44:14.402616Z",
     "iopub.status.idle": "2022-09-18T21:44:14.419649Z",
     "shell.execute_reply": "2022-09-18T21:44:14.418417Z"
    },
    "papermill": {
     "duration": 0.034521,
     "end_time": "2022-09-18T21:44:14.422461",
     "exception": false,
     "start_time": "2022-09-18T21:44:14.387940",
     "status": "completed"
    },
    "tags": []
   },
   "outputs": [
    {
     "data": {
      "text/html": [
       "<style> \n",
       "table { float:left; margin-bottom: 1em; } \n",
       "table + * { content: \"\"; clear: both; display: table; }\n",
       "iframe { height: 550em; }\n",
       "</style>\n"
      ],
      "text/plain": [
       "<IPython.core.display.HTML object>"
      ]
     },
     "metadata": {},
     "output_type": "display_data"
    }
   ],
   "source": [
    "%%html\n",
    "<style> \n",
    "table { float:left; margin-bottom: 1em; } \n",
    "table + * { content: \"\"; clear: both; display: table; }\n",
    "iframe { height: 550em; }\n",
    "</style>"
   ]
  },
  {
   "cell_type": "code",
   "execution_count": 2,
   "id": "075f1c2a",
   "metadata": {
    "execution": {
     "iopub.execute_input": "2022-09-18T21:44:14.451948Z",
     "iopub.status.busy": "2022-09-18T21:44:14.451558Z",
     "iopub.status.idle": "2022-09-18T21:46:20.210997Z",
     "shell.execute_reply": "2022-09-18T21:46:20.209399Z"
    },
    "papermill": {
     "duration": 125.790396,
     "end_time": "2022-09-18T21:46:20.227609",
     "exception": false,
     "start_time": "2022-09-18T21:44:14.437213",
     "status": "completed"
    },
    "tags": []
   },
   "outputs": [
    {
     "name": "stdout",
     "output_type": "stream",
     "text": [
      "CPU times: user 2.58 s, sys: 378 ms, total: 2.96 s\n",
      "Wall time: 2min 5s\n"
     ]
    }
   ],
   "source": [
    "%%time\n",
    "# BUGFIX: https://github.com/pycaret/pycaret/issues/2837#issuecomment-1217630148\n",
    "!pip install --pre pycaret[full] -q 2> /dev/null\n",
    "!pip install autoviz tune-sklearn ray[tune] scikit-optimize hyperopt optuna hpbandster ConfigSpace -q 2> /dev/null"
   ]
  },
  {
   "cell_type": "code",
   "execution_count": 3,
   "id": "3c384448",
   "metadata": {
    "execution": {
     "iopub.execute_input": "2022-09-18T21:46:20.256386Z",
     "iopub.status.busy": "2022-09-18T21:46:20.255897Z",
     "iopub.status.idle": "2022-09-18T21:46:21.459472Z",
     "shell.execute_reply": "2022-09-18T21:46:21.457905Z"
    },
    "papermill": {
     "duration": 1.221358,
     "end_time": "2022-09-18T21:46:21.462066",
     "exception": false,
     "start_time": "2022-09-18T21:46:20.240708",
     "status": "completed"
    },
    "tags": []
   },
   "outputs": [
    {
     "data": {
      "text/plain": [
       "'3.0.0.rc3'"
      ]
     },
     "execution_count": 3,
     "metadata": {},
     "output_type": "execute_result"
    }
   ],
   "source": [
    "from pycaret.utils import version\n",
    "version()"
   ]
  },
  {
   "cell_type": "code",
   "execution_count": 4,
   "id": "25b30806",
   "metadata": {
    "execution": {
     "iopub.execute_input": "2022-09-18T21:46:21.490604Z",
     "iopub.status.busy": "2022-09-18T21:46:21.490113Z",
     "iopub.status.idle": "2022-09-18T21:46:27.045743Z",
     "shell.execute_reply": "2022-09-18T21:46:27.044580Z"
    },
    "papermill": {
     "duration": 5.573235,
     "end_time": "2022-09-18T21:46:27.048553",
     "exception": false,
     "start_time": "2022-09-18T21:46:21.475318",
     "status": "completed"
    },
    "tags": []
   },
   "outputs": [],
   "source": [
    "import os\n",
    "import pandas as pd\n",
    "import numpy as np\n",
    "import matplotlib\n",
    "import pycaret\n",
    "import pycaret.regression\n",
    "\n",
    "%matplotlib inline\n",
    "\n",
    "pd.set_option('display.max_rows',    10)\n",
    "pd.set_option('display.max_columns', 999)\n",
    "pd.set_option('display.width',       1000)"
   ]
  },
  {
   "cell_type": "code",
   "execution_count": 5,
   "id": "c49d4977",
   "metadata": {
    "execution": {
     "iopub.execute_input": "2022-09-18T21:46:27.078702Z",
     "iopub.status.busy": "2022-09-18T21:46:27.077522Z",
     "iopub.status.idle": "2022-09-18T21:46:27.083294Z",
     "shell.execute_reply": "2022-09-18T21:46:27.082133Z"
    },
    "jupyter": {
     "source_hidden": true
    },
    "papermill": {
     "duration": 0.023285,
     "end_time": "2022-09-18T21:46:27.086075",
     "exception": false,
     "start_time": "2022-09-18T21:46:27.062790",
     "status": "completed"
    },
    "tags": []
   },
   "outputs": [],
   "source": [
    "# os.environ[\"KAGGLE_KERNEL_RUN_TYPE\"] = \"Interactive\"  # Quickrun for Debugging"
   ]
  },
  {
   "cell_type": "markdown",
   "id": "8bf7c85b",
   "metadata": {
    "papermill": {
     "duration": 0.013569,
     "end_time": "2022-09-18T21:46:27.113520",
     "exception": false,
     "start_time": "2022-09-18T21:46:27.099951",
     "status": "completed"
    },
    "tags": []
   },
   "source": [
    "# Custom Metric\n",
    "- https://www.kaggle.com/competitions/tabular-playground-series-sep-2022/overview/evaluation\n",
    "- https://en.wikipedia.org/wiki/Symmetric_mean_absolute_percentage_error\n",
    "\n",
    "NOTE: using inbuilt MAPE instead"
   ]
  },
  {
   "cell_type": "code",
   "execution_count": 6,
   "id": "8065d7e6",
   "metadata": {
    "execution": {
     "iopub.execute_input": "2022-09-18T21:46:27.142196Z",
     "iopub.status.busy": "2022-09-18T21:46:27.141738Z",
     "iopub.status.idle": "2022-09-18T21:46:27.147151Z",
     "shell.execute_reply": "2022-09-18T21:46:27.145912Z"
    },
    "jupyter": {
     "source_hidden": true
    },
    "papermill": {
     "duration": 0.022833,
     "end_time": "2022-09-18T21:46:27.149703",
     "exception": false,
     "start_time": "2022-09-18T21:46:27.126870",
     "status": "completed"
    },
    "tags": []
   },
   "outputs": [],
   "source": [
    "# def SMAPE(y_true, y_pred):\n",
    "#     denominator = (y_true + np.abs(y_pred)) / 200.0\n",
    "#     diff = np.abs(y_true - y_pred) / denominator\n",
    "#     diff[denominator == 0] = 0.0\n",
    "#     return np.mean(diff)\n",
    "\n",
    "# try: add_metric('smape', 'SMAPE', SMAPE, greater_is_better=False)\n",
    "# except: pass"
   ]
  },
  {
   "cell_type": "markdown",
   "id": "58030826",
   "metadata": {
    "papermill": {
     "duration": 0.013202,
     "end_time": "2022-09-18T21:46:27.176300",
     "exception": false,
     "start_time": "2022-09-18T21:46:27.163098",
     "status": "completed"
    },
    "tags": []
   },
   "source": [
    "# Load Dataset\n",
    "\n",
    "- https://pycaret.readthedocs.io/en/latest/api/datasets.html?highlight=get_data#pycaret.datasets.get_data\n",
    "\n",
    "> All modules in PyCaret can work directly with pandas Dataframe. It can consume the dataframe, Irrespective of how it is loaded in the environment. See the below example of loading a csv file into the notebook using pandas native functionality.\n",
    ">\n",
    "> PyCaret also hosts the repository of open source datasets that were used throughout the documentation for demonstration purposes. These are hosted on PyCaret’s github and can also be directly loaded using `pycaret.datasets module`\n"
   ]
  },
  {
   "cell_type": "code",
   "execution_count": 7,
   "id": "74163c4a",
   "metadata": {
    "execution": {
     "iopub.execute_input": "2022-09-18T21:46:27.206232Z",
     "iopub.status.busy": "2022-09-18T21:46:27.205802Z",
     "iopub.status.idle": "2022-09-18T21:46:27.213892Z",
     "shell.execute_reply": "2022-09-18T21:46:27.212597Z"
    },
    "papermill": {
     "duration": 0.026959,
     "end_time": "2022-09-18T21:46:27.216650",
     "exception": false,
     "start_time": "2022-09-18T21:46:27.189691",
     "status": "completed"
    },
    "tags": []
   },
   "outputs": [],
   "source": [
    "# Source: https://www.kaggle.com/code/jamesmcguigan/tps-2022-09-profilereport-autoeda/\n",
    "def enhance_types(df):\n",
    "    for col in df:\n",
    "        if len(np.unique(df[col])) <= 10:\n",
    "            df[col] = df[col].astype('category')                    \n",
    "    \n",
    "    for col in ['date']:\n",
    "        df[col] =  pd.to_datetime(df[col], format='%Y-%m-%d')\n",
    "\n",
    "    return df\n",
    "  \n",
    "def enhance_features(df):\n",
    "    ### PyCaret does this internally already    \n",
    "    # for col in ['date']:    \n",
    "    #     train_df[f'{col}_day']   = train_df[col].dt.day\n",
    "    #     train_df[f'{col}_month'] = train_df[col].dt.month\n",
    "    #     train_df[f'{col}_year']  = train_df[col].dt.year\n",
    "    return df\n",
    "    \n",
    "def enhance(df):\n",
    "    df = enhance_types(df)\n",
    "    df = enhance_features(df)\n",
    "    return df"
   ]
  },
  {
   "cell_type": "code",
   "execution_count": 8,
   "id": "3849e1c4",
   "metadata": {
    "execution": {
     "iopub.execute_input": "2022-09-18T21:46:27.247074Z",
     "iopub.status.busy": "2022-09-18T21:46:27.246645Z",
     "iopub.status.idle": "2022-09-18T21:46:27.253768Z",
     "shell.execute_reply": "2022-09-18T21:46:27.252626Z"
    },
    "jupyter": {
     "source_hidden": true
    },
    "papermill": {
     "duration": 0.025685,
     "end_time": "2022-09-18T21:46:27.256072",
     "exception": false,
     "start_time": "2022-09-18T21:46:27.230387",
     "status": "completed"
    },
    "tags": []
   },
   "outputs": [],
   "source": [
    "# # Source: https://www.kaggle.com/code/jamesmcguigan/tps-2022-09-profilereport-autoeda/\n",
    "\n",
    "# def enhance_types(df):\n",
    "#     for col in df:\n",
    "#         if len(np.unique(df[col])) <= 10:\n",
    "#             df[col] = df[col].astype('category')                    \n",
    "    \n",
    "#     for col in ['date']:\n",
    "#         df[col] =  pd.to_datetime(df[col], format='%Y-%m-%d')\n",
    "\n",
    "#     return df\n",
    "\n",
    "\n",
    "# def enhance_features(df):\n",
    "#     # Manual Feature Engineering Ratios: \n",
    "#     # IDEA: https://www.kaggle.com/competitions/tabular-playground-series-sep-2022/discussion/349941\n",
    "#     # DOCS: https://stackoverflow.com/questions/12200693/python-pandas-how-to-assign-groupby-operation-results-back-to-columns-in-parent\n",
    "#     col_order = {\n",
    "#         \"original\":  [ 'date', 'country',  'store', 'product'],\n",
    "#         \"col_ratio\": [],        \n",
    "#         \"col_total\": [],\n",
    "#     }\n",
    "#     col_groups = [\n",
    "#         ['date', 'country'],\n",
    "#         ['date', 'store'],\n",
    "#         ['date', 'product'],\n",
    "#         ['date', 'country', 'store'],\n",
    "#         ['date', 'country', 'product'],\n",
    "#         ['date', 'store',   'product'],\n",
    "#         # [ 'date', 'country',  'store', 'product'],  # This is the entire column\n",
    "#     ]\n",
    "#     for col_group in col_groups:\n",
    "#         col_total = \"_\".join(col_group) + '_sold'\n",
    "#         col_ratio = \"_\".join(col_group) + '_ratio'        \n",
    "#         col_order['col_total'] += [col_total]\n",
    "#         col_order['col_ratio'] += [col_ratio]\n",
    "#         df[col_total] = df.groupby(col_group)['num_sold'].transform('sum')\n",
    "#         df[col_ratio] = df['num_sold'] / df[col_total]        \n",
    "#         del df[col_total]  # Remove totals columns\n",
    "\n",
    "#     # Reorder Columns\n",
    "#     col_order['original'] = [ \n",
    "#         col \n",
    "#         for col in df.columns \n",
    "#         if  col not in col_order['col_total'] \n",
    "#         and col not in col_order['col_ratio']\n",
    "#     ]\n",
    "#     df = df.reindex(columns=col_order['original'] + col_order['col_ratio'])\n",
    "#     return df\n",
    "    \n",
    "    \n",
    "# def enhance(df):\n",
    "#     df = enhance_types(df)\n",
    "#     df = enhance_features(df)\n",
    "#     return df"
   ]
  },
  {
   "cell_type": "code",
   "execution_count": 9,
   "id": "99387638",
   "metadata": {
    "execution": {
     "iopub.execute_input": "2022-09-18T21:46:27.285085Z",
     "iopub.status.busy": "2022-09-18T21:46:27.284668Z",
     "iopub.status.idle": "2022-09-18T21:46:27.609873Z",
     "shell.execute_reply": "2022-09-18T21:46:27.608803Z"
    },
    "papermill": {
     "duration": 0.342953,
     "end_time": "2022-09-18T21:46:27.612761",
     "exception": false,
     "start_time": "2022-09-18T21:46:27.269808",
     "status": "completed"
    },
    "tags": []
   },
   "outputs": [],
   "source": [
    "index_col  = 'row_id'\n",
    "target_col = 'num_sold'\n",
    "train_df   = pd.read_csv('../input/tabular-playground-series-sep-2022/train.csv', index_col=index_col)\n",
    "train_df   = enhance(train_df)"
   ]
  },
  {
   "cell_type": "code",
   "execution_count": 10,
   "id": "e270e73e",
   "metadata": {
    "execution": {
     "iopub.execute_input": "2022-09-18T21:46:27.642696Z",
     "iopub.status.busy": "2022-09-18T21:46:27.641514Z",
     "iopub.status.idle": "2022-09-18T21:46:27.666473Z",
     "shell.execute_reply": "2022-09-18T21:46:27.665207Z"
    },
    "papermill": {
     "duration": 0.042779,
     "end_time": "2022-09-18T21:46:27.669158",
     "exception": false,
     "start_time": "2022-09-18T21:46:27.626379",
     "status": "completed"
    },
    "tags": []
   },
   "outputs": [
    {
     "data": {
      "text/html": [
       "<div>\n",
       "<style scoped>\n",
       "    .dataframe tbody tr th:only-of-type {\n",
       "        vertical-align: middle;\n",
       "    }\n",
       "\n",
       "    .dataframe tbody tr th {\n",
       "        vertical-align: top;\n",
       "    }\n",
       "\n",
       "    .dataframe thead th {\n",
       "        text-align: right;\n",
       "    }\n",
       "</style>\n",
       "<table border=\"1\" class=\"dataframe\">\n",
       "  <thead>\n",
       "    <tr style=\"text-align: right;\">\n",
       "      <th></th>\n",
       "      <th>date</th>\n",
       "      <th>country</th>\n",
       "      <th>store</th>\n",
       "      <th>product</th>\n",
       "      <th>num_sold</th>\n",
       "    </tr>\n",
       "    <tr>\n",
       "      <th>row_id</th>\n",
       "      <th></th>\n",
       "      <th></th>\n",
       "      <th></th>\n",
       "      <th></th>\n",
       "      <th></th>\n",
       "    </tr>\n",
       "  </thead>\n",
       "  <tbody>\n",
       "    <tr>\n",
       "      <th>0</th>\n",
       "      <td>2017-01-01</td>\n",
       "      <td>Belgium</td>\n",
       "      <td>KaggleMart</td>\n",
       "      <td>Kaggle Advanced Techniques</td>\n",
       "      <td>663</td>\n",
       "    </tr>\n",
       "    <tr>\n",
       "      <th>1</th>\n",
       "      <td>2017-01-01</td>\n",
       "      <td>Belgium</td>\n",
       "      <td>KaggleMart</td>\n",
       "      <td>Kaggle Getting Started</td>\n",
       "      <td>615</td>\n",
       "    </tr>\n",
       "    <tr>\n",
       "      <th>2</th>\n",
       "      <td>2017-01-01</td>\n",
       "      <td>Belgium</td>\n",
       "      <td>KaggleMart</td>\n",
       "      <td>Kaggle Recipe Book</td>\n",
       "      <td>480</td>\n",
       "    </tr>\n",
       "    <tr>\n",
       "      <th>3</th>\n",
       "      <td>2017-01-01</td>\n",
       "      <td>Belgium</td>\n",
       "      <td>KaggleMart</td>\n",
       "      <td>Kaggle for Kids: One Smart Goose</td>\n",
       "      <td>710</td>\n",
       "    </tr>\n",
       "    <tr>\n",
       "      <th>4</th>\n",
       "      <td>2017-01-01</td>\n",
       "      <td>Belgium</td>\n",
       "      <td>KaggleRama</td>\n",
       "      <td>Kaggle Advanced Techniques</td>\n",
       "      <td>240</td>\n",
       "    </tr>\n",
       "    <tr>\n",
       "      <th>...</th>\n",
       "      <td>...</td>\n",
       "      <td>...</td>\n",
       "      <td>...</td>\n",
       "      <td>...</td>\n",
       "      <td>...</td>\n",
       "    </tr>\n",
       "    <tr>\n",
       "      <th>70123</th>\n",
       "      <td>2020-12-31</td>\n",
       "      <td>Spain</td>\n",
       "      <td>KaggleMart</td>\n",
       "      <td>Kaggle for Kids: One Smart Goose</td>\n",
       "      <td>614</td>\n",
       "    </tr>\n",
       "    <tr>\n",
       "      <th>70124</th>\n",
       "      <td>2020-12-31</td>\n",
       "      <td>Spain</td>\n",
       "      <td>KaggleRama</td>\n",
       "      <td>Kaggle Advanced Techniques</td>\n",
       "      <td>215</td>\n",
       "    </tr>\n",
       "    <tr>\n",
       "      <th>70125</th>\n",
       "      <td>2020-12-31</td>\n",
       "      <td>Spain</td>\n",
       "      <td>KaggleRama</td>\n",
       "      <td>Kaggle Getting Started</td>\n",
       "      <td>158</td>\n",
       "    </tr>\n",
       "    <tr>\n",
       "      <th>70126</th>\n",
       "      <td>2020-12-31</td>\n",
       "      <td>Spain</td>\n",
       "      <td>KaggleRama</td>\n",
       "      <td>Kaggle Recipe Book</td>\n",
       "      <td>135</td>\n",
       "    </tr>\n",
       "    <tr>\n",
       "      <th>70127</th>\n",
       "      <td>2020-12-31</td>\n",
       "      <td>Spain</td>\n",
       "      <td>KaggleRama</td>\n",
       "      <td>Kaggle for Kids: One Smart Goose</td>\n",
       "      <td>202</td>\n",
       "    </tr>\n",
       "  </tbody>\n",
       "</table>\n",
       "<p>70128 rows × 5 columns</p>\n",
       "</div>"
      ],
      "text/plain": [
       "             date  country       store                           product  num_sold\n",
       "row_id                                                                            \n",
       "0      2017-01-01  Belgium  KaggleMart        Kaggle Advanced Techniques       663\n",
       "1      2017-01-01  Belgium  KaggleMart            Kaggle Getting Started       615\n",
       "2      2017-01-01  Belgium  KaggleMart                Kaggle Recipe Book       480\n",
       "3      2017-01-01  Belgium  KaggleMart  Kaggle for Kids: One Smart Goose       710\n",
       "4      2017-01-01  Belgium  KaggleRama        Kaggle Advanced Techniques       240\n",
       "...           ...      ...         ...                               ...       ...\n",
       "70123  2020-12-31    Spain  KaggleMart  Kaggle for Kids: One Smart Goose       614\n",
       "70124  2020-12-31    Spain  KaggleRama        Kaggle Advanced Techniques       215\n",
       "70125  2020-12-31    Spain  KaggleRama            Kaggle Getting Started       158\n",
       "70126  2020-12-31    Spain  KaggleRama                Kaggle Recipe Book       135\n",
       "70127  2020-12-31    Spain  KaggleRama  Kaggle for Kids: One Smart Goose       202\n",
       "\n",
       "[70128 rows x 5 columns]"
      ]
     },
     "execution_count": 10,
     "metadata": {},
     "output_type": "execute_result"
    }
   ],
   "source": [
    "train_df"
   ]
  },
  {
   "cell_type": "code",
   "execution_count": 11,
   "id": "92c873e2",
   "metadata": {
    "execution": {
     "iopub.execute_input": "2022-09-18T21:46:27.698832Z",
     "iopub.status.busy": "2022-09-18T21:46:27.698417Z",
     "iopub.status.idle": "2022-09-18T21:46:27.872754Z",
     "shell.execute_reply": "2022-09-18T21:46:27.871654Z"
    },
    "papermill": {
     "duration": 0.192424,
     "end_time": "2022-09-18T21:46:27.875500",
     "exception": false,
     "start_time": "2022-09-18T21:46:27.683076",
     "status": "completed"
    },
    "tags": []
   },
   "outputs": [
    {
     "data": {
      "text/plain": [
       "date        datetime64[ns]\n",
       "country           category\n",
       "store             category\n",
       "product           category\n",
       "num_sold             int64\n",
       "dtype: object"
      ]
     },
     "metadata": {},
     "output_type": "display_data"
    },
    {
     "data": {
      "text/html": [
       "<div>\n",
       "<style scoped>\n",
       "    .dataframe tbody tr th:only-of-type {\n",
       "        vertical-align: middle;\n",
       "    }\n",
       "\n",
       "    .dataframe tbody tr th {\n",
       "        vertical-align: top;\n",
       "    }\n",
       "\n",
       "    .dataframe thead th {\n",
       "        text-align: right;\n",
       "    }\n",
       "</style>\n",
       "<table border=\"1\" class=\"dataframe\">\n",
       "  <thead>\n",
       "    <tr style=\"text-align: right;\">\n",
       "      <th></th>\n",
       "      <th>date</th>\n",
       "      <th>country</th>\n",
       "      <th>store</th>\n",
       "      <th>product</th>\n",
       "      <th>num_sold</th>\n",
       "    </tr>\n",
       "    <tr>\n",
       "      <th>row_id</th>\n",
       "      <th></th>\n",
       "      <th></th>\n",
       "      <th></th>\n",
       "      <th></th>\n",
       "      <th></th>\n",
       "    </tr>\n",
       "  </thead>\n",
       "  <tbody>\n",
       "    <tr>\n",
       "      <th>0</th>\n",
       "      <td>2017-01-01</td>\n",
       "      <td>Belgium</td>\n",
       "      <td>KaggleMart</td>\n",
       "      <td>Kaggle Advanced Techniques</td>\n",
       "      <td>663</td>\n",
       "    </tr>\n",
       "    <tr>\n",
       "      <th>1</th>\n",
       "      <td>2017-01-01</td>\n",
       "      <td>Belgium</td>\n",
       "      <td>KaggleMart</td>\n",
       "      <td>Kaggle Getting Started</td>\n",
       "      <td>615</td>\n",
       "    </tr>\n",
       "    <tr>\n",
       "      <th>2</th>\n",
       "      <td>2017-01-01</td>\n",
       "      <td>Belgium</td>\n",
       "      <td>KaggleMart</td>\n",
       "      <td>Kaggle Recipe Book</td>\n",
       "      <td>480</td>\n",
       "    </tr>\n",
       "    <tr>\n",
       "      <th>3</th>\n",
       "      <td>2017-01-01</td>\n",
       "      <td>Belgium</td>\n",
       "      <td>KaggleMart</td>\n",
       "      <td>Kaggle for Kids: One Smart Goose</td>\n",
       "      <td>710</td>\n",
       "    </tr>\n",
       "    <tr>\n",
       "      <th>4</th>\n",
       "      <td>2017-01-01</td>\n",
       "      <td>Belgium</td>\n",
       "      <td>KaggleRama</td>\n",
       "      <td>Kaggle Advanced Techniques</td>\n",
       "      <td>240</td>\n",
       "    </tr>\n",
       "    <tr>\n",
       "      <th>...</th>\n",
       "      <td>...</td>\n",
       "      <td>...</td>\n",
       "      <td>...</td>\n",
       "      <td>...</td>\n",
       "      <td>...</td>\n",
       "    </tr>\n",
       "    <tr>\n",
       "      <th>70123</th>\n",
       "      <td>2020-12-31</td>\n",
       "      <td>Spain</td>\n",
       "      <td>KaggleMart</td>\n",
       "      <td>Kaggle for Kids: One Smart Goose</td>\n",
       "      <td>614</td>\n",
       "    </tr>\n",
       "    <tr>\n",
       "      <th>70124</th>\n",
       "      <td>2020-12-31</td>\n",
       "      <td>Spain</td>\n",
       "      <td>KaggleRama</td>\n",
       "      <td>Kaggle Advanced Techniques</td>\n",
       "      <td>215</td>\n",
       "    </tr>\n",
       "    <tr>\n",
       "      <th>70125</th>\n",
       "      <td>2020-12-31</td>\n",
       "      <td>Spain</td>\n",
       "      <td>KaggleRama</td>\n",
       "      <td>Kaggle Getting Started</td>\n",
       "      <td>158</td>\n",
       "    </tr>\n",
       "    <tr>\n",
       "      <th>70126</th>\n",
       "      <td>2020-12-31</td>\n",
       "      <td>Spain</td>\n",
       "      <td>KaggleRama</td>\n",
       "      <td>Kaggle Recipe Book</td>\n",
       "      <td>135</td>\n",
       "    </tr>\n",
       "    <tr>\n",
       "      <th>70127</th>\n",
       "      <td>2020-12-31</td>\n",
       "      <td>Spain</td>\n",
       "      <td>KaggleRama</td>\n",
       "      <td>Kaggle for Kids: One Smart Goose</td>\n",
       "      <td>202</td>\n",
       "    </tr>\n",
       "  </tbody>\n",
       "</table>\n",
       "<p>70128 rows × 5 columns</p>\n",
       "</div>"
      ],
      "text/plain": [
       "             date  country       store                           product  num_sold\n",
       "row_id                                                                            \n",
       "0      2017-01-01  Belgium  KaggleMart        Kaggle Advanced Techniques       663\n",
       "1      2017-01-01  Belgium  KaggleMart            Kaggle Getting Started       615\n",
       "2      2017-01-01  Belgium  KaggleMart                Kaggle Recipe Book       480\n",
       "3      2017-01-01  Belgium  KaggleMart  Kaggle for Kids: One Smart Goose       710\n",
       "4      2017-01-01  Belgium  KaggleRama        Kaggle Advanced Techniques       240\n",
       "...           ...      ...         ...                               ...       ...\n",
       "70123  2020-12-31    Spain  KaggleMart  Kaggle for Kids: One Smart Goose       614\n",
       "70124  2020-12-31    Spain  KaggleRama        Kaggle Advanced Techniques       215\n",
       "70125  2020-12-31    Spain  KaggleRama            Kaggle Getting Started       158\n",
       "70126  2020-12-31    Spain  KaggleRama                Kaggle Recipe Book       135\n",
       "70127  2020-12-31    Spain  KaggleRama  Kaggle for Kids: One Smart Goose       202\n",
       "\n",
       "[70128 rows x 5 columns]"
      ]
     },
     "metadata": {},
     "output_type": "display_data"
    },
    {
     "data": {
      "text/html": [
       "<div>\n",
       "<style scoped>\n",
       "    .dataframe tbody tr th:only-of-type {\n",
       "        vertical-align: middle;\n",
       "    }\n",
       "\n",
       "    .dataframe tbody tr th {\n",
       "        vertical-align: top;\n",
       "    }\n",
       "\n",
       "    .dataframe thead th {\n",
       "        text-align: right;\n",
       "    }\n",
       "</style>\n",
       "<table border=\"1\" class=\"dataframe\">\n",
       "  <thead>\n",
       "    <tr style=\"text-align: right;\">\n",
       "      <th></th>\n",
       "      <th>count</th>\n",
       "      <th>mean</th>\n",
       "      <th>std</th>\n",
       "      <th>min</th>\n",
       "      <th>25%</th>\n",
       "      <th>50%</th>\n",
       "      <th>75%</th>\n",
       "      <th>max</th>\n",
       "    </tr>\n",
       "  </thead>\n",
       "  <tbody>\n",
       "    <tr>\n",
       "      <th>num_sold</th>\n",
       "      <td>70128.0</td>\n",
       "      <td>194.296986</td>\n",
       "      <td>126.893874</td>\n",
       "      <td>19.0</td>\n",
       "      <td>95.0</td>\n",
       "      <td>148.0</td>\n",
       "      <td>283.0</td>\n",
       "      <td>986.0</td>\n",
       "    </tr>\n",
       "  </tbody>\n",
       "</table>\n",
       "</div>"
      ],
      "text/plain": [
       "            count        mean         std   min   25%    50%    75%    max\n",
       "num_sold  70128.0  194.296986  126.893874  19.0  95.0  148.0  283.0  986.0"
      ]
     },
     "metadata": {},
     "output_type": "display_data"
    },
    {
     "data": {
      "text/html": [
       "<div>\n",
       "<style scoped>\n",
       "    .dataframe tbody tr th:only-of-type {\n",
       "        vertical-align: middle;\n",
       "    }\n",
       "\n",
       "    .dataframe tbody tr th {\n",
       "        vertical-align: top;\n",
       "    }\n",
       "\n",
       "    .dataframe thead th {\n",
       "        text-align: right;\n",
       "    }\n",
       "</style>\n",
       "<table border=\"1\" class=\"dataframe\">\n",
       "  <thead>\n",
       "    <tr style=\"text-align: right;\">\n",
       "      <th></th>\n",
       "      <th>date</th>\n",
       "      <th>country</th>\n",
       "      <th>store</th>\n",
       "      <th>product</th>\n",
       "      <th>num_sold</th>\n",
       "    </tr>\n",
       "  </thead>\n",
       "  <tbody>\n",
       "    <tr>\n",
       "      <th>unique_values</th>\n",
       "      <td>1461</td>\n",
       "      <td>6</td>\n",
       "      <td>2</td>\n",
       "      <td>4</td>\n",
       "      <td>699</td>\n",
       "    </tr>\n",
       "  </tbody>\n",
       "</table>\n",
       "</div>"
      ],
      "text/plain": [
       "               date  country  store  product  num_sold\n",
       "unique_values  1461        6      2        4       699"
      ]
     },
     "metadata": {},
     "output_type": "display_data"
    }
   ],
   "source": [
    "display(train_df.dtypes)\n",
    "display(train_df)\n",
    "display(train_df.describe().T)\n",
    "display(pd.DataFrame([{\n",
    "    col: len(np.unique(train_df[col]))\n",
    "    for col in train_df\n",
    "}], index=['unique_values']))"
   ]
  },
  {
   "cell_type": "markdown",
   "id": "1963ff37",
   "metadata": {
    "papermill": {
     "duration": 0.014321,
     "end_time": "2022-09-18T21:46:27.904784",
     "exception": false,
     "start_time": "2022-09-18T21:46:27.890463",
     "status": "completed"
    },
    "tags": []
   },
   "source": [
    "# Initialize Setup\n",
    "\n",
    "- https://pycaret.gitbook.io/docs/get-started/functions/initialize\n",
    "- https://pycaret.readthedocs.io/en/latest/api/classification.html?highlight=setup#pycaret.classification.setup\n",
    "\n",
    "> Depending on the type of experiment you want to perform, one of the six available modules currently supported must be imported in your python environment. Importing a module prepares an environment for specific task. For example, if you have imported the Classification module, the environment will be setup accordingly to perform classification tasks only. \n",
    "\n",
    "| S.No\t| Module\t| How to Import |\n",
    "|-------|:----------|:--------------|\n",
    "| 1\t\t| Classification\t\t\t\t| from pycaret.classification import * |\n",
    "| 2\t\t| Regression\t\t\t\t\t| from pycaret.regression import * |\n",
    "| 3\t\t| Clustering\t\t\t\t\t| from pycaret.clustering import * |\n",
    "| 4\t\t| Anomaly Detection\t\t\t\t| from pycaret.anomaly import * |\n",
    "| 5\t\t| Natural Language Processing\t| from pycaret.nlp import * |\n",
    "| 6\t\t| Association Rule Mining\t\t| from pycaret.arules import * |\n",
    "\n",
    "\n",
    "> Note: If you don’t want PyCaret to display the dialogue for confirmation of data types you may pass silent as True within setup to perform a unattended run of experiment. We don’t recommend that unless you are absolutely sure the inference is correct or you have performed the experiment before or you are overwriting data types using numeric_feature and categorical_feature parameter.\n",
    "\n",
    "# setup()\n",
    "- https://pycaret.readthedocs.io/en/latest/api/classification.html?#pycaret.classification.setup"
   ]
  },
  {
   "cell_type": "code",
   "execution_count": 12,
   "id": "be4912d1",
   "metadata": {
    "execution": {
     "iopub.execute_input": "2022-09-18T21:46:27.936357Z",
     "iopub.status.busy": "2022-09-18T21:46:27.935929Z",
     "iopub.status.idle": "2022-09-18T21:46:33.898627Z",
     "shell.execute_reply": "2022-09-18T21:46:33.897027Z"
    },
    "papermill": {
     "duration": 5.983297,
     "end_time": "2022-09-18T21:46:33.903047",
     "exception": false,
     "start_time": "2022-09-18T21:46:27.919750",
     "status": "completed"
    },
    "tags": []
   },
   "outputs": [],
   "source": [
    "from pycaret.regression import *\n",
    "import tensorflow as tf"
   ]
  },
  {
   "cell_type": "code",
   "execution_count": 13,
   "id": "f4f716ae",
   "metadata": {
    "execution": {
     "iopub.execute_input": "2022-09-18T21:46:33.942927Z",
     "iopub.status.busy": "2022-09-18T21:46:33.940888Z",
     "iopub.status.idle": "2022-09-18T21:46:52.501696Z",
     "shell.execute_reply": "2022-09-18T21:46:52.500400Z"
    },
    "papermill": {
     "duration": 18.580635,
     "end_time": "2022-09-18T21:46:52.504205",
     "exception": false,
     "start_time": "2022-09-18T21:46:33.923570",
     "status": "completed"
    },
    "tags": []
   },
   "outputs": [
    {
     "data": {
      "text/html": [
       "<style type='text/css'>\n",
       ".datatable table.frame { margin-bottom: 0; }\n",
       ".datatable table.frame thead { border-bottom: none; }\n",
       ".datatable table.frame tr.coltypes td {  color: #FFFFFF;  line-height: 6px;  padding: 0 0.5em;}\n",
       ".datatable .bool    { background: #DDDD99; }\n",
       ".datatable .object  { background: #565656; }\n",
       ".datatable .int     { background: #5D9E5D; }\n",
       ".datatable .float   { background: #4040CC; }\n",
       ".datatable .str     { background: #CC4040; }\n",
       ".datatable .time    { background: #40CC40; }\n",
       ".datatable .row_index {  background: var(--jp-border-color3);  border-right: 1px solid var(--jp-border-color0);  color: var(--jp-ui-font-color3);  font-size: 9px;}\n",
       ".datatable .frame tbody td { text-align: left; }\n",
       ".datatable .frame tr.coltypes .row_index {  background: var(--jp-border-color0);}\n",
       ".datatable th:nth-child(2) { padding-left: 12px; }\n",
       ".datatable .hellipsis {  color: var(--jp-cell-editor-border-color);}\n",
       ".datatable .vellipsis {  background: var(--jp-layout-color0);  color: var(--jp-cell-editor-border-color);}\n",
       ".datatable .na {  color: var(--jp-cell-editor-border-color);  font-size: 80%;}\n",
       ".datatable .sp {  opacity: 0.25;}\n",
       ".datatable .footer { font-size: 9px; }\n",
       ".datatable .frame_dimensions {  background: var(--jp-border-color3);  border-top: 1px solid var(--jp-border-color0);  color: var(--jp-ui-font-color3);  display: inline-block;  opacity: 0.6;  padding: 1px 10px 1px 5px;}\n",
       "</style>\n"
      ],
      "text/plain": [
       "<IPython.core.display.HTML object>"
      ]
     },
     "metadata": {},
     "output_type": "display_data"
    },
    {
     "data": {
      "text/html": [
       "<style type=\"text/css\">\n",
       "#T_6d642_row9_col1 {\n",
       "  background-color: lightgreen;\n",
       "}\n",
       "</style>\n",
       "<table id=\"T_6d642_\">\n",
       "  <thead>\n",
       "    <tr>\n",
       "      <th class=\"blank level0\" >&nbsp;</th>\n",
       "      <th class=\"col_heading level0 col0\" >Description</th>\n",
       "      <th class=\"col_heading level0 col1\" >Value</th>\n",
       "    </tr>\n",
       "  </thead>\n",
       "  <tbody>\n",
       "    <tr>\n",
       "      <th id=\"T_6d642_level0_row0\" class=\"row_heading level0 row0\" >0</th>\n",
       "      <td id=\"T_6d642_row0_col0\" class=\"data row0 col0\" >Session id</td>\n",
       "      <td id=\"T_6d642_row0_col1\" class=\"data row0 col1\" >42</td>\n",
       "    </tr>\n",
       "    <tr>\n",
       "      <th id=\"T_6d642_level0_row1\" class=\"row_heading level0 row1\" >1</th>\n",
       "      <td id=\"T_6d642_row1_col0\" class=\"data row1 col0\" >Target</td>\n",
       "      <td id=\"T_6d642_row1_col1\" class=\"data row1 col1\" >num_sold</td>\n",
       "    </tr>\n",
       "    <tr>\n",
       "      <th id=\"T_6d642_level0_row2\" class=\"row_heading level0 row2\" >2</th>\n",
       "      <td id=\"T_6d642_row2_col0\" class=\"data row2 col0\" >Target type</td>\n",
       "      <td id=\"T_6d642_row2_col1\" class=\"data row2 col1\" >Regression</td>\n",
       "    </tr>\n",
       "    <tr>\n",
       "      <th id=\"T_6d642_level0_row3\" class=\"row_heading level0 row3\" >3</th>\n",
       "      <td id=\"T_6d642_row3_col0\" class=\"data row3 col0\" >Data shape</td>\n",
       "      <td id=\"T_6d642_row3_col1\" class=\"data row3 col1\" >(70128, 7)</td>\n",
       "    </tr>\n",
       "    <tr>\n",
       "      <th id=\"T_6d642_level0_row4\" class=\"row_heading level0 row4\" >4</th>\n",
       "      <td id=\"T_6d642_row4_col0\" class=\"data row4 col0\" >Train data shape</td>\n",
       "      <td id=\"T_6d642_row4_col1\" class=\"data row4 col1\" >(49089, 7)</td>\n",
       "    </tr>\n",
       "    <tr>\n",
       "      <th id=\"T_6d642_level0_row5\" class=\"row_heading level0 row5\" >5</th>\n",
       "      <td id=\"T_6d642_row5_col0\" class=\"data row5 col0\" >Test data shape</td>\n",
       "      <td id=\"T_6d642_row5_col1\" class=\"data row5 col1\" >(21039, 7)</td>\n",
       "    </tr>\n",
       "    <tr>\n",
       "      <th id=\"T_6d642_level0_row6\" class=\"row_heading level0 row6\" >6</th>\n",
       "      <td id=\"T_6d642_row6_col0\" class=\"data row6 col0\" >Ordinal features</td>\n",
       "      <td id=\"T_6d642_row6_col1\" class=\"data row6 col1\" >1</td>\n",
       "    </tr>\n",
       "    <tr>\n",
       "      <th id=\"T_6d642_level0_row7\" class=\"row_heading level0 row7\" >7</th>\n",
       "      <td id=\"T_6d642_row7_col0\" class=\"data row7 col0\" >Date features</td>\n",
       "      <td id=\"T_6d642_row7_col1\" class=\"data row7 col1\" >1</td>\n",
       "    </tr>\n",
       "    <tr>\n",
       "      <th id=\"T_6d642_level0_row8\" class=\"row_heading level0 row8\" >8</th>\n",
       "      <td id=\"T_6d642_row8_col0\" class=\"data row8 col0\" >Categorical features</td>\n",
       "      <td id=\"T_6d642_row8_col1\" class=\"data row8 col1\" >3</td>\n",
       "    </tr>\n",
       "    <tr>\n",
       "      <th id=\"T_6d642_level0_row9\" class=\"row_heading level0 row9\" >9</th>\n",
       "      <td id=\"T_6d642_row9_col0\" class=\"data row9 col0\" >Preprocess</td>\n",
       "      <td id=\"T_6d642_row9_col1\" class=\"data row9 col1\" >True</td>\n",
       "    </tr>\n",
       "    <tr>\n",
       "      <th id=\"T_6d642_level0_row10\" class=\"row_heading level0 row10\" >10</th>\n",
       "      <td id=\"T_6d642_row10_col0\" class=\"data row10 col0\" >Imputation type</td>\n",
       "      <td id=\"T_6d642_row10_col1\" class=\"data row10 col1\" >simple</td>\n",
       "    </tr>\n",
       "    <tr>\n",
       "      <th id=\"T_6d642_level0_row11\" class=\"row_heading level0 row11\" >11</th>\n",
       "      <td id=\"T_6d642_row11_col0\" class=\"data row11 col0\" >Numeric imputation</td>\n",
       "      <td id=\"T_6d642_row11_col1\" class=\"data row11 col1\" >mean</td>\n",
       "    </tr>\n",
       "    <tr>\n",
       "      <th id=\"T_6d642_level0_row12\" class=\"row_heading level0 row12\" >12</th>\n",
       "      <td id=\"T_6d642_row12_col0\" class=\"data row12 col0\" >Categorical imputation</td>\n",
       "      <td id=\"T_6d642_row12_col1\" class=\"data row12 col1\" >constant</td>\n",
       "    </tr>\n",
       "    <tr>\n",
       "      <th id=\"T_6d642_level0_row13\" class=\"row_heading level0 row13\" >13</th>\n",
       "      <td id=\"T_6d642_row13_col0\" class=\"data row13 col0\" >Maximum one-hot encoding</td>\n",
       "      <td id=\"T_6d642_row13_col1\" class=\"data row13 col1\" >0</td>\n",
       "    </tr>\n",
       "    <tr>\n",
       "      <th id=\"T_6d642_level0_row14\" class=\"row_heading level0 row14\" >14</th>\n",
       "      <td id=\"T_6d642_row14_col0\" class=\"data row14 col0\" >Encoding method</td>\n",
       "      <td id=\"T_6d642_row14_col1\" class=\"data row14 col1\" >None</td>\n",
       "    </tr>\n",
       "    <tr>\n",
       "      <th id=\"T_6d642_level0_row15\" class=\"row_heading level0 row15\" >15</th>\n",
       "      <td id=\"T_6d642_row15_col0\" class=\"data row15 col0\" >Low variance threshold</td>\n",
       "      <td id=\"T_6d642_row15_col1\" class=\"data row15 col1\" >0</td>\n",
       "    </tr>\n",
       "    <tr>\n",
       "      <th id=\"T_6d642_level0_row16\" class=\"row_heading level0 row16\" >16</th>\n",
       "      <td id=\"T_6d642_row16_col0\" class=\"data row16 col0\" >Fold Generator</td>\n",
       "      <td id=\"T_6d642_row16_col1\" class=\"data row16 col1\" >KFold</td>\n",
       "    </tr>\n",
       "    <tr>\n",
       "      <th id=\"T_6d642_level0_row17\" class=\"row_heading level0 row17\" >17</th>\n",
       "      <td id=\"T_6d642_row17_col0\" class=\"data row17 col0\" >Fold Number</td>\n",
       "      <td id=\"T_6d642_row17_col1\" class=\"data row17 col1\" >10</td>\n",
       "    </tr>\n",
       "    <tr>\n",
       "      <th id=\"T_6d642_level0_row18\" class=\"row_heading level0 row18\" >18</th>\n",
       "      <td id=\"T_6d642_row18_col0\" class=\"data row18 col0\" >CPU Jobs</td>\n",
       "      <td id=\"T_6d642_row18_col1\" class=\"data row18 col1\" >-1</td>\n",
       "    </tr>\n",
       "    <tr>\n",
       "      <th id=\"T_6d642_level0_row19\" class=\"row_heading level0 row19\" >19</th>\n",
       "      <td id=\"T_6d642_row19_col0\" class=\"data row19 col0\" >Use GPU</td>\n",
       "      <td id=\"T_6d642_row19_col1\" class=\"data row19 col1\" >False</td>\n",
       "    </tr>\n",
       "    <tr>\n",
       "      <th id=\"T_6d642_level0_row20\" class=\"row_heading level0 row20\" >20</th>\n",
       "      <td id=\"T_6d642_row20_col0\" class=\"data row20 col0\" >Log Experiment</td>\n",
       "      <td id=\"T_6d642_row20_col1\" class=\"data row20 col1\" >False</td>\n",
       "    </tr>\n",
       "    <tr>\n",
       "      <th id=\"T_6d642_level0_row21\" class=\"row_heading level0 row21\" >21</th>\n",
       "      <td id=\"T_6d642_row21_col0\" class=\"data row21 col0\" >Experiment Name</td>\n",
       "      <td id=\"T_6d642_row21_col1\" class=\"data row21 col1\" >tabular-playground-2022-09</td>\n",
       "    </tr>\n",
       "    <tr>\n",
       "      <th id=\"T_6d642_level0_row22\" class=\"row_heading level0 row22\" >22</th>\n",
       "      <td id=\"T_6d642_row22_col0\" class=\"data row22 col0\" >USI</td>\n",
       "      <td id=\"T_6d642_row22_col1\" class=\"data row22 col1\" >41d0</td>\n",
       "    </tr>\n",
       "  </tbody>\n",
       "</table>\n"
      ],
      "text/plain": [
       "<pandas.io.formats.style.Styler at 0x7f54593e6610>"
      ]
     },
     "metadata": {},
     "output_type": "display_data"
    },
    {
     "name": "stdout",
     "output_type": "stream",
     "text": [
      "Loading profile... Please Wait!\n",
      "CPU times: user 16.9 s, sys: 422 ms, total: 17.4 s\n",
      "Wall time: 18.5 s\n"
     ]
    },
    {
     "data": {
      "text/plain": [
       "<pycaret.regression.oop.RegressionExperiment at 0x7f542a4a5810>"
      ]
     },
     "execution_count": 13,
     "metadata": {},
     "output_type": "execute_result"
    }
   ],
   "source": [
    "%%time\n",
    "setup(\n",
    "    train_df, \n",
    "    target='num_sold',\n",
    "    \n",
    "    ### Config\n",
    "    experiment_name='tabular-playground-2022-09',\n",
    "    use_gpu=tf.test.is_gpu_available(),\n",
    "    session_id=42,\n",
    "    \n",
    "    \n",
    "    ### Logging + Display\n",
    "    profile=True,   \n",
    "    log_experiment=False, \n",
    "    log_plots=True,\n",
    "    html=True,\n",
    "    verbose=True,\n",
    "    \n",
    "    ### Settings\n",
    "    max_encoding_ohe=0,  # Always one-hot-encode categorical columns\n",
    "    \n",
    "    \n",
    "    ### Feature Engineering \n",
    "    # imputation_type='iterative', iterative_imputation_iters=10, # too much memory ???\n",
    "    # numeric_imputation=0, # 'knn',\n",
    "    # fix_imbalance=True,\n",
    "    # normalize=True,      normalize_method='zscore',            # zscore | minmax | maxabs | robust\n",
    "    # transformation=True, transformation_method='yeo-johnson',  # yeo-johnson | quantile\n",
    "    # feature_interaction=True,    # BUG: Not implemented\n",
    "    # feature_ratio=True,          # BUG: Not implemented\n",
    "    # trigonometry_features=True,  # BUG: Not implemented    \n",
    "    # combine_rare_levels=True,    # BUG: Not implemented\n",
    "    # create_clusters=True,        # BUG: Not implemented\n",
    "    \n",
    "    \n",
    "    ### Feature Selection    \n",
    "    # remove_outliers=True,           # IGNORE: Keep as we are predicting failures    \n",
    "    # remove_multicollinearity=True,    # BUG: IndexError: single positional indexer is out-of-bounds\n",
    "    # ignore_low_variance=True,       # BUG: Not implemented\n",
    "    \n",
    "    \n",
    "    ### PCA Column Engineering\n",
    "    # polynomial_features=True,            # WORKS: Uses too much memory        \n",
    "    # pca=True, pca_method=\"incremental\",  # linear | incremental | kernel\n",
    "    # feature_selection=True, n_features_to_select=20,\n",
    ")"
   ]
  },
  {
   "cell_type": "markdown",
   "id": "e6cc2177",
   "metadata": {
    "papermill": {
     "duration": 0.015168,
     "end_time": "2022-09-18T21:46:52.535670",
     "exception": false,
     "start_time": "2022-09-18T21:46:52.520502",
     "status": "completed"
    },
    "tags": []
   },
   "source": [
    "# AutoEDA - pandas_profiling.ProfileReport\n",
    "\n",
    "EDA in standalone notebook: \n",
    "- https://www.kaggle.com/code/jamesmcguigan/tps-2022-09-profilereport-autoeda "
   ]
  },
  {
   "cell_type": "markdown",
   "id": "258d94c5",
   "metadata": {
    "papermill": {
     "duration": 0.015093,
     "end_time": "2022-09-18T21:46:52.566019",
     "exception": false,
     "start_time": "2022-09-18T21:46:52.550926",
     "status": "completed"
    },
    "tags": []
   },
   "source": [
    "# Compare Baseline\n",
    "\n",
    "- https://pycaret.gitbook.io/docs/get-started/functions/train#compare_models\n",
    "- https://pycaret.readthedocs.io/en/latest/api/classification.html?highlight=compare_models#pycaret.classification.compare_models\n",
    "\n",
    "> This is the first step we recommend in the workflow of any supervised experiment. This function trains all the models in the model library using default hyperparameters and evaluates performance metrics using cross-validation. It returns the trained model object. "
   ]
  },
  {
   "cell_type": "code",
   "execution_count": 14,
   "id": "5da316a1",
   "metadata": {
    "execution": {
     "iopub.execute_input": "2022-09-18T21:46:52.598511Z",
     "iopub.status.busy": "2022-09-18T21:46:52.598069Z",
     "iopub.status.idle": "2022-09-18T21:46:52.603708Z",
     "shell.execute_reply": "2022-09-18T21:46:52.602569Z"
    },
    "papermill": {
     "duration": 0.024771,
     "end_time": "2022-09-18T21:46:52.606017",
     "exception": false,
     "start_time": "2022-09-18T21:46:52.581246",
     "status": "completed"
    },
    "tags": []
   },
   "outputs": [],
   "source": [
    "def model_classname_str(model): \n",
    "    return str(model.__class__).split(\"'\")[1].split('.')[-1]    "
   ]
  },
  {
   "cell_type": "code",
   "execution_count": 15,
   "id": "45f4bd63",
   "metadata": {
    "execution": {
     "iopub.execute_input": "2022-09-18T21:46:52.639226Z",
     "iopub.status.busy": "2022-09-18T21:46:52.638788Z",
     "iopub.status.idle": "2022-09-18T21:49:50.245282Z",
     "shell.execute_reply": "2022-09-18T21:49:50.243746Z"
    },
    "papermill": {
     "duration": 177.626378,
     "end_time": "2022-09-18T21:49:50.247933",
     "exception": false,
     "start_time": "2022-09-18T21:46:52.621555",
     "status": "completed"
    },
    "tags": []
   },
   "outputs": [
    {
     "data": {
      "text/html": [],
      "text/plain": [
       "<IPython.core.display.HTML object>"
      ]
     },
     "metadata": {},
     "output_type": "display_data"
    },
    {
     "data": {
      "text/html": [
       "<style type=\"text/css\">\n",
       "#T_ad07e_ th {\n",
       "  text-align: left;\n",
       "}\n",
       "#T_ad07e_row0_col0, #T_ad07e_row1_col0, #T_ad07e_row1_col1, #T_ad07e_row1_col2, #T_ad07e_row1_col3, #T_ad07e_row1_col4, #T_ad07e_row1_col5, #T_ad07e_row1_col6, #T_ad07e_row2_col0, #T_ad07e_row2_col1, #T_ad07e_row2_col2, #T_ad07e_row2_col3, #T_ad07e_row2_col4, #T_ad07e_row2_col5, #T_ad07e_row2_col6, #T_ad07e_row3_col0, #T_ad07e_row3_col1, #T_ad07e_row3_col2, #T_ad07e_row3_col3, #T_ad07e_row3_col4, #T_ad07e_row3_col5, #T_ad07e_row3_col6, #T_ad07e_row4_col0, #T_ad07e_row4_col1, #T_ad07e_row4_col2, #T_ad07e_row4_col3, #T_ad07e_row4_col4, #T_ad07e_row4_col5, #T_ad07e_row4_col6, #T_ad07e_row5_col0, #T_ad07e_row5_col1, #T_ad07e_row5_col2, #T_ad07e_row5_col3, #T_ad07e_row5_col4, #T_ad07e_row5_col5, #T_ad07e_row5_col6, #T_ad07e_row6_col0, #T_ad07e_row6_col1, #T_ad07e_row6_col2, #T_ad07e_row6_col3, #T_ad07e_row6_col4, #T_ad07e_row6_col5, #T_ad07e_row6_col6, #T_ad07e_row7_col0, #T_ad07e_row7_col1, #T_ad07e_row7_col2, #T_ad07e_row7_col3, #T_ad07e_row7_col4, #T_ad07e_row7_col5, #T_ad07e_row7_col6, #T_ad07e_row8_col0, #T_ad07e_row8_col1, #T_ad07e_row8_col2, #T_ad07e_row8_col3, #T_ad07e_row8_col4, #T_ad07e_row8_col5, #T_ad07e_row8_col6, #T_ad07e_row9_col0, #T_ad07e_row9_col1, #T_ad07e_row9_col2, #T_ad07e_row9_col3, #T_ad07e_row9_col4, #T_ad07e_row9_col5, #T_ad07e_row9_col6, #T_ad07e_row10_col0, #T_ad07e_row10_col1, #T_ad07e_row10_col2, #T_ad07e_row10_col3, #T_ad07e_row10_col4, #T_ad07e_row10_col5, #T_ad07e_row10_col6, #T_ad07e_row11_col0, #T_ad07e_row11_col1, #T_ad07e_row11_col2, #T_ad07e_row11_col3, #T_ad07e_row11_col4, #T_ad07e_row11_col5, #T_ad07e_row11_col6, #T_ad07e_row12_col0, #T_ad07e_row12_col1, #T_ad07e_row12_col2, #T_ad07e_row12_col3, #T_ad07e_row12_col4, #T_ad07e_row12_col5, #T_ad07e_row12_col6, #T_ad07e_row13_col0, #T_ad07e_row13_col1, #T_ad07e_row13_col2, #T_ad07e_row13_col3, #T_ad07e_row13_col4, #T_ad07e_row13_col5, #T_ad07e_row13_col6, #T_ad07e_row14_col0, #T_ad07e_row14_col1, #T_ad07e_row14_col2, #T_ad07e_row14_col3, #T_ad07e_row14_col4, #T_ad07e_row14_col5, #T_ad07e_row14_col6, #T_ad07e_row15_col0, #T_ad07e_row15_col1, #T_ad07e_row15_col2, #T_ad07e_row15_col3, #T_ad07e_row15_col4, #T_ad07e_row15_col5, #T_ad07e_row15_col6, #T_ad07e_row16_col0, #T_ad07e_row16_col1, #T_ad07e_row16_col2, #T_ad07e_row16_col3, #T_ad07e_row16_col4, #T_ad07e_row16_col5, #T_ad07e_row16_col6, #T_ad07e_row17_col0, #T_ad07e_row17_col1, #T_ad07e_row17_col2, #T_ad07e_row17_col3, #T_ad07e_row17_col4, #T_ad07e_row17_col5, #T_ad07e_row17_col6, #T_ad07e_row18_col0, #T_ad07e_row18_col1, #T_ad07e_row18_col2, #T_ad07e_row18_col3, #T_ad07e_row18_col4, #T_ad07e_row18_col5, #T_ad07e_row18_col6, #T_ad07e_row19_col0, #T_ad07e_row19_col1, #T_ad07e_row19_col2, #T_ad07e_row19_col3, #T_ad07e_row19_col4, #T_ad07e_row19_col5, #T_ad07e_row19_col6 {\n",
       "  text-align: left;\n",
       "}\n",
       "#T_ad07e_row0_col1, #T_ad07e_row0_col2, #T_ad07e_row0_col3, #T_ad07e_row0_col4, #T_ad07e_row0_col5, #T_ad07e_row0_col6 {\n",
       "  text-align: left;\n",
       "  background-color: yellow;\n",
       "}\n",
       "#T_ad07e_row0_col7, #T_ad07e_row1_col7, #T_ad07e_row2_col7, #T_ad07e_row3_col7, #T_ad07e_row4_col7, #T_ad07e_row5_col7, #T_ad07e_row6_col7, #T_ad07e_row7_col7, #T_ad07e_row8_col7, #T_ad07e_row9_col7, #T_ad07e_row10_col7, #T_ad07e_row11_col7, #T_ad07e_row12_col7, #T_ad07e_row13_col7, #T_ad07e_row14_col7, #T_ad07e_row15_col7, #T_ad07e_row16_col7, #T_ad07e_row17_col7, #T_ad07e_row18_col7 {\n",
       "  text-align: left;\n",
       "  background-color: lightgrey;\n",
       "}\n",
       "#T_ad07e_row19_col7 {\n",
       "  text-align: left;\n",
       "  background-color: yellow;\n",
       "  background-color: lightgrey;\n",
       "}\n",
       "</style>\n",
       "<table id=\"T_ad07e_\">\n",
       "  <thead>\n",
       "    <tr>\n",
       "      <th class=\"blank level0\" >&nbsp;</th>\n",
       "      <th class=\"col_heading level0 col0\" >Model</th>\n",
       "      <th class=\"col_heading level0 col1\" >MAE</th>\n",
       "      <th class=\"col_heading level0 col2\" >MSE</th>\n",
       "      <th class=\"col_heading level0 col3\" >RMSE</th>\n",
       "      <th class=\"col_heading level0 col4\" >R2</th>\n",
       "      <th class=\"col_heading level0 col5\" >RMSLE</th>\n",
       "      <th class=\"col_heading level0 col6\" >MAPE</th>\n",
       "      <th class=\"col_heading level0 col7\" >TT (Sec)</th>\n",
       "    </tr>\n",
       "  </thead>\n",
       "  <tbody>\n",
       "    <tr>\n",
       "      <th id=\"T_ad07e_level0_row0\" class=\"row_heading level0 row0\" >gbr</th>\n",
       "      <td id=\"T_ad07e_row0_col0\" class=\"data row0 col0\" >Gradient Boosting Regressor</td>\n",
       "      <td id=\"T_ad07e_row0_col1\" class=\"data row0 col1\" >31.8367</td>\n",
       "      <td id=\"T_ad07e_row0_col2\" class=\"data row0 col2\" >2462.2632</td>\n",
       "      <td id=\"T_ad07e_row0_col3\" class=\"data row0 col3\" >49.6176</td>\n",
       "      <td id=\"T_ad07e_row0_col4\" class=\"data row0 col4\" >0.8482</td>\n",
       "      <td id=\"T_ad07e_row0_col5\" class=\"data row0 col5\" >0.2301</td>\n",
       "      <td id=\"T_ad07e_row0_col6\" class=\"data row0 col6\" >0.1860</td>\n",
       "      <td id=\"T_ad07e_row0_col7\" class=\"data row0 col7\" >2.1820</td>\n",
       "    </tr>\n",
       "    <tr>\n",
       "      <th id=\"T_ad07e_level0_row1\" class=\"row_heading level0 row1\" >huber</th>\n",
       "      <td id=\"T_ad07e_row1_col0\" class=\"data row1 col0\" >Huber Regressor</td>\n",
       "      <td id=\"T_ad07e_row1_col1\" class=\"data row1 col1\" >46.2686</td>\n",
       "      <td id=\"T_ad07e_row1_col2\" class=\"data row1 col2\" >4134.2599</td>\n",
       "      <td id=\"T_ad07e_row1_col3\" class=\"data row1 col3\" >64.1877</td>\n",
       "      <td id=\"T_ad07e_row1_col4\" class=\"data row1 col4\" >0.7451</td>\n",
       "      <td id=\"T_ad07e_row1_col5\" class=\"data row1 col5\" >0.4050</td>\n",
       "      <td id=\"T_ad07e_row1_col6\" class=\"data row1 col6\" >0.3030</td>\n",
       "      <td id=\"T_ad07e_row1_col7\" class=\"data row1 col7\" >0.8100</td>\n",
       "    </tr>\n",
       "    <tr>\n",
       "      <th id=\"T_ad07e_level0_row2\" class=\"row_heading level0 row2\" >lasso</th>\n",
       "      <td id=\"T_ad07e_row2_col0\" class=\"data row2 col0\" >Lasso Regression</td>\n",
       "      <td id=\"T_ad07e_row2_col1\" class=\"data row2 col1\" >43.6481</td>\n",
       "      <td id=\"T_ad07e_row2_col2\" class=\"data row2 col2\" >3501.0200</td>\n",
       "      <td id=\"T_ad07e_row2_col3\" class=\"data row2 col3\" >59.1679</td>\n",
       "      <td id=\"T_ad07e_row2_col4\" class=\"data row2 col4\" >0.7841</td>\n",
       "      <td id=\"T_ad07e_row2_col5\" class=\"data row2 col5\" >0.4601</td>\n",
       "      <td id=\"T_ad07e_row2_col6\" class=\"data row2 col6\" >0.3163</td>\n",
       "      <td id=\"T_ad07e_row2_col7\" class=\"data row2 col7\" >0.7060</td>\n",
       "    </tr>\n",
       "    <tr>\n",
       "      <th id=\"T_ad07e_level0_row3\" class=\"row_heading level0 row3\" >lr</th>\n",
       "      <td id=\"T_ad07e_row3_col0\" class=\"data row3 col0\" >Linear Regression</td>\n",
       "      <td id=\"T_ad07e_row3_col1\" class=\"data row3 col1\" >43.6985</td>\n",
       "      <td id=\"T_ad07e_row3_col2\" class=\"data row3 col2\" >3496.5051</td>\n",
       "      <td id=\"T_ad07e_row3_col3\" class=\"data row3 col3\" >59.1298</td>\n",
       "      <td id=\"T_ad07e_row3_col4\" class=\"data row3 col4\" >0.7844</td>\n",
       "      <td id=\"T_ad07e_row3_col5\" class=\"data row3 col5\" >0.5015</td>\n",
       "      <td id=\"T_ad07e_row3_col6\" class=\"data row3 col6\" >0.3199</td>\n",
       "      <td id=\"T_ad07e_row3_col7\" class=\"data row3 col7\" >2.6700</td>\n",
       "    </tr>\n",
       "    <tr>\n",
       "      <th id=\"T_ad07e_level0_row4\" class=\"row_heading level0 row4\" >ridge</th>\n",
       "      <td id=\"T_ad07e_row4_col0\" class=\"data row4 col0\" >Ridge Regression</td>\n",
       "      <td id=\"T_ad07e_row4_col1\" class=\"data row4 col1\" >43.6982</td>\n",
       "      <td id=\"T_ad07e_row4_col2\" class=\"data row4 col2\" >3496.5051</td>\n",
       "      <td id=\"T_ad07e_row4_col3\" class=\"data row4 col3\" >59.1298</td>\n",
       "      <td id=\"T_ad07e_row4_col4\" class=\"data row4 col4\" >0.7844</td>\n",
       "      <td id=\"T_ad07e_row4_col5\" class=\"data row4 col5\" >0.5015</td>\n",
       "      <td id=\"T_ad07e_row4_col6\" class=\"data row4 col6\" >0.3199</td>\n",
       "      <td id=\"T_ad07e_row4_col7\" class=\"data row4 col7\" >0.5960</td>\n",
       "    </tr>\n",
       "    <tr>\n",
       "      <th id=\"T_ad07e_level0_row5\" class=\"row_heading level0 row5\" >lar</th>\n",
       "      <td id=\"T_ad07e_row5_col0\" class=\"data row5 col0\" >Least Angle Regression</td>\n",
       "      <td id=\"T_ad07e_row5_col1\" class=\"data row5 col1\" >43.6985</td>\n",
       "      <td id=\"T_ad07e_row5_col2\" class=\"data row5 col2\" >3496.5051</td>\n",
       "      <td id=\"T_ad07e_row5_col3\" class=\"data row5 col3\" >59.1298</td>\n",
       "      <td id=\"T_ad07e_row5_col4\" class=\"data row5 col4\" >0.7844</td>\n",
       "      <td id=\"T_ad07e_row5_col5\" class=\"data row5 col5\" >0.5015</td>\n",
       "      <td id=\"T_ad07e_row5_col6\" class=\"data row5 col6\" >0.3199</td>\n",
       "      <td id=\"T_ad07e_row5_col7\" class=\"data row5 col7\" >0.6040</td>\n",
       "    </tr>\n",
       "    <tr>\n",
       "      <th id=\"T_ad07e_level0_row6\" class=\"row_heading level0 row6\" >br</th>\n",
       "      <td id=\"T_ad07e_row6_col0\" class=\"data row6 col0\" >Bayesian Ridge</td>\n",
       "      <td id=\"T_ad07e_row6_col1\" class=\"data row6 col1\" >43.6983</td>\n",
       "      <td id=\"T_ad07e_row6_col2\" class=\"data row6 col2\" >3496.5051</td>\n",
       "      <td id=\"T_ad07e_row6_col3\" class=\"data row6 col3\" >59.1298</td>\n",
       "      <td id=\"T_ad07e_row6_col4\" class=\"data row6 col4\" >0.7844</td>\n",
       "      <td id=\"T_ad07e_row6_col5\" class=\"data row6 col5\" >0.5015</td>\n",
       "      <td id=\"T_ad07e_row6_col6\" class=\"data row6 col6\" >0.3199</td>\n",
       "      <td id=\"T_ad07e_row6_col7\" class=\"data row6 col7\" >0.5980</td>\n",
       "    </tr>\n",
       "    <tr>\n",
       "      <th id=\"T_ad07e_level0_row7\" class=\"row_heading level0 row7\" >catboost</th>\n",
       "      <td id=\"T_ad07e_row7_col0\" class=\"data row7 col0\" >CatBoost Regressor</td>\n",
       "      <td id=\"T_ad07e_row7_col1\" class=\"data row7 col1\" >48.9718</td>\n",
       "      <td id=\"T_ad07e_row7_col2\" class=\"data row7 col2\" >4230.8956</td>\n",
       "      <td id=\"T_ad07e_row7_col3\" class=\"data row7 col3\" >65.0136</td>\n",
       "      <td id=\"T_ad07e_row7_col4\" class=\"data row7 col4\" >0.7391</td>\n",
       "      <td id=\"T_ad07e_row7_col5\" class=\"data row7 col5\" >0.3520</td>\n",
       "      <td id=\"T_ad07e_row7_col6\" class=\"data row7 col6\" >0.3299</td>\n",
       "      <td id=\"T_ad07e_row7_col7\" class=\"data row7 col7\" >8.4020</td>\n",
       "    </tr>\n",
       "    <tr>\n",
       "      <th id=\"T_ad07e_level0_row8\" class=\"row_heading level0 row8\" >knn</th>\n",
       "      <td id=\"T_ad07e_row8_col0\" class=\"data row8 col0\" >K Neighbors Regressor</td>\n",
       "      <td id=\"T_ad07e_row8_col1\" class=\"data row8 col1\" >47.8612</td>\n",
       "      <td id=\"T_ad07e_row8_col2\" class=\"data row8 col2\" >4139.2462</td>\n",
       "      <td id=\"T_ad07e_row8_col3\" class=\"data row8 col3\" >64.2330</td>\n",
       "      <td id=\"T_ad07e_row8_col4\" class=\"data row8 col4\" >0.7448</td>\n",
       "      <td id=\"T_ad07e_row8_col5\" class=\"data row8 col5\" >0.3583</td>\n",
       "      <td id=\"T_ad07e_row8_col6\" class=\"data row8 col6\" >0.3332</td>\n",
       "      <td id=\"T_ad07e_row8_col7\" class=\"data row8 col7\" >0.7480</td>\n",
       "    </tr>\n",
       "    <tr>\n",
       "      <th id=\"T_ad07e_level0_row9\" class=\"row_heading level0 row9\" >omp</th>\n",
       "      <td id=\"T_ad07e_row9_col0\" class=\"data row9 col0\" >Orthogonal Matching Pursuit</td>\n",
       "      <td id=\"T_ad07e_row9_col1\" class=\"data row9 col1\" >62.2324</td>\n",
       "      <td id=\"T_ad07e_row9_col2\" class=\"data row9 col2\" >7220.9670</td>\n",
       "      <td id=\"T_ad07e_row9_col3\" class=\"data row9 col3\" >84.9752</td>\n",
       "      <td id=\"T_ad07e_row9_col4\" class=\"data row9 col4\" >0.5548</td>\n",
       "      <td id=\"T_ad07e_row9_col5\" class=\"data row9 col5\" >0.4551</td>\n",
       "      <td id=\"T_ad07e_row9_col6\" class=\"data row9 col6\" >0.4445</td>\n",
       "      <td id=\"T_ad07e_row9_col7\" class=\"data row9 col7\" >0.5940</td>\n",
       "    </tr>\n",
       "    <tr>\n",
       "      <th id=\"T_ad07e_level0_row10\" class=\"row_heading level0 row10\" >en</th>\n",
       "      <td id=\"T_ad07e_row10_col0\" class=\"data row10 col0\" >Elastic Net</td>\n",
       "      <td id=\"T_ad07e_row10_col1\" class=\"data row10 col1\" >69.5517</td>\n",
       "      <td id=\"T_ad07e_row10_col2\" class=\"data row10 col2\" >7514.5423</td>\n",
       "      <td id=\"T_ad07e_row10_col3\" class=\"data row10 col3\" >86.6849</td>\n",
       "      <td id=\"T_ad07e_row10_col4\" class=\"data row10 col4\" >0.5367</td>\n",
       "      <td id=\"T_ad07e_row10_col5\" class=\"data row10 col5\" >0.4623</td>\n",
       "      <td id=\"T_ad07e_row10_col6\" class=\"data row10 col6\" >0.4742</td>\n",
       "      <td id=\"T_ad07e_row10_col7\" class=\"data row10 col7\" >0.5960</td>\n",
       "    </tr>\n",
       "    <tr>\n",
       "      <th id=\"T_ad07e_level0_row11\" class=\"row_heading level0 row11\" >lightgbm</th>\n",
       "      <td id=\"T_ad07e_row11_col0\" class=\"data row11 col0\" >Light Gradient Boosting Machine</td>\n",
       "      <td id=\"T_ad07e_row11_col1\" class=\"data row11 col1\" >68.0420</td>\n",
       "      <td id=\"T_ad07e_row11_col2\" class=\"data row11 col2\" >6904.4137</td>\n",
       "      <td id=\"T_ad07e_row11_col3\" class=\"data row11 col3\" >83.0565</td>\n",
       "      <td id=\"T_ad07e_row11_col4\" class=\"data row11 col4\" >0.5744</td>\n",
       "      <td id=\"T_ad07e_row11_col5\" class=\"data row11 col5\" >0.4718</td>\n",
       "      <td id=\"T_ad07e_row11_col6\" class=\"data row11 col6\" >0.4954</td>\n",
       "      <td id=\"T_ad07e_row11_col7\" class=\"data row11 col7\" >1.0880</td>\n",
       "    </tr>\n",
       "    <tr>\n",
       "      <th id=\"T_ad07e_level0_row12\" class=\"row_heading level0 row12\" >ada</th>\n",
       "      <td id=\"T_ad07e_row12_col0\" class=\"data row12 col0\" >AdaBoost Regressor</td>\n",
       "      <td id=\"T_ad07e_row12_col1\" class=\"data row12 col1\" >57.3169</td>\n",
       "      <td id=\"T_ad07e_row12_col2\" class=\"data row12 col2\" >4559.0651</td>\n",
       "      <td id=\"T_ad07e_row12_col3\" class=\"data row12 col3\" >67.4282</td>\n",
       "      <td id=\"T_ad07e_row12_col4\" class=\"data row12 col4\" >0.7189</td>\n",
       "      <td id=\"T_ad07e_row12_col5\" class=\"data row12 col5\" >0.4868</td>\n",
       "      <td id=\"T_ad07e_row12_col6\" class=\"data row12 col6\" >0.5363</td>\n",
       "      <td id=\"T_ad07e_row12_col7\" class=\"data row12 col7\" >1.5260</td>\n",
       "    </tr>\n",
       "    <tr>\n",
       "      <th id=\"T_ad07e_level0_row13\" class=\"row_heading level0 row13\" >xgboost</th>\n",
       "      <td id=\"T_ad07e_row13_col0\" class=\"data row13 col0\" >Extreme Gradient Boosting</td>\n",
       "      <td id=\"T_ad07e_row13_col1\" class=\"data row13 col1\" >78.4745</td>\n",
       "      <td id=\"T_ad07e_row13_col2\" class=\"data row13 col2\" >8804.1320</td>\n",
       "      <td id=\"T_ad07e_row13_col3\" class=\"data row13 col3\" >93.8260</td>\n",
       "      <td id=\"T_ad07e_row13_col4\" class=\"data row13 col4\" >0.4572</td>\n",
       "      <td id=\"T_ad07e_row13_col5\" class=\"data row13 col5\" >0.5079</td>\n",
       "      <td id=\"T_ad07e_row13_col6\" class=\"data row13 col6\" >0.5464</td>\n",
       "      <td id=\"T_ad07e_row13_col7\" class=\"data row13 col7\" >2.1960</td>\n",
       "    </tr>\n",
       "    <tr>\n",
       "      <th id=\"T_ad07e_level0_row14\" class=\"row_heading level0 row14\" >et</th>\n",
       "      <td id=\"T_ad07e_row14_col0\" class=\"data row14 col0\" >Extra Trees Regressor</td>\n",
       "      <td id=\"T_ad07e_row14_col1\" class=\"data row14 col1\" >82.5500</td>\n",
       "      <td id=\"T_ad07e_row14_col2\" class=\"data row14 col2\" >9337.9994</td>\n",
       "      <td id=\"T_ad07e_row14_col3\" class=\"data row14 col3\" >96.6294</td>\n",
       "      <td id=\"T_ad07e_row14_col4\" class=\"data row14 col4\" >0.4242</td>\n",
       "      <td id=\"T_ad07e_row14_col5\" class=\"data row14 col5\" >0.5373</td>\n",
       "      <td id=\"T_ad07e_row14_col6\" class=\"data row14 col6\" >0.5875</td>\n",
       "      <td id=\"T_ad07e_row14_col7\" class=\"data row14 col7\" >2.2760</td>\n",
       "    </tr>\n",
       "    <tr>\n",
       "      <th id=\"T_ad07e_level0_row15\" class=\"row_heading level0 row15\" >rf</th>\n",
       "      <td id=\"T_ad07e_row15_col0\" class=\"data row15 col0\" >Random Forest Regressor</td>\n",
       "      <td id=\"T_ad07e_row15_col1\" class=\"data row15 col1\" >90.0928</td>\n",
       "      <td id=\"T_ad07e_row15_col2\" class=\"data row15 col2\" >11442.6344</td>\n",
       "      <td id=\"T_ad07e_row15_col3\" class=\"data row15 col3\" >106.9656</td>\n",
       "      <td id=\"T_ad07e_row15_col4\" class=\"data row15 col4\" >0.2944</td>\n",
       "      <td id=\"T_ad07e_row15_col5\" class=\"data row15 col5\" >0.5652</td>\n",
       "      <td id=\"T_ad07e_row15_col6\" class=\"data row15 col6\" >0.6161</td>\n",
       "      <td id=\"T_ad07e_row15_col7\" class=\"data row15 col7\" >3.4660</td>\n",
       "    </tr>\n",
       "    <tr>\n",
       "      <th id=\"T_ad07e_level0_row16\" class=\"row_heading level0 row16\" >dt</th>\n",
       "      <td id=\"T_ad07e_row16_col0\" class=\"data row16 col0\" >Decision Tree Regressor</td>\n",
       "      <td id=\"T_ad07e_row16_col1\" class=\"data row16 col1\" >90.0094</td>\n",
       "      <td id=\"T_ad07e_row16_col2\" class=\"data row16 col2\" >11480.3266</td>\n",
       "      <td id=\"T_ad07e_row16_col3\" class=\"data row16 col3\" >107.0614</td>\n",
       "      <td id=\"T_ad07e_row16_col4\" class=\"data row16 col4\" >0.2922</td>\n",
       "      <td id=\"T_ad07e_row16_col5\" class=\"data row16 col5\" >0.5675</td>\n",
       "      <td id=\"T_ad07e_row16_col6\" class=\"data row16 col6\" >0.6190</td>\n",
       "      <td id=\"T_ad07e_row16_col7\" class=\"data row16 col7\" >0.6480</td>\n",
       "    </tr>\n",
       "    <tr>\n",
       "      <th id=\"T_ad07e_level0_row17\" class=\"row_heading level0 row17\" >par</th>\n",
       "      <td id=\"T_ad07e_row17_col0\" class=\"data row17 col0\" >Passive Aggressive Regressor</td>\n",
       "      <td id=\"T_ad07e_row17_col1\" class=\"data row17 col1\" >91.7216</td>\n",
       "      <td id=\"T_ad07e_row17_col2\" class=\"data row17 col2\" >13608.2914</td>\n",
       "      <td id=\"T_ad07e_row17_col3\" class=\"data row17 col3\" >116.3074</td>\n",
       "      <td id=\"T_ad07e_row17_col4\" class=\"data row17 col4\" >0.1612</td>\n",
       "      <td id=\"T_ad07e_row17_col5\" class=\"data row17 col5\" >0.6888</td>\n",
       "      <td id=\"T_ad07e_row17_col6\" class=\"data row17 col6\" >0.6446</td>\n",
       "      <td id=\"T_ad07e_row17_col7\" class=\"data row17 col7\" >0.7680</td>\n",
       "    </tr>\n",
       "    <tr>\n",
       "      <th id=\"T_ad07e_level0_row18\" class=\"row_heading level0 row18\" >llar</th>\n",
       "      <td id=\"T_ad07e_row18_col0\" class=\"data row18 col0\" >Lasso Least Angle Regression</td>\n",
       "      <td id=\"T_ad07e_row18_col1\" class=\"data row18 col1\" >106.9616</td>\n",
       "      <td id=\"T_ad07e_row18_col2\" class=\"data row18 col2\" >16220.6727</td>\n",
       "      <td id=\"T_ad07e_row18_col3\" class=\"data row18 col3\" >127.3597</td>\n",
       "      <td id=\"T_ad07e_row18_col4\" class=\"data row18 col4\" >-0.0001</td>\n",
       "      <td id=\"T_ad07e_row18_col5\" class=\"data row18 col5\" >0.7273</td>\n",
       "      <td id=\"T_ad07e_row18_col6\" class=\"data row18 col6\" >0.8999</td>\n",
       "      <td id=\"T_ad07e_row18_col7\" class=\"data row18 col7\" >0.6020</td>\n",
       "    </tr>\n",
       "    <tr>\n",
       "      <th id=\"T_ad07e_level0_row19\" class=\"row_heading level0 row19\" >dummy</th>\n",
       "      <td id=\"T_ad07e_row19_col0\" class=\"data row19 col0\" >Dummy Regressor</td>\n",
       "      <td id=\"T_ad07e_row19_col1\" class=\"data row19 col1\" >106.9616</td>\n",
       "      <td id=\"T_ad07e_row19_col2\" class=\"data row19 col2\" >16220.6727</td>\n",
       "      <td id=\"T_ad07e_row19_col3\" class=\"data row19 col3\" >127.3597</td>\n",
       "      <td id=\"T_ad07e_row19_col4\" class=\"data row19 col4\" >-0.0001</td>\n",
       "      <td id=\"T_ad07e_row19_col5\" class=\"data row19 col5\" >0.7273</td>\n",
       "      <td id=\"T_ad07e_row19_col6\" class=\"data row19 col6\" >0.8999</td>\n",
       "      <td id=\"T_ad07e_row19_col7\" class=\"data row19 col7\" >0.5880</td>\n",
       "    </tr>\n",
       "  </tbody>\n",
       "</table>\n"
      ],
      "text/plain": [
       "<pandas.io.formats.style.Styler at 0x7f5422a18910>"
      ]
     },
     "metadata": {},
     "output_type": "display_data"
    },
    {
     "data": {
      "application/vnd.jupyter.widget-view+json": {
       "model_id": "d8728a8f951b4791a1ac230e07f314d6",
       "version_major": 2,
       "version_minor": 0
      },
      "text/plain": [
       "Processing:   0%|          | 0/87 [00:00<?, ?it/s]"
      ]
     },
     "metadata": {},
     "output_type": "display_data"
    },
    {
     "name": "stdout",
     "output_type": "stream",
     "text": [
      "CPU times: user 23.6 s, sys: 2.7 s, total: 26.3 s\n",
      "Wall time: 2min 57s\n"
     ]
    },
    {
     "data": {
      "text/plain": [
       "{'GradientBoostingRegressor': GradientBoostingRegressor(random_state=42),\n",
       " 'HuberRegressor': HuberRegressor(),\n",
       " 'Lasso': Lasso(random_state=42)}"
      ]
     },
     "execution_count": 15,
     "metadata": {},
     "output_type": "execute_result"
    }
   ],
   "source": [
    "%%time\n",
    "models_compared = compare_models(\n",
    "    fold     = 5 if os.environ.get('KAGGLE_KERNEL_RUN_TYPE') == 'Batch' else 3, \n",
    "    n_select = 3, \n",
    "    sort     = 'mape',\n",
    "    # fit_kwargs = { 'silent': True }  # BUG: breaks n_select=5\n",
    ")\n",
    "\n",
    "# BUGFIX: models_compared is a list\n",
    "models = {}\n",
    "for model in models_compared: \n",
    "    name = model_classname_str(model)\n",
    "    models[name] = model\n",
    "\n",
    "models"
   ]
  },
  {
   "cell_type": "markdown",
   "id": "41794818",
   "metadata": {
    "papermill": {
     "duration": 0.016052,
     "end_time": "2022-09-18T21:49:50.280596",
     "exception": false,
     "start_time": "2022-09-18T21:49:50.264544",
     "status": "completed"
    },
    "tags": []
   },
   "source": [
    "# Create Models\n",
    "\n",
    "- https://pycaret.gitbook.io/docs/get-started/functions/train#create_model\n",
    "- https://pycaret.readthedocs.io/en/latest/api/classification.html?highlight=create_model#pycaret.classification.create_model\n",
    "\n",
    "> Creating a model in any module is as simple as writing create_model. It takes only one parameter i.e. the Model ID as a string. For supervised modules (classification and regression) this function returns a table with k-fold cross validated performance metrics along with the trained model object. For unsupervised module For unsupervised module clustering, it returns performance metrics along with trained model object and for remaining unsupervised modules anomaly detection, natural language processing and association rule mining, it only returns trained model object. The evaluation metrics used are:\n",
    ">\n",
    "> - Classification: Accuracy, AUC, Recall, Precision, F1, Kappa, MCC\n",
    "> - Regression: MAE, MSE, RMSE, R2, RMSLE, MAPE\n",
    ">\n",
    "> The number of folds can be defined using fold parameter within create_model function. By default, the fold is set to 10. All the metrics are rounded to 4 decimals by default by can be changed using round parameter within create_model. Although there is a separate function to ensemble the trained model, however there is a quick way available to ensemble the model while creating by using ensemble parameter along with method parameter within create_model function.\n",
    "\n",
    "\n",
    "Here we can create additional models not selected for by `compare_models()`, or override specific parameters such `silent=True`"
   ]
  },
  {
   "cell_type": "code",
   "execution_count": 16,
   "id": "f76b40bf",
   "metadata": {
    "execution": {
     "iopub.execute_input": "2022-09-18T21:49:50.315756Z",
     "iopub.status.busy": "2022-09-18T21:49:50.314675Z",
     "iopub.status.idle": "2022-09-18T21:49:50.319914Z",
     "shell.execute_reply": "2022-09-18T21:49:50.318814Z"
    },
    "jupyter": {
     "source_hidden": true
    },
    "papermill": {
     "duration": 0.025907,
     "end_time": "2022-09-18T21:49:50.322660",
     "exception": false,
     "start_time": "2022-09-18T21:49:50.296753",
     "status": "completed"
    },
    "tags": []
   },
   "outputs": [],
   "source": [
    "# %%time\n",
    "### Manually select models rather that use compare_baselines()"
   ]
  },
  {
   "cell_type": "markdown",
   "id": "ae51ba3f",
   "metadata": {
    "papermill": {
     "duration": 0.015965,
     "end_time": "2022-09-18T21:49:50.355049",
     "exception": false,
     "start_time": "2022-09-18T21:49:50.339084",
     "status": "completed"
    },
    "tags": []
   },
   "source": [
    "# Persist Hyperparameters "
   ]
  },
  {
   "cell_type": "code",
   "execution_count": 17,
   "id": "fb23b412",
   "metadata": {
    "execution": {
     "iopub.execute_input": "2022-09-18T21:49:50.390139Z",
     "iopub.status.busy": "2022-09-18T21:49:50.389068Z",
     "iopub.status.idle": "2022-09-18T21:49:50.407683Z",
     "shell.execute_reply": "2022-09-18T21:49:50.406537Z"
    },
    "jupyter": {
     "source_hidden": true
    },
    "papermill": {
     "duration": 0.039288,
     "end_time": "2022-09-18T21:49:50.410549",
     "exception": false,
     "start_time": "2022-09-18T21:49:50.371261",
     "status": "completed"
    },
    "tags": []
   },
   "outputs": [],
   "source": [
    "import yaml\n",
    "import shutil\n",
    "import os.path\n",
    "\n",
    "NOTEBOOK_DIR    = '../input/tabular-playground-series-sep-2022/'\n",
    "CONFIG_FILENAME = 'models_config.yaml'\n",
    "\n",
    "\n",
    "def update_custom_configs(models):\n",
    "    configs = extract_model_configs(models)\n",
    "    configs = custom_configs(configs)\n",
    "    set_model_configs(models, configs)\n",
    "\n",
    "    \n",
    "def custom_configs(configs):\n",
    "    \"\"\" Manually specific parameters \"\"\"\n",
    "    for name, config in configs.items():\n",
    "        if 'silent'  in config:      config['silent']  = True            \n",
    "        if 'verbose' in config:      config['verbose'] = False\n",
    "        if 'device'  in config:      config['device']  = 'gpu' if tf.test.is_gpu_available() else 'cpu'\n",
    "        if name == 'LGBMClassifier': \n",
    "            # [LightGBM] [Warning] feature_fraction is set=1.0, colsample_bytree=1.0 will be ignored. Current value: feature_fraction=1.0\n",
    "            # [LightGBM] [Warning] bagging_freq is set=3, subsample_freq=0 will be ignored. Current value: bagging_freq=3\n",
    "            # [LightGBM] [Warning] bagging_fraction is set=0.8, subsample=1.0 will be ignored. Current value: bagging_fraction=0.8\n",
    "            config['silent']  = True\n",
    "            if config.get('feature_fraction') and config.get('colsample_bytree'):\n",
    "                del config['colsample_bytree']\n",
    "            if config.get('bagging_freq') and config.get('subsample_freq'):\n",
    "                del config['subsample_freq']                \n",
    "            if config.get('bagging_fraction') and config.get('subsample'):\n",
    "                del config['subsample']\n",
    "            \n",
    "    return configs\n",
    "\n",
    "\n",
    "def restore_configs_file():\n",
    "    \"\"\" Restore from previous run \"\"\"\n",
    "    if os.path.exists(f'{NOTEBOOK_DIR}/{CONFIG_FILENAME}') and not os.path.exists(CONFIG_FILENAME):\n",
    "        shutil.copyfile(f'{NOTEBOOK_DIR}/{CONFIG_FILENAME}', CONFIG_FILENAME)\n",
    "\n",
    "        \n",
    "def delete_configs_file():\n",
    "    if os.path.exists(CONFIG_FILENAME):\n",
    "        os.remove(CONFIG_FILENAME)\n",
    "        \n",
    "    \n",
    "def read_model_configs(filename=CONFIG_FILENAME):\n",
    "    try:\n",
    "        with open(filename, 'r') as file:\n",
    "            text    = file.read()\n",
    "            configs = yaml.load(text)\n",
    "            return configs\n",
    "    except:\n",
    "        return {}\n",
    "\n",
    "    \n",
    "def print_model_configs(filename=CONFIG_FILENAME):\n",
    "    if os.path.exists(filename):    \n",
    "        with open(filename, 'r') as file:\n",
    "            text = file.read()\n",
    "            print(text)\n",
    "    \n",
    "\n",
    "def write_model_configs(configs, filename=CONFIG_FILENAME):\n",
    "    with open(filename, 'w') as file:\n",
    "        text = yaml.dump(configs, explicit_start=True, default_flow_style=False)\n",
    "        file.write(text)\n",
    "\n",
    "        \n",
    "def extract_model_configs(models):\n",
    "    \"\"\" Read models[].get_params() \"\"\"        \n",
    "    return {\n",
    "        name: model.get_params()\n",
    "        for name, model in models.items()        \n",
    "    }   \n",
    "\n",
    "def set_model_configs(models, configs):\n",
    "    for name, model in models.items():\n",
    "        if name in configs.keys():\n",
    "            try:\n",
    "                model.set_params(**configs[name])\n",
    "            except Exception as exception:\n",
    "                # BUG: CatBoostClassifier: You can't change params of fitted model.\n",
    "                print(f'{name}: {exception}')    \n",
    "    \n",
    "def save_model_configs(models, filename=CONFIG_FILENAME):\n",
    "    \"\"\" Save models configs to file \"\"\"    \n",
    "    old_configs   = read_model_configs(filename)\n",
    "    new_configs   = extract_model_configs(models)\n",
    "    merge_configs = { **old_configs, **new_configs }\n",
    "    write_model_configs(merge_configs, filename)\n",
    "    \n",
    "    \n",
    "def load_model_configs(models, filename=CONFIG_FILENAME):\n",
    "    \"\"\" Read configs from file and set in models \"\"\"\n",
    "    configs = read_model_configs(filename)\n",
    "    configs = custom_configs(configs)\n",
    "    set_model_configs(models, configs)\n"
   ]
  },
  {
   "cell_type": "code",
   "execution_count": 18,
   "id": "e1799838",
   "metadata": {
    "execution": {
     "iopub.execute_input": "2022-09-18T21:49:50.445560Z",
     "iopub.status.busy": "2022-09-18T21:49:50.445111Z",
     "iopub.status.idle": "2022-09-18T21:49:50.452386Z",
     "shell.execute_reply": "2022-09-18T21:49:50.451214Z"
    },
    "jupyter": {
     "source_hidden": true
    },
    "papermill": {
     "duration": 0.02757,
     "end_time": "2022-09-18T21:49:50.454622",
     "exception": false,
     "start_time": "2022-09-18T21:49:50.427052",
     "status": "completed"
    },
    "tags": []
   },
   "outputs": [
    {
     "name": "stdout",
     "output_type": "stream",
     "text": [
      "Writing models_config_previous_run.yaml\n"
     ]
    }
   ],
   "source": [
    "%%writefile models_config_previous_run.yaml\n",
    "---"
   ]
  },
  {
   "cell_type": "code",
   "execution_count": 19,
   "id": "45b723bb",
   "metadata": {
    "execution": {
     "iopub.execute_input": "2022-09-18T21:49:50.490554Z",
     "iopub.status.busy": "2022-09-18T21:49:50.489252Z",
     "iopub.status.idle": "2022-09-18T21:49:50.496686Z",
     "shell.execute_reply": "2022-09-18T21:49:50.495526Z"
    },
    "papermill": {
     "duration": 0.028127,
     "end_time": "2022-09-18T21:49:50.499387",
     "exception": false,
     "start_time": "2022-09-18T21:49:50.471260",
     "status": "completed"
    },
    "tags": []
   },
   "outputs": [],
   "source": [
    "# delete_configs_file()\n",
    "# read_model_configs()\n",
    "# extract_model_configs(models)\n",
    "# save_model_configs(models)\n",
    "\n",
    "### Load Manual Config\n",
    "# update_custom_configs(models)\n",
    "# load_model_configs(models, 'models_config_previous_run.yaml')\n",
    "\n",
    "### Reusable Workflow\n",
    "restore_configs_file()\n",
    "load_model_configs(models)\n",
    "print_model_configs()"
   ]
  },
  {
   "cell_type": "markdown",
   "id": "3047642f",
   "metadata": {
    "papermill": {
     "duration": 0.016482,
     "end_time": "2022-09-18T21:49:50.532984",
     "exception": false,
     "start_time": "2022-09-18T21:49:50.516502",
     "status": "completed"
    },
    "tags": []
   },
   "source": [
    "# BUG: lightgbm won't shut up\n",
    "\n",
    "LightGBM keeps printing excessive parameter warnings, and `slience=True` doesn't always seem to work.\n",
    "```\n",
    "[LightGBM] [Warning] feature_fraction is set=1.0, colsample_bytree=1.0 will be ignored. Current value: feature_fraction=1.0\n",
    "[LightGBM] [Warning] bagging_freq is set=3, subsample_freq=0 will be ignored. Current value: bagging_freq=3\n",
    "[LightGBM] [Warning] bagging_fraction is set=0.8, subsample=1.0 will be ignored. Current value: bagging_fraction=0.8\n",
    "```\n",
    "\n",
    "Workaround solutions are:\n",
    "- Inject `silent=True` into LightGBM parameters \n",
    "- Remove excluded combinatons via `update_custom_configs(models)`\n",
    "- Remove LightGBM from models list\n",
    "\n",
    "Neither of these solutions (apart from the last) seem to work reliably. The end result is intermittant readability issues with this notebook. If anybody has a better solution, please let me know."
   ]
  },
  {
   "cell_type": "code",
   "execution_count": 20,
   "id": "7b5c8f3b",
   "metadata": {
    "execution": {
     "iopub.execute_input": "2022-09-18T21:49:50.568854Z",
     "iopub.status.busy": "2022-09-18T21:49:50.568062Z",
     "iopub.status.idle": "2022-09-18T21:49:50.573098Z",
     "shell.execute_reply": "2022-09-18T21:49:50.572296Z"
    },
    "jupyter": {
     "source_hidden": true
    },
    "papermill": {
     "duration": 0.025525,
     "end_time": "2022-09-18T21:49:50.575229",
     "exception": false,
     "start_time": "2022-09-18T21:49:50.549704",
     "status": "completed"
    },
    "tags": []
   },
   "outputs": [],
   "source": [
    "# %%time\n",
    "# # %%capture  # FAIL: This doesn't work\n",
    "# import io\n",
    "# import warnings\n",
    "# import contextlib\n",
    "# from contextlib import redirect_stderr\n",
    "\n",
    "# # Disable LightGBM Warnings for Readability - BUG: Doesn't work\n",
    "# import os\n",
    "# import sys\n",
    "# import warnings\n",
    "# if not sys.warnoptions:\n",
    "#     warnings.simplefilter(\"ignore\")\n",
    "#     os.environ[\"PYTHONWARNINGS\"] = \"ignore\"  # Also affect subprocesses    \n",
    "\n",
    "# warnings.filterwarnings(\"ignore\")       # FAIL: This doesn't work\n",
    "\n",
    "# # with redirect_stderr(io.StringIO()):  # FAIL: This doesn't work\n",
    "# with contextlib.suppress(Warning):      # FAIL: This doesn't work    \n",
    "#     model_lightgbm = create_model('lightgbm', \n",
    "#         device  = ('gpu' if tf.test.is_gpu_available() else 'cpu'), \n",
    "#         verbose = False,  # FAIL: This doesn't work    \n",
    "#         silent  = True,   # FAIL: This doesn't work\n",
    "#     )\n",
    "\n",
    "#     # BUGFIX: Rewrite config\n",
    "#     update_custom_configs({ 'lightgbm': model_lightgbm })\n",
    "    \n",
    "#     # BUG: lightgbm won't shut up - Prints excessive stderr warnings    \n",
    "#     tune_model(\n",
    "#         model_lightgbm, \n",
    "#         n_iter   = 1,  \n",
    "#         optimize = 'AUC',\n",
    "#         verbose  = False\n",
    "#     )\n",
    "    \n",
    "#     display(model_lightgbm)"
   ]
  },
  {
   "cell_type": "markdown",
   "id": "eee32249",
   "metadata": {
    "papermill": {
     "duration": 0.016411,
     "end_time": "2022-09-18T21:49:50.608493",
     "exception": false,
     "start_time": "2022-09-18T21:49:50.592082",
     "status": "completed"
    },
    "tags": []
   },
   "source": [
    "# Tune Hyperparameters\n",
    "\n",
    "- https://pycaret.gitbook.io/docs/get-started/functions/optimize#tune_model\n",
    "- https://pycaret.readthedocs.io/en/latest/api/classification.html?highlight=tune_model\n",
    "\n",
    "\n",
    "> Tuning hyperparameters of a machine learning model in any module is as simple as writing tune_model. It tunes the hyperparameter of the model passed as an estimator using Random grid search with pre-defined grids that are fully customizable. Optimizing the hyperparameters of a model requires an objective function which is linked to target variable automatically in supervised experiments such as Classification or Regression. However for unsupervised experiments such as Clustering, Anomaly Detection and Natural Language Processing PyCaret allows you to define custom objective function by specifying supervised target variable using supervised_target parameter within tune_model (see examples below). For supervised learning, this function returns a table with k-fold cross validated scores of common evaluation metrics along with trained model object. For unsupervised learning, this function only returns trained model object. The evaluation metrics used for supervised learning are:\n",
    ">\n",
    "> - Classification: Accuracy, AUC, Recall, Precision, F1, Kappa, MCC\n",
    "> - Regression: MAE, MSE, RMSE, R2, RMSLE, MAPE\n",
    ">\n",
    "> The number of folds can be defined using fold parameter within tune_model function. By default, the fold is set to 10. All the metrics are rounded to 4 decimals by default by can be changed using round parameter. Tune model function in PyCaret is a randomized grid search of a pre-defined search space hence it relies on number of iterations of search space. By default, this function performs 10 random iteration over search space which can be changed using n_iter parameter within tune_model. Increasing the n_iter parameter may increase the training time but often results in a highly optimized model. Metric to be optimized can be defined using optimize parameter. By default, Regression tasks will optimize R2 and Classification tasks will optimize Accuracy. \n"
   ]
  },
  {
   "cell_type": "code",
   "execution_count": 21,
   "id": "56b37dec",
   "metadata": {
    "execution": {
     "iopub.execute_input": "2022-09-18T21:49:50.643962Z",
     "iopub.status.busy": "2022-09-18T21:49:50.643566Z",
     "iopub.status.idle": "2022-09-18T21:57:20.346318Z",
     "shell.execute_reply": "2022-09-18T21:57:20.345136Z"
    },
    "papermill": {
     "duration": 449.750411,
     "end_time": "2022-09-18T21:57:20.375608",
     "exception": false,
     "start_time": "2022-09-18T21:49:50.625197",
     "status": "completed"
    },
    "tags": []
   },
   "outputs": [
    {
     "name": "stdout",
     "output_type": "stream",
     "text": [
      "CPU times: user 41.8 s, sys: 8.91 s, total: 50.7 s\n",
      "Wall time: 7min 29s\n"
     ]
    }
   ],
   "source": [
    "%%time\n",
    "for name, model in models.items():\n",
    "    try:\n",
    "        models[name] = tune_model(\n",
    "            models[name], \n",
    "            n_iter   = 10 if os.environ.get('KAGGLE_KERNEL_RUN_TYPE') == 'Batch' else 1, \n",
    "            optimize = 'mape',\n",
    "            verbose  = False,\n",
    "\n",
    "            search_library='scikit-optimize',\n",
    "            early_stopping=True,\n",
    "        )\n",
    "    except Exception as exception:\n",
    "        print(name, 'Exception: ', exception)"
   ]
  },
  {
   "cell_type": "code",
   "execution_count": 22,
   "id": "08a0f077",
   "metadata": {
    "execution": {
     "iopub.execute_input": "2022-09-18T21:57:20.419053Z",
     "iopub.status.busy": "2022-09-18T21:57:20.418622Z",
     "iopub.status.idle": "2022-09-18T21:57:20.427125Z",
     "shell.execute_reply": "2022-09-18T21:57:20.425957Z"
    },
    "papermill": {
     "duration": 0.029861,
     "end_time": "2022-09-18T21:57:20.429501",
     "exception": false,
     "start_time": "2022-09-18T21:57:20.399640",
     "status": "completed"
    },
    "tags": []
   },
   "outputs": [
    {
     "data": {
      "text/plain": [
       "{'GradientBoostingRegressor': GradientBoostingRegressor(learning_rate=0.04264031156015375,\n",
       "                           max_features=0.7588282465072769,\n",
       "                           min_impurity_decrease=0.00962114482009193,\n",
       "                           min_samples_leaf=3, min_samples_split=3,\n",
       "                           n_estimators=229, random_state=42,\n",
       "                           subsample=0.8981042826479537),\n",
       " 'HuberRegressor': HuberRegressor(alpha=0.8123959882948841, epsilon=1.1718715613965607),\n",
       " 'Lasso': Lasso(alpha=0.037299442240177526, normalize=True, random_state=42)}"
      ]
     },
     "execution_count": 22,
     "metadata": {},
     "output_type": "execute_result"
    }
   ],
   "source": [
    "models"
   ]
  },
  {
   "cell_type": "markdown",
   "id": "5621d140",
   "metadata": {
    "papermill": {
     "duration": 0.01654,
     "end_time": "2022-09-18T21:57:20.463482",
     "exception": false,
     "start_time": "2022-09-18T21:57:20.446942",
     "status": "completed"
    },
    "tags": []
   },
   "source": [
    "# Save Params"
   ]
  },
  {
   "cell_type": "code",
   "execution_count": 23,
   "id": "3d72dfc1",
   "metadata": {
    "execution": {
     "iopub.execute_input": "2022-09-18T21:57:20.499038Z",
     "iopub.status.busy": "2022-09-18T21:57:20.498605Z",
     "iopub.status.idle": "2022-09-18T21:57:20.509907Z",
     "shell.execute_reply": "2022-09-18T21:57:20.508504Z"
    },
    "papermill": {
     "duration": 0.032153,
     "end_time": "2022-09-18T21:57:20.512394",
     "exception": false,
     "start_time": "2022-09-18T21:57:20.480241",
     "status": "completed"
    },
    "tags": []
   },
   "outputs": [
    {
     "name": "stdout",
     "output_type": "stream",
     "text": [
      "---\n",
      "GradientBoostingRegressor:\n",
      "  alpha: 0.9\n",
      "  ccp_alpha: 0.0\n",
      "  criterion: friedman_mse\n",
      "  init: null\n",
      "  learning_rate: 0.04264031156015375\n",
      "  loss: squared_error\n",
      "  max_depth: 3\n",
      "  max_features: 0.7588282465072769\n",
      "  max_leaf_nodes: null\n",
      "  min_impurity_decrease: 0.00962114482009193\n",
      "  min_samples_leaf: 3\n",
      "  min_samples_split: 3\n",
      "  min_weight_fraction_leaf: 0.0\n",
      "  n_estimators: 229\n",
      "  n_iter_no_change: null\n",
      "  random_state: 42\n",
      "  subsample: 0.8981042826479537\n",
      "  tol: 0.0001\n",
      "  validation_fraction: 0.1\n",
      "  verbose: false\n",
      "  warm_start: false\n",
      "HuberRegressor:\n",
      "  alpha: 0.8123959882948841\n",
      "  epsilon: 1.1718715613965607\n",
      "  fit_intercept: true\n",
      "  max_iter: 100\n",
      "  tol: 1.0e-05\n",
      "  warm_start: false\n",
      "Lasso:\n",
      "  alpha: 0.037299442240177526\n",
      "  copy_X: true\n",
      "  fit_intercept: true\n",
      "  max_iter: 1000\n",
      "  normalize: true\n",
      "  positive: false\n",
      "  precompute: false\n",
      "  random_state: 42\n",
      "  selection: cyclic\n",
      "  tol: 0.0001\n",
      "  warm_start: false\n",
      "\n"
     ]
    }
   ],
   "source": [
    "update_custom_configs(models)\n",
    "save_model_configs(models)\n",
    "print_model_configs()"
   ]
  },
  {
   "cell_type": "markdown",
   "id": "4d50b0c1",
   "metadata": {
    "papermill": {
     "duration": 0.017255,
     "end_time": "2022-09-18T21:57:20.547509",
     "exception": false,
     "start_time": "2022-09-18T21:57:20.530254",
     "status": "completed"
    },
    "tags": []
   },
   "source": [
    "# optimize_threshold\n",
    "\n",
    "> This function optimizes the probability threshold for a trained model. It iterates over performance metrics at different probability_threshold with a step size defined in grid_interval parameter. This function will display a plot of the performance metrics at each probability threshold and returns the best model based on the metric defined under optimize parameter.\n",
    "- https://pycaret.gitbook.io/docs/get-started/functions/optimize#optimize_threshold\n",
    "- https://towardsdatascience.com/5-things-you-dont-know-about-pycaret-528db0436eec\n",
    "\n",
    "NOTE: optimize_threshold() is not defined for regression"
   ]
  },
  {
   "cell_type": "code",
   "execution_count": 24,
   "id": "232ef957",
   "metadata": {
    "execution": {
     "iopub.execute_input": "2022-09-18T21:57:20.584446Z",
     "iopub.status.busy": "2022-09-18T21:57:20.584030Z",
     "iopub.status.idle": "2022-09-18T21:57:20.588694Z",
     "shell.execute_reply": "2022-09-18T21:57:20.587475Z"
    },
    "jupyter": {
     "source_hidden": true
    },
    "papermill": {
     "duration": 0.025721,
     "end_time": "2022-09-18T21:57:20.591052",
     "exception": false,
     "start_time": "2022-09-18T21:57:20.565331",
     "status": "completed"
    },
    "tags": []
   },
   "outputs": [],
   "source": [
    "# %%time\n",
    "# try:\n",
    "#     for name, model in models.items():\n",
    "#         models[name] = optimize_threshold(models[name], optimize='mape')\n",
    "# except: pass"
   ]
  },
  {
   "cell_type": "markdown",
   "id": "133430f8",
   "metadata": {
    "papermill": {
     "duration": 0.017709,
     "end_time": "2022-09-18T21:57:20.626006",
     "exception": false,
     "start_time": "2022-09-18T21:57:20.608297",
     "status": "completed"
    },
    "tags": []
   },
   "source": [
    "# Ensemble Model\n",
    "\n",
    "- https://pycaret.gitbook.io/docs/get-started/functions/optimize#ensemble_model\n",
    "- https://pycaret.readthedocs.io/en/latest/api/classification.html?highlight=ensemble#pycaret.classification.ensemble_model\n",
    "\n",
    "> Ensembling a trained model is as simple as writing ensemble_model. It takes only one mandatory parameter i.e. the trained model object. This functions returns a table with k-fold cross validated scores of common evaluation metrics along with trained model object. The evaluation metrics used are:\n",
    "\n",
    "> - Classification: Accuracy, AUC, Recall, Precision, F1, Kappa, MCC\n",
    "> - Regression: MAE, MSE, RMSE, R2, RMSLE, MAPE\n",
    "\n",
    "> The number of folds can be defined using fold parameter within ensemble_model function. By default, the fold is set to 10. All the metrics are rounded to 4 decimals by default by can be changed using round parameter. There are two methods available for ensembling that can be set using method parameter within ensemble_model function. Both the methods require re-sampling of the data and fitting multiple estimators, hence the number of estimators can be controlled using n_estimators parameter. By default, n_estimators is set to 10.\n",
    "\n",
    "> This function is only available in pycaret.classification and pycaret.regression modules.\n",
    "\n",
    "\n",
    "> **Bagging:**\n",
    "> Bagging, also known as Bootstrap aggregating, is a machine learning ensemble meta-algorithm designed to improve the stability and accuracy of machine learning algorithms used in statistical classification and regression. It also reduces variance and helps to avoid overfitting. Although it is usually applied to decision tree methods, it can be used with any type of method. Bagging is a special case of the model averaging approach.\n",
    "\n",
    " \n",
    "> **Boosting:**\n",
    "> Boosting is an ensemble meta-algorithm for primarily reducing bias and variance in supervised learning. Boosting is in the family of machine learning algorithms that convert weak learners to strong ones. A weak learner is defined to be a classifier that is only slightly correlated with the true classification (it can label examples better than random guessing). In contrast, a strong learner is a classifier that is arbitrarily well-correlated with the true classification."
   ]
  },
  {
   "cell_type": "code",
   "execution_count": 25,
   "id": "8a05ecba",
   "metadata": {
    "execution": {
     "iopub.execute_input": "2022-09-18T21:57:20.661990Z",
     "iopub.status.busy": "2022-09-18T21:57:20.661525Z",
     "iopub.status.idle": "2022-09-18T22:11:18.506209Z",
     "shell.execute_reply": "2022-09-18T22:11:18.504855Z"
    },
    "papermill": {
     "duration": 837.884698,
     "end_time": "2022-09-18T22:11:18.527816",
     "exception": false,
     "start_time": "2022-09-18T21:57:20.643118",
     "status": "completed"
    },
    "tags": []
   },
   "outputs": [
    {
     "data": {
      "text/plain": [
       "'GradientBoostingRegressor_bagged'"
      ]
     },
     "metadata": {},
     "output_type": "display_data"
    },
    {
     "data": {
      "text/plain": [
       "'GradientBoostingRegressor_boosted'"
      ]
     },
     "metadata": {},
     "output_type": "display_data"
    },
    {
     "data": {
      "text/plain": [
       "'HuberRegressor_bagged'"
      ]
     },
     "metadata": {},
     "output_type": "display_data"
    },
    {
     "data": {
      "text/plain": [
       "'HuberRegressor_boosted'"
      ]
     },
     "metadata": {},
     "output_type": "display_data"
    },
    {
     "data": {
      "text/plain": [
       "'Lasso_bagged'"
      ]
     },
     "metadata": {},
     "output_type": "display_data"
    },
    {
     "data": {
      "text/plain": [
       "'Lasso_boosted'"
      ]
     },
     "metadata": {},
     "output_type": "display_data"
    },
    {
     "name": "stdout",
     "output_type": "stream",
     "text": [
      "CPU times: user 5min 11s, sys: 1min 7s, total: 6min 18s\n",
      "Wall time: 13min 57s\n"
     ]
    }
   ],
   "source": [
    "%%time\n",
    "for name, model in models.copy().items():\n",
    "    try:    \n",
    "        if not f'{name}_bagged' in models and not '_bagged' in name:\n",
    "            models[f'{name}_bagged'] = ensemble_model(\n",
    "                models[name], \n",
    "                method       = \"Bagging\",\n",
    "                n_estimators = 10 if os.environ.get('KAGGLE_KERNEL_RUN_TYPE') == 'Batch' else 3, \n",
    "                optimize     ='mape',\n",
    "                verbose      = False,\n",
    "                choose_better = True,\n",
    "            )\n",
    "            display(f'{name}_bagged')  \n",
    "    except Exception as exception: print(f'{name}_bagged', 'Exception: ', exception)\n",
    "    try:\n",
    "        if not f'{name}_boosted' in models and not '_boosted' in name:\n",
    "            models[f'{name}_boosted'] = ensemble_model(\n",
    "                models[name], \n",
    "                method       = \"Boosting\",\n",
    "                n_estimators = 10 if os.environ.get('KAGGLE_KERNEL_RUN_TYPE') == 'Batch' else 3, \n",
    "                optimize     ='mape',\n",
    "                verbose      = False,\n",
    "                choose_better = True,            \n",
    "            )    \n",
    "            display(f'{name}_boosted')\n",
    "    except Exception as exception: print(f'{name}_boosted', 'Exception: ', exception)"
   ]
  },
  {
   "cell_type": "markdown",
   "id": "f61be24b",
   "metadata": {
    "papermill": {
     "duration": 0.017979,
     "end_time": "2022-09-18T22:11:18.563704",
     "exception": false,
     "start_time": "2022-09-18T22:11:18.545725",
     "status": "completed"
    },
    "tags": []
   },
   "source": [
    "# Blend Models\n",
    "\n",
    "- https://pycaret.gitbook.io/docs/get-started/functions/optimize#blend_models\n",
    "- https://pycaret.readthedocs.io/en/latest/api/classification.html?highlight=ensemble#pycaret.classification.blend_models\n",
    "\n",
    "\n",
    "> Blending models is a method of ensembling which uses consensus among estimators to generate final predictions. The idea behind blending is to combine different machine learning algorithms and use a majority vote or the average predicted probabilities in case of classification to predict the final outcome. Blending models in PyCaret is as simple as writing blend_models. This function can be used to blend specific trained models that can be passed using estimator_list parameter within blend_models or if no list is passed, it will use all the models in model library. In case of Classification, method parameter can be used to define ‘soft‘ or ‘hard‘ where soft uses predicted probabilities for voting and hard uses predicted labels. This functions returns a table with k-fold cross validated scores of common evaluation metrics along with trained model object. The evaluation metrics used are:\n",
    "\n",
    "> - Classification: Accuracy, AUC, Recall, Precision, F1, Kappa, MCC\n",
    "> - Regression: MAE, MSE, RMSE, R2, RMSLE, MAPE\n",
    "\n",
    "> The number of folds can be defined using fold parameter within blend_models function. By default, the fold is set to 10. All the metrics are rounded to 4 decimals by default by can be changed using round parameter within blend_models.\n",
    "\n",
    "> This function is only available in pycaret.classification and pycaret.regression modules."
   ]
  },
  {
   "cell_type": "code",
   "execution_count": 26,
   "id": "3a093a6d",
   "metadata": {
    "execution": {
     "iopub.execute_input": "2022-09-18T22:11:18.602688Z",
     "iopub.status.busy": "2022-09-18T22:11:18.602267Z",
     "iopub.status.idle": "2022-09-18T22:20:26.412611Z",
     "shell.execute_reply": "2022-09-18T22:20:26.411336Z"
    },
    "papermill": {
     "duration": 547.832973,
     "end_time": "2022-09-18T22:20:26.415017",
     "exception": false,
     "start_time": "2022-09-18T22:11:18.582044",
     "status": "completed"
    },
    "tags": []
   },
   "outputs": [
    {
     "data": {
      "text/html": [],
      "text/plain": [
       "<IPython.core.display.HTML object>"
      ]
     },
     "metadata": {},
     "output_type": "display_data"
    },
    {
     "data": {
      "text/html": [
       "<style type=\"text/css\">\n",
       "#T_5a817_row10_col0, #T_5a817_row10_col1, #T_5a817_row10_col2, #T_5a817_row10_col3, #T_5a817_row10_col4, #T_5a817_row10_col5 {\n",
       "  background: yellow;\n",
       "}\n",
       "</style>\n",
       "<table id=\"T_5a817_\">\n",
       "  <thead>\n",
       "    <tr>\n",
       "      <th class=\"blank level0\" >&nbsp;</th>\n",
       "      <th class=\"col_heading level0 col0\" >MAE</th>\n",
       "      <th class=\"col_heading level0 col1\" >MSE</th>\n",
       "      <th class=\"col_heading level0 col2\" >RMSE</th>\n",
       "      <th class=\"col_heading level0 col3\" >R2</th>\n",
       "      <th class=\"col_heading level0 col4\" >RMSLE</th>\n",
       "      <th class=\"col_heading level0 col5\" >MAPE</th>\n",
       "    </tr>\n",
       "    <tr>\n",
       "      <th class=\"index_name level0\" >Fold</th>\n",
       "      <th class=\"blank col0\" >&nbsp;</th>\n",
       "      <th class=\"blank col1\" >&nbsp;</th>\n",
       "      <th class=\"blank col2\" >&nbsp;</th>\n",
       "      <th class=\"blank col3\" >&nbsp;</th>\n",
       "      <th class=\"blank col4\" >&nbsp;</th>\n",
       "      <th class=\"blank col5\" >&nbsp;</th>\n",
       "    </tr>\n",
       "  </thead>\n",
       "  <tbody>\n",
       "    <tr>\n",
       "      <th id=\"T_5a817_level0_row0\" class=\"row_heading level0 row0\" >0</th>\n",
       "      <td id=\"T_5a817_row0_col0\" class=\"data row0 col0\" >38.2075</td>\n",
       "      <td id=\"T_5a817_row0_col1\" class=\"data row0 col1\" >3215.2723</td>\n",
       "      <td id=\"T_5a817_row0_col2\" class=\"data row0 col2\" >56.7034</td>\n",
       "      <td id=\"T_5a817_row0_col3\" class=\"data row0 col3\" >0.8042</td>\n",
       "      <td id=\"T_5a817_row0_col4\" class=\"data row0 col4\" >0.3636</td>\n",
       "      <td id=\"T_5a817_row0_col5\" class=\"data row0 col5\" >0.2254</td>\n",
       "    </tr>\n",
       "    <tr>\n",
       "      <th id=\"T_5a817_level0_row1\" class=\"row_heading level0 row1\" >1</th>\n",
       "      <td id=\"T_5a817_row1_col0\" class=\"data row1 col0\" >37.2557</td>\n",
       "      <td id=\"T_5a817_row1_col1\" class=\"data row1 col1\" >2948.1081</td>\n",
       "      <td id=\"T_5a817_row1_col2\" class=\"data row1 col2\" >54.2965</td>\n",
       "      <td id=\"T_5a817_row1_col3\" class=\"data row1 col3\" >0.8168</td>\n",
       "      <td id=\"T_5a817_row1_col4\" class=\"data row1 col4\" >0.3775</td>\n",
       "      <td id=\"T_5a817_row1_col5\" class=\"data row1 col5\" >0.2221</td>\n",
       "    </tr>\n",
       "    <tr>\n",
       "      <th id=\"T_5a817_level0_row2\" class=\"row_heading level0 row2\" >2</th>\n",
       "      <td id=\"T_5a817_row2_col0\" class=\"data row2 col0\" >37.9683</td>\n",
       "      <td id=\"T_5a817_row2_col1\" class=\"data row2 col1\" >3024.9771</td>\n",
       "      <td id=\"T_5a817_row2_col2\" class=\"data row2 col2\" >54.9998</td>\n",
       "      <td id=\"T_5a817_row2_col3\" class=\"data row2 col3\" >0.8145</td>\n",
       "      <td id=\"T_5a817_row2_col4\" class=\"data row2 col4\" >0.3870</td>\n",
       "      <td id=\"T_5a817_row2_col5\" class=\"data row2 col5\" >0.2247</td>\n",
       "    </tr>\n",
       "    <tr>\n",
       "      <th id=\"T_5a817_level0_row3\" class=\"row_heading level0 row3\" >3</th>\n",
       "      <td id=\"T_5a817_row3_col0\" class=\"data row3 col0\" >38.4791</td>\n",
       "      <td id=\"T_5a817_row3_col1\" class=\"data row3 col1\" >3207.1740</td>\n",
       "      <td id=\"T_5a817_row3_col2\" class=\"data row3 col2\" >56.6319</td>\n",
       "      <td id=\"T_5a817_row3_col3\" class=\"data row3 col3\" >0.8053</td>\n",
       "      <td id=\"T_5a817_row3_col4\" class=\"data row3 col4\" >0.3628</td>\n",
       "      <td id=\"T_5a817_row3_col5\" class=\"data row3 col5\" >0.2265</td>\n",
       "    </tr>\n",
       "    <tr>\n",
       "      <th id=\"T_5a817_level0_row4\" class=\"row_heading level0 row4\" >4</th>\n",
       "      <td id=\"T_5a817_row4_col0\" class=\"data row4 col0\" >37.3900</td>\n",
       "      <td id=\"T_5a817_row4_col1\" class=\"data row4 col1\" >3025.8112</td>\n",
       "      <td id=\"T_5a817_row4_col2\" class=\"data row4 col2\" >55.0074</td>\n",
       "      <td id=\"T_5a817_row4_col3\" class=\"data row4 col3\" >0.8123</td>\n",
       "      <td id=\"T_5a817_row4_col4\" class=\"data row4 col4\" >0.3981</td>\n",
       "      <td id=\"T_5a817_row4_col5\" class=\"data row4 col5\" >0.2261</td>\n",
       "    </tr>\n",
       "    <tr>\n",
       "      <th id=\"T_5a817_level0_row5\" class=\"row_heading level0 row5\" >5</th>\n",
       "      <td id=\"T_5a817_row5_col0\" class=\"data row5 col0\" >37.0273</td>\n",
       "      <td id=\"T_5a817_row5_col1\" class=\"data row5 col1\" >3028.4324</td>\n",
       "      <td id=\"T_5a817_row5_col2\" class=\"data row5 col2\" >55.0312</td>\n",
       "      <td id=\"T_5a817_row5_col3\" class=\"data row5 col3\" >0.8106</td>\n",
       "      <td id=\"T_5a817_row5_col4\" class=\"data row5 col4\" >0.3724</td>\n",
       "      <td id=\"T_5a817_row5_col5\" class=\"data row5 col5\" >0.2213</td>\n",
       "    </tr>\n",
       "    <tr>\n",
       "      <th id=\"T_5a817_level0_row6\" class=\"row_heading level0 row6\" >6</th>\n",
       "      <td id=\"T_5a817_row6_col0\" class=\"data row6 col0\" >38.8667</td>\n",
       "      <td id=\"T_5a817_row6_col1\" class=\"data row6 col1\" >3336.5410</td>\n",
       "      <td id=\"T_5a817_row6_col2\" class=\"data row6 col2\" >57.7628</td>\n",
       "      <td id=\"T_5a817_row6_col3\" class=\"data row6 col3\" >0.7969</td>\n",
       "      <td id=\"T_5a817_row6_col4\" class=\"data row6 col4\" >0.3714</td>\n",
       "      <td id=\"T_5a817_row6_col5\" class=\"data row6 col5\" >0.2293</td>\n",
       "    </tr>\n",
       "    <tr>\n",
       "      <th id=\"T_5a817_level0_row7\" class=\"row_heading level0 row7\" >7</th>\n",
       "      <td id=\"T_5a817_row7_col0\" class=\"data row7 col0\" >37.9102</td>\n",
       "      <td id=\"T_5a817_row7_col1\" class=\"data row7 col1\" >3078.8236</td>\n",
       "      <td id=\"T_5a817_row7_col2\" class=\"data row7 col2\" >55.4871</td>\n",
       "      <td id=\"T_5a817_row7_col3\" class=\"data row7 col3\" >0.8071</td>\n",
       "      <td id=\"T_5a817_row7_col4\" class=\"data row7 col4\" >0.3722</td>\n",
       "      <td id=\"T_5a817_row7_col5\" class=\"data row7 col5\" >0.2284</td>\n",
       "    </tr>\n",
       "    <tr>\n",
       "      <th id=\"T_5a817_level0_row8\" class=\"row_heading level0 row8\" >8</th>\n",
       "      <td id=\"T_5a817_row8_col0\" class=\"data row8 col0\" >38.0418</td>\n",
       "      <td id=\"T_5a817_row8_col1\" class=\"data row8 col1\" >3091.5580</td>\n",
       "      <td id=\"T_5a817_row8_col2\" class=\"data row8 col2\" >55.6018</td>\n",
       "      <td id=\"T_5a817_row8_col3\" class=\"data row8 col3\" >0.8082</td>\n",
       "      <td id=\"T_5a817_row8_col4\" class=\"data row8 col4\" >0.3572</td>\n",
       "      <td id=\"T_5a817_row8_col5\" class=\"data row8 col5\" >0.2259</td>\n",
       "    </tr>\n",
       "    <tr>\n",
       "      <th id=\"T_5a817_level0_row9\" class=\"row_heading level0 row9\" >9</th>\n",
       "      <td id=\"T_5a817_row9_col0\" class=\"data row9 col0\" >37.8517</td>\n",
       "      <td id=\"T_5a817_row9_col1\" class=\"data row9 col1\" >2991.9223</td>\n",
       "      <td id=\"T_5a817_row9_col2\" class=\"data row9 col2\" >54.6985</td>\n",
       "      <td id=\"T_5a817_row9_col3\" class=\"data row9 col3\" >0.8161</td>\n",
       "      <td id=\"T_5a817_row9_col4\" class=\"data row9 col4\" >0.3829</td>\n",
       "      <td id=\"T_5a817_row9_col5\" class=\"data row9 col5\" >0.2271</td>\n",
       "    </tr>\n",
       "    <tr>\n",
       "      <th id=\"T_5a817_level0_row10\" class=\"row_heading level0 row10\" >Mean</th>\n",
       "      <td id=\"T_5a817_row10_col0\" class=\"data row10 col0\" >37.8998</td>\n",
       "      <td id=\"T_5a817_row10_col1\" class=\"data row10 col1\" >3094.8620</td>\n",
       "      <td id=\"T_5a817_row10_col2\" class=\"data row10 col2\" >55.6220</td>\n",
       "      <td id=\"T_5a817_row10_col3\" class=\"data row10 col3\" >0.8092</td>\n",
       "      <td id=\"T_5a817_row10_col4\" class=\"data row10 col4\" >0.3745</td>\n",
       "      <td id=\"T_5a817_row10_col5\" class=\"data row10 col5\" >0.2257</td>\n",
       "    </tr>\n",
       "    <tr>\n",
       "      <th id=\"T_5a817_level0_row11\" class=\"row_heading level0 row11\" >Std</th>\n",
       "      <td id=\"T_5a817_row11_col0\" class=\"data row11 col0\" >0.5318</td>\n",
       "      <td id=\"T_5a817_row11_col1\" class=\"data row11 col1\" >114.8859</td>\n",
       "      <td id=\"T_5a817_row11_col2\" class=\"data row11 col2\" >1.0254</td>\n",
       "      <td id=\"T_5a817_row11_col3\" class=\"data row11 col3\" >0.0058</td>\n",
       "      <td id=\"T_5a817_row11_col4\" class=\"data row11 col4\" >0.0117</td>\n",
       "      <td id=\"T_5a817_row11_col5\" class=\"data row11 col5\" >0.0024</td>\n",
       "    </tr>\n",
       "  </tbody>\n",
       "</table>\n"
      ],
      "text/plain": [
       "<pandas.io.formats.style.Styler at 0x7f54228bd510>"
      ]
     },
     "metadata": {},
     "output_type": "display_data"
    },
    {
     "data": {
      "application/vnd.jupyter.widget-view+json": {
       "model_id": "0b62b280608c4b1db5a3d537b1294ffd",
       "version_major": 2,
       "version_minor": 0
      },
      "text/plain": [
       "Processing:   0%|          | 0/6 [00:00<?, ?it/s]"
      ]
     },
     "metadata": {},
     "output_type": "display_data"
    },
    {
     "data": {
      "text/plain": [
       "VotingRegressor(estimators=[('Gradient Boosting Regressor',\n",
       "                             GradientBoostingRegressor(learning_rate=0.04264031156015375,\n",
       "                                                       max_features=0.7588282465072769,\n",
       "                                                       min_impurity_decrease=0.00962114482009193,\n",
       "                                                       min_samples_leaf=3,\n",
       "                                                       min_samples_split=3,\n",
       "                                                       n_estimators=229,\n",
       "                                                       random_state=42,\n",
       "                                                       subsample=0.8981042826479537,\n",
       "                                                       verbose=False)),\n",
       "                            ('Huber Regressor',\n",
       "                             HuberRegressor(alpha=0.8...\n",
       "                                                                            epsilon=1.1718715613965607),\n",
       "                                              random_state=42)),\n",
       "                            ('Huber Regressor_2',\n",
       "                             HuberRegressor(alpha=0.8123959882948841,\n",
       "                                            epsilon=1.1718715613965607)),\n",
       "                            ('Lasso Regression_1',\n",
       "                             BaggingRegressor(base_estimator=Lasso(alpha=0.037299442240177526,\n",
       "                                                                   normalize=True,\n",
       "                                                                   random_state=42),\n",
       "                                              random_state=42)),\n",
       "                            ('Lasso Regression_2',\n",
       "                             Lasso(alpha=0.037299442240177526, normalize=True,\n",
       "                                   random_state=42))],\n",
       "                n_jobs=-1)"
      ]
     },
     "metadata": {},
     "output_type": "display_data"
    },
    {
     "name": "stdout",
     "output_type": "stream",
     "text": [
      "CPU times: user 2.57 s, sys: 83.2 ms, total: 2.65 s\n",
      "Wall time: 9min 7s\n"
     ]
    }
   ],
   "source": [
    "%%time\n",
    "try:  \n",
    "    models['blender'] = blend_models(\n",
    "        optimize='mape', \n",
    "        estimator_list=list(models.values()),     \n",
    "        fold = 10 if os.environ.get('KAGGLE_KERNEL_RUN_TYPE') == 'Batch' else 3, \n",
    "        # choose_better = True,        \n",
    "        # verbose=False,\n",
    "    )\n",
    "    display( models['blender'] )\n",
    "except Exception as exception: print('blender', 'Exception', exception)"
   ]
  },
  {
   "cell_type": "markdown",
   "id": "40323e18",
   "metadata": {
    "papermill": {
     "duration": 0.018443,
     "end_time": "2022-09-18T22:20:26.452245",
     "exception": false,
     "start_time": "2022-09-18T22:20:26.433802",
     "status": "completed"
    },
    "tags": []
   },
   "source": [
    "# 8. Stack Models\n",
    "\n",
    "- https://pycaret.gitbook.io/docs/get-started/functions/optimize#stack_models\n",
    "- https://pycaret.readthedocs.io/en/latest/api/classification.html?highlight=stack_models#pycaret.classification.stack_models\n",
    "\n",
    "> Stacking models is method of ensembling that uses meta learning. The idea behind stacking is to build a meta model that generates the final prediction using the prediction of multiple base estimators. Stacking models in PyCaret is as simple as writing stack_models. This function takes a list of trained models using estimator_list parameter. All these models form the base layer of stacking and their predictions are used as an input for a meta model that can be passed using meta_model parameter. If no meta model is passed, a linear model is used by default. In case of Classification, method parameter can be used to define ‘soft‘ or ‘hard‘ where soft uses predicted probabilities for voting and hard uses predicted labels. This function returns a table with k-fold cross validated scores of common evaluation metrics along with trained model object. The evaluation metrics used are:\n",
    "\n",
    "> - Classification: Accuracy, AUC, Recall, Precision, F1, Kappa, MCC\n",
    "> - Regression: MAE, MSE, RMSE, R2, RMSLE, MAPE\n",
    "\n",
    "> The number of folds can be defined using fold parameter within stack_models function. By default, the fold is set to 10. All the metrics are rounded to 4 decimals by default by can be changed using round parameter within stack_models. restack parameter controls the ability to expose the raw data to meta model. By default, it is set to True. When changed to False, meta-model will only use predictions of base models to generate final predictions.\n",
    "\n",
    " \n",
    "> **Multiple Layer Stacking**\n",
    "> Base models can be in a single layer or in multiple layers in which case the predictions from each preceding layer is passed to the next layer as an input until it reaches meta-model where predictions from all the layers including base layer is used as an input to generate final prediction. To stack models in multiple layers, create_stacknet function accepts estimator_list parameters as a list within list. All other parameters are the same. See the below regression example use of the create_stacknet function.\n",
    "\n",
    "> This function is only available in pycaret.classification and pycaret.regression modules."
   ]
  },
  {
   "cell_type": "code",
   "execution_count": 27,
   "id": "8eebd696",
   "metadata": {
    "execution": {
     "iopub.execute_input": "2022-09-18T22:20:26.492059Z",
     "iopub.status.busy": "2022-09-18T22:20:26.491470Z",
     "iopub.status.idle": "2022-09-18T22:20:26.496979Z",
     "shell.execute_reply": "2022-09-18T22:20:26.495771Z"
    },
    "jupyter": {
     "source_hidden": true
    },
    "papermill": {
     "duration": 0.028317,
     "end_time": "2022-09-18T22:20:26.499409",
     "exception": false,
     "start_time": "2022-09-18T22:20:26.471092",
     "status": "completed"
    },
    "tags": []
   },
   "outputs": [],
   "source": [
    "# %%time\n",
    "# try:\n",
    "#     models['stacker'] = stack_models(\n",
    "#         optimize='AUC',         \n",
    "#         estimator_list=list(models.values()),     \n",
    "#         fold = 10 if os.environ.get('KAGGLE_KERNEL_RUN_TYPE') == 'Batch' else 3,         \n",
    "#         # choose_better = True,        \n",
    "#         # verbose=False,\n",
    "#     )\n",
    "#     display(models['stacker'])\n",
    "# except Exception as exception: \n",
    "#     print('stacker', 'Exception', exception)\n",
    "#     pass"
   ]
  },
  {
   "cell_type": "markdown",
   "id": "2b3d3689",
   "metadata": {
    "papermill": {
     "duration": 0.019405,
     "end_time": "2022-09-18T22:20:26.538406",
     "exception": false,
     "start_time": "2022-09-18T22:20:26.519001",
     "status": "completed"
    },
    "tags": []
   },
   "source": [
    "# Leaderboard\n",
    "> This function returns the leaderboard of all models trained in the current setup\n",
    "- https://pycaret.readthedocs.io/en/latest/api/classification.html#pycaret.classification.get_leaderboard"
   ]
  },
  {
   "cell_type": "code",
   "execution_count": 28,
   "id": "acfb43a3",
   "metadata": {
    "execution": {
     "iopub.execute_input": "2022-09-18T22:20:26.578886Z",
     "iopub.status.busy": "2022-09-18T22:20:26.578454Z",
     "iopub.status.idle": "2022-09-18T22:25:52.293770Z",
     "shell.execute_reply": "2022-09-18T22:25:52.292466Z"
    },
    "papermill": {
     "duration": 325.739269,
     "end_time": "2022-09-18T22:25:52.296990",
     "exception": false,
     "start_time": "2022-09-18T22:20:26.557721",
     "status": "completed"
    },
    "tags": []
   },
   "outputs": [
    {
     "data": {
      "text/html": [
       "<div>\n",
       "<style scoped>\n",
       "    .dataframe tbody tr th:only-of-type {\n",
       "        vertical-align: middle;\n",
       "    }\n",
       "\n",
       "    .dataframe tbody tr th {\n",
       "        vertical-align: top;\n",
       "    }\n",
       "\n",
       "    .dataframe thead th {\n",
       "        text-align: right;\n",
       "    }\n",
       "</style>\n",
       "<table border=\"1\" class=\"dataframe\">\n",
       "  <thead>\n",
       "    <tr style=\"text-align: right;\">\n",
       "      <th></th>\n",
       "      <th></th>\n",
       "      <th></th>\n",
       "    </tr>\n",
       "    <tr>\n",
       "      <th></th>\n",
       "      <th></th>\n",
       "      <th></th>\n",
       "    </tr>\n",
       "  </thead>\n",
       "  <tbody>\n",
       "    <tr>\n",
       "      <th>Initiated</th>\n",
       "      <td>. . . . . . . . . . . . . . . . . .</td>\n",
       "      <td>22:20:26</td>\n",
       "    </tr>\n",
       "    <tr>\n",
       "      <th>Status</th>\n",
       "      <td>. . . . . . . . . . . . . . . . . .</td>\n",
       "      <td>Creating dataframe</td>\n",
       "    </tr>\n",
       "    <tr>\n",
       "      <th>Estimator</th>\n",
       "      <td>. . . . . . . . . . . . . . . . . .</td>\n",
       "      <td>Voting Regressor</td>\n",
       "    </tr>\n",
       "  </tbody>\n",
       "</table>\n",
       "</div>"
      ],
      "text/plain": [
       "                                                                  \n",
       "                                                                  \n",
       "Initiated  . . . . . . . . . . . . . . . . . .            22:20:26\n",
       "Status     . . . . . . . . . . . . . . . . . .  Creating dataframe\n",
       "Estimator  . . . . . . . . . . . . . . . . . .    Voting Regressor"
      ]
     },
     "metadata": {},
     "output_type": "display_data"
    },
    {
     "data": {
      "text/html": [],
      "text/plain": [
       "<IPython.core.display.HTML object>"
      ]
     },
     "metadata": {},
     "output_type": "display_data"
    },
    {
     "data": {
      "application/vnd.jupyter.widget-view+json": {
       "model_id": "3e7f8ab14fc145cba7f02e55cd2dbbe0",
       "version_major": 2,
       "version_minor": 0
      },
      "text/plain": [
       "Processing:   0%|          | 0/40 [00:00<?, ?it/s]"
      ]
     },
     "metadata": {},
     "output_type": "display_data"
    }
   ],
   "source": [
    "try:   get_leaderboard()\n",
    "except Exception as exception: print('get_leaderboard()', 'Exception', exception)"
   ]
  },
  {
   "cell_type": "markdown",
   "id": "9b5939f5",
   "metadata": {
    "papermill": {
     "duration": 0.018911,
     "end_time": "2022-09-18T22:25:52.336753",
     "exception": false,
     "start_time": "2022-09-18T22:25:52.317842",
     "status": "completed"
    },
    "tags": []
   },
   "source": [
    "# AutoML()\n",
    "\n",
    "- https://pycaret.gitbook.io/docs/get-started/functions/others#automl\n",
    "\n",
    "> This function returns the best model out of all models created in the current active environment based on metric defined in optimize parameter. Run this code at the end of  your script.\n",
    "\n",
    "\n"
   ]
  },
  {
   "cell_type": "code",
   "execution_count": 29,
   "id": "5700d09c",
   "metadata": {
    "execution": {
     "iopub.execute_input": "2022-09-18T22:25:52.462225Z",
     "iopub.status.busy": "2022-09-18T22:25:52.461762Z",
     "iopub.status.idle": "2022-09-18T22:27:01.765780Z",
     "shell.execute_reply": "2022-09-18T22:27:01.764265Z"
    },
    "papermill": {
     "duration": 69.429654,
     "end_time": "2022-09-18T22:27:01.785721",
     "exception": false,
     "start_time": "2022-09-18T22:25:52.356067",
     "status": "completed"
    },
    "tags": []
   },
   "outputs": [
    {
     "name": "stdout",
     "output_type": "stream",
     "text": [
      "CPU times: user 1min 9s, sys: 18.1 ms, total: 1min 9s\n",
      "Wall time: 1min 9s\n"
     ]
    },
    {
     "data": {
      "text/plain": [
       "AdaBoostRegressor(base_estimator=GradientBoostingRegressor(learning_rate=0.04264031156015375,\n",
       "                                                           max_features=0.7588282465072769,\n",
       "                                                           min_impurity_decrease=0.00962114482009193,\n",
       "                                                           min_samples_leaf=3,\n",
       "                                                           min_samples_split=3,\n",
       "                                                           n_estimators=229,\n",
       "                                                           random_state=42,\n",
       "                                                           subsample=0.8981042826479537,\n",
       "                                                           verbose=False),\n",
       "                  n_estimators=10, random_state=42)"
      ]
     },
     "execution_count": 29,
     "metadata": {},
     "output_type": "execute_result"
    }
   ],
   "source": [
    "%%time\n",
    "automl(optimize='mape')"
   ]
  },
  {
   "cell_type": "code",
   "execution_count": 30,
   "id": "ca3898d3",
   "metadata": {
    "execution": {
     "iopub.execute_input": "2022-09-18T22:27:01.827943Z",
     "iopub.status.busy": "2022-09-18T22:27:01.827420Z",
     "iopub.status.idle": "2022-09-18T22:27:01.874667Z",
     "shell.execute_reply": "2022-09-18T22:27:01.873382Z"
    },
    "papermill": {
     "duration": 0.071398,
     "end_time": "2022-09-18T22:27:01.877438",
     "exception": false,
     "start_time": "2022-09-18T22:27:01.806040",
     "status": "completed"
    },
    "tags": []
   },
   "outputs": [
    {
     "name": "stdout",
     "output_type": "stream",
     "text": [
      "CPU times: user 20 µs, sys: 0 ns, total: 20 µs\n",
      "Wall time: 25.5 µs\n"
     ]
    },
    {
     "data": {
      "text/plain": [
       "VotingRegressor(estimators=[('Gradient Boosting Regressor',\n",
       "                             GradientBoostingRegressor(learning_rate=0.04264031156015375,\n",
       "                                                       max_features=0.7588282465072769,\n",
       "                                                       min_impurity_decrease=0.00962114482009193,\n",
       "                                                       min_samples_leaf=3,\n",
       "                                                       min_samples_split=3,\n",
       "                                                       n_estimators=229,\n",
       "                                                       random_state=42,\n",
       "                                                       subsample=0.8981042826479537,\n",
       "                                                       verbose=False)),\n",
       "                            ('Huber Regressor',\n",
       "                             HuberRegressor(alpha=0.8...\n",
       "                                                                            epsilon=1.1718715613965607),\n",
       "                                              random_state=42)),\n",
       "                            ('Huber Regressor_2',\n",
       "                             HuberRegressor(alpha=0.8123959882948841,\n",
       "                                            epsilon=1.1718715613965607)),\n",
       "                            ('Lasso Regression_1',\n",
       "                             BaggingRegressor(base_estimator=Lasso(alpha=0.037299442240177526,\n",
       "                                                                   normalize=True,\n",
       "                                                                   random_state=42),\n",
       "                                              random_state=42)),\n",
       "                            ('Lasso Regression_2',\n",
       "                             Lasso(alpha=0.037299442240177526, normalize=True,\n",
       "                                   random_state=42))],\n",
       "                n_jobs=-1)"
      ]
     },
     "execution_count": 30,
     "metadata": {},
     "output_type": "execute_result"
    }
   ],
   "source": [
    "%%time\n",
    "# models['best'] = models['best::original'] = automl(optimize='mape')\n",
    "models['best'] = models['best::original'] = models['blender']  # Hardcode voting classifier\n",
    "models['best']"
   ]
  },
  {
   "cell_type": "markdown",
   "id": "ff7e6c04",
   "metadata": {
    "papermill": {
     "duration": 0.019336,
     "end_time": "2022-09-18T22:27:01.916651",
     "exception": false,
     "start_time": "2022-09-18T22:27:01.897315",
     "status": "completed"
    },
    "tags": []
   },
   "source": [
    "# optimize_threshold()\n",
    "\n",
    "> This function optimizes the probability threshold for a trained model. It iterates over performance metrics at different probability_threshold with a step size defined in grid_interval parameter. This function will display a plot of the performance metrics at each probability threshold and returns the best model based on the metric defined under optimize parameter.\n",
    "- https://pycaret.gitbook.io/docs/get-started/functions/optimize#optimize_threshold\n",
    "- https://pycaret.readthedocs.io/en/latest/api/classification.html?highlight=optimize_threshold#pycaret.classification.optimize_threshold\n",
    "- https://towardsdatascience.com/5-things-you-dont-know-about-pycaret-528db0436eec\n",
    "\n",
    "NOTE: optimize_threshold() is not defined for regression"
   ]
  },
  {
   "cell_type": "code",
   "execution_count": 31,
   "id": "861707bf",
   "metadata": {
    "execution": {
     "iopub.execute_input": "2022-09-18T22:27:01.958252Z",
     "iopub.status.busy": "2022-09-18T22:27:01.957692Z",
     "iopub.status.idle": "2022-09-18T22:27:01.962936Z",
     "shell.execute_reply": "2022-09-18T22:27:01.961558Z"
    },
    "papermill": {
     "duration": 0.029308,
     "end_time": "2022-09-18T22:27:01.965657",
     "exception": false,
     "start_time": "2022-09-18T22:27:01.936349",
     "status": "completed"
    },
    "tags": []
   },
   "outputs": [],
   "source": [
    "# %%time\n",
    "# models['best'] = models[f'best::threshold'] = optimize_threshold(models[f'best'], optimize='mape')\n",
    "# models['best']"
   ]
  },
  {
   "cell_type": "markdown",
   "id": "95a0c671",
   "metadata": {
    "papermill": {
     "duration": 0.019954,
     "end_time": "2022-09-18T22:27:02.006028",
     "exception": false,
     "start_time": "2022-09-18T22:27:01.986074",
     "status": "completed"
    },
    "tags": []
   },
   "source": [
    "# calibrate_model()\n",
    "> This function calibrates the probability of a given model using isotonic or logistic regression. The output of this function is a scoring grid with CV scores by fold. Metrics evaluated during CV can be accessed using the get_metrics function. Custom metrics can be added or removed using add_metric and remove_metric function.\n",
    "- https://pycaret.gitbook.io/docs/get-started/functions/optimize#calibrate_model\n",
    "- https://pycaret.readthedocs.io/en/latest/api/classification.html?highlight=calibrate_model#pycaret.classification.calibrate_model#\n",
    "\n",
    "NOTE: calibrate_model() not defined for regression"
   ]
  },
  {
   "cell_type": "code",
   "execution_count": 32,
   "id": "d43279f9",
   "metadata": {
    "execution": {
     "iopub.execute_input": "2022-09-18T22:27:02.047388Z",
     "iopub.status.busy": "2022-09-18T22:27:02.046939Z",
     "iopub.status.idle": "2022-09-18T22:27:02.052493Z",
     "shell.execute_reply": "2022-09-18T22:27:02.051240Z"
    },
    "jupyter": {
     "source_hidden": true
    },
    "papermill": {
     "duration": 0.02871,
     "end_time": "2022-09-18T22:27:02.054763",
     "exception": false,
     "start_time": "2022-09-18T22:27:02.026053",
     "status": "completed"
    },
    "tags": []
   },
   "outputs": [],
   "source": [
    "# %%time\n",
    "# models['best'] = models[f'best::calibrated'] = calibrate_model(models[f'best'])\n",
    "# models['best']"
   ]
  },
  {
   "cell_type": "code",
   "execution_count": 33,
   "id": "79843cef",
   "metadata": {
    "execution": {
     "iopub.execute_input": "2022-09-18T22:27:02.098584Z",
     "iopub.status.busy": "2022-09-18T22:27:02.097004Z",
     "iopub.status.idle": "2022-09-18T22:27:02.102954Z",
     "shell.execute_reply": "2022-09-18T22:27:02.101841Z"
    },
    "jupyter": {
     "source_hidden": true
    },
    "papermill": {
     "duration": 0.02969,
     "end_time": "2022-09-18T22:27:02.105253",
     "exception": false,
     "start_time": "2022-09-18T22:27:02.075563",
     "status": "completed"
    },
    "tags": []
   },
   "outputs": [],
   "source": [
    "# try: \n",
    "#     print('original');   plot_model(models['best::original'],   plot='calibration', scale=0.5)\n",
    "#     print('calibrated'); plot_model(models['best::calibrated'], plot='calibration', scale=0.5)\n",
    "# except Exception as exception: print('plot_model()', 'Exception', exception)"
   ]
  },
  {
   "cell_type": "markdown",
   "id": "1ca24deb",
   "metadata": {
    "papermill": {
     "duration": 0.019495,
     "end_time": "2022-09-18T22:27:02.145343",
     "exception": false,
     "start_time": "2022-09-18T22:27:02.125848",
     "status": "completed"
    },
    "tags": []
   },
   "source": [
    "# finalize_model()\n",
    "\n",
    "> This function trains a given estimator on the entire dataset including the holdout set.\n",
    "\n",
    "- https://pycaret.readthedocs.io/en/latest/api/classification.html?highlight=calibrate_model#pycaret.classification.finalize_model"
   ]
  },
  {
   "cell_type": "code",
   "execution_count": 34,
   "id": "c620ff76",
   "metadata": {
    "execution": {
     "iopub.execute_input": "2022-09-18T22:27:02.187875Z",
     "iopub.status.busy": "2022-09-18T22:27:02.187422Z",
     "iopub.status.idle": "2022-09-18T22:28:58.951340Z",
     "shell.execute_reply": "2022-09-18T22:28:58.950144Z"
    },
    "papermill": {
     "duration": 116.810253,
     "end_time": "2022-09-18T22:28:58.975652",
     "exception": false,
     "start_time": "2022-09-18T22:27:02.165399",
     "status": "completed"
    },
    "tags": []
   },
   "outputs": [
    {
     "name": "stdout",
     "output_type": "stream",
     "text": [
      "CPU times: user 10.8 s, sys: 557 ms, total: 11.4 s\n",
      "Wall time: 1min 56s\n"
     ]
    },
    {
     "data": {
      "text/plain": [
       "Pipeline(memory=Memory(location=/tmp/joblib),\n",
       "         steps=[('date_feature_extractor',\n",
       "                 TransformerWrapper(include=['date'],\n",
       "                                    transformer=ExtractDateTimeFeatures())),\n",
       "                ('numerical_imputer',\n",
       "                 TransformerWrapper(include=[], transformer=SimpleImputer())),\n",
       "                ('categorical_imputer',\n",
       "                 TransformerWrapper(include=['country', 'store', 'product'],\n",
       "                                    transformer=SimpleImputer(fill_valu...\n",
       "                                                                                             epsilon=1.1718715613965607),\n",
       "                                                               random_state=42)),\n",
       "                                             ('Huber Regressor_2',\n",
       "                                              HuberRegressor(alpha=0.8123959882948841,\n",
       "                                                             epsilon=1.1718715613965607)),\n",
       "                                             ('Lasso Regression_1',\n",
       "                                              BaggingRegressor(base_estimator=Lasso(alpha=0.037299442240177526,\n",
       "                                                                                    normalize=True,\n",
       "                                                                                    random_state=42),\n",
       "                                                               random_state=42)),\n",
       "                                             ('Lasso Regression_2',\n",
       "                                              Lasso(alpha=0.037299442240177526,\n",
       "                                                    normalize=True,\n",
       "                                                    random_state=42))],\n",
       "                                 n_jobs=-1))])"
      ]
     },
     "execution_count": 34,
     "metadata": {},
     "output_type": "execute_result"
    }
   ],
   "source": [
    "%%time\n",
    "models['best'] = finalize_model(models[f'best'])\n",
    "models['best']"
   ]
  },
  {
   "cell_type": "markdown",
   "id": "4a8553c6",
   "metadata": {
    "papermill": {
     "duration": 0.020089,
     "end_time": "2022-09-18T22:28:59.016642",
     "exception": false,
     "start_time": "2022-09-18T22:28:58.996553",
     "status": "completed"
    },
    "tags": []
   },
   "source": [
    "# Plot Model\n",
    "\n",
    "- https://pycaret.gitbook.io/docs/get-started/functions/analyze#plot_model\n",
    "- https://pycaret.readthedocs.io/en/latest/api/classification.html?highlight=calibration#pycaret.classification.plot_model\n",
    "\n",
    "> Analyzing performance of trained machine learning model is an integral step in any machine learning workflow. Analyzing model performance in PyCaret is as simple as writing plot_model. The function takes trained model object and type of plot as string within plot_model function.\n",
    "\n",
    "| Name\t| Plot |\n",
    "|:-------|------:|\n",
    "| Area Under the Curve\t| ‘auc’ | \n",
    "| Discrimination Threshold\t| ‘threshold’ |\n",
    "| Precision Recall Curve\t| ‘pr’ |\n",
    "| Confusion Matrix\t| ‘confusion_matrix’ |\n",
    "| Class Prediction Error\t| ‘error’ |\n",
    "| Classification Report\t| ‘class_report’ |\n",
    "| Decision Boundary\t| ‘boundary’ |\n",
    "| Recursive Feature Selection\t| ‘rfe’ |\n",
    "| Learning Curve\t| ‘learning’ |\n",
    "| Manifold Learning\t| ‘manifold’ |\n",
    "| Calibration Curve\t| ‘calibration’ |\n",
    "| Validation Curve\t| ‘vc’ |\n",
    "| Dimension Learning\t| ‘dimension’ |\n",
    "| Feature Importance\t| ‘feature’ |\n",
    "| Model Hyperparameter\t| ‘parameter’ |"
   ]
  },
  {
   "cell_type": "code",
   "execution_count": 35,
   "id": "b5b82115",
   "metadata": {
    "execution": {
     "iopub.execute_input": "2022-09-18T22:28:59.059587Z",
     "iopub.status.busy": "2022-09-18T22:28:59.058887Z",
     "iopub.status.idle": "2022-09-18T23:26:28.295794Z",
     "shell.execute_reply": "2022-09-18T23:26:28.294455Z"
    },
    "papermill": {
     "duration": 3449.261875,
     "end_time": "2022-09-18T23:26:28.298600",
     "exception": false,
     "start_time": "2022-09-18T22:28:59.036725",
     "status": "completed"
    },
    "tags": []
   },
   "outputs": [
    {
     "name": "stdout",
     "output_type": "stream",
     "text": [
      "error\n"
     ]
    },
    {
     "data": {
      "text/html": [],
      "text/plain": [
       "<IPython.core.display.HTML object>"
      ]
     },
     "metadata": {},
     "output_type": "display_data"
    },
    {
     "data": {
      "image/png": "[encoded data removed]",
      "text/plain": [
       "<Figure size 864x576 with 1 Axes>"
      ]
     },
     "metadata": {
      "needs_background": "light"
     },
     "output_type": "display_data"
    },
    {
     "name": "stdout",
     "output_type": "stream",
     "text": [
      "8.6s\n",
      "learning\n"
     ]
    },
    {
     "data": {
      "text/html": [],
      "text/plain": [
       "<IPython.core.display.HTML object>"
      ]
     },
     "metadata": {},
     "output_type": "display_data"
    },
    {
     "data": {
      "image/png": "[encoded data removed]",
      "text/plain": [
       "<Figure size 864x576 with 1 Axes>"
      ]
     },
     "metadata": {
      "needs_background": "light"
     },
     "output_type": "display_data"
    },
    {
     "name": "stdout",
     "output_type": "stream",
     "text": [
      "3106.5s\n",
      "manifold\n"
     ]
    },
    {
     "data": {
      "text/html": [],
      "text/plain": [
       "<IPython.core.display.HTML object>"
      ]
     },
     "metadata": {},
     "output_type": "display_data"
    },
    {
     "data": {
      "image/png": "[encoded data removed]",
      "text/plain": [
       "<Figure size 864x576 with 2 Axes>"
      ]
     },
     "metadata": {
      "needs_background": "light"
     },
     "output_type": "display_data"
    },
    {
     "name": "stdout",
     "output_type": "stream",
     "text": [
      "334.0s\n",
      "CPU times: user 17min 41s, sys: 17.4 s, total: 17min 59s\n",
      "Wall time: 57min 29s\n"
     ]
    }
   ],
   "source": [
    "%%time\n",
    "import time\n",
    "\n",
    "regression_plots = [\n",
    "    'error',          # FAST = 4.5s\n",
    "    'learning',       # SLOW = 107s\n",
    "    'manifold',       # SLOW = 334.3s\n",
    "]\n",
    "categorical_plots = [\n",
    "    'auc', \n",
    "    'threshold', \n",
    "    'pr', \n",
    "    'confusion_matrix',     \n",
    "    'class_report', \n",
    "    'boundary', \n",
    "    'rfe',    \n",
    "    'calibration', \n",
    "    'vc',             # SLOW \n",
    "    'dimension', \n",
    "    'feature', \n",
    "    'parameter'    \n",
    "]\n",
    "timings = {}\n",
    "# plots = (fast_plots + slow_plots + categorical_plots) if os.environ.get('KAGGLE_KERNEL_RUN_TYPE') == 'Batch' else fast_plots\n",
    "plots = regression_plots\n",
    "for plot in plots:\n",
    "    try:\n",
    "        time_start = time.perf_counter()\n",
    "        print(plot)\n",
    "        plot_model(\n",
    "            models['best'], \n",
    "            plot  = plot,\n",
    "            scale = 2 if plot not in ['calibration'] else 1\n",
    "        )\n",
    "        time_taken = time.perf_counter() - time_start\n",
    "        timings[plot] = time_taken\n",
    "        print(f'{time_taken:.1f}s')        \n",
    "    except: pass"
   ]
  },
  {
   "cell_type": "code",
   "execution_count": 36,
   "id": "715d8c54",
   "metadata": {
    "execution": {
     "iopub.execute_input": "2022-09-18T23:26:28.362854Z",
     "iopub.status.busy": "2022-09-18T23:26:28.361446Z",
     "iopub.status.idle": "2022-09-18T23:26:28.367093Z",
     "shell.execute_reply": "2022-09-18T23:26:28.365740Z"
    },
    "jupyter": {
     "source_hidden": true
    },
    "papermill": {
     "duration": 0.039894,
     "end_time": "2022-09-18T23:26:28.369537",
     "exception": false,
     "start_time": "2022-09-18T23:26:28.329643",
     "status": "completed"
    },
    "tags": []
   },
   "outputs": [],
   "source": [
    "# try:    pd.DataFrame([timings]).sort_values()\n",
    "# except: pass"
   ]
  },
  {
   "cell_type": "markdown",
   "id": "ebcbe91a",
   "metadata": {
    "papermill": {
     "duration": 0.029013,
     "end_time": "2022-09-18T23:26:28.427990",
     "exception": false,
     "start_time": "2022-09-18T23:26:28.398977",
     "status": "completed"
    },
    "tags": []
   },
   "source": [
    "# evaluate_model()\n",
    "> This function displays a user interface for analyzing performance of a trained model. It calls the plot_model function internally.\n",
    "\n",
    "- https://pycaret.readthedocs.io/en/latest/api/clustering.html?highlight=evaluate_model#pycaret.clustering.evaluate_model"
   ]
  },
  {
   "cell_type": "code",
   "execution_count": 37,
   "id": "ab64d3f7",
   "metadata": {
    "execution": {
     "iopub.execute_input": "2022-09-18T23:26:28.489185Z",
     "iopub.status.busy": "2022-09-18T23:26:28.488386Z",
     "iopub.status.idle": "2022-09-18T23:26:29.716372Z",
     "shell.execute_reply": "2022-09-18T23:26:29.714875Z"
    },
    "papermill": {
     "duration": 1.261989,
     "end_time": "2022-09-18T23:26:29.719614",
     "exception": false,
     "start_time": "2022-09-18T23:26:28.457625",
     "status": "completed"
    },
    "tags": []
   },
   "outputs": [
    {
     "data": {
      "application/vnd.jupyter.widget-view+json": {
       "model_id": "5992ee42bb214ff6abc3ab5ed104bbb8",
       "version_major": 2,
       "version_minor": 0
      },
      "text/plain": [
       "interactive(children=(ToggleButtons(description='Plot Type:', icons=('',), options=(('Pipeline Plot', 'pipelin…"
      ]
     },
     "metadata": {},
     "output_type": "display_data"
    },
    {
     "name": "stdout",
     "output_type": "stream",
     "text": [
      "CPU times: user 1.31 s, sys: 149 ms, total: 1.46 s\n",
      "Wall time: 1.22 s\n"
     ]
    }
   ],
   "source": [
    "%%time\n",
    "try: evaluate_model(models['best'])\n",
    "except: pass"
   ]
  },
  {
   "cell_type": "markdown",
   "id": "367ed3f9",
   "metadata": {
    "papermill": {
     "duration": 0.03013,
     "end_time": "2022-09-18T23:26:29.783708",
     "exception": false,
     "start_time": "2022-09-18T23:26:29.753578",
     "status": "completed"
    },
    "tags": []
   },
   "source": [
    "# 10. Interpret Model\n",
    "\n",
    "- https://pycaret.gitbook.io/docs/get-started/functions/analyze#interpret_model\n",
    "\n",
    "> Interpreting complex models are of fundamental importance in machine learning. Model Interpretability helps debug the model by analyzing what the model really thinks is important. Interpreting models in PyCaret is as simple as writing interpret_model. The function takes trained model object and type of plot as string. Interpretations are implemented based on the SHAP (SHapley Additive exPlanations) and is only available for tree-based models."
   ]
  },
  {
   "cell_type": "code",
   "execution_count": 38,
   "id": "df360ace",
   "metadata": {
    "execution": {
     "iopub.execute_input": "2022-09-18T23:26:29.845942Z",
     "iopub.status.busy": "2022-09-18T23:26:29.845216Z",
     "iopub.status.idle": "2022-09-18T23:26:29.850139Z",
     "shell.execute_reply": "2022-09-18T23:26:29.848943Z"
    },
    "jupyter": {
     "source_hidden": true
    },
    "papermill": {
     "duration": 0.03849,
     "end_time": "2022-09-18T23:26:29.852269",
     "exception": false,
     "start_time": "2022-09-18T23:26:29.813779",
     "status": "completed"
    },
    "tags": []
   },
   "outputs": [],
   "source": [
    "# %%time\n",
    "# # TypeError: This function only supports tree based models for binary classification: xgboost, dt, catboost, lightgbm, et, rf.\n",
    "# try: \n",
    "#     interpret_model(models['catboost'])\n",
    "#     interpret_model(models['catboost'],  plot='correlation')\n",
    "#     interpret_model(models['catboost'],  plot='reason', observation=12)\n",
    "# except: pass"
   ]
  },
  {
   "cell_type": "markdown",
   "id": "0d5aa884",
   "metadata": {
    "papermill": {
     "duration": 0.029594,
     "end_time": "2022-09-18T23:26:29.911778",
     "exception": false,
     "start_time": "2022-09-18T23:26:29.882184",
     "status": "completed"
    },
    "tags": []
   },
   "source": [
    "# Predict Model\n",
    "\n",
    "- https://pycaret.gitbook.io/docs/get-started/functions/deploy#predict_model\n",
    "\n",
    "> Once a model is successfully deployed either on cloud using deploy_model or locally using save_model, it can be used to predict on unseen data using predict_model function. This functions takes a trained model object and the dataset to predict. It will automatically apply the entire transformation pipeline created during the experiment. For classification, predicted labels are created based on 50% probability, but if you choose to use a different threshold that you may have obtained using optimize_threshold, you can pass the probability_threshold parameter within predict_model. This function can also be used to generate predictions on hold-out / test set."
   ]
  },
  {
   "cell_type": "code",
   "execution_count": 39,
   "id": "ebe2bf76",
   "metadata": {
    "execution": {
     "iopub.execute_input": "2022-09-18T23:26:29.973852Z",
     "iopub.status.busy": "2022-09-18T23:26:29.973459Z",
     "iopub.status.idle": "2022-09-18T23:26:33.465746Z",
     "shell.execute_reply": "2022-09-18T23:26:33.464458Z"
    },
    "papermill": {
     "duration": 3.526745,
     "end_time": "2022-09-18T23:26:33.468427",
     "exception": false,
     "start_time": "2022-09-18T23:26:29.941682",
     "status": "completed"
    },
    "tags": []
   },
   "outputs": [
    {
     "data": {
      "text/html": [
       "<style type=\"text/css\">\n",
       "</style>\n",
       "<table id=\"T_36614_\">\n",
       "  <thead>\n",
       "    <tr>\n",
       "      <th class=\"blank level0\" >&nbsp;</th>\n",
       "      <th class=\"col_heading level0 col0\" >Model</th>\n",
       "      <th class=\"col_heading level0 col1\" >MAE</th>\n",
       "      <th class=\"col_heading level0 col2\" >MSE</th>\n",
       "      <th class=\"col_heading level0 col3\" >RMSE</th>\n",
       "      <th class=\"col_heading level0 col4\" >R2</th>\n",
       "      <th class=\"col_heading level0 col5\" >RMSLE</th>\n",
       "      <th class=\"col_heading level0 col6\" >MAPE</th>\n",
       "    </tr>\n",
       "  </thead>\n",
       "  <tbody>\n",
       "    <tr>\n",
       "      <th id=\"T_36614_level0_row0\" class=\"row_heading level0 row0\" >0</th>\n",
       "      <td id=\"T_36614_row0_col0\" class=\"data row0 col0\" >Voting Regressor</td>\n",
       "      <td id=\"T_36614_row0_col1\" class=\"data row0 col1\" >45.9316</td>\n",
       "      <td id=\"T_36614_row0_col2\" class=\"data row0 col2\" >3755.1817</td>\n",
       "      <td id=\"T_36614_row0_col3\" class=\"data row0 col3\" >61.2795</td>\n",
       "      <td id=\"T_36614_row0_col4\" class=\"data row0 col4\" >0.7627</td>\n",
       "      <td id=\"T_36614_row0_col5\" class=\"data row0 col5\" >0.3214</td>\n",
       "      <td id=\"T_36614_row0_col6\" class=\"data row0 col6\" >0.3077</td>\n",
       "    </tr>\n",
       "  </tbody>\n",
       "</table>\n"
      ],
      "text/plain": [
       "<pandas.io.formats.style.Styler at 0x7f53c582dcd0>"
      ]
     },
     "metadata": {},
     "output_type": "display_data"
    },
    {
     "name": "stdout",
     "output_type": "stream",
     "text": [
      "CPU times: user 3.79 s, sys: 488 ms, total: 4.27 s\n",
      "Wall time: 3.47 s\n"
     ]
    },
    {
     "data": {
      "text/html": [
       "<div>\n",
       "<style scoped>\n",
       "    .dataframe tbody tr th:only-of-type {\n",
       "        vertical-align: middle;\n",
       "    }\n",
       "\n",
       "    .dataframe tbody tr th {\n",
       "        vertical-align: top;\n",
       "    }\n",
       "\n",
       "    .dataframe thead th {\n",
       "        text-align: right;\n",
       "    }\n",
       "</style>\n",
       "<table border=\"1\" class=\"dataframe\">\n",
       "  <thead>\n",
       "    <tr style=\"text-align: right;\">\n",
       "      <th></th>\n",
       "      <th>date_year</th>\n",
       "      <th>date_month</th>\n",
       "      <th>date_day</th>\n",
       "      <th>country</th>\n",
       "      <th>store</th>\n",
       "      <th>product</th>\n",
       "      <th>num_sold</th>\n",
       "      <th>Label</th>\n",
       "    </tr>\n",
       "  </thead>\n",
       "  <tbody>\n",
       "    <tr>\n",
       "      <th>49089</th>\n",
       "      <td>2018.0</td>\n",
       "      <td>11.0</td>\n",
       "      <td>2.0</td>\n",
       "      <td>187.921248</td>\n",
       "      <td>1.0</td>\n",
       "      <td>178.659491</td>\n",
       "      <td>91</td>\n",
       "      <td>122.964194</td>\n",
       "    </tr>\n",
       "    <tr>\n",
       "      <th>49090</th>\n",
       "      <td>2019.0</td>\n",
       "      <td>5.0</td>\n",
       "      <td>11.0</td>\n",
       "      <td>115.112555</td>\n",
       "      <td>0.0</td>\n",
       "      <td>241.521329</td>\n",
       "      <td>162</td>\n",
       "      <td>216.517389</td>\n",
       "    </tr>\n",
       "    <tr>\n",
       "      <th>49091</th>\n",
       "      <td>2020.0</td>\n",
       "      <td>4.0</td>\n",
       "      <td>22.0</td>\n",
       "      <td>115.112555</td>\n",
       "      <td>1.0</td>\n",
       "      <td>241.521329</td>\n",
       "      <td>107</td>\n",
       "      <td>87.263713</td>\n",
       "    </tr>\n",
       "    <tr>\n",
       "      <th>49092</th>\n",
       "      <td>2017.0</td>\n",
       "      <td>10.0</td>\n",
       "      <td>28.0</td>\n",
       "      <td>238.618483</td>\n",
       "      <td>0.0</td>\n",
       "      <td>178.659491</td>\n",
       "      <td>374</td>\n",
       "      <td>325.564978</td>\n",
       "    </tr>\n",
       "    <tr>\n",
       "      <th>49093</th>\n",
       "      <td>2017.0</td>\n",
       "      <td>6.0</td>\n",
       "      <td>28.0</td>\n",
       "      <td>238.618483</td>\n",
       "      <td>1.0</td>\n",
       "      <td>133.663098</td>\n",
       "      <td>71</td>\n",
       "      <td>126.705145</td>\n",
       "    </tr>\n",
       "  </tbody>\n",
       "</table>\n",
       "</div>"
      ],
      "text/plain": [
       "       date_year  date_month  date_day     country  store     product  num_sold       Label\n",
       "49089     2018.0        11.0       2.0  187.921248    1.0  178.659491        91  122.964194\n",
       "49090     2019.0         5.0      11.0  115.112555    0.0  241.521329       162  216.517389\n",
       "49091     2020.0         4.0      22.0  115.112555    1.0  241.521329       107   87.263713\n",
       "49092     2017.0        10.0      28.0  238.618483    0.0  178.659491       374  325.564978\n",
       "49093     2017.0         6.0      28.0  238.618483    1.0  133.663098        71  126.705145"
      ]
     },
     "execution_count": 39,
     "metadata": {},
     "output_type": "execute_result"
    }
   ],
   "source": [
    "%%time\n",
    "predict_train = predict_model(models['best'])\n",
    "predict_train.head()"
   ]
  },
  {
   "cell_type": "code",
   "execution_count": 40,
   "id": "863eeab3",
   "metadata": {
    "execution": {
     "iopub.execute_input": "2022-09-18T23:26:33.536291Z",
     "iopub.status.busy": "2022-09-18T23:26:33.535535Z",
     "iopub.status.idle": "2022-09-18T23:26:36.573563Z",
     "shell.execute_reply": "2022-09-18T23:26:36.572158Z"
    },
    "papermill": {
     "duration": 3.07486,
     "end_time": "2022-09-18T23:26:36.576112",
     "exception": false,
     "start_time": "2022-09-18T23:26:33.501252",
     "status": "completed"
    },
    "tags": []
   },
   "outputs": [
    {
     "data": {
      "text/html": [],
      "text/plain": [
       "<IPython.core.display.HTML object>"
      ]
     },
     "metadata": {},
     "output_type": "display_data"
    },
    {
     "name": "stdout",
     "output_type": "stream",
     "text": [
      "CPU times: user 3.29 s, sys: 478 ms, total: 3.77 s\n",
      "Wall time: 3.02 s\n"
     ]
    },
    {
     "data": {
      "text/html": [
       "<div>\n",
       "<style scoped>\n",
       "    .dataframe tbody tr th:only-of-type {\n",
       "        vertical-align: middle;\n",
       "    }\n",
       "\n",
       "    .dataframe tbody tr th {\n",
       "        vertical-align: top;\n",
       "    }\n",
       "\n",
       "    .dataframe thead th {\n",
       "        text-align: right;\n",
       "    }\n",
       "</style>\n",
       "<table border=\"1\" class=\"dataframe\">\n",
       "  <thead>\n",
       "    <tr style=\"text-align: right;\">\n",
       "      <th></th>\n",
       "      <th>date_year</th>\n",
       "      <th>date_month</th>\n",
       "      <th>date_day</th>\n",
       "      <th>country</th>\n",
       "      <th>store</th>\n",
       "      <th>product</th>\n",
       "      <th>Label</th>\n",
       "    </tr>\n",
       "    <tr>\n",
       "      <th>row_id</th>\n",
       "      <th></th>\n",
       "      <th></th>\n",
       "      <th></th>\n",
       "      <th></th>\n",
       "      <th></th>\n",
       "      <th></th>\n",
       "      <th></th>\n",
       "    </tr>\n",
       "  </thead>\n",
       "  <tbody>\n",
       "    <tr>\n",
       "      <th>70128</th>\n",
       "      <td>2021.0</td>\n",
       "      <td>1.0</td>\n",
       "      <td>1.0</td>\n",
       "      <td>237.940623</td>\n",
       "      <td>0.0</td>\n",
       "      <td>223.243783</td>\n",
       "      <td>349.530239</td>\n",
       "    </tr>\n",
       "    <tr>\n",
       "      <th>70129</th>\n",
       "      <td>2021.0</td>\n",
       "      <td>1.0</td>\n",
       "      <td>1.0</td>\n",
       "      <td>237.940623</td>\n",
       "      <td>0.0</td>\n",
       "      <td>178.924424</td>\n",
       "      <td>300.305691</td>\n",
       "    </tr>\n",
       "    <tr>\n",
       "      <th>70130</th>\n",
       "      <td>2021.0</td>\n",
       "      <td>1.0</td>\n",
       "      <td>1.0</td>\n",
       "      <td>237.940623</td>\n",
       "      <td>0.0</td>\n",
       "      <td>134.030173</td>\n",
       "      <td>257.806885</td>\n",
       "    </tr>\n",
       "    <tr>\n",
       "      <th>70131</th>\n",
       "      <td>2021.0</td>\n",
       "      <td>1.0</td>\n",
       "      <td>1.0</td>\n",
       "      <td>237.940623</td>\n",
       "      <td>0.0</td>\n",
       "      <td>240.989562</td>\n",
       "      <td>359.617930</td>\n",
       "    </tr>\n",
       "    <tr>\n",
       "      <th>70132</th>\n",
       "      <td>2021.0</td>\n",
       "      <td>1.0</td>\n",
       "      <td>1.0</td>\n",
       "      <td>237.940623</td>\n",
       "      <td>1.0</td>\n",
       "      <td>223.243783</td>\n",
       "      <td>168.396867</td>\n",
       "    </tr>\n",
       "  </tbody>\n",
       "</table>\n",
       "</div>"
      ],
      "text/plain": [
       "        date_year  date_month  date_day     country  store     product       Label\n",
       "row_id                                                                            \n",
       "70128      2021.0         1.0       1.0  237.940623    0.0  223.243783  349.530239\n",
       "70129      2021.0         1.0       1.0  237.940623    0.0  178.924424  300.305691\n",
       "70130      2021.0         1.0       1.0  237.940623    0.0  134.030173  257.806885\n",
       "70131      2021.0         1.0       1.0  237.940623    0.0  240.989562  359.617930\n",
       "70132      2021.0         1.0       1.0  237.940623    1.0  223.243783  168.396867"
      ]
     },
     "execution_count": 40,
     "metadata": {},
     "output_type": "execute_result"
    }
   ],
   "source": [
    "%%time\n",
    "# new_data = data.copy()\n",
    "# new_data.drop(['charges'], axis=1, inplace=True)\n",
    "\n",
    "test_df = pd.read_csv('../input/tabular-playground-series-sep-2022/test.csv', index_col=index_col)\n",
    "test_df = enhance(test_df)\n",
    "\n",
    "predict_test = predict_model(models['best'], data=test_df)\n",
    "predict_test.head()"
   ]
  },
  {
   "cell_type": "markdown",
   "id": "9b10f448",
   "metadata": {
    "papermill": {
     "duration": 0.030982,
     "end_time": "2022-09-18T23:26:36.639015",
     "exception": false,
     "start_time": "2022-09-18T23:26:36.608033",
     "status": "completed"
    },
    "tags": []
   },
   "source": [
    "# Submission"
   ]
  },
  {
   "cell_type": "code",
   "execution_count": 41,
   "id": "d42b9749",
   "metadata": {
    "execution": {
     "iopub.execute_input": "2022-09-18T23:26:36.704522Z",
     "iopub.status.busy": "2022-09-18T23:26:36.704058Z",
     "iopub.status.idle": "2022-09-18T23:26:37.881930Z",
     "shell.execute_reply": "2022-09-18T23:26:37.880265Z"
    },
    "papermill": {
     "duration": 1.213828,
     "end_time": "2022-09-18T23:26:37.884744",
     "exception": false,
     "start_time": "2022-09-18T23:26:36.670916",
     "status": "completed"
    },
    "tags": []
   },
   "outputs": [
    {
     "name": "stdout",
     "output_type": "stream",
     "text": [
      "row_id,num_sold\r\n",
      "70128,349\r\n",
      "70129,300\r\n",
      "70130,257\r\n",
      "70131,359\r\n",
      "70132,168\r\n",
      "70133,128\r\n",
      "70134,99\r\n",
      "70135,180\r\n",
      "70136,335\r\n"
     ]
    }
   ],
   "source": [
    "submission_df = pd.read_csv('../input/tabular-playground-series-sep-2022/sample_submission.csv', index_col=index_col)\n",
    "submission_df[target_col] = predict_test['Label'].astype('int')\n",
    "submission_df.to_csv('submission.csv')\n",
    "!head submission.csv"
   ]
  },
  {
   "cell_type": "markdown",
   "id": "e98c4e2c",
   "metadata": {
    "papermill": {
     "duration": 0.030779,
     "end_time": "2022-09-18T23:26:37.946323",
     "exception": false,
     "start_time": "2022-09-18T23:26:37.915544",
     "status": "completed"
    },
    "tags": []
   },
   "source": [
    "# Save Model\n",
    "> This function saves the transformation pipeline and trained model object into the current working directory as a pickle file for later use.\n",
    "\n",
    "- https://pycaret.readthedocs.io/en/latest/api/classification.html?highlight=save_model#pycaret.classification.save_model\n",
    "- https://pycaret.readthedocs.io/en/latest/api/classification.html?highlight=save_model#pycaret.classification.load_model"
   ]
  },
  {
   "cell_type": "code",
   "execution_count": 42,
   "id": "ea414bfe",
   "metadata": {
    "execution": {
     "iopub.execute_input": "2022-09-18T23:26:38.013041Z",
     "iopub.status.busy": "2022-09-18T23:26:38.012234Z",
     "iopub.status.idle": "2022-09-18T23:26:39.670246Z",
     "shell.execute_reply": "2022-09-18T23:26:39.668944Z"
    },
    "papermill": {
     "duration": 1.694681,
     "end_time": "2022-09-18T23:26:39.672936",
     "exception": false,
     "start_time": "2022-09-18T23:26:37.978255",
     "status": "completed"
    },
    "tags": []
   },
   "outputs": [
    {
     "name": "stdout",
     "output_type": "stream",
     "text": [
      "Transformation Pipeline and Model Successfully Saved\n",
      "Transformation Pipeline and Model Successfully Loaded\n"
     ]
    },
    {
     "data": {
      "text/plain": [
       "Pipeline(memory=Memory(location=/tmp/joblib),\n",
       "         steps=[('date_feature_extractor',\n",
       "                 TransformerWrapper(include=['date'],\n",
       "                                    transformer=ExtractDateTimeFeatures())),\n",
       "                ('numerical_imputer',\n",
       "                 TransformerWrapper(include=[], transformer=SimpleImputer())),\n",
       "                ('categorical_imputer',\n",
       "                 TransformerWrapper(include=['country', 'store', 'product'],\n",
       "                                    transformer=SimpleImputer(fill_valu...\n",
       "                                                                                             epsilon=1.1718715613965607),\n",
       "                                                               random_state=42)),\n",
       "                                             ('Huber Regressor_2',\n",
       "                                              HuberRegressor(alpha=0.8123959882948841,\n",
       "                                                             epsilon=1.1718715613965607)),\n",
       "                                             ('Lasso Regression_1',\n",
       "                                              BaggingRegressor(base_estimator=Lasso(alpha=0.037299442240177526,\n",
       "                                                                                    normalize=True,\n",
       "                                                                                    random_state=42),\n",
       "                                                               random_state=42)),\n",
       "                                             ('Lasso Regression_2',\n",
       "                                              Lasso(alpha=0.037299442240177526,\n",
       "                                                    normalize=True,\n",
       "                                                    random_state=42))],\n",
       "                                 n_jobs=-1))])"
      ]
     },
     "execution_count": 42,
     "metadata": {},
     "output_type": "execute_result"
    }
   ],
   "source": [
    "MODEL_NAME = 'model-tps-sept-2022'\n",
    "save_model(models['best'], model_name=MODEL_NAME)\n",
    "models['best'] = load_model(MODEL_NAME)\n",
    "models['best']"
   ]
  },
  {
   "cell_type": "markdown",
   "id": "2db4fc7f",
   "metadata": {
    "papermill": {
     "duration": 0.031274,
     "end_time": "2022-09-18T23:26:39.736065",
     "exception": false,
     "start_time": "2022-09-18T23:26:39.704791",
     "status": "completed"
    },
    "tags": []
   },
   "source": [
    "# End\n",
    "> Thank you. For more information / tutorials on PyCaret, please visit https://www.pycaret.org"
   ]
  },
  {
   "cell_type": "markdown",
   "id": "daf4b8cb",
   "metadata": {
    "papermill": {
     "duration": 0.031265,
     "end_time": "2022-09-18T23:26:39.801011",
     "exception": false,
     "start_time": "2022-09-18T23:26:39.769746",
     "status": "completed"
    },
    "tags": []
   },
   "source": [
    "# Further Reading\n",
    "\n",
    "This notebook is part of a series exploring Tabular Data:\n",
    "\n",
    "[Titanic](https://www.kaggle.com/competitions/titanic)\n",
    "- [Profilereport EDA](https://www.kaggle.com/code/jamesmcguigan/titanic-profilereport-eda)\n",
    "\n",
    "[Spaceship Titanic](https://www.kaggle.com/competitions/spaceship-titanic)\n",
    "- [Profilereport EDA](https://www.kaggle.com/code/jamesmcguigan/titanic-profilereport-eda)\n",
    "- 0.69932 - [XGBoost](https://www.kaggle.com/code/jamesmcguigan/spaceship-titanic-xgboost)\n",
    "\n",
    "[Tabular Playground - Jan 2021](https://www.kaggle.com/c/tabular-playground-series-jan-2021)\n",
    "- 0.72746 / 0.72935 - [scikit-learn Ensemble](https://www.kaggle.com/jamesmcguigan/tabular-playground-scikit-learn-ensemble)\n",
    "- 0.71552 / 0.71659 - [Fast.ai Tabular Solver](https://www.kaggle.com/jamesmcguigan/fast-ai-tabular-solver)\n",
    "- 0.70317 / 0.70426 - [XGBoost](https://www.kaggle.com/jamesmcguigan/tabular-playground-xgboost)\n",
    "- 0.70011 / 0.70181 - [LightGBM](https://www.kaggle.com/jamesmcguigan/tabular-playground-lightgbm)\n",
    "\n",
    "[Tabular Playground - Feb 2021](https://www.kaggle.com/c/tabular-playground-series-feb-2021)\n",
    "- 0.84452 - [PyCaret2 AutoML Regression](https://www.kaggle.com/jamesmcguigan/tps-pycaret2-automl-regression)\n",
    "\n",
    "[Tabular Playground - May 2022](https://www.kaggle.com/c/tabular-playground-series-feb-2021)\n",
    "- 0.97134 - [LightGBM](https://www.kaggle.com/jamesmcguigan/tps-may-2022-lightgbm-regression)\n",
    "- [LGBM + XGB + CB - Regression](https://www.kaggle.com/jamesmcguigan/tps-may-2022-lgbm-xgb-cb-regression)\n",
    "- [LGBM + XGB + CB - Classification](https://www.kaggle.com/jamesmcguigan/tps-may-2022-lgbm-xgb-cb-classification)\n",
    "\n",
    "[Tabular Playground - Aug 2022](https://www.kaggle.com/c/tabular-playground-series-aug-2022)\n",
    "- 0.55525 - [PyCaret3 AutoML Classification](https://www.kaggle.com/code/jamesmcguigan/tps-pycaret3-automl-classification-aug-2022) [[Discussion](https://www.kaggle.com/competitions/tabular-playground-series-aug-2022/discussion/349818)]\n",
    "\n",
    "[Tabular Playground - Sept 2022](https://www.kaggle.com/competitions/tabular-playground-series-sep-2022)\n",
    "- [Profilereport EDA](https://www.kaggle.com/jamesmcguigan/tps-2022-09-profilereport-autoeda)\n",
    "- [PyCaret3 AutoML Regression](https://www.kaggle.com/jamesmcguigan/tps-2022-09-pycaret3-automl-regression/)\n",
    "\n",
    "If you found this notebook useful or learnt something new, then please upvote!"
   ]
  }
 ],
 "metadata": {
  "kernelspec": {
   "display_name": "Python 3",
   "language": "python",
   "name": "python3"
  },
  "language_info": {
   "codemirror_mode": {
    "name": "ipython",
    "version": 3
   },
   "file_extension": ".py",
   "mimetype": "text/x-python",
   "name": "python",
   "nbconvert_exporter": "python",
   "pygments_lexer": "ipython3",
   "version": "3.7.12"
  },
  "papermill": {
   "default_parameters": {},
   "duration": 6158.308556,
   "end_time": "2022-09-18T23:26:42.472333",
   "environment_variables": {},
   "exception": null,
   "input_path": "__notebook__.ipynb",
   "output_path": "__notebook__.ipynb",
   "parameters": {},
   "start_time": "2022-09-18T21:44:04.163777",
   "version": "2.3.4"
  },
  "widgets": {
   "application/vnd.jupyter.widget-state+json": {
    "state": {
     "076c54cfbb454f3d95cc4e2a8663986f": {
      "model_module": "@jupyter-widgets/controls",
      "model_module_version": "1.5.0",
      "model_name": "HTMLModel",
      "state": {
       "_dom_classes": [],
       "_model_module": "@jupyter-widgets/controls",
       "_model_module_version": "1.5.0",
       "_model_name": "HTMLModel",
       "_view_count": null,
       "_view_module": "@jupyter-widgets/controls",
       "_view_module_version": "1.5.0",
       "_view_name": "HTMLView",
       "description": "",
       "description_tooltip": null,
       "layout": "IPY_MODEL_adc293a9b8c24bd8b7a32911301d6c7a",
       "placeholder": "​",
       "style": "IPY_MODEL_785303e0597e4102b4548c6d4b73aeee",
       "value": " 39/40 [05:25&lt;00:02,  2.28s/it]"
      }
     },
     "0b62b280608c4b1db5a3d537b1294ffd": {
      "model_module": "@jupyter-widgets/controls",
      "model_module_version": "1.5.0",
      "model_name": "HBoxModel",
      "state": {
       "_dom_classes": [],
       "_model_module": "@jupyter-widgets/controls",
       "_model_module_version": "1.5.0",
       "_model_name": "HBoxModel",
       "_view_count": null,
       "_view_module": "@jupyter-widgets/controls",
       "_view_module_version": "1.5.0",
       "_view_name": "HBoxView",
       "box_style": "",
       "children": [
        "IPY_MODEL_6bb890e504e5461fa86cad59a0c49c1b",
        "IPY_MODEL_8498e95d1e5a4b9498f722866b36eb78",
        "IPY_MODEL_d5abba5d5f55465399cd2ee0a55d2db9"
       ],
       "layout": "IPY_MODEL_5c0e6363ca0543f88d79278d36940c8f"
      }
     },
     "0d1e591624d548d7b7f7f41d9b9d5e78": {
      "model_module": "@jupyter-widgets/base",
      "model_module_version": "1.2.0",
      "model_name": "LayoutModel",
      "state": {
       "_model_module": "@jupyter-widgets/base",
       "_model_module_version": "1.2.0",
       "_model_name": "LayoutModel",
       "_view_count": null,
       "_view_module": "@jupyter-widgets/base",
       "_view_module_version": "1.2.0",
       "_view_name": "LayoutView",
       "align_content": null,
       "align_items": null,
       "align_self": null,
       "border": null,
       "bottom": null,
       "display": null,
       "flex": null,
       "flex_flow": null,
       "grid_area": null,
       "grid_auto_columns": null,
       "grid_auto_flow": null,
       "grid_auto_rows": null,
       "grid_column": null,
       "grid_gap": null,
       "grid_row": null,
       "grid_template_areas": null,
       "grid_template_columns": null,
       "grid_template_rows": null,
       "height": null,
       "justify_content": null,
       "justify_items": null,
       "left": null,
       "margin": null,
       "max_height": null,
       "max_width": null,
       "min_height": null,
       "min_width": null,
       "object_fit": null,
       "object_position": null,
       "order": null,
       "overflow": null,
       "overflow_x": null,
       "overflow_y": null,
       "padding": null,
       "right": null,
       "top": null,
       "visibility": null,
       "width": null
      }
     },
     "15ccd7a2d36441aeadcb9d3e5e97838f": {
      "model_module": "@jupyter-widgets/controls",
      "model_module_version": "1.5.0",
      "model_name": "ToggleButtonsStyleModel",
      "state": {
       "_model_module": "@jupyter-widgets/controls",
       "_model_module_version": "1.5.0",
       "_model_name": "ToggleButtonsStyleModel",
       "_view_count": null,
       "_view_module": "@jupyter-widgets/base",
       "_view_module_version": "1.2.0",
       "_view_name": "StyleView",
       "button_width": "",
       "description_width": "",
       "font_weight": ""
      }
     },
     "2793018a79ff4f0b9b571be625f8d8fa": {
      "model_module": "@jupyter-widgets/controls",
      "model_module_version": "1.5.0",
      "model_name": "FloatProgressModel",
      "state": {
       "_dom_classes": [],
       "_model_module": "@jupyter-widgets/controls",
       "_model_module_version": "1.5.0",
       "_model_name": "FloatProgressModel",
       "_view_count": null,
       "_view_module": "@jupyter-widgets/controls",
       "_view_module_version": "1.5.0",
       "_view_name": "ProgressView",
       "bar_style": "danger",
       "description": "",
       "description_tooltip": null,
       "layout": "IPY_MODEL_5bf16511cf03491d984dd3649351ff79",
       "max": 40.0,
       "min": 0.0,
       "orientation": "horizontal",
       "style": "IPY_MODEL_65ec31ad959e40dab89271d7d9b237b5",
       "value": 39.0
      }
     },
     "2fba6b7f98104771b8c9c1a0a64d1b85": {
      "model_module": "@jupyter-widgets/base",
      "model_module_version": "1.2.0",
      "model_name": "LayoutModel",
      "state": {
       "_model_module": "@jupyter-widgets/base",
       "_model_module_version": "1.2.0",
       "_model_name": "LayoutModel",
       "_view_count": null,
       "_view_module": "@jupyter-widgets/base",
       "_view_module_version": "1.2.0",
       "_view_name": "LayoutView",
       "align_content": null,
       "align_items": null,
       "align_self": null,
       "border": null,
       "bottom": null,
       "display": null,
       "flex": null,
       "flex_flow": null,
       "grid_area": null,
       "grid_auto_columns": null,
       "grid_auto_flow": null,
       "grid_auto_rows": null,
       "grid_column": null,
       "grid_gap": null,
       "grid_row": null,
       "grid_template_areas": null,
       "grid_template_columns": null,
       "grid_template_rows": null,
       "height": null,
       "justify_content": null,
       "justify_items": null,
       "left": null,
       "margin": null,
       "max_height": null,
       "max_width": null,
       "min_height": null,
       "min_width": null,
       "object_fit": null,
       "object_position": null,
       "order": null,
       "overflow": null,
       "overflow_x": null,
       "overflow_y": null,
       "padding": null,
       "right": null,
       "top": null,
       "visibility": null,
       "width": null
      }
     },
     "31161639e1f0401eb6b0f52b4bd54a75": {
      "model_module": "@jupyter-widgets/base",
      "model_module_version": "1.2.0",
      "model_name": "LayoutModel",
      "state": {
       "_model_module": "@jupyter-widgets/base",
       "_model_module_version": "1.2.0",
       "_model_name": "LayoutModel",
       "_view_count": null,
       "_view_module": "@jupyter-widgets/base",
       "_view_module_version": "1.2.0",
       "_view_name": "LayoutView",
       "align_content": null,
       "align_items": null,
       "align_self": null,
       "border": null,
       "bottom": null,
       "display": null,
       "flex": null,
       "flex_flow": null,
       "grid_area": null,
       "grid_auto_columns": null,
       "grid_auto_flow": null,
       "grid_auto_rows": null,
       "grid_column": null,
       "grid_gap": null,
       "grid_row": null,
       "grid_template_areas": null,
       "grid_template_columns": null,
       "grid_template_rows": null,
       "height": null,
       "justify_content": null,
       "justify_items": null,
       "left": null,
       "margin": null,
       "max_height": null,
       "max_width": null,
       "min_height": null,
       "min_width": null,
       "object_fit": null,
       "object_position": null,
       "order": null,
       "overflow": null,
       "overflow_x": null,
       "overflow_y": null,
       "padding": null,
       "right": null,
       "top": null,
       "visibility": null,
       "width": null
      }
     },
     "3b08c85be7784c65a693dc6e0d1f3274": {
      "model_module": "@jupyter-widgets/controls",
      "model_module_version": "1.5.0",
      "model_name": "DescriptionStyleModel",
      "state": {
       "_model_module": "@jupyter-widgets/controls",
       "_model_module_version": "1.5.0",
       "_model_name": "DescriptionStyleModel",
       "_view_count": null,
       "_view_module": "@jupyter-widgets/base",
       "_view_module_version": "1.2.0",
       "_view_name": "StyleView",
       "description_width": ""
      }
     },
     "3e7f8ab14fc145cba7f02e55cd2dbbe0": {
      "model_module": "@jupyter-widgets/controls",
      "model_module_version": "1.5.0",
      "model_name": "HBoxModel",
      "state": {
       "_dom_classes": [],
       "_model_module": "@jupyter-widgets/controls",
       "_model_module_version": "1.5.0",
       "_model_name": "HBoxModel",
       "_view_count": null,
       "_view_module": "@jupyter-widgets/controls",
       "_view_module_version": "1.5.0",
       "_view_name": "HBoxView",
       "box_style": "",
       "children": [
        "IPY_MODEL_fb06d38f5af040e8a314c95a098a095e",
        "IPY_MODEL_2793018a79ff4f0b9b571be625f8d8fa",
        "IPY_MODEL_076c54cfbb454f3d95cc4e2a8663986f"
       ],
       "layout": "IPY_MODEL_4a14bc3f421e44b7b970c7080f7b2cf2"
      }
     },
     "4a14bc3f421e44b7b970c7080f7b2cf2": {
      "model_module": "@jupyter-widgets/base",
      "model_module_version": "1.2.0",
      "model_name": "LayoutModel",
      "state": {
       "_model_module": "@jupyter-widgets/base",
       "_model_module_version": "1.2.0",
       "_model_name": "LayoutModel",
       "_view_count": null,
       "_view_module": "@jupyter-widgets/base",
       "_view_module_version": "1.2.0",
       "_view_name": "LayoutView",
       "align_content": null,
       "align_items": null,
       "align_self": null,
       "border": null,
       "bottom": null,
       "display": null,
       "flex": null,
       "flex_flow": null,
       "grid_area": null,
       "grid_auto_columns": null,
       "grid_auto_flow": null,
       "grid_auto_rows": null,
       "grid_column": null,
       "grid_gap": null,
       "grid_row": null,
       "grid_template_areas": null,
       "grid_template_columns": null,
       "grid_template_rows": null,
       "height": null,
       "justify_content": null,
       "justify_items": null,
       "left": null,
       "margin": null,
       "max_height": null,
       "max_width": null,
       "min_height": null,
       "min_width": null,
       "object_fit": null,
       "object_position": null,
       "order": null,
       "overflow": null,
       "overflow_x": null,
       "overflow_y": null,
       "padding": null,
       "right": null,
       "top": null,
       "visibility": null,
       "width": null
      }
     },
     "4ffcafe65cbd40e0910f1f55331fb55a": {
      "model_module": "@jupyter-widgets/output",
      "model_module_version": "1.0.0",
      "model_name": "OutputModel",
      "state": {
       "_dom_classes": [],
       "_model_module": "@jupyter-widgets/output",
       "_model_module_version": "1.0.0",
       "_model_name": "OutputModel",
       "_view_count": null,
       "_view_module": "@jupyter-widgets/output",
       "_view_module_version": "1.0.0",
       "_view_name": "OutputView",
       "layout": "IPY_MODEL_a00de518667a46a1b2d2eda6f383ca4b",
       "msg_id": "",
       "outputs": [
        {
         "data": {
          "image/png": "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\n",
          "text/plain": "<Figure size 3200x600 with 1 Axes>"
         },
         "metadata": {
          "needs_background": "light"
         },
         "output_type": "display_data"
        }
       ]
      }
     },
     "5711ebb094a1472c8012d5bfecf7c6e2": {
      "model_module": "@jupyter-widgets/base",
      "model_module_version": "1.2.0",
      "model_name": "LayoutModel",
      "state": {
       "_model_module": "@jupyter-widgets/base",
       "_model_module_version": "1.2.0",
       "_model_name": "LayoutModel",
       "_view_count": null,
       "_view_module": "@jupyter-widgets/base",
       "_view_module_version": "1.2.0",
       "_view_name": "LayoutView",
       "align_content": null,
       "align_items": null,
       "align_self": null,
       "border": null,
       "bottom": null,
       "display": null,
       "flex": null,
       "flex_flow": null,
       "grid_area": null,
       "grid_auto_columns": null,
       "grid_auto_flow": null,
       "grid_auto_rows": null,
       "grid_column": null,
       "grid_gap": null,
       "grid_row": null,
       "grid_template_areas": null,
       "grid_template_columns": null,
       "grid_template_rows": null,
       "height": null,
       "justify_content": null,
       "justify_items": null,
       "left": null,
       "margin": null,
       "max_height": null,
       "max_width": null,
       "min_height": null,
       "min_width": null,
       "object_fit": null,
       "object_position": null,
       "order": null,
       "overflow": null,
       "overflow_x": null,
       "overflow_y": null,
       "padding": null,
       "right": null,
       "top": null,
       "visibility": null,
       "width": null
      }
     },
     "5992ee42bb214ff6abc3ab5ed104bbb8": {
      "model_module": "@jupyter-widgets/controls",
      "model_module_version": "1.5.0",
      "model_name": "VBoxModel",
      "state": {
       "_dom_classes": [
        "widget-interact"
       ],
       "_model_module": "@jupyter-widgets/controls",
       "_model_module_version": "1.5.0",
       "_model_name": "VBoxModel",
       "_view_count": null,
       "_view_module": "@jupyter-widgets/controls",
       "_view_module_version": "1.5.0",
       "_view_name": "VBoxView",
       "box_style": "",
       "children": [
        "IPY_MODEL_d06e5b8fc8de4a2d8d04691f2ac4a003",
        "IPY_MODEL_4ffcafe65cbd40e0910f1f55331fb55a"
       ],
       "layout": "IPY_MODEL_b2b3a7462d974fc99408ad15c89e9945"
      }
     },
     "5bf16511cf03491d984dd3649351ff79": {
      "model_module": "@jupyter-widgets/base",
      "model_module_version": "1.2.0",
      "model_name": "LayoutModel",
      "state": {
       "_model_module": "@jupyter-widgets/base",
       "_model_module_version": "1.2.0",
       "_model_name": "LayoutModel",
       "_view_count": null,
       "_view_module": "@jupyter-widgets/base",
       "_view_module_version": "1.2.0",
       "_view_name": "LayoutView",
       "align_content": null,
       "align_items": null,
       "align_self": null,
       "border": null,
       "bottom": null,
       "display": null,
       "flex": null,
       "flex_flow": null,
       "grid_area": null,
       "grid_auto_columns": null,
       "grid_auto_flow": null,
       "grid_auto_rows": null,
       "grid_column": null,
       "grid_gap": null,
       "grid_row": null,
       "grid_template_areas": null,
       "grid_template_columns": null,
       "grid_template_rows": null,
       "height": null,
       "justify_content": null,
       "justify_items": null,
       "left": null,
       "margin": null,
       "max_height": null,
       "max_width": null,
       "min_height": null,
       "min_width": null,
       "object_fit": null,
       "object_position": null,
       "order": null,
       "overflow": null,
       "overflow_x": null,
       "overflow_y": null,
       "padding": null,
       "right": null,
       "top": null,
       "visibility": null,
       "width": null
      }
     },
     "5c0e6363ca0543f88d79278d36940c8f": {
      "model_module": "@jupyter-widgets/base",
      "model_module_version": "1.2.0",
      "model_name": "LayoutModel",
      "state": {
       "_model_module": "@jupyter-widgets/base",
       "_model_module_version": "1.2.0",
       "_model_name": "LayoutModel",
       "_view_count": null,
       "_view_module": "@jupyter-widgets/base",
       "_view_module_version": "1.2.0",
       "_view_name": "LayoutView",
       "align_content": null,
       "align_items": null,
       "align_self": null,
       "border": null,
       "bottom": null,
       "display": null,
       "flex": null,
       "flex_flow": null,
       "grid_area": null,
       "grid_auto_columns": null,
       "grid_auto_flow": null,
       "grid_auto_rows": null,
       "grid_column": null,
       "grid_gap": null,
       "grid_row": null,
       "grid_template_areas": null,
       "grid_template_columns": null,
       "grid_template_rows": null,
       "height": null,
       "justify_content": null,
       "justify_items": null,
       "left": null,
       "margin": null,
       "max_height": null,
       "max_width": null,
       "min_height": null,
       "min_width": null,
       "object_fit": null,
       "object_position": null,
       "order": null,
       "overflow": null,
       "overflow_x": null,
       "overflow_y": null,
       "padding": null,
       "right": null,
       "top": null,
       "visibility": null,
       "width": null
      }
     },
     "63a746478cf445c5b57737abe64ea700": {
      "model_module": "@jupyter-widgets/controls",
      "model_module_version": "1.5.0",
      "model_name": "DescriptionStyleModel",
      "state": {
       "_model_module": "@jupyter-widgets/controls",
       "_model_module_version": "1.5.0",
       "_model_name": "DescriptionStyleModel",
       "_view_count": null,
       "_view_module": "@jupyter-widgets/base",
       "_view_module_version": "1.2.0",
       "_view_name": "StyleView",
       "description_width": ""
      }
     },
     "65ec31ad959e40dab89271d7d9b237b5": {
      "model_module": "@jupyter-widgets/controls",
      "model_module_version": "1.5.0",
      "model_name": "ProgressStyleModel",
      "state": {
       "_model_module": "@jupyter-widgets/controls",
       "_model_module_version": "1.5.0",
       "_model_name": "ProgressStyleModel",
       "_view_count": null,
       "_view_module": "@jupyter-widgets/base",
       "_view_module_version": "1.2.0",
       "_view_name": "StyleView",
       "bar_color": null,
       "description_width": ""
      }
     },
     "6bb890e504e5461fa86cad59a0c49c1b": {
      "model_module": "@jupyter-widgets/controls",
      "model_module_version": "1.5.0",
      "model_name": "HTMLModel",
      "state": {
       "_dom_classes": [],
       "_model_module": "@jupyter-widgets/controls",
       "_model_module_version": "1.5.0",
       "_model_name": "HTMLModel",
       "_view_count": null,
       "_view_module": "@jupyter-widgets/controls",
       "_view_module_version": "1.5.0",
       "_view_name": "HTMLView",
       "description": "",
       "description_tooltip": null,
       "layout": "IPY_MODEL_be0eba1c12c44280b3490e9951befd9b",
       "placeholder": "​",
       "style": "IPY_MODEL_8b5c61d0a16f421e91448b38899cf9cd",
       "value": "Processing: 100%"
      }
     },
     "7064074c61be46cca05d4c3297c5a86b": {
      "model_module": "@jupyter-widgets/controls",
      "model_module_version": "1.5.0",
      "model_name": "HTMLModel",
      "state": {
       "_dom_classes": [],
       "_model_module": "@jupyter-widgets/controls",
       "_model_module_version": "1.5.0",
       "_model_name": "HTMLModel",
       "_view_count": null,
       "_view_module": "@jupyter-widgets/controls",
       "_view_module_version": "1.5.0",
       "_view_name": "HTMLView",
       "description": "",
       "description_tooltip": null,
       "layout": "IPY_MODEL_0d1e591624d548d7b7f7f41d9b9d5e78",
       "placeholder": "​",
       "style": "IPY_MODEL_63a746478cf445c5b57737abe64ea700",
       "value": "Processing: 100%"
      }
     },
     "785303e0597e4102b4548c6d4b73aeee": {
      "model_module": "@jupyter-widgets/controls",
      "model_module_version": "1.5.0",
      "model_name": "DescriptionStyleModel",
      "state": {
       "_model_module": "@jupyter-widgets/controls",
       "_model_module_version": "1.5.0",
       "_model_name": "DescriptionStyleModel",
       "_view_count": null,
       "_view_module": "@jupyter-widgets/base",
       "_view_module_version": "1.2.0",
       "_view_name": "StyleView",
       "description_width": ""
      }
     },
     "804df7dc0d1643c98eb2930406dd0096": {
      "model_module": "@jupyter-widgets/base",
      "model_module_version": "1.2.0",
      "model_name": "LayoutModel",
      "state": {
       "_model_module": "@jupyter-widgets/base",
       "_model_module_version": "1.2.0",
       "_model_name": "LayoutModel",
       "_view_count": null,
       "_view_module": "@jupyter-widgets/base",
       "_view_module_version": "1.2.0",
       "_view_name": "LayoutView",
       "align_content": null,
       "align_items": null,
       "align_self": null,
       "border": null,
       "bottom": null,
       "display": null,
       "flex": null,
       "flex_flow": null,
       "grid_area": null,
       "grid_auto_columns": null,
       "grid_auto_flow": null,
       "grid_auto_rows": null,
       "grid_column": null,
       "grid_gap": null,
       "grid_row": null,
       "grid_template_areas": null,
       "grid_template_columns": null,
       "grid_template_rows": null,
       "height": null,
       "justify_content": null,
       "justify_items": null,
       "left": null,
       "margin": null,
       "max_height": null,
       "max_width": null,
       "min_height": null,
       "min_width": null,
       "object_fit": null,
       "object_position": null,
       "order": null,
       "overflow": null,
       "overflow_x": null,
       "overflow_y": null,
       "padding": null,
       "right": null,
       "top": null,
       "visibility": null,
       "width": null
      }
     },
     "8498e95d1e5a4b9498f722866b36eb78": {
      "model_module": "@jupyter-widgets/controls",
      "model_module_version": "1.5.0",
      "model_name": "FloatProgressModel",
      "state": {
       "_dom_classes": [],
       "_model_module": "@jupyter-widgets/controls",
       "_model_module_version": "1.5.0",
       "_model_name": "FloatProgressModel",
       "_view_count": null,
       "_view_module": "@jupyter-widgets/controls",
       "_view_module_version": "1.5.0",
       "_view_name": "ProgressView",
       "bar_style": "",
       "description": "",
       "description_tooltip": null,
       "layout": "IPY_MODEL_31161639e1f0401eb6b0f52b4bd54a75",
       "max": 6.0,
       "min": 0.0,
       "orientation": "horizontal",
       "style": "IPY_MODEL_d35a58c0d4eb49d3bed7be2e9f09c379",
       "value": 6.0
      }
     },
     "8b5c61d0a16f421e91448b38899cf9cd": {
      "model_module": "@jupyter-widgets/controls",
      "model_module_version": "1.5.0",
      "model_name": "DescriptionStyleModel",
      "state": {
       "_model_module": "@jupyter-widgets/controls",
       "_model_module_version": "1.5.0",
       "_model_name": "DescriptionStyleModel",
       "_view_count": null,
       "_view_module": "@jupyter-widgets/base",
       "_view_module_version": "1.2.0",
       "_view_name": "StyleView",
       "description_width": ""
      }
     },
     "9d3e9836556c4a5888a79d58909dffd3": {
      "model_module": "@jupyter-widgets/base",
      "model_module_version": "1.2.0",
      "model_name": "LayoutModel",
      "state": {
       "_model_module": "@jupyter-widgets/base",
       "_model_module_version": "1.2.0",
       "_model_name": "LayoutModel",
       "_view_count": null,
       "_view_module": "@jupyter-widgets/base",
       "_view_module_version": "1.2.0",
       "_view_name": "LayoutView",
       "align_content": null,
       "align_items": null,
       "align_self": null,
       "border": null,
       "bottom": null,
       "display": null,
       "flex": null,
       "flex_flow": null,
       "grid_area": null,
       "grid_auto_columns": null,
       "grid_auto_flow": null,
       "grid_auto_rows": null,
       "grid_column": null,
       "grid_gap": null,
       "grid_row": null,
       "grid_template_areas": null,
       "grid_template_columns": null,
       "grid_template_rows": null,
       "height": null,
       "justify_content": null,
       "justify_items": null,
       "left": null,
       "margin": null,
       "max_height": null,
       "max_width": null,
       "min_height": null,
       "min_width": null,
       "object_fit": null,
       "object_position": null,
       "order": null,
       "overflow": null,
       "overflow_x": null,
       "overflow_y": null,
       "padding": null,
       "right": null,
       "top": null,
       "visibility": null,
       "width": null
      }
     },
     "a00de518667a46a1b2d2eda6f383ca4b": {
      "model_module": "@jupyter-widgets/base",
      "model_module_version": "1.2.0",
      "model_name": "LayoutModel",
      "state": {
       "_model_module": "@jupyter-widgets/base",
       "_model_module_version": "1.2.0",
       "_model_name": "LayoutModel",
       "_view_count": null,
       "_view_module": "@jupyter-widgets/base",
       "_view_module_version": "1.2.0",
       "_view_name": "LayoutView",
       "align_content": null,
       "align_items": null,
       "align_self": null,
       "border": null,
       "bottom": null,
       "display": null,
       "flex": null,
       "flex_flow": null,
       "grid_area": null,
       "grid_auto_columns": null,
       "grid_auto_flow": null,
       "grid_auto_rows": null,
       "grid_column": null,
       "grid_gap": null,
       "grid_row": null,
       "grid_template_areas": null,
       "grid_template_columns": null,
       "grid_template_rows": null,
       "height": null,
       "justify_content": null,
       "justify_items": null,
       "left": null,
       "margin": null,
       "max_height": null,
       "max_width": null,
       "min_height": null,
       "min_width": null,
       "object_fit": null,
       "object_position": null,
       "order": null,
       "overflow": null,
       "overflow_x": null,
       "overflow_y": null,
       "padding": null,
       "right": null,
       "top": null,
       "visibility": null,
       "width": null
      }
     },
     "a2f5f53c9871486bb7b1a84620839b35": {
      "model_module": "@jupyter-widgets/controls",
      "model_module_version": "1.5.0",
      "model_name": "FloatProgressModel",
      "state": {
       "_dom_classes": [],
       "_model_module": "@jupyter-widgets/controls",
       "_model_module_version": "1.5.0",
       "_model_name": "FloatProgressModel",
       "_view_count": null,
       "_view_module": "@jupyter-widgets/controls",
       "_view_module_version": "1.5.0",
       "_view_name": "ProgressView",
       "bar_style": "",
       "description": "",
       "description_tooltip": null,
       "layout": "IPY_MODEL_2fba6b7f98104771b8c9c1a0a64d1b85",
       "max": 87.0,
       "min": 0.0,
       "orientation": "horizontal",
       "style": "IPY_MODEL_d5e6f6f14dd44ccfb018327ec17262f0",
       "value": 87.0
      }
     },
     "a31b641d55aa44d3b5716527a231ef92": {
      "model_module": "@jupyter-widgets/controls",
      "model_module_version": "1.5.0",
      "model_name": "DescriptionStyleModel",
      "state": {
       "_model_module": "@jupyter-widgets/controls",
       "_model_module_version": "1.5.0",
       "_model_name": "DescriptionStyleModel",
       "_view_count": null,
       "_view_module": "@jupyter-widgets/base",
       "_view_module_version": "1.2.0",
       "_view_name": "StyleView",
       "description_width": ""
      }
     },
     "adc293a9b8c24bd8b7a32911301d6c7a": {
      "model_module": "@jupyter-widgets/base",
      "model_module_version": "1.2.0",
      "model_name": "LayoutModel",
      "state": {
       "_model_module": "@jupyter-widgets/base",
       "_model_module_version": "1.2.0",
       "_model_name": "LayoutModel",
       "_view_count": null,
       "_view_module": "@jupyter-widgets/base",
       "_view_module_version": "1.2.0",
       "_view_name": "LayoutView",
       "align_content": null,
       "align_items": null,
       "align_self": null,
       "border": null,
       "bottom": null,
       "display": null,
       "flex": null,
       "flex_flow": null,
       "grid_area": null,
       "grid_auto_columns": null,
       "grid_auto_flow": null,
       "grid_auto_rows": null,
       "grid_column": null,
       "grid_gap": null,
       "grid_row": null,
       "grid_template_areas": null,
       "grid_template_columns": null,
       "grid_template_rows": null,
       "height": null,
       "justify_content": null,
       "justify_items": null,
       "left": null,
       "margin": null,
       "max_height": null,
       "max_width": null,
       "min_height": null,
       "min_width": null,
       "object_fit": null,
       "object_position": null,
       "order": null,
       "overflow": null,
       "overflow_x": null,
       "overflow_y": null,
       "padding": null,
       "right": null,
       "top": null,
       "visibility": null,
       "width": null
      }
     },
     "afcd24eeb65b4f0d89d0f1803ea96e60": {
      "model_module": "@jupyter-widgets/controls",
      "model_module_version": "1.5.0",
      "model_name": "HTMLModel",
      "state": {
       "_dom_classes": [],
       "_model_module": "@jupyter-widgets/controls",
       "_model_module_version": "1.5.0",
       "_model_name": "HTMLModel",
       "_view_count": null,
       "_view_module": "@jupyter-widgets/controls",
       "_view_module_version": "1.5.0",
       "_view_name": "HTMLView",
       "description": "",
       "description_tooltip": null,
       "layout": "IPY_MODEL_5711ebb094a1472c8012d5bfecf7c6e2",
       "placeholder": "​",
       "style": "IPY_MODEL_bbac103a1ab446a0ac724b4fc798fd2b",
       "value": " 87/87 [02:57&lt;00:00,  2.79s/it]"
      }
     },
     "b2b3a7462d974fc99408ad15c89e9945": {
      "model_module": "@jupyter-widgets/base",
      "model_module_version": "1.2.0",
      "model_name": "LayoutModel",
      "state": {
       "_model_module": "@jupyter-widgets/base",
       "_model_module_version": "1.2.0",
       "_model_name": "LayoutModel",
       "_view_count": null,
       "_view_module": "@jupyter-widgets/base",
       "_view_module_version": "1.2.0",
       "_view_name": "LayoutView",
       "align_content": null,
       "align_items": null,
       "align_self": null,
       "border": null,
       "bottom": null,
       "display": null,
       "flex": null,
       "flex_flow": null,
       "grid_area": null,
       "grid_auto_columns": null,
       "grid_auto_flow": null,
       "grid_auto_rows": null,
       "grid_column": null,
       "grid_gap": null,
       "grid_row": null,
       "grid_template_areas": null,
       "grid_template_columns": null,
       "grid_template_rows": null,
       "height": null,
       "justify_content": null,
       "justify_items": null,
       "left": null,
       "margin": null,
       "max_height": null,
       "max_width": null,
       "min_height": null,
       "min_width": null,
       "object_fit": null,
       "object_position": null,
       "order": null,
       "overflow": null,
       "overflow_x": null,
       "overflow_y": null,
       "padding": null,
       "right": null,
       "top": null,
       "visibility": null,
       "width": null
      }
     },
     "b4c63a03272d4d739fb0c7820f031180": {
      "model_module": "@jupyter-widgets/base",
      "model_module_version": "1.2.0",
      "model_name": "LayoutModel",
      "state": {
       "_model_module": "@jupyter-widgets/base",
       "_model_module_version": "1.2.0",
       "_model_name": "LayoutModel",
       "_view_count": null,
       "_view_module": "@jupyter-widgets/base",
       "_view_module_version": "1.2.0",
       "_view_name": "LayoutView",
       "align_content": null,
       "align_items": null,
       "align_self": null,
       "border": null,
       "bottom": null,
       "display": null,
       "flex": null,
       "flex_flow": null,
       "grid_area": null,
       "grid_auto_columns": null,
       "grid_auto_flow": null,
       "grid_auto_rows": null,
       "grid_column": null,
       "grid_gap": null,
       "grid_row": null,
       "grid_template_areas": null,
       "grid_template_columns": null,
       "grid_template_rows": null,
       "height": null,
       "justify_content": null,
       "justify_items": null,
       "left": null,
       "margin": null,
       "max_height": null,
       "max_width": null,
       "min_height": null,
       "min_width": null,
       "object_fit": null,
       "object_position": null,
       "order": null,
       "overflow": null,
       "overflow_x": null,
       "overflow_y": null,
       "padding": null,
       "right": null,
       "top": null,
       "visibility": null,
       "width": null
      }
     },
     "bbac103a1ab446a0ac724b4fc798fd2b": {
      "model_module": "@jupyter-widgets/controls",
      "model_module_version": "1.5.0",
      "model_name": "DescriptionStyleModel",
      "state": {
       "_model_module": "@jupyter-widgets/controls",
       "_model_module_version": "1.5.0",
       "_model_name": "DescriptionStyleModel",
       "_view_count": null,
       "_view_module": "@jupyter-widgets/base",
       "_view_module_version": "1.2.0",
       "_view_name": "StyleView",
       "description_width": ""
      }
     },
     "be0eba1c12c44280b3490e9951befd9b": {
      "model_module": "@jupyter-widgets/base",
      "model_module_version": "1.2.0",
      "model_name": "LayoutModel",
      "state": {
       "_model_module": "@jupyter-widgets/base",
       "_model_module_version": "1.2.0",
       "_model_name": "LayoutModel",
       "_view_count": null,
       "_view_module": "@jupyter-widgets/base",
       "_view_module_version": "1.2.0",
       "_view_name": "LayoutView",
       "align_content": null,
       "align_items": null,
       "align_self": null,
       "border": null,
       "bottom": null,
       "display": null,
       "flex": null,
       "flex_flow": null,
       "grid_area": null,
       "grid_auto_columns": null,
       "grid_auto_flow": null,
       "grid_auto_rows": null,
       "grid_column": null,
       "grid_gap": null,
       "grid_row": null,
       "grid_template_areas": null,
       "grid_template_columns": null,
       "grid_template_rows": null,
       "height": null,
       "justify_content": null,
       "justify_items": null,
       "left": null,
       "margin": null,
       "max_height": null,
       "max_width": null,
       "min_height": null,
       "min_width": null,
       "object_fit": null,
       "object_position": null,
       "order": null,
       "overflow": null,
       "overflow_x": null,
       "overflow_y": null,
       "padding": null,
       "right": null,
       "top": null,
       "visibility": null,
       "width": null
      }
     },
     "d06e5b8fc8de4a2d8d04691f2ac4a003": {
      "model_module": "@jupyter-widgets/controls",
      "model_module_version": "1.5.0",
      "model_name": "ToggleButtonsModel",
      "state": {
       "_dom_classes": [],
       "_model_module": "@jupyter-widgets/controls",
       "_model_module_version": "1.5.0",
       "_model_name": "ToggleButtonsModel",
       "_options_labels": [
        "Pipeline Plot",
        "Hyperparameters",
        "Residuals",
        "Prediction Error",
        "Cooks Distance",
        "Feature Selection",
        "Learning Curve",
        "Manifold Learning",
        "Validation Curve",
        "Feature Importance",
        "Feature Importance (All)",
        "Decision Tree",
        "Interactive Residuals"
       ],
       "_view_count": null,
       "_view_module": "@jupyter-widgets/controls",
       "_view_module_version": "1.5.0",
       "_view_name": "ToggleButtonsView",
       "button_style": "",
       "description": "Plot Type:",
       "description_tooltip": null,
       "disabled": false,
       "icons": [
        ""
       ],
       "index": 0,
       "layout": "IPY_MODEL_9d3e9836556c4a5888a79d58909dffd3",
       "style": "IPY_MODEL_15ccd7a2d36441aeadcb9d3e5e97838f",
       "tooltips": []
      }
     },
     "d35a58c0d4eb49d3bed7be2e9f09c379": {
      "model_module": "@jupyter-widgets/controls",
      "model_module_version": "1.5.0",
      "model_name": "ProgressStyleModel",
      "state": {
       "_model_module": "@jupyter-widgets/controls",
       "_model_module_version": "1.5.0",
       "_model_name": "ProgressStyleModel",
       "_view_count": null,
       "_view_module": "@jupyter-widgets/base",
       "_view_module_version": "1.2.0",
       "_view_name": "StyleView",
       "bar_color": null,
       "description_width": ""
      }
     },
     "d5abba5d5f55465399cd2ee0a55d2db9": {
      "model_module": "@jupyter-widgets/controls",
      "model_module_version": "1.5.0",
      "model_name": "HTMLModel",
      "state": {
       "_dom_classes": [],
       "_model_module": "@jupyter-widgets/controls",
       "_model_module_version": "1.5.0",
       "_model_name": "HTMLModel",
       "_view_count": null,
       "_view_module": "@jupyter-widgets/controls",
       "_view_module_version": "1.5.0",
       "_view_name": "HTMLView",
       "description": "",
       "description_tooltip": null,
       "layout": "IPY_MODEL_b4c63a03272d4d739fb0c7820f031180",
       "placeholder": "​",
       "style": "IPY_MODEL_3b08c85be7784c65a693dc6e0d1f3274",
       "value": " 6/6 [09:07&lt;00:00, 89.98s/it]"
      }
     },
     "d5e6f6f14dd44ccfb018327ec17262f0": {
      "model_module": "@jupyter-widgets/controls",
      "model_module_version": "1.5.0",
      "model_name": "ProgressStyleModel",
      "state": {
       "_model_module": "@jupyter-widgets/controls",
       "_model_module_version": "1.5.0",
       "_model_name": "ProgressStyleModel",
       "_view_count": null,
       "_view_module": "@jupyter-widgets/base",
       "_view_module_version": "1.2.0",
       "_view_name": "StyleView",
       "bar_color": null,
       "description_width": ""
      }
     },
     "d8728a8f951b4791a1ac230e07f314d6": {
      "model_module": "@jupyter-widgets/controls",
      "model_module_version": "1.5.0",
      "model_name": "HBoxModel",
      "state": {
       "_dom_classes": [],
       "_model_module": "@jupyter-widgets/controls",
       "_model_module_version": "1.5.0",
       "_model_name": "HBoxModel",
       "_view_count": null,
       "_view_module": "@jupyter-widgets/controls",
       "_view_module_version": "1.5.0",
       "_view_name": "HBoxView",
       "box_style": "",
       "children": [
        "IPY_MODEL_7064074c61be46cca05d4c3297c5a86b",
        "IPY_MODEL_a2f5f53c9871486bb7b1a84620839b35",
        "IPY_MODEL_afcd24eeb65b4f0d89d0f1803ea96e60"
       ],
       "layout": "IPY_MODEL_e0334bdd3a1a4759907b40a1d7ccfcab"
      }
     },
     "e0334bdd3a1a4759907b40a1d7ccfcab": {
      "model_module": "@jupyter-widgets/base",
      "model_module_version": "1.2.0",
      "model_name": "LayoutModel",
      "state": {
       "_model_module": "@jupyter-widgets/base",
       "_model_module_version": "1.2.0",
       "_model_name": "LayoutModel",
       "_view_count": null,
       "_view_module": "@jupyter-widgets/base",
       "_view_module_version": "1.2.0",
       "_view_name": "LayoutView",
       "align_content": null,
       "align_items": null,
       "align_self": null,
       "border": null,
       "bottom": null,
       "display": null,
       "flex": null,
       "flex_flow": null,
       "grid_area": null,
       "grid_auto_columns": null,
       "grid_auto_flow": null,
       "grid_auto_rows": null,
       "grid_column": null,
       "grid_gap": null,
       "grid_row": null,
       "grid_template_areas": null,
       "grid_template_columns": null,
       "grid_template_rows": null,
       "height": null,
       "justify_content": null,
       "justify_items": null,
       "left": null,
       "margin": null,
       "max_height": null,
       "max_width": null,
       "min_height": null,
       "min_width": null,
       "object_fit": null,
       "object_position": null,
       "order": null,
       "overflow": null,
       "overflow_x": null,
       "overflow_y": null,
       "padding": null,
       "right": null,
       "top": null,
       "visibility": null,
       "width": null
      }
     },
     "fb06d38f5af040e8a314c95a098a095e": {
      "model_module": "@jupyter-widgets/controls",
      "model_module_version": "1.5.0",
      "model_name": "HTMLModel",
      "state": {
       "_dom_classes": [],
       "_model_module": "@jupyter-widgets/controls",
       "_model_module_version": "1.5.0",
       "_model_name": "HTMLModel",
       "_view_count": null,
       "_view_module": "@jupyter-widgets/controls",
       "_view_module_version": "1.5.0",
       "_view_name": "HTMLView",
       "description": "",
       "description_tooltip": null,
       "layout": "IPY_MODEL_804df7dc0d1643c98eb2930406dd0096",
       "placeholder": "​",
       "style": "IPY_MODEL_a31b641d55aa44d3b5716527a231ef92",
       "value": "Processing:  98%"
      }
     }
    },
    "version_major": 2,
    "version_minor": 0
   }
  }
 },
 "nbformat": 4,
 "nbformat_minor": 5
}
