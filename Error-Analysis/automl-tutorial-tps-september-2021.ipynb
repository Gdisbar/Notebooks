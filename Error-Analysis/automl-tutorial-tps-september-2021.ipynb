{
 "cells": [
  {
   "cell_type": "markdown",
   "id": "c3e329cd",
   "metadata": {
    "_cell_guid": "b1076dfc-b9ad-4769-8c92-a6c4dae69d19",
    "_uuid": "8f2839f25d086af736a60e9eeb907d3b93b6e0e5",
    "papermill": {
     "duration": 0.052503,
     "end_time": "2021-09-05T05:59:21.878844",
     "exception": false,
     "start_time": "2021-09-05T05:59:21.826341",
     "status": "completed"
    },
    "tags": []
   },
   "source": [
    "<div align='center'>\n",
    "    <h1>AutoML Tutorial</h1>\n",
    "    <img src='https://github.com/vopani/fortyone/blob/main/images/automl_banner_530_x_455.png?raw=true'>\n",
    "</div>"
   ]
  },
  {
   "cell_type": "markdown",
   "id": "7066d818",
   "metadata": {
    "papermill": {
     "duration": 0.053866,
     "end_time": "2021-09-05T05:59:21.985967",
     "exception": false,
     "start_time": "2021-09-05T05:59:21.932101",
     "status": "completed"
    },
    "tags": []
   },
   "source": [
    "**Auto**mated **M**achine **L**earning (**AutoML**) has become widely adopted for building, experimenting and productionizing various types of machine learning models across business use-cases.\n",
    "\n",
    "There are different open source solutions available and this notebook explores a simple baseline solution for some of them on the [Kaggle TPS (September 2021) competition](https://www.kaggle.com/c/tabular-playground-series-sep-2021).\n",
    "\n",
    "* [AutoGluon](#AutoGluon)\n",
    "* [EvalML](#EvalML)\n",
    "* [FLAML](#FLAML)\n",
    "* [H2O AutoML](#H2O-AutoML)\n",
    "* [LightAutoML](#LightAutoML)\n",
    "* [MLJAR](#MLJAR)\n",
    "* [TPOT](#TPOT)"
   ]
  },
  {
   "cell_type": "code",
   "execution_count": 1,
   "id": "ac839289",
   "metadata": {
    "execution": {
     "iopub.execute_input": "2021-09-05T05:59:22.092765Z",
     "iopub.status.busy": "2021-09-05T05:59:22.091545Z",
     "iopub.status.idle": "2021-09-05T05:59:22.103460Z",
     "shell.execute_reply": "2021-09-05T05:59:22.104048Z",
     "shell.execute_reply.started": "2021-09-05T05:52:13.029239Z"
    },
    "papermill": {
     "duration": 0.066814,
     "end_time": "2021-09-05T05:59:22.104369",
     "exception": false,
     "start_time": "2021-09-05T05:59:22.037555",
     "status": "completed"
    },
    "tags": []
   },
   "outputs": [],
   "source": [
    "## define configuration\n",
    "PATH_TRAIN = '../input/tabular-playground-series-sep-2021/train.csv'\n",
    "PATH_TEST = '../input/tabular-playground-series-sep-2021/test.csv'\n",
    "\n",
    "PATH_AUTOGLUON_SUBMISSION = 'submission_autogluon.csv'\n",
    "PATH_EVALML_SUBMISSION = 'submission_evalml.csv'\n",
    "PATH_FLAML_SUBMISSION = 'submission_flaml.csv'\n",
    "PATH_H2OAML_SUBMISSION = 'submission_h2oaml.csv'\n",
    "PATH_LAML_SUBMISSION = 'submission_laml.csv'\n",
    "PATH_MLJAR_SUBMISSION = 'submission_mljar.csv'\n",
    "PATH_TPOT_SUBMISSION = 'submission_tpot.csv'\n",
    "\n",
    "MAX_MODEL_RUNTIME_MINS = 10\n",
    "MAX_MODEL_RUNTIME_SECS = MAX_MODEL_RUNTIME_MINS * 60"
   ]
  },
  {
   "cell_type": "code",
   "execution_count": 2,
   "id": "d546ec00",
   "metadata": {
    "execution": {
     "iopub.execute_input": "2021-09-05T05:59:22.214235Z",
     "iopub.status.busy": "2021-09-05T05:59:22.213510Z",
     "iopub.status.idle": "2021-09-05T05:59:31.099325Z",
     "shell.execute_reply": "2021-09-05T05:59:31.099968Z",
     "shell.execute_reply.started": "2021-09-05T05:52:13.217607Z"
    },
    "papermill": {
     "duration": 8.940425,
     "end_time": "2021-09-05T05:59:31.100188",
     "exception": false,
     "start_time": "2021-09-05T05:59:22.159763",
     "status": "completed"
    },
    "tags": []
   },
   "outputs": [
    {
     "data": {
      "text/html": [
       "<style type='text/css'>\n",
       ".datatable table.frame { margin-bottom: 0; }\n",
       ".datatable table.frame thead { border-bottom: none; }\n",
       ".datatable table.frame tr.coltypes td {  color: #FFFFFF;  line-height: 6px;  padding: 0 0.5em;}\n",
       ".datatable .bool    { background: #DDDD99; }\n",
       ".datatable .object  { background: #565656; }\n",
       ".datatable .int     { background: #5D9E5D; }\n",
       ".datatable .float   { background: #4040CC; }\n",
       ".datatable .str     { background: #CC4040; }\n",
       ".datatable .time    { background: #40CC40; }\n",
       ".datatable .row_index {  background: var(--jp-border-color3);  border-right: 1px solid var(--jp-border-color0);  color: var(--jp-ui-font-color3);  font-size: 9px;}\n",
       ".datatable .frame tbody td { text-align: left; }\n",
       ".datatable .frame tr.coltypes .row_index {  background: var(--jp-border-color0);}\n",
       ".datatable th:nth-child(2) { padding-left: 12px; }\n",
       ".datatable .hellipsis {  color: var(--jp-cell-editor-border-color);}\n",
       ".datatable .vellipsis {  background: var(--jp-layout-color0);  color: var(--jp-cell-editor-border-color);}\n",
       ".datatable .na {  color: var(--jp-cell-editor-border-color);  font-size: 80%;}\n",
       ".datatable .sp {  opacity: 0.25;}\n",
       ".datatable .footer { font-size: 9px; }\n",
       ".datatable .frame_dimensions {  background: var(--jp-border-color3);  border-top: 1px solid var(--jp-border-color0);  color: var(--jp-ui-font-color3);  display: inline-block;  opacity: 0.6;  padding: 1px 10px 1px 5px;}\n",
       "</style>\n"
      ],
      "text/plain": [
       "<IPython.core.display.HTML object>"
      ]
     },
     "metadata": {},
     "output_type": "display_data"
    }
   ],
   "source": [
    "## prepare data\n",
    "import gc\n",
    "import os\n",
    "import shutil\n",
    "import datatable as dt\n",
    "from pathlib import Path\n",
    "import warnings\n",
    "\n",
    "warnings.filterwarnings('ignore')\n",
    "\n",
    "train = dt.fread(PATH_TRAIN)\n",
    "test = dt.fread(PATH_TEST)\n",
    "\n",
    "target = train['claim'].to_numpy().ravel()\n",
    "test_ids = test['id']\n",
    "\n",
    "del train[:, ['id', 'claim']]\n",
    "test = test[:, train.names]"
   ]
  },
  {
   "cell_type": "markdown",
   "id": "cdcbc442",
   "metadata": {
    "papermill": {
     "duration": 0.05218,
     "end_time": "2021-09-05T05:59:31.213646",
     "exception": false,
     "start_time": "2021-09-05T05:59:31.161466",
     "status": "completed"
    },
    "tags": []
   },
   "source": [
    "## AutoGluon\n",
    "<img src='https://user-images.githubusercontent.com/16392542/77208906-224aa500-6aba-11ea-96bd-e81806074030.png' width='250px'>\n",
    "\n",
    "[AutoGluon](https://auto.gluon.ai/stable/index.html) is an automl library open sourced by [Amazon](http://amazon.com/aws)"
   ]
  },
  {
   "cell_type": "code",
   "execution_count": 3,
   "id": "f4729a11",
   "metadata": {
    "_kg_hide-input": true,
    "_kg_hide-output": true,
    "execution": {
     "iopub.execute_input": "2021-09-05T05:59:31.326655Z",
     "iopub.status.busy": "2021-09-05T05:59:31.325972Z",
     "iopub.status.idle": "2021-09-05T06:02:11.506397Z",
     "shell.execute_reply": "2021-09-05T06:02:11.505805Z",
     "shell.execute_reply.started": "2021-09-05T05:25:14.345190Z"
    },
    "papermill": {
     "duration": 160.240962,
     "end_time": "2021-09-05T06:02:11.506566",
     "exception": false,
     "start_time": "2021-09-05T05:59:31.265604",
     "status": "completed"
    },
    "tags": []
   },
   "outputs": [
    {
     "name": "stdout",
     "output_type": "stream",
     "text": [
      "\u001b[33mWARNING: Running pip as root will break packages and permissions. You should install packages reliably by using venv: https://pip.pypa.io/warnings/venv\u001b[0m\r\n",
      "\u001b[31mERROR: pip's dependency resolver does not currently take into account all the packages that are installed. This behaviour is the source of the following dependency conflicts.\r\n",
      "transformers 4.6.1 requires tokenizers<0.11,>=0.10.1, but you have tokenizers 0.9.4 which is incompatible.\r\n",
      "kornia 0.5.5 requires numpy<=1.19, but you have numpy 1.19.5 which is incompatible.\r\n",
      "gym 0.18.3 requires Pillow<=8.2.0, but you have pillow 8.3.2 which is incompatible.\r\n",
      "allennlp 2.5.0 requires torch<1.9.0,>=1.6.0, but you have torch 1.9.0 which is incompatible.\r\n",
      "allennlp 2.5.0 requires torchvision<0.10.0,>=0.8.1, but you have torchvision 0.10.0 which is incompatible.\u001b[0m\r\n",
      "\u001b[33mWARNING: Running pip as root will break packages and permissions. You should install packages reliably by using venv: https://pip.pypa.io/warnings/venv\u001b[0m\r\n",
      "\u001b[31mERROR: pip's dependency resolver does not currently take into account all the packages that are installed. This behaviour is the source of the following dependency conflicts.\r\n",
      "mxnet 1.8.0.post0 requires graphviz<0.9.0,>=0.8.1, but you have graphviz 0.17 which is incompatible.\u001b[0m\r\n",
      "\u001b[33mWARNING: Running pip as root will break packages and permissions. You should install packages reliably by using venv: https://pip.pypa.io/warnings/venv\u001b[0m\r\n",
      "\u001b[31mERROR: pip's dependency resolver does not currently take into account all the packages that are installed. This behaviour is the source of the following dependency conflicts.\r\n",
      "pyldavis 3.3.1 requires numpy>=1.20.0, but you have numpy 1.19.5 which is incompatible.\r\n",
      "pdpbox 0.2.1 requires matplotlib==3.1.1, but you have matplotlib 3.4.2 which is incompatible.\r\n",
      "hypertools 0.7.0 requires scikit-learn!=0.22,<0.24,>=0.19.1, but you have scikit-learn 0.24.2 which is incompatible.\r\n",
      "allennlp 2.5.0 requires torch<1.9.0,>=1.6.0, but you have torch 1.9.0 which is incompatible.\r\n",
      "allennlp 2.5.0 requires torchvision<0.10.0,>=0.8.1, but you have torchvision 0.10.0 which is incompatible.\u001b[0m\r\n",
      "\u001b[33mWARNING: Running pip as root will break packages and permissions. You should install packages reliably by using venv: https://pip.pypa.io/warnings/venv\u001b[0m\r\n"
     ]
    }
   ],
   "source": [
    "## install packages\n",
    "!python3 -m pip install -q \"mxnet<2.0.0\"\n",
    "!python3 -m pip install -q autogluon\n",
    "!python3 -m pip install -q -U graphviz\n",
    "!python3 -m pip install -q -U scikit-learn"
   ]
  },
  {
   "cell_type": "code",
   "execution_count": 4,
   "id": "47c06287",
   "metadata": {
    "execution": {
     "iopub.execute_input": "2021-09-05T06:02:11.620237Z",
     "iopub.status.busy": "2021-09-05T06:02:11.619212Z",
     "iopub.status.idle": "2021-09-05T06:02:13.735339Z",
     "shell.execute_reply": "2021-09-05T06:02:13.734795Z",
     "shell.execute_reply.started": "2021-09-05T05:27:39.122126Z"
    },
    "papermill": {
     "duration": 2.174608,
     "end_time": "2021-09-05T06:02:13.735495",
     "exception": false,
     "start_time": "2021-09-05T06:02:11.560887",
     "status": "completed"
    },
    "tags": []
   },
   "outputs": [],
   "source": [
    "## import packages\n",
    "from autogluon.tabular import TabularPredictor"
   ]
  },
  {
   "cell_type": "code",
   "execution_count": 5,
   "id": "070f3513",
   "metadata": {
    "_kg_hide-output": true,
    "execution": {
     "iopub.execute_input": "2021-09-05T06:02:13.848253Z",
     "iopub.status.busy": "2021-09-05T06:02:13.847457Z",
     "iopub.status.idle": "2021-09-05T06:12:44.731273Z",
     "shell.execute_reply": "2021-09-05T06:12:44.731932Z",
     "shell.execute_reply.started": "2021-09-04T18:24:15.123122Z"
    },
    "papermill": {
     "duration": 630.94366,
     "end_time": "2021-09-05T06:12:44.732202",
     "exception": false,
     "start_time": "2021-09-05T06:02:13.788542",
     "status": "completed"
    },
    "tags": []
   },
   "outputs": [],
   "source": [
    "## run model\n",
    "train['target'] = dt.Frame(target)\n",
    "\n",
    "model_autogluon = TabularPredictor(label='target')\n",
    "model_autogluon.fit(train_data=train.to_pandas(), excluded_model_types=['KNN'], time_limit=MAX_MODEL_RUNTIME_SECS)\n",
    "\n",
    "del train['target']"
   ]
  },
  {
   "cell_type": "code",
   "execution_count": 6,
   "id": "14a76150",
   "metadata": {
    "execution": {
     "iopub.execute_input": "2021-09-05T06:12:44.845742Z",
     "iopub.status.busy": "2021-09-05T06:12:44.845075Z",
     "iopub.status.idle": "2021-09-05T06:12:44.887988Z",
     "shell.execute_reply": "2021-09-05T06:12:44.887294Z",
     "shell.execute_reply.started": "2021-09-04T18:34:50.583273Z"
    },
    "papermill": {
     "duration": 0.098699,
     "end_time": "2021-09-05T06:12:44.888144",
     "exception": false,
     "start_time": "2021-09-05T06:12:44.789445",
     "status": "completed"
    },
    "tags": []
   },
   "outputs": [
    {
     "name": "stdout",
     "output_type": "stream",
     "text": [
      "                 model  score_val  pred_time_val    fit_time  pred_time_val_marginal  fit_time_marginal  stack_level  can_infer  fit_order\n",
      "0  WeightedEnsemble_L2   0.745407       0.327230  102.390846                0.034116           4.288770            2       True          7\n",
      "1             LightGBM   0.745303       0.088773   19.326672                0.088773          19.326672            1       True          2\n",
      "2           LightGBMXT   0.741232       0.093913   52.793999                0.093913          52.793999            1       True          1\n",
      "3             CatBoost   0.729541       0.039162   17.665062                0.039162          17.665062            1       True          3\n",
      "4       ExtraTreesEntr   0.568476       0.343795  121.263236                0.343795         121.263236            1       True          5\n",
      "5       ExtraTreesGini   0.560334       0.342965  116.546933                0.342965         116.546933            1       True          4\n",
      "6              XGBoost   0.542276       0.110428   25.981405                0.110428          25.981405            1       True          6\n"
     ]
    },
    {
     "data": {
      "text/html": [
       "<div>\n",
       "<style scoped>\n",
       "    .dataframe tbody tr th:only-of-type {\n",
       "        vertical-align: middle;\n",
       "    }\n",
       "\n",
       "    .dataframe tbody tr th {\n",
       "        vertical-align: top;\n",
       "    }\n",
       "\n",
       "    .dataframe thead th {\n",
       "        text-align: right;\n",
       "    }\n",
       "</style>\n",
       "<table border=\"1\" class=\"dataframe\">\n",
       "  <thead>\n",
       "    <tr style=\"text-align: right;\">\n",
       "      <th></th>\n",
       "      <th>model</th>\n",
       "      <th>score_val</th>\n",
       "      <th>pred_time_val</th>\n",
       "      <th>fit_time</th>\n",
       "      <th>pred_time_val_marginal</th>\n",
       "      <th>fit_time_marginal</th>\n",
       "      <th>stack_level</th>\n",
       "      <th>can_infer</th>\n",
       "      <th>fit_order</th>\n",
       "    </tr>\n",
       "  </thead>\n",
       "  <tbody>\n",
       "    <tr>\n",
       "      <th>0</th>\n",
       "      <td>WeightedEnsemble_L2</td>\n",
       "      <td>0.745407</td>\n",
       "      <td>0.327230</td>\n",
       "      <td>102.390846</td>\n",
       "      <td>0.034116</td>\n",
       "      <td>4.288770</td>\n",
       "      <td>2</td>\n",
       "      <td>True</td>\n",
       "      <td>7</td>\n",
       "    </tr>\n",
       "    <tr>\n",
       "      <th>1</th>\n",
       "      <td>LightGBM</td>\n",
       "      <td>0.745303</td>\n",
       "      <td>0.088773</td>\n",
       "      <td>19.326672</td>\n",
       "      <td>0.088773</td>\n",
       "      <td>19.326672</td>\n",
       "      <td>1</td>\n",
       "      <td>True</td>\n",
       "      <td>2</td>\n",
       "    </tr>\n",
       "    <tr>\n",
       "      <th>2</th>\n",
       "      <td>LightGBMXT</td>\n",
       "      <td>0.741232</td>\n",
       "      <td>0.093913</td>\n",
       "      <td>52.793999</td>\n",
       "      <td>0.093913</td>\n",
       "      <td>52.793999</td>\n",
       "      <td>1</td>\n",
       "      <td>True</td>\n",
       "      <td>1</td>\n",
       "    </tr>\n",
       "    <tr>\n",
       "      <th>3</th>\n",
       "      <td>CatBoost</td>\n",
       "      <td>0.729541</td>\n",
       "      <td>0.039162</td>\n",
       "      <td>17.665062</td>\n",
       "      <td>0.039162</td>\n",
       "      <td>17.665062</td>\n",
       "      <td>1</td>\n",
       "      <td>True</td>\n",
       "      <td>3</td>\n",
       "    </tr>\n",
       "    <tr>\n",
       "      <th>4</th>\n",
       "      <td>ExtraTreesEntr</td>\n",
       "      <td>0.568476</td>\n",
       "      <td>0.343795</td>\n",
       "      <td>121.263236</td>\n",
       "      <td>0.343795</td>\n",
       "      <td>121.263236</td>\n",
       "      <td>1</td>\n",
       "      <td>True</td>\n",
       "      <td>5</td>\n",
       "    </tr>\n",
       "    <tr>\n",
       "      <th>5</th>\n",
       "      <td>ExtraTreesGini</td>\n",
       "      <td>0.560334</td>\n",
       "      <td>0.342965</td>\n",
       "      <td>116.546933</td>\n",
       "      <td>0.342965</td>\n",
       "      <td>116.546933</td>\n",
       "      <td>1</td>\n",
       "      <td>True</td>\n",
       "      <td>4</td>\n",
       "    </tr>\n",
       "    <tr>\n",
       "      <th>6</th>\n",
       "      <td>XGBoost</td>\n",
       "      <td>0.542276</td>\n",
       "      <td>0.110428</td>\n",
       "      <td>25.981405</td>\n",
       "      <td>0.110428</td>\n",
       "      <td>25.981405</td>\n",
       "      <td>1</td>\n",
       "      <td>True</td>\n",
       "      <td>6</td>\n",
       "    </tr>\n",
       "  </tbody>\n",
       "</table>\n",
       "</div>"
      ],
      "text/plain": [
       "                 model  score_val  pred_time_val    fit_time  \\\n",
       "0  WeightedEnsemble_L2   0.745407       0.327230  102.390846   \n",
       "1             LightGBM   0.745303       0.088773   19.326672   \n",
       "2           LightGBMXT   0.741232       0.093913   52.793999   \n",
       "3             CatBoost   0.729541       0.039162   17.665062   \n",
       "4       ExtraTreesEntr   0.568476       0.343795  121.263236   \n",
       "5       ExtraTreesGini   0.560334       0.342965  116.546933   \n",
       "6              XGBoost   0.542276       0.110428   25.981405   \n",
       "\n",
       "   pred_time_val_marginal  fit_time_marginal  stack_level  can_infer  \\\n",
       "0                0.034116           4.288770            2       True   \n",
       "1                0.088773          19.326672            1       True   \n",
       "2                0.093913          52.793999            1       True   \n",
       "3                0.039162          17.665062            1       True   \n",
       "4                0.343795         121.263236            1       True   \n",
       "5                0.342965         116.546933            1       True   \n",
       "6                0.110428          25.981405            1       True   \n",
       "\n",
       "   fit_order  \n",
       "0          7  \n",
       "1          2  \n",
       "2          1  \n",
       "3          3  \n",
       "4          5  \n",
       "5          4  \n",
       "6          6  "
      ]
     },
     "execution_count": 6,
     "metadata": {},
     "output_type": "execute_result"
    }
   ],
   "source": [
    "## check leaderboard\n",
    "model_autogluon.leaderboard()"
   ]
  },
  {
   "cell_type": "code",
   "execution_count": 7,
   "id": "ec8eb90d",
   "metadata": {
    "_kg_hide-output": true,
    "execution": {
     "iopub.execute_input": "2021-09-05T06:12:45.020271Z",
     "iopub.status.busy": "2021-09-05T06:12:45.018777Z",
     "iopub.status.idle": "2021-09-05T06:12:54.716915Z",
     "shell.execute_reply": "2021-09-05T06:12:54.716223Z",
     "shell.execute_reply.started": "2021-09-04T18:34:50.68738Z"
    },
    "papermill": {
     "duration": 9.766568,
     "end_time": "2021-09-05T06:12:54.717060",
     "exception": false,
     "start_time": "2021-09-05T06:12:44.950492",
     "status": "completed"
    },
    "tags": []
   },
   "outputs": [],
   "source": [
    "## generate predictions\n",
    "preds_autogluon = model_autogluon.predict_proba(test.to_pandas())[True]"
   ]
  },
  {
   "cell_type": "code",
   "execution_count": 8,
   "id": "dc066b59",
   "metadata": {
    "execution": {
     "iopub.execute_input": "2021-09-05T06:12:54.833658Z",
     "iopub.status.busy": "2021-09-05T06:12:54.832684Z",
     "iopub.status.idle": "2021-09-05T06:12:54.836428Z",
     "shell.execute_reply": "2021-09-05T06:12:54.836882Z",
     "shell.execute_reply.started": "2021-09-04T18:35:02.690985Z"
    },
    "papermill": {
     "duration": 0.065641,
     "end_time": "2021-09-05T06:12:54.837050",
     "exception": false,
     "start_time": "2021-09-05T06:12:54.771409",
     "status": "completed"
    },
    "tags": []
   },
   "outputs": [
    {
     "data": {
      "text/html": [
       "<div class='datatable'>\n",
       "  <table class='frame'>\n",
       "  <thead>\n",
       "    <tr class='colnames'><td class='row_index'></td><th>id</th><th>claim</th></tr>\n",
       "    <tr class='coltypes'><td class='row_index'></td><td class='int' title='int32'>&#x25AA;&#x25AA;&#x25AA;&#x25AA;</td><td class='float' title='float64'>&#x25AA;&#x25AA;&#x25AA;&#x25AA;&#x25AA;&#x25AA;&#x25AA;&#x25AA;</td></tr>\n",
       "  </thead>\n",
       "  <tbody>\n",
       "    <tr><td class='row_index'>0</td><td>957919</td><td>0.485707</td></tr>\n",
       "    <tr><td class='row_index'>1</td><td>957920</td><td>0.436409</td></tr>\n",
       "    <tr><td class='row_index'>2</td><td>957921</td><td>0.470409</td></tr>\n",
       "    <tr><td class='row_index'>3</td><td>957922</td><td>0.436781</td></tr>\n",
       "    <tr><td class='row_index'>4</td><td>957923</td><td>0.436115</td></tr>\n",
       "    <tr><td class='row_index'>5</td><td>957924</td><td>0.438366</td></tr>\n",
       "    <tr><td class='row_index'>6</td><td>957925</td><td>0.554601</td></tr>\n",
       "    <tr><td class='row_index'>7</td><td>957926</td><td>0.436548</td></tr>\n",
       "    <tr><td class='row_index'>8</td><td>957927</td><td>0.485476</td></tr>\n",
       "    <tr><td class='row_index'>9</td><td>957928</td><td>0.536736</td></tr>\n",
       "  </tbody>\n",
       "  </table>\n",
       "  <div class='footer'>\n",
       "    <div class='frame_dimensions'>10 rows &times; 2 columns</div>\n",
       "  </div>\n",
       "</div>\n"
      ],
      "text/plain": [
       "<Frame#7f5da05b5270 10x2>"
      ]
     },
     "execution_count": 8,
     "metadata": {},
     "output_type": "execute_result"
    }
   ],
   "source": [
    "## create submission\n",
    "submission = dt.Frame(id=test_ids, claim=dt.Frame(preds_autogluon))\n",
    "submission.head()"
   ]
  },
  {
   "cell_type": "code",
   "execution_count": 9,
   "id": "fa1acf34",
   "metadata": {
    "execution": {
     "iopub.execute_input": "2021-09-05T06:12:54.949959Z",
     "iopub.status.busy": "2021-09-05T06:12:54.949041Z",
     "iopub.status.idle": "2021-09-05T06:12:55.023283Z",
     "shell.execute_reply": "2021-09-05T06:12:55.023915Z",
     "shell.execute_reply.started": "2021-09-04T18:35:02.701725Z"
    },
    "papermill": {
     "duration": 0.132467,
     "end_time": "2021-09-05T06:12:55.024121",
     "exception": false,
     "start_time": "2021-09-05T06:12:54.891654",
     "status": "completed"
    },
    "tags": []
   },
   "outputs": [],
   "source": [
    "## save submission\n",
    "submission.to_csv(PATH_AUTOGLUON_SUBMISSION)"
   ]
  },
  {
   "cell_type": "code",
   "execution_count": 10,
   "id": "ab2877b2",
   "metadata": {
    "_kg_hide-input": true,
    "_kg_hide-output": true,
    "execution": {
     "iopub.execute_input": "2021-09-05T06:12:55.150714Z",
     "iopub.status.busy": "2021-09-05T06:12:55.150088Z",
     "iopub.status.idle": "2021-09-05T06:12:55.600831Z",
     "shell.execute_reply": "2021-09-05T06:12:55.600236Z",
     "shell.execute_reply.started": "2021-09-04T18:35:02.783892Z"
    },
    "papermill": {
     "duration": 0.512253,
     "end_time": "2021-09-05T06:12:55.600967",
     "exception": false,
     "start_time": "2021-09-05T06:12:55.088714",
     "status": "completed"
    },
    "tags": []
   },
   "outputs": [
    {
     "data": {
      "text/plain": [
       "577"
      ]
     },
     "execution_count": 10,
     "metadata": {},
     "output_type": "execute_result"
    }
   ],
   "source": [
    "## clear memory\n",
    "shutil.rmtree('AutogluonModels')\n",
    "del model_autogluon\n",
    "\n",
    "gc.collect()"
   ]
  },
  {
   "cell_type": "markdown",
   "id": "06f83591",
   "metadata": {
    "papermill": {
     "duration": 0.053888,
     "end_time": "2021-09-05T06:12:55.709194",
     "exception": false,
     "start_time": "2021-09-05T06:12:55.655306",
     "status": "completed"
    },
    "tags": []
   },
   "source": [
    "Read more in [Documentation of AutoGluon](https://auto.gluon.ai/stable/index.html)"
   ]
  },
  {
   "cell_type": "markdown",
   "id": "e155ee6b",
   "metadata": {
    "papermill": {
     "duration": 0.054777,
     "end_time": "2021-09-05T06:12:55.818990",
     "exception": false,
     "start_time": "2021-09-05T06:12:55.764213",
     "status": "completed"
    },
    "tags": []
   },
   "source": [
    "## EvalML\n",
    "<img src='https://evalml.alteryx.com/en/stable/_images/evalml_horizontal.svg' width='250px'>\n",
    "\n",
    "[EvalML](https://evalml.alteryx.com/en/stable) is an automl library open sourced by [Alteryx](http://www.alteryx.com)"
   ]
  },
  {
   "cell_type": "code",
   "execution_count": 11,
   "id": "5b1db4aa",
   "metadata": {
    "_kg_hide-input": true,
    "_kg_hide-output": true,
    "execution": {
     "iopub.execute_input": "2021-09-05T06:12:55.977098Z",
     "iopub.status.busy": "2021-09-05T06:12:55.932801Z",
     "iopub.status.idle": "2021-09-05T06:13:44.696974Z",
     "shell.execute_reply": "2021-09-05T06:13:44.696266Z",
     "shell.execute_reply.started": "2021-09-05T05:27:41.493001Z"
    },
    "papermill": {
     "duration": 48.823978,
     "end_time": "2021-09-05T06:13:44.697130",
     "exception": false,
     "start_time": "2021-09-05T06:12:55.873152",
     "status": "completed"
    },
    "tags": []
   },
   "outputs": [
    {
     "name": "stdout",
     "output_type": "stream",
     "text": [
      "\u001b[31mERROR: pip's dependency resolver does not currently take into account all the packages that are installed. This behaviour is the source of the following dependency conflicts.\r\n",
      "yellowbrick 1.3.post1 requires numpy<1.20,>=1.16.0, but you have numpy 1.21.2 which is incompatible.\r\n",
      "transformers 4.6.1 requires tokenizers<0.11,>=0.10.1, but you have tokenizers 0.9.4 which is incompatible.\r\n",
      "tensorflow 2.4.1 requires numpy~=1.19.2, but you have numpy 1.21.2 which is incompatible.\r\n",
      "preprocessing 0.1.13 requires nltk==3.2.4, but you have nltk 3.6.2 which is incompatible.\r\n",
      "pdpbox 0.2.1 requires matplotlib==3.1.1, but you have matplotlib 3.4.2 which is incompatible.\r\n",
      "mxnet 1.8.0.post0 requires graphviz<0.9.0,>=0.8.1, but you have graphviz 0.17 which is incompatible.\r\n",
      "matrixprofile 1.1.10 requires protobuf==3.11.2, but you have protobuf 3.17.3 which is incompatible.\r\n",
      "kornia 0.5.5 requires numpy<=1.19, but you have numpy 1.21.2 which is incompatible.\r\n",
      "hypertools 0.7.0 requires scikit-learn!=0.22,<0.24,>=0.19.1, but you have scikit-learn 0.24.2 which is incompatible.\r\n",
      "gym 0.18.3 requires Pillow<=8.2.0, but you have pillow 8.3.2 which is incompatible.\r\n",
      "allennlp 2.5.0 requires torch<1.9.0,>=1.6.0, but you have torch 1.9.0 which is incompatible.\r\n",
      "allennlp 2.5.0 requires torchvision<0.10.0,>=0.8.1, but you have torchvision 0.10.0 which is incompatible.\u001b[0m\r\n",
      "\u001b[33mWARNING: Running pip as root will break packages and permissions. You should install packages reliably by using venv: https://pip.pypa.io/warnings/venv\u001b[0m\r\n"
     ]
    }
   ],
   "source": [
    "## install packages\n",
    "!python3 -m pip install -q evalml==0.28.0"
   ]
  },
  {
   "cell_type": "code",
   "execution_count": 12,
   "id": "6573bcaa",
   "metadata": {
    "execution": {
     "iopub.execute_input": "2021-09-05T06:13:44.813159Z",
     "iopub.status.busy": "2021-09-05T06:13:44.812152Z",
     "iopub.status.idle": "2021-09-05T06:13:52.222087Z",
     "shell.execute_reply": "2021-09-05T06:13:52.221339Z",
     "shell.execute_reply.started": "2021-09-05T05:27:55.542397Z"
    },
    "papermill": {
     "duration": 7.470215,
     "end_time": "2021-09-05T06:13:52.222250",
     "exception": false,
     "start_time": "2021-09-05T06:13:44.752035",
     "status": "completed"
    },
    "tags": []
   },
   "outputs": [],
   "source": [
    "## import packages\n",
    "from evalml.automl import AutoMLSearch"
   ]
  },
  {
   "cell_type": "code",
   "execution_count": 13,
   "id": "9edc19ce",
   "metadata": {
    "_kg_hide-output": true,
    "execution": {
     "iopub.execute_input": "2021-09-05T06:13:52.345542Z",
     "iopub.status.busy": "2021-09-05T06:13:52.344884Z",
     "iopub.status.idle": "2021-09-05T06:25:41.029655Z",
     "shell.execute_reply": "2021-09-05T06:25:41.028965Z",
     "shell.execute_reply.started": "2021-09-05T05:58:39.245867Z"
    },
    "papermill": {
     "duration": 708.752581,
     "end_time": "2021-09-05T06:25:41.029972",
     "exception": false,
     "start_time": "2021-09-05T06:13:52.277391",
     "status": "completed"
    },
    "tags": []
   },
   "outputs": [
    {
     "name": "stdout",
     "output_type": "stream",
     "text": [
      "Generating pipelines to search over...\n",
      "8 pipelines ready for search.\n",
      "\n",
      "*****************************\n",
      "* Beginning pipeline search *\n",
      "*****************************\n",
      "\n",
      "Optimizing for Log Loss Binary. \n",
      "Lower score is better.\n",
      "\n",
      "Using SequentialEngine to train and score pipelines.\n",
      "Will stop searching for new pipelines after 600 seconds.\n",
      "\n",
      "Allowed model families: linear_model, xgboost, extra_trees, random_forest, decision_tree, catboost, lightgbm\n",
      "\n"
     ]
    },
    {
     "data": {
      "application/vnd.jupyter.widget-view+json": {
       "model_id": "8f037c151a654ee1ac0273d5424e18cd",
       "version_major": 2,
       "version_minor": 0
      },
      "text/plain": [
       "FigureWidget({\n",
       "    'data': [{'mode': 'lines+markers',\n",
       "              'name': 'Best Score',\n",
       "              'type'…"
      ]
     },
     "metadata": {},
     "output_type": "display_data"
    },
    {
     "name": "stdout",
     "output_type": "stream",
     "text": [
      "Evaluating Baseline Pipeline: Mode Baseline Binary Classification Pipeline\n",
      "Mode Baseline Binary Classification Pipeline:\n",
      "\tStarting cross validation\n",
      "\tFinished cross validation - mean Log Loss Binary: 17.240\n",
      "\n",
      "*****************************\n",
      "* Evaluating Batch Number 1 *\n",
      "*****************************\n",
      "\n",
      "Elastic Net Classifier w/ Imputer + Standard Scaler:\n",
      "\tStarting cross validation\n",
      "\tFinished cross validation - mean Log Loss Binary: 0.691\n",
      "Decision Tree Classifier w/ Imputer:\n",
      "\tStarting cross validation\n",
      "\tFinished cross validation - mean Log Loss Binary: 0.703\n",
      "Random Forest Classifier w/ Imputer:\n",
      "\tStarting cross validation\n",
      "\tFinished cross validation - mean Log Loss Binary: 0.690\n",
      "LightGBM Classifier w/ Imputer:\n",
      "\tStarting cross validation\n",
      "\tFinished cross validation - mean Log Loss Binary: 0.635\n",
      "Logistic Regression Classifier w/ Imputer + Standard Scaler:\n",
      "\tStarting cross validation\n",
      "\tFinished cross validation - mean Log Loss Binary: 0.691\n",
      "[06:17:35] WARNING: ../src/learner.cc:1095: Starting in XGBoost 1.3.0, the default evaluation metric used with the objective 'binary:logistic' was changed from 'error' to 'logloss'. Explicitly set eval_metric if you'd like to restore the old behavior.\n",
      "XGBoost Classifier w/ Imputer:\n",
      "\tStarting cross validation\n",
      "\tFinished cross validation - mean Log Loss Binary: 0.640\n",
      "Extra Trees Classifier w/ Imputer:\n",
      "\tStarting cross validation\n",
      "\tFinished cross validation - mean Log Loss Binary: 0.692\n",
      "CatBoost Classifier w/ Imputer:\n",
      "\tStarting cross validation\n",
      "\tFinished cross validation - mean Log Loss Binary: 0.692\n",
      "\n",
      "*****************************\n",
      "* Evaluating Batch Number 2 *\n",
      "*****************************\n",
      "\n",
      "LightGBM Classifier w/ Imputer:\n",
      "\tStarting cross validation\n",
      "\tFinished cross validation - mean Log Loss Binary: 0.685\n",
      "LightGBM Classifier w/ Imputer:\n",
      "\tStarting cross validation\n",
      "\tFinished cross validation - mean Log Loss Binary: 0.687\n",
      "LightGBM Classifier w/ Imputer:\n",
      "\tStarting cross validation\n",
      "\tFinished cross validation - mean Log Loss Binary: 0.687\n",
      "LightGBM Classifier w/ Imputer:\n",
      "\tStarting cross validation\n",
      "\tFinished cross validation - mean Log Loss Binary: 0.665\n",
      "\n",
      "Search finished after 10:34            \n",
      "Best pipeline: LightGBM Classifier w/ Imputer\n",
      "Best pipeline Log Loss Binary: 0.634804\n"
     ]
    }
   ],
   "source": [
    "## run model\n",
    "model_evalml = AutoMLSearch(X_train=train.to_pandas(), y_train=target, problem_type='binary', max_time=MAX_MODEL_RUNTIME_SECS)\n",
    "model_evalml.search()"
   ]
  },
  {
   "cell_type": "code",
   "execution_count": 14,
   "id": "ee0ca436",
   "metadata": {
    "execution": {
     "iopub.execute_input": "2021-09-05T06:25:41.226493Z",
     "iopub.status.busy": "2021-09-05T06:25:41.225780Z",
     "iopub.status.idle": "2021-09-05T06:25:41.230430Z",
     "shell.execute_reply": "2021-09-05T06:25:41.231354Z",
     "shell.execute_reply.started": "2021-09-05T05:48:02.875065Z"
    },
    "papermill": {
     "duration": 0.126246,
     "end_time": "2021-09-05T06:25:41.231530",
     "exception": false,
     "start_time": "2021-09-05T06:25:41.105284",
     "status": "completed"
    },
    "tags": []
   },
   "outputs": [
    {
     "data": {
      "text/html": [
       "<div>\n",
       "<style scoped>\n",
       "    .dataframe tbody tr th:only-of-type {\n",
       "        vertical-align: middle;\n",
       "    }\n",
       "\n",
       "    .dataframe tbody tr th {\n",
       "        vertical-align: top;\n",
       "    }\n",
       "\n",
       "    .dataframe thead th {\n",
       "        text-align: right;\n",
       "    }\n",
       "</style>\n",
       "<table border=\"1\" class=\"dataframe\">\n",
       "  <thead>\n",
       "    <tr style=\"text-align: right;\">\n",
       "      <th></th>\n",
       "      <th>id</th>\n",
       "      <th>pipeline_name</th>\n",
       "      <th>search_order</th>\n",
       "      <th>mean_cv_score</th>\n",
       "      <th>standard_deviation_cv_score</th>\n",
       "      <th>validation_score</th>\n",
       "      <th>percent_better_than_baseline</th>\n",
       "      <th>high_variance_cv</th>\n",
       "      <th>parameters</th>\n",
       "    </tr>\n",
       "  </thead>\n",
       "  <tbody>\n",
       "    <tr>\n",
       "      <th>0</th>\n",
       "      <td>4</td>\n",
       "      <td>LightGBM Classifier w/ Imputer</td>\n",
       "      <td>4</td>\n",
       "      <td>0.634804</td>\n",
       "      <td>NaN</td>\n",
       "      <td>0.634804</td>\n",
       "      <td>96.317805</td>\n",
       "      <td>False</td>\n",
       "      <td>{'Imputer': {'categorical_impute_strategy': 'most_frequent', 'numeric_impute_strategy': 'mean', 'categorical_fill_value': None, 'numeric_fill_value': None}, 'LightGBM Classifier': {'boosting_type': 'gbdt', 'learning_rate': 0.1, 'n_estimators': 100, 'max_depth': 0, 'num_leaves': 31, 'min_child_samples': 20, 'n_jobs': -1, 'bagging_freq': 0, 'bagging_fraction': 0.9}}</td>\n",
       "    </tr>\n",
       "    <tr>\n",
       "      <th>1</th>\n",
       "      <td>6</td>\n",
       "      <td>XGBoost Classifier w/ Imputer</td>\n",
       "      <td>6</td>\n",
       "      <td>0.639599</td>\n",
       "      <td>NaN</td>\n",
       "      <td>0.639599</td>\n",
       "      <td>96.289992</td>\n",
       "      <td>False</td>\n",
       "      <td>{'Imputer': {'categorical_impute_strategy': 'most_frequent', 'numeric_impute_strategy': 'mean', 'categorical_fill_value': None, 'numeric_fill_value': None}, 'XGBoost Classifier': {'eta': 0.1, 'max_depth': 6, 'min_child_weight': 1, 'n_estimators': 100, 'n_jobs': -1}}</td>\n",
       "    </tr>\n",
       "    <tr>\n",
       "      <th>6</th>\n",
       "      <td>3</td>\n",
       "      <td>Random Forest Classifier w/ Imputer</td>\n",
       "      <td>3</td>\n",
       "      <td>0.689998</td>\n",
       "      <td>NaN</td>\n",
       "      <td>0.689998</td>\n",
       "      <td>95.997649</td>\n",
       "      <td>False</td>\n",
       "      <td>{'Imputer': {'categorical_impute_strategy': 'most_frequent', 'numeric_impute_strategy': 'mean', 'categorical_fill_value': None, 'numeric_fill_value': None}, 'Random Forest Classifier': {'n_estimators': 100, 'max_depth': 6, 'n_jobs': -1}}</td>\n",
       "    </tr>\n",
       "    <tr>\n",
       "      <th>7</th>\n",
       "      <td>1</td>\n",
       "      <td>Elastic Net Classifier w/ Imputer + Standard Scaler</td>\n",
       "      <td>1</td>\n",
       "      <td>0.690828</td>\n",
       "      <td>NaN</td>\n",
       "      <td>0.690828</td>\n",
       "      <td>95.992833</td>\n",
       "      <td>False</td>\n",
       "      <td>{'Imputer': {'categorical_impute_strategy': 'most_frequent', 'numeric_impute_strategy': 'mean', 'categorical_fill_value': None, 'numeric_fill_value': None}, 'Elastic Net Classifier': {'penalty': 'elasticnet', 'C': 1.0, 'l1_ratio': 0.15, 'n_jobs': -1, 'multi_class': 'auto', 'solver': 'saga'}}</td>\n",
       "    </tr>\n",
       "    <tr>\n",
       "      <th>8</th>\n",
       "      <td>5</td>\n",
       "      <td>Logistic Regression Classifier w/ Imputer + Standard Scaler</td>\n",
       "      <td>5</td>\n",
       "      <td>0.690829</td>\n",
       "      <td>NaN</td>\n",
       "      <td>0.690829</td>\n",
       "      <td>95.992832</td>\n",
       "      <td>False</td>\n",
       "      <td>{'Imputer': {'categorical_impute_strategy': 'most_frequent', 'numeric_impute_strategy': 'mean', 'categorical_fill_value': None, 'numeric_fill_value': None}, 'Logistic Regression Classifier': {'penalty': 'l2', 'C': 1.0, 'n_jobs': -1, 'multi_class': 'auto', 'solver': 'lbfgs'}}</td>\n",
       "    </tr>\n",
       "    <tr>\n",
       "      <th>9</th>\n",
       "      <td>8</td>\n",
       "      <td>CatBoost Classifier w/ Imputer</td>\n",
       "      <td>8</td>\n",
       "      <td>0.691957</td>\n",
       "      <td>NaN</td>\n",
       "      <td>0.691957</td>\n",
       "      <td>95.986285</td>\n",
       "      <td>False</td>\n",
       "      <td>{'Imputer': {'categorical_impute_strategy': 'most_frequent', 'numeric_impute_strategy': 'mean', 'categorical_fill_value': None, 'numeric_fill_value': None}, 'CatBoost Classifier': {'n_estimators': 10, 'eta': 0.03, 'max_depth': 6, 'bootstrap_type': None, 'silent': True, 'allow_writing_files': False, 'n_jobs': -1}}</td>\n",
       "    </tr>\n",
       "    <tr>\n",
       "      <th>10</th>\n",
       "      <td>7</td>\n",
       "      <td>Extra Trees Classifier w/ Imputer</td>\n",
       "      <td>7</td>\n",
       "      <td>0.691970</td>\n",
       "      <td>NaN</td>\n",
       "      <td>0.691970</td>\n",
       "      <td>95.986211</td>\n",
       "      <td>False</td>\n",
       "      <td>{'Imputer': {'categorical_impute_strategy': 'most_frequent', 'numeric_impute_strategy': 'mean', 'categorical_fill_value': None, 'numeric_fill_value': None}, 'Extra Trees Classifier': {'n_estimators': 100, 'max_features': 'auto', 'max_depth': 6, 'min_samples_split': 2, 'min_weight_fraction_leaf': 0.0, 'n_jobs': -1}}</td>\n",
       "    </tr>\n",
       "    <tr>\n",
       "      <th>11</th>\n",
       "      <td>2</td>\n",
       "      <td>Decision Tree Classifier w/ Imputer</td>\n",
       "      <td>2</td>\n",
       "      <td>0.703189</td>\n",
       "      <td>NaN</td>\n",
       "      <td>0.703189</td>\n",
       "      <td>95.921135</td>\n",
       "      <td>False</td>\n",
       "      <td>{'Imputer': {'categorical_impute_strategy': 'most_frequent', 'numeric_impute_strategy': 'mean', 'categorical_fill_value': None, 'numeric_fill_value': None}, 'Decision Tree Classifier': {'criterion': 'gini', 'max_features': 'auto', 'max_depth': 6, 'min_samples_split': 2, 'min_weight_fraction_leaf': 0.0}}</td>\n",
       "    </tr>\n",
       "    <tr>\n",
       "      <th>12</th>\n",
       "      <td>0</td>\n",
       "      <td>Mode Baseline Binary Classification Pipeline</td>\n",
       "      <td>0</td>\n",
       "      <td>17.239822</td>\n",
       "      <td>NaN</td>\n",
       "      <td>17.239822</td>\n",
       "      <td>0.000000</td>\n",
       "      <td>False</td>\n",
       "      <td>{'Baseline Classifier': {'strategy': 'mode'}}</td>\n",
       "    </tr>\n",
       "  </tbody>\n",
       "</table>\n",
       "</div>"
      ],
      "text/plain": [
       "    id                                                pipeline_name  \\\n",
       "0    4                               LightGBM Classifier w/ Imputer   \n",
       "1    6                                XGBoost Classifier w/ Imputer   \n",
       "6    3                          Random Forest Classifier w/ Imputer   \n",
       "7    1          Elastic Net Classifier w/ Imputer + Standard Scaler   \n",
       "8    5  Logistic Regression Classifier w/ Imputer + Standard Scaler   \n",
       "9    8                               CatBoost Classifier w/ Imputer   \n",
       "10   7                            Extra Trees Classifier w/ Imputer   \n",
       "11   2                          Decision Tree Classifier w/ Imputer   \n",
       "12   0                 Mode Baseline Binary Classification Pipeline   \n",
       "\n",
       "    search_order  mean_cv_score  standard_deviation_cv_score  \\\n",
       "0              4       0.634804                          NaN   \n",
       "1              6       0.639599                          NaN   \n",
       "6              3       0.689998                          NaN   \n",
       "7              1       0.690828                          NaN   \n",
       "8              5       0.690829                          NaN   \n",
       "9              8       0.691957                          NaN   \n",
       "10             7       0.691970                          NaN   \n",
       "11             2       0.703189                          NaN   \n",
       "12             0      17.239822                          NaN   \n",
       "\n",
       "    validation_score  percent_better_than_baseline  high_variance_cv  \\\n",
       "0           0.634804                     96.317805             False   \n",
       "1           0.639599                     96.289992             False   \n",
       "6           0.689998                     95.997649             False   \n",
       "7           0.690828                     95.992833             False   \n",
       "8           0.690829                     95.992832             False   \n",
       "9           0.691957                     95.986285             False   \n",
       "10          0.691970                     95.986211             False   \n",
       "11          0.703189                     95.921135             False   \n",
       "12         17.239822                      0.000000             False   \n",
       "\n",
       "                                                                                                                                                                                                                                                                                                                                                                        parameters  \n",
       "0   {'Imputer': {'categorical_impute_strategy': 'most_frequent', 'numeric_impute_strategy': 'mean', 'categorical_fill_value': None, 'numeric_fill_value': None}, 'LightGBM Classifier': {'boosting_type': 'gbdt', 'learning_rate': 0.1, 'n_estimators': 100, 'max_depth': 0, 'num_leaves': 31, 'min_child_samples': 20, 'n_jobs': -1, 'bagging_freq': 0, 'bagging_fraction': 0.9}}  \n",
       "1                                                                                                       {'Imputer': {'categorical_impute_strategy': 'most_frequent', 'numeric_impute_strategy': 'mean', 'categorical_fill_value': None, 'numeric_fill_value': None}, 'XGBoost Classifier': {'eta': 0.1, 'max_depth': 6, 'min_child_weight': 1, 'n_estimators': 100, 'n_jobs': -1}}  \n",
       "6                                                                                                                                    {'Imputer': {'categorical_impute_strategy': 'most_frequent', 'numeric_impute_strategy': 'mean', 'categorical_fill_value': None, 'numeric_fill_value': None}, 'Random Forest Classifier': {'n_estimators': 100, 'max_depth': 6, 'n_jobs': -1}}  \n",
       "7                                                                             {'Imputer': {'categorical_impute_strategy': 'most_frequent', 'numeric_impute_strategy': 'mean', 'categorical_fill_value': None, 'numeric_fill_value': None}, 'Elastic Net Classifier': {'penalty': 'elasticnet', 'C': 1.0, 'l1_ratio': 0.15, 'n_jobs': -1, 'multi_class': 'auto', 'solver': 'saga'}}  \n",
       "8                                                                                              {'Imputer': {'categorical_impute_strategy': 'most_frequent', 'numeric_impute_strategy': 'mean', 'categorical_fill_value': None, 'numeric_fill_value': None}, 'Logistic Regression Classifier': {'penalty': 'l2', 'C': 1.0, 'n_jobs': -1, 'multi_class': 'auto', 'solver': 'lbfgs'}}  \n",
       "9                                                       {'Imputer': {'categorical_impute_strategy': 'most_frequent', 'numeric_impute_strategy': 'mean', 'categorical_fill_value': None, 'numeric_fill_value': None}, 'CatBoost Classifier': {'n_estimators': 10, 'eta': 0.03, 'max_depth': 6, 'bootstrap_type': None, 'silent': True, 'allow_writing_files': False, 'n_jobs': -1}}  \n",
       "10                                                    {'Imputer': {'categorical_impute_strategy': 'most_frequent', 'numeric_impute_strategy': 'mean', 'categorical_fill_value': None, 'numeric_fill_value': None}, 'Extra Trees Classifier': {'n_estimators': 100, 'max_features': 'auto', 'max_depth': 6, 'min_samples_split': 2, 'min_weight_fraction_leaf': 0.0, 'n_jobs': -1}}  \n",
       "11                                                                {'Imputer': {'categorical_impute_strategy': 'most_frequent', 'numeric_impute_strategy': 'mean', 'categorical_fill_value': None, 'numeric_fill_value': None}, 'Decision Tree Classifier': {'criterion': 'gini', 'max_features': 'auto', 'max_depth': 6, 'min_samples_split': 2, 'min_weight_fraction_leaf': 0.0}}  \n",
       "12                                                                                                                                                                                                                                                                                                                                   {'Baseline Classifier': {'strategy': 'mode'}}  "
      ]
     },
     "execution_count": 14,
     "metadata": {},
     "output_type": "execute_result"
    }
   ],
   "source": [
    "## check leaderboard\n",
    "model_evalml.rankings"
   ]
  },
  {
   "cell_type": "code",
   "execution_count": 15,
   "id": "5033df97",
   "metadata": {
    "execution": {
     "iopub.execute_input": "2021-09-05T06:25:41.394863Z",
     "iopub.status.busy": "2021-09-05T06:25:41.394163Z",
     "iopub.status.idle": "2021-09-05T06:25:48.306318Z",
     "shell.execute_reply": "2021-09-05T06:25:48.305718Z",
     "shell.execute_reply.started": "2021-09-05T05:51:58.730966Z"
    },
    "papermill": {
     "duration": 6.999401,
     "end_time": "2021-09-05T06:25:48.306467",
     "exception": false,
     "start_time": "2021-09-05T06:25:41.307066",
     "status": "completed"
    },
    "tags": []
   },
   "outputs": [],
   "source": [
    "## generate predictions\n",
    "preds_evalml = model_evalml.best_pipeline.predict_proba(test.to_pandas())[True]"
   ]
  },
  {
   "cell_type": "code",
   "execution_count": 16,
   "id": "f155bfa5",
   "metadata": {
    "execution": {
     "iopub.execute_input": "2021-09-05T06:25:48.464848Z",
     "iopub.status.busy": "2021-09-05T06:25:48.463999Z",
     "iopub.status.idle": "2021-09-05T06:25:48.468070Z",
     "shell.execute_reply": "2021-09-05T06:25:48.467433Z",
     "shell.execute_reply.started": "2021-09-05T05:52:26.133815Z"
    },
    "papermill": {
     "duration": 0.086418,
     "end_time": "2021-09-05T06:25:48.468209",
     "exception": false,
     "start_time": "2021-09-05T06:25:48.381791",
     "status": "completed"
    },
    "tags": []
   },
   "outputs": [
    {
     "data": {
      "text/html": [
       "<div class='datatable'>\n",
       "  <table class='frame'>\n",
       "  <thead>\n",
       "    <tr class='colnames'><td class='row_index'></td><th>id</th><th>claim</th></tr>\n",
       "    <tr class='coltypes'><td class='row_index'></td><td class='int' title='int32'>&#x25AA;&#x25AA;&#x25AA;&#x25AA;</td><td class='float' title='float64'>&#x25AA;&#x25AA;&#x25AA;&#x25AA;&#x25AA;&#x25AA;&#x25AA;&#x25AA;</td></tr>\n",
       "  </thead>\n",
       "  <tbody>\n",
       "    <tr><td class='row_index'>0</td><td>957919</td><td>0.557697</td></tr>\n",
       "    <tr><td class='row_index'>1</td><td>957920</td><td>0.380795</td></tr>\n",
       "    <tr><td class='row_index'>2</td><td>957921</td><td>0.43986</td></tr>\n",
       "    <tr><td class='row_index'>3</td><td>957922</td><td>0.408037</td></tr>\n",
       "    <tr><td class='row_index'>4</td><td>957923</td><td>0.417989</td></tr>\n",
       "    <tr><td class='row_index'>5</td><td>957924</td><td>0.477723</td></tr>\n",
       "    <tr><td class='row_index'>6</td><td>957925</td><td>0.637851</td></tr>\n",
       "    <tr><td class='row_index'>7</td><td>957926</td><td>0.434575</td></tr>\n",
       "    <tr><td class='row_index'>8</td><td>957927</td><td>0.494238</td></tr>\n",
       "    <tr><td class='row_index'>9</td><td>957928</td><td>0.494289</td></tr>\n",
       "  </tbody>\n",
       "  </table>\n",
       "  <div class='footer'>\n",
       "    <div class='frame_dimensions'>10 rows &times; 2 columns</div>\n",
       "  </div>\n",
       "</div>\n"
      ],
      "text/plain": [
       "<Frame#7f5d469d8d20 10x2>"
      ]
     },
     "execution_count": 16,
     "metadata": {},
     "output_type": "execute_result"
    }
   ],
   "source": [
    "## create submission\n",
    "submission = dt.Frame(id=test_ids, claim=dt.Frame(preds_evalml))\n",
    "submission.head()"
   ]
  },
  {
   "cell_type": "code",
   "execution_count": 17,
   "id": "67d31b9c",
   "metadata": {
    "execution": {
     "iopub.execute_input": "2021-09-05T06:25:48.722077Z",
     "iopub.status.busy": "2021-09-05T06:25:48.721317Z",
     "iopub.status.idle": "2021-09-05T06:25:48.725824Z",
     "shell.execute_reply": "2021-09-05T06:25:48.726752Z",
     "shell.execute_reply.started": "2021-09-05T05:52:30.103857Z"
    },
    "papermill": {
     "duration": 0.183171,
     "end_time": "2021-09-05T06:25:48.726965",
     "exception": false,
     "start_time": "2021-09-05T06:25:48.543794",
     "status": "completed"
    },
    "tags": []
   },
   "outputs": [],
   "source": [
    "## save submission\n",
    "submission.to_csv(PATH_EVALML_SUBMISSION)"
   ]
  },
  {
   "cell_type": "code",
   "execution_count": 18,
   "id": "1931fe67",
   "metadata": {
    "_kg_hide-input": true,
    "_kg_hide-output": true,
    "execution": {
     "iopub.execute_input": "2021-09-05T06:25:48.892474Z",
     "iopub.status.busy": "2021-09-05T06:25:48.891493Z",
     "iopub.status.idle": "2021-09-05T06:25:49.295404Z",
     "shell.execute_reply": "2021-09-05T06:25:49.294770Z",
     "shell.execute_reply.started": "2021-09-05T05:52:57.215856Z"
    },
    "papermill": {
     "duration": 0.484292,
     "end_time": "2021-09-05T06:25:49.295552",
     "exception": false,
     "start_time": "2021-09-05T06:25:48.811260",
     "status": "completed"
    },
    "tags": []
   },
   "outputs": [
    {
     "data": {
      "text/plain": [
       "603"
      ]
     },
     "execution_count": 18,
     "metadata": {},
     "output_type": "execute_result"
    }
   ],
   "source": [
    "## clear memory\n",
    "os.remove('evalml_debug.log')\n",
    "del model_evalml\n",
    "\n",
    "gc.collect()"
   ]
  },
  {
   "cell_type": "markdown",
   "id": "2a0a502a",
   "metadata": {
    "papermill": {
     "duration": 0.076966,
     "end_time": "2021-09-05T06:25:49.449122",
     "exception": false,
     "start_time": "2021-09-05T06:25:49.372156",
     "status": "completed"
    },
    "tags": []
   },
   "source": [
    "Read more in [Documentation of EvalML](https://evalml.alteryx.com)"
   ]
  },
  {
   "cell_type": "markdown",
   "id": "41e29ddb",
   "metadata": {
    "papermill": {
     "duration": 0.076219,
     "end_time": "2021-09-05T06:25:49.603060",
     "exception": false,
     "start_time": "2021-09-05T06:25:49.526841",
     "status": "completed"
    },
    "tags": []
   },
   "source": [
    "## FLAML\n",
    "<img src='https://github.com/microsoft/FLAML/raw/main/docs/images/FLAML.png' width='150px'>\n",
    "\n",
    "[FLAML](https://microsoft.github.io/FLAML) is a fast and light automl library open sourced by [Microsoft](https://opensource.microsoft.com)"
   ]
  },
  {
   "cell_type": "code",
   "execution_count": 19,
   "id": "6374d4f0",
   "metadata": {
    "_kg_hide-input": true,
    "_kg_hide-output": true,
    "execution": {
     "iopub.execute_input": "2021-09-05T06:25:49.815369Z",
     "iopub.status.busy": "2021-09-05T06:25:49.814466Z",
     "iopub.status.idle": "2021-09-05T06:26:21.674342Z",
     "shell.execute_reply": "2021-09-05T06:26:21.673614Z",
     "shell.execute_reply.started": "2021-09-04T18:35:03.299652Z"
    },
    "papermill": {
     "duration": 31.994917,
     "end_time": "2021-09-05T06:26:21.674504",
     "exception": false,
     "start_time": "2021-09-05T06:25:49.679587",
     "status": "completed"
    },
    "tags": []
   },
   "outputs": [
    {
     "name": "stdout",
     "output_type": "stream",
     "text": [
      "\u001b[33mWARNING: Running pip as root will break packages and permissions. You should install packages reliably by using venv: https://pip.pypa.io/warnings/venv\u001b[0m\r\n",
      "\u001b[33mWARNING: Running pip as root will break packages and permissions. You should install packages reliably by using venv: https://pip.pypa.io/warnings/venv\u001b[0m\r\n",
      "\u001b[33mWARNING: Running pip as root will break packages and permissions. You should install packages reliably by using venv: https://pip.pypa.io/warnings/venv\u001b[0m\r\n"
     ]
    }
   ],
   "source": [
    "## install packages\n",
    "!python3 -m pip install -q flaml\n",
    "!python3 -m pip install -q -U graphviz\n",
    "!python3 -m pip install -q -U scikit-learn"
   ]
  },
  {
   "cell_type": "code",
   "execution_count": 20,
   "id": "5d7ef007",
   "metadata": {
    "_kg_hide-output": true,
    "execution": {
     "iopub.execute_input": "2021-09-05T06:26:21.836774Z",
     "iopub.status.busy": "2021-09-05T06:26:21.835760Z",
     "iopub.status.idle": "2021-09-05T06:26:22.614072Z",
     "shell.execute_reply": "2021-09-05T06:26:22.613186Z",
     "shell.execute_reply.started": "2021-09-04T18:35:41.693542Z"
    },
    "papermill": {
     "duration": 0.861881,
     "end_time": "2021-09-05T06:26:22.614300",
     "exception": false,
     "start_time": "2021-09-05T06:26:21.752419",
     "status": "completed"
    },
    "tags": []
   },
   "outputs": [],
   "source": [
    "## import packages\n",
    "from flaml import AutoML"
   ]
  },
  {
   "cell_type": "code",
   "execution_count": 21,
   "id": "a0724359",
   "metadata": {
    "_kg_hide-output": true,
    "execution": {
     "iopub.execute_input": "2021-09-05T06:26:22.782229Z",
     "iopub.status.busy": "2021-09-05T06:26:22.781461Z",
     "iopub.status.idle": "2021-09-05T06:41:23.734891Z",
     "shell.execute_reply": "2021-09-05T06:41:23.731536Z",
     "shell.execute_reply.started": "2021-09-04T18:35:42.481862Z"
    },
    "papermill": {
     "duration": 901.043469,
     "end_time": "2021-09-05T06:41:23.735073",
     "exception": false,
     "start_time": "2021-09-05T06:26:22.691604",
     "status": "completed"
    },
    "tags": []
   },
   "outputs": [
    {
     "name": "stderr",
     "output_type": "stream",
     "text": [
      "[flaml.automl: 09-05 06:27:05] {1289} INFO - Evaluation method: holdout\n",
      "[flaml.automl: 09-05 06:27:10] {1318} INFO - Minimizing error metric: 1-roc_auc\n",
      "[flaml.automl: 09-05 06:27:10] {1345} INFO - List of ML learners in AutoML Run: ['lgbm', 'rf', 'catboost', 'xgboost', 'extra_tree', 'lrl1']\n",
      "[flaml.automl: 09-05 06:27:10] {1538} INFO - iteration 0, current learner lgbm\n",
      "[flaml.automl: 09-05 06:27:10] {1702} INFO -  at 46.9s,\tbest lgbm's error=0.4834,\tbest lgbm's error=0.4834\n",
      "[flaml.automl: 09-05 06:27:10] {1538} INFO - iteration 1, current learner lgbm\n",
      "[flaml.automl: 09-05 06:27:11] {1702} INFO -  at 47.3s,\tbest lgbm's error=0.4834,\tbest lgbm's error=0.4834\n",
      "[flaml.automl: 09-05 06:27:11] {1538} INFO - iteration 2, current learner lgbm\n",
      "[flaml.automl: 09-05 06:27:11] {1702} INFO -  at 47.7s,\tbest lgbm's error=0.4740,\tbest lgbm's error=0.4740\n",
      "[flaml.automl: 09-05 06:27:11] {1538} INFO - iteration 3, current learner lgbm\n",
      "[flaml.automl: 09-05 06:27:11] {1702} INFO -  at 48.2s,\tbest lgbm's error=0.4673,\tbest lgbm's error=0.4673\n",
      "[flaml.automl: 09-05 06:27:12] {1538} INFO - iteration 4, current learner lgbm\n",
      "[flaml.automl: 09-05 06:27:12] {1702} INFO -  at 48.6s,\tbest lgbm's error=0.4673,\tbest lgbm's error=0.4673\n",
      "[flaml.automl: 09-05 06:27:12] {1538} INFO - iteration 5, current learner lgbm\n",
      "[flaml.automl: 09-05 06:27:12] {1702} INFO -  at 49.1s,\tbest lgbm's error=0.4602,\tbest lgbm's error=0.4602\n",
      "[flaml.automl: 09-05 06:27:12] {1538} INFO - iteration 6, current learner xgboost\n",
      "[flaml.automl: 09-05 06:27:13] {1702} INFO -  at 49.5s,\tbest xgboost's error=0.4850,\tbest lgbm's error=0.4602\n",
      "[flaml.automl: 09-05 06:27:13] {1538} INFO - iteration 7, current learner lgbm\n",
      "[flaml.automl: 09-05 06:27:13] {1702} INFO -  at 50.1s,\tbest lgbm's error=0.4602,\tbest lgbm's error=0.4602\n",
      "[flaml.automl: 09-05 06:27:13] {1538} INFO - iteration 8, current learner lgbm\n",
      "[flaml.automl: 09-05 06:27:14] {1702} INFO -  at 50.4s,\tbest lgbm's error=0.4602,\tbest lgbm's error=0.4602\n",
      "[flaml.automl: 09-05 06:27:14] {1538} INFO - iteration 9, current learner xgboost\n",
      "[flaml.automl: 09-05 06:27:14] {1702} INFO -  at 50.9s,\tbest xgboost's error=0.4838,\tbest lgbm's error=0.4602\n",
      "[flaml.automl: 09-05 06:27:14] {1538} INFO - iteration 10, current learner lgbm\n",
      "[flaml.automl: 09-05 06:27:15] {1702} INFO -  at 51.6s,\tbest lgbm's error=0.4406,\tbest lgbm's error=0.4406\n",
      "[flaml.automl: 09-05 06:27:15] {1538} INFO - iteration 11, current learner extra_tree\n",
      "[flaml.automl: 09-05 06:27:15] {1702} INFO -  at 52.0s,\tbest extra_tree's error=0.4851,\tbest lgbm's error=0.4406\n",
      "[flaml.automl: 09-05 06:27:15] {1538} INFO - iteration 12, current learner extra_tree\n",
      "[flaml.automl: 09-05 06:27:16] {1702} INFO -  at 52.4s,\tbest extra_tree's error=0.4851,\tbest lgbm's error=0.4406\n",
      "[flaml.automl: 09-05 06:27:16] {1538} INFO - iteration 13, current learner extra_tree\n",
      "[flaml.automl: 09-05 06:27:16] {1702} INFO -  at 52.9s,\tbest extra_tree's error=0.4821,\tbest lgbm's error=0.4406\n",
      "[flaml.automl: 09-05 06:27:16] {1538} INFO - iteration 14, current learner rf\n",
      "[flaml.automl: 09-05 06:27:17] {1702} INFO -  at 54.2s,\tbest rf's error=0.4832,\tbest lgbm's error=0.4406\n",
      "[flaml.automl: 09-05 06:27:17] {1538} INFO - iteration 15, current learner rf\n",
      "[flaml.automl: 09-05 06:27:20] {1702} INFO -  at 56.7s,\tbest rf's error=0.4832,\tbest lgbm's error=0.4406\n",
      "[flaml.automl: 09-05 06:27:20] {1538} INFO - iteration 16, current learner lgbm\n",
      "[flaml.automl: 09-05 06:27:20] {1702} INFO -  at 57.2s,\tbest lgbm's error=0.4406,\tbest lgbm's error=0.4406\n",
      "[flaml.automl: 09-05 06:27:20] {1538} INFO - iteration 17, current learner rf\n",
      "[flaml.automl: 09-05 06:27:23] {1702} INFO -  at 59.5s,\tbest rf's error=0.4825,\tbest lgbm's error=0.4406\n",
      "[flaml.automl: 09-05 06:27:23] {1538} INFO - iteration 18, current learner lgbm\n",
      "[flaml.automl: 09-05 06:27:24] {1702} INFO -  at 61.1s,\tbest lgbm's error=0.4406,\tbest lgbm's error=0.4406\n",
      "[flaml.automl: 09-05 06:27:24] {1538} INFO - iteration 19, current learner lgbm\n",
      "[flaml.automl: 09-05 06:27:25] {1702} INFO -  at 61.9s,\tbest lgbm's error=0.4403,\tbest lgbm's error=0.4403\n",
      "[flaml.automl: 09-05 06:27:25] {1538} INFO - iteration 20, current learner lgbm\n",
      "[flaml.automl: 09-05 06:27:26] {1702} INFO -  at 62.6s,\tbest lgbm's error=0.4403,\tbest lgbm's error=0.4403\n",
      "[flaml.automl: 09-05 06:27:26] {1538} INFO - iteration 21, current learner lgbm\n",
      "[flaml.automl: 09-05 06:27:27] {1702} INFO -  at 63.6s,\tbest lgbm's error=0.4403,\tbest lgbm's error=0.4403\n",
      "[flaml.automl: 09-05 06:27:27] {1538} INFO - iteration 22, current learner lgbm\n",
      "[flaml.automl: 09-05 06:27:28] {1702} INFO -  at 64.3s,\tbest lgbm's error=0.4403,\tbest lgbm's error=0.4403\n",
      "[flaml.automl: 09-05 06:27:28] {1538} INFO - iteration 23, current learner lgbm\n",
      "[flaml.automl: 09-05 06:27:29] {1702} INFO -  at 66.0s,\tbest lgbm's error=0.4403,\tbest lgbm's error=0.4403\n",
      "[flaml.automl: 09-05 06:27:29] {1538} INFO - iteration 24, current learner lgbm\n",
      "[flaml.automl: 09-05 06:27:31] {1702} INFO -  at 68.1s,\tbest lgbm's error=0.3292,\tbest lgbm's error=0.3292\n",
      "[flaml.automl: 09-05 06:27:31] {1538} INFO - iteration 25, current learner extra_tree\n",
      "[flaml.automl: 09-05 06:27:32] {1702} INFO -  at 68.5s,\tbest extra_tree's error=0.4821,\tbest lgbm's error=0.3292\n",
      "[flaml.automl: 09-05 06:27:32] {1538} INFO - iteration 26, current learner lgbm\n",
      "[flaml.automl: 09-05 06:27:34] {1702} INFO -  at 71.1s,\tbest lgbm's error=0.3292,\tbest lgbm's error=0.3292\n",
      "[flaml.automl: 09-05 06:27:34] {1538} INFO - iteration 27, current learner lgbm\n",
      "[flaml.automl: 09-05 06:27:37] {1702} INFO -  at 73.3s,\tbest lgbm's error=0.3173,\tbest lgbm's error=0.3173\n",
      "[flaml.automl: 09-05 06:27:37] {1538} INFO - iteration 28, current learner lgbm\n",
      "[flaml.automl: 09-05 06:27:39] {1702} INFO -  at 75.2s,\tbest lgbm's error=0.3173,\tbest lgbm's error=0.3173\n",
      "[flaml.automl: 09-05 06:27:39] {1538} INFO - iteration 29, current learner lgbm\n",
      "[flaml.automl: 09-05 06:27:41] {1702} INFO -  at 78.1s,\tbest lgbm's error=0.3173,\tbest lgbm's error=0.3173\n",
      "[flaml.automl: 09-05 06:27:41] {1538} INFO - iteration 30, current learner lgbm\n",
      "[flaml.automl: 09-05 06:27:44] {1702} INFO -  at 81.1s,\tbest lgbm's error=0.3031,\tbest lgbm's error=0.3031\n",
      "[flaml.automl: 09-05 06:27:44] {1538} INFO - iteration 31, current learner lgbm\n",
      "[flaml.automl: 09-05 06:27:47] {1702} INFO -  at 83.4s,\tbest lgbm's error=0.3031,\tbest lgbm's error=0.3031\n",
      "[flaml.automl: 09-05 06:27:47] {1538} INFO - iteration 32, current learner lgbm\n",
      "[flaml.automl: 09-05 06:27:52] {1702} INFO -  at 88.4s,\tbest lgbm's error=0.2744,\tbest lgbm's error=0.2744\n",
      "[flaml.automl: 09-05 06:27:52] {1538} INFO - iteration 33, current learner lgbm\n",
      "[flaml.automl: 09-05 06:27:54] {1702} INFO -  at 91.0s,\tbest lgbm's error=0.2744,\tbest lgbm's error=0.2744\n",
      "[flaml.automl: 09-05 06:27:54] {1538} INFO - iteration 34, current learner lgbm\n",
      "[flaml.automl: 09-05 06:28:02] {1702} INFO -  at 99.0s,\tbest lgbm's error=0.2744,\tbest lgbm's error=0.2744\n",
      "[flaml.automl: 09-05 06:28:02] {1538} INFO - iteration 35, current learner catboost\n",
      "[flaml.automl: 09-05 06:28:03] {1702} INFO -  at 100.0s,\tbest catboost's error=0.4991,\tbest lgbm's error=0.2744\n",
      "[flaml.automl: 09-05 06:28:03] {1538} INFO - iteration 36, current learner catboost\n",
      "[flaml.automl: 09-05 06:28:04] {1702} INFO -  at 100.9s,\tbest catboost's error=0.4826,\tbest lgbm's error=0.2744\n",
      "[flaml.automl: 09-05 06:28:04] {1538} INFO - iteration 37, current learner xgboost\n",
      "[flaml.automl: 09-05 06:28:05] {1702} INFO -  at 101.5s,\tbest xgboost's error=0.4819,\tbest lgbm's error=0.2744\n",
      "[flaml.automl: 09-05 06:28:05] {1538} INFO - iteration 38, current learner lgbm\n",
      "[flaml.automl: 09-05 06:28:11] {1702} INFO -  at 107.4s,\tbest lgbm's error=0.2744,\tbest lgbm's error=0.2744\n",
      "[flaml.automl: 09-05 06:28:11] {1538} INFO - iteration 39, current learner catboost\n",
      "[flaml.automl: 09-05 06:28:11] {1702} INFO -  at 108.0s,\tbest catboost's error=0.4826,\tbest lgbm's error=0.2744\n",
      "[flaml.automl: 09-05 06:28:11] {1538} INFO - iteration 40, current learner lgbm\n",
      "[flaml.automl: 09-05 06:28:19] {1702} INFO -  at 115.3s,\tbest lgbm's error=0.2744,\tbest lgbm's error=0.2744\n",
      "[flaml.automl: 09-05 06:28:19] {1538} INFO - iteration 41, current learner catboost\n",
      "[flaml.automl: 09-05 06:28:19] {1702} INFO -  at 116.2s,\tbest catboost's error=0.4751,\tbest lgbm's error=0.2744\n",
      "[flaml.automl: 09-05 06:28:19] {1538} INFO - iteration 42, current learner xgboost\n",
      "[flaml.automl: 09-05 06:28:20] {1702} INFO -  at 116.6s,\tbest xgboost's error=0.4819,\tbest lgbm's error=0.2744\n",
      "[flaml.automl: 09-05 06:28:20] {1538} INFO - iteration 43, current learner lgbm\n",
      "[flaml.automl: 09-05 06:28:27] {1702} INFO -  at 123.3s,\tbest lgbm's error=0.2744,\tbest lgbm's error=0.2744\n",
      "[flaml.automl: 09-05 06:28:27] {1538} INFO - iteration 44, current learner catboost\n",
      "[flaml.automl: 09-05 06:28:27] {1702} INFO -  at 123.8s,\tbest catboost's error=0.4751,\tbest lgbm's error=0.2744\n",
      "[flaml.automl: 09-05 06:28:27] {1538} INFO - iteration 45, current learner extra_tree\n",
      "[flaml.automl: 09-05 06:28:28] {1702} INFO -  at 124.4s,\tbest extra_tree's error=0.4799,\tbest lgbm's error=0.2744\n",
      "[flaml.automl: 09-05 06:28:28] {1538} INFO - iteration 46, current learner catboost\n",
      "[flaml.automl: 09-05 06:28:31] {1702} INFO -  at 128.0s,\tbest catboost's error=0.4291,\tbest lgbm's error=0.2744\n",
      "[flaml.automl: 09-05 06:28:31] {1538} INFO - iteration 47, current learner lgbm\n",
      "[flaml.automl: 09-05 06:28:42] {1702} INFO -  at 138.9s,\tbest lgbm's error=0.2596,\tbest lgbm's error=0.2596\n",
      "[flaml.automl: 09-05 06:28:42] {1538} INFO - iteration 48, current learner catboost\n",
      "[flaml.automl: 09-05 06:28:45] {1702} INFO -  at 141.9s,\tbest catboost's error=0.3903,\tbest lgbm's error=0.2596\n",
      "[flaml.automl: 09-05 06:28:45] {1538} INFO - iteration 49, current learner lgbm\n",
      "[flaml.automl: 09-05 06:29:02] {1702} INFO -  at 158.8s,\tbest lgbm's error=0.2510,\tbest lgbm's error=0.2510\n",
      "[flaml.automl: 09-05 06:29:02] {1538} INFO - iteration 50, current learner lgbm\n",
      "[flaml.automl: 09-05 06:29:13] {1702} INFO -  at 169.3s,\tbest lgbm's error=0.2510,\tbest lgbm's error=0.2510\n",
      "[flaml.automl: 09-05 06:29:13] {1538} INFO - iteration 51, current learner catboost\n",
      "[flaml.automl: 09-05 06:29:15] {1702} INFO -  at 172.1s,\tbest catboost's error=0.3903,\tbest lgbm's error=0.2510\n",
      "[flaml.automl: 09-05 06:29:15] {1538} INFO - iteration 52, current learner lgbm\n",
      "[flaml.automl: 09-05 06:29:46] {1702} INFO -  at 203.2s,\tbest lgbm's error=0.2337,\tbest lgbm's error=0.2337\n",
      "[flaml.automl: 09-05 06:29:46] {1538} INFO - iteration 53, current learner lgbm\n",
      "[flaml.automl: 09-05 06:30:13] {1702} INFO -  at 229.5s,\tbest lgbm's error=0.2318,\tbest lgbm's error=0.2318\n",
      "[flaml.automl: 09-05 06:30:13] {1538} INFO - iteration 54, current learner lgbm\n",
      "[flaml.automl: 09-05 06:30:40] {1702} INFO -  at 257.2s,\tbest lgbm's error=0.2310,\tbest lgbm's error=0.2310\n",
      "[flaml.automl: 09-05 06:30:40] {1538} INFO - iteration 55, current learner lgbm\n",
      "[flaml.automl: 09-05 06:30:58] {1702} INFO -  at 274.2s,\tbest lgbm's error=0.2310,\tbest lgbm's error=0.2310\n",
      "[flaml.automl: 09-05 06:30:58] {1538} INFO - iteration 56, current learner catboost\n",
      "[flaml.automl: 09-05 06:31:00] {1702} INFO -  at 276.4s,\tbest catboost's error=0.3903,\tbest lgbm's error=0.2310\n",
      "[flaml.automl: 09-05 06:31:00] {1538} INFO - iteration 57, current learner lgbm\n",
      "[flaml.automl: 09-05 06:31:11] {1702} INFO -  at 288.0s,\tbest lgbm's error=0.2310,\tbest lgbm's error=0.2310\n",
      "[flaml.automl: 09-05 06:31:11] {1538} INFO - iteration 58, current learner lgbm\n",
      "[flaml.automl: 09-05 06:31:37] {1702} INFO -  at 313.7s,\tbest lgbm's error=0.2186,\tbest lgbm's error=0.2186\n",
      "[flaml.automl: 09-05 06:31:37] {1538} INFO - iteration 59, current learner catboost\n",
      "[flaml.automl: 09-05 06:31:45] {1702} INFO -  at 321.6s,\tbest catboost's error=0.3211,\tbest lgbm's error=0.2186\n",
      "[flaml.automl: 09-05 06:31:45] {1538} INFO - iteration 60, current learner lgbm\n",
      "[flaml.automl: 09-05 06:32:08] {1702} INFO -  at 345.0s,\tbest lgbm's error=0.2186,\tbest lgbm's error=0.2186\n",
      "[flaml.automl: 09-05 06:32:08] {1538} INFO - iteration 61, current learner catboost\n",
      "[flaml.automl: 09-05 06:32:14] {1702} INFO -  at 350.6s,\tbest catboost's error=0.3184,\tbest lgbm's error=0.2186\n",
      "[flaml.automl: 09-05 06:32:14] {1538} INFO - iteration 62, current learner lgbm\n",
      "[flaml.automl: 09-05 06:32:36] {1702} INFO -  at 372.3s,\tbest lgbm's error=0.2186,\tbest lgbm's error=0.2186\n",
      "[flaml.automl: 09-05 06:32:36] {1538} INFO - iteration 63, current learner lgbm\n",
      "[flaml.automl: 09-05 06:32:59] {1702} INFO -  at 395.4s,\tbest lgbm's error=0.2186,\tbest lgbm's error=0.2186\n",
      "[flaml.automl: 09-05 06:32:59] {1538} INFO - iteration 64, current learner xgboost\n",
      "[flaml.automl: 09-05 06:32:59] {1702} INFO -  at 395.9s,\tbest xgboost's error=0.4817,\tbest lgbm's error=0.2186\n",
      "[flaml.automl: 09-05 06:32:59] {1538} INFO - iteration 65, current learner lgbm\n",
      "[flaml.automl: 09-05 06:33:15] {1702} INFO -  at 411.6s,\tbest lgbm's error=0.2186,\tbest lgbm's error=0.2186\n",
      "[flaml.automl: 09-05 06:33:15] {1538} INFO - iteration 66, current learner lrl1\n",
      "[flaml.automl: 09-05 06:33:17] {1702} INFO -  at 414.0s,\tbest lrl1's error=0.4942,\tbest lgbm's error=0.2186\n",
      "[flaml.automl: 09-05 06:33:17] {1538} INFO - iteration 67, current learner lrl1\n",
      "[flaml.automl: 09-05 06:33:20] {1702} INFO -  at 416.3s,\tbest lrl1's error=0.4942,\tbest lgbm's error=0.2186\n",
      "[flaml.automl: 09-05 06:33:20] {1538} INFO - iteration 68, current learner lrl1\n",
      "[flaml.automl: 09-05 06:33:22] {1702} INFO -  at 418.6s,\tbest lrl1's error=0.4942,\tbest lgbm's error=0.2186\n",
      "[flaml.automl: 09-05 06:33:22] {1538} INFO - iteration 69, current learner lrl1\n",
      "[flaml.automl: 09-05 06:33:31] {1702} INFO -  at 428.2s,\tbest lrl1's error=0.4941,\tbest lgbm's error=0.2186\n",
      "[flaml.automl: 09-05 06:33:31] {1538} INFO - iteration 70, current learner lgbm\n",
      "[flaml.automl: 09-05 06:33:49] {1702} INFO -  at 446.2s,\tbest lgbm's error=0.2186,\tbest lgbm's error=0.2186\n",
      "[flaml.automl: 09-05 06:33:49] {1538} INFO - iteration 71, current learner lgbm\n",
      "[flaml.automl: 09-05 06:34:05] {1702} INFO -  at 461.6s,\tbest lgbm's error=0.2186,\tbest lgbm's error=0.2186\n",
      "[flaml.automl: 09-05 06:34:05] {1538} INFO - iteration 72, current learner catboost\n",
      "[flaml.automl: 09-05 06:34:08] {1702} INFO -  at 464.7s,\tbest catboost's error=0.3184,\tbest lgbm's error=0.2186\n",
      "[flaml.automl: 09-05 06:34:08] {1538} INFO - iteration 73, current learner lgbm\n",
      "[flaml.automl: 09-05 06:36:11] {1702} INFO -  at 588.1s,\tbest lgbm's error=0.2052,\tbest lgbm's error=0.2052\n",
      "[flaml.automl: 09-05 06:36:11] {1538} INFO - iteration 74, current learner extra_tree\n",
      "[flaml.automl: 09-05 06:36:12] {1702} INFO -  at 588.3s,\tbest extra_tree's error=0.4799,\tbest lgbm's error=0.2052\n",
      "[flaml.automl: 09-05 06:36:12] {1538} INFO - iteration 75, current learner extra_tree\n",
      "[flaml.automl: 09-05 06:36:12] {1702} INFO -  at 588.5s,\tbest extra_tree's error=0.4799,\tbest lgbm's error=0.2052\n",
      "[flaml.automl: 09-05 06:36:12] {1538} INFO - iteration 76, current learner extra_tree\n",
      "[flaml.automl: 09-05 06:36:12] {1702} INFO -  at 588.6s,\tbest extra_tree's error=0.4799,\tbest lgbm's error=0.2052\n",
      "[flaml.automl: 09-05 06:36:12] {1538} INFO - iteration 77, current learner catboost\n",
      "[flaml.automl: 09-05 06:36:12] {1702} INFO -  at 588.7s,\tbest catboost's error=0.3184,\tbest lgbm's error=0.2052\n",
      "[flaml.automl: 09-05 06:36:12] {1538} INFO - iteration 78, current learner catboost\n",
      "[flaml.automl: 09-05 06:36:12] {1702} INFO -  at 588.8s,\tbest catboost's error=0.3184,\tbest lgbm's error=0.2052\n",
      "[flaml.automl: 09-05 06:36:12] {1538} INFO - iteration 79, current learner extra_tree\n",
      "[flaml.automl: 09-05 06:36:12] {1702} INFO -  at 588.9s,\tbest extra_tree's error=0.4799,\tbest lgbm's error=0.2052\n",
      "[flaml.automl: 09-05 06:36:12] {1538} INFO - iteration 80, current learner xgboost\n",
      "[flaml.automl: 09-05 06:36:12] {1702} INFO -  at 589.2s,\tbest xgboost's error=0.4817,\tbest lgbm's error=0.2052\n",
      "[flaml.automl: 09-05 06:36:12] {1538} INFO - iteration 81, current learner catboost\n",
      "[flaml.automl: 09-05 06:36:13] {1702} INFO -  at 589.3s,\tbest catboost's error=0.3184,\tbest lgbm's error=0.2052\n",
      "[flaml.automl: 09-05 06:36:13] {1538} INFO - iteration 82, current learner extra_tree\n",
      "[flaml.automl: 09-05 06:36:13] {1702} INFO -  at 589.4s,\tbest extra_tree's error=0.4799,\tbest lgbm's error=0.2052\n",
      "[flaml.automl: 09-05 06:36:13] {1538} INFO - iteration 83, current learner catboost\n",
      "[flaml.automl: 09-05 06:36:22] {1702} INFO -  at 598.6s,\tbest catboost's error=0.3184,\tbest lgbm's error=0.2052\n",
      "[flaml.automl: 09-05 06:36:22] {1538} INFO - iteration 84, current learner extra_tree\n",
      "[flaml.automl: 09-05 06:36:22] {1702} INFO -  at 598.8s,\tbest extra_tree's error=0.4799,\tbest lgbm's error=0.2052\n",
      "[flaml.automl: 09-05 06:36:22] {1538} INFO - iteration 85, current learner extra_tree\n",
      "[flaml.automl: 09-05 06:36:22] {1702} INFO -  at 598.9s,\tbest extra_tree's error=0.4799,\tbest lgbm's error=0.2052\n",
      "[flaml.automl: 09-05 06:36:22] {1538} INFO - iteration 86, current learner extra_tree\n",
      "[flaml.automl: 09-05 06:36:22] {1702} INFO -  at 599.1s,\tbest extra_tree's error=0.4799,\tbest lgbm's error=0.2052\n",
      "[flaml.automl: 09-05 06:36:22] {1538} INFO - iteration 87, current learner extra_tree\n",
      "[flaml.automl: 09-05 06:36:23] {1702} INFO -  at 599.3s,\tbest extra_tree's error=0.4799,\tbest lgbm's error=0.2052\n",
      "[flaml.automl: 09-05 06:36:23] {1538} INFO - iteration 88, current learner extra_tree\n",
      "[flaml.automl: 09-05 06:36:23] {1702} INFO -  at 599.5s,\tbest extra_tree's error=0.4799,\tbest lgbm's error=0.2052\n",
      "[flaml.automl: 09-05 06:36:23] {1538} INFO - iteration 89, current learner xgboost\n",
      "[flaml.automl: 09-05 06:36:23] {1702} INFO -  at 599.7s,\tbest xgboost's error=0.4817,\tbest lgbm's error=0.2052\n",
      "[flaml.automl: 09-05 06:36:23] {1778} INFO - selected model: LGBMClassifier(colsample_bytree=0.8711155878601192,\n",
      "               learning_rate=0.17389680187663875, max_bin=512,\n",
      "               min_child_samples=7, n_estimators=697, num_leaves=5,\n",
      "               objective='binary', reg_alpha=0.009610814523794626,\n",
      "               reg_lambda=0.028910052382590305, verbose=-1)\n",
      "[flaml.automl: 09-05 06:41:23] {1829} INFO - retrain lgbm for 300.1s\n",
      "[flaml.automl: 09-05 06:41:23] {1832} INFO - retrained model: LGBMClassifier(colsample_bytree=0.8711155878601192,\n",
      "               learning_rate=0.17389680187663875, max_bin=512,\n",
      "               min_child_samples=7, n_estimators=1986, num_leaves=5,\n",
      "               objective='binary', reg_alpha=0.009610814523794626,\n",
      "               reg_lambda=0.028910052382590305, verbose=-1)\n",
      "[flaml.automl: 09-05 06:41:23] {1369} INFO - fit succeeded\n",
      "[flaml.automl: 09-05 06:41:23] {1370} INFO - Time taken to find the best model: 588.0968182086945\n",
      "[flaml.automl: 09-05 06:41:23] {1380} WARNING - Time taken to find the best model is 98% of the provided time budget and not all estimators' hyperparameter search converged. Consider increasing the time budget.\n"
     ]
    }
   ],
   "source": [
    "## run model\n",
    "model_flaml = AutoML()\n",
    "model_flaml.fit(X_train=train.to_pandas(), y_train=target, metric='roc_auc', time_budget=MAX_MODEL_RUNTIME_SECS)"
   ]
  },
  {
   "cell_type": "code",
   "execution_count": 22,
   "id": "e049a582",
   "metadata": {
    "_kg_hide-output": true,
    "execution": {
     "iopub.execute_input": "2021-09-05T06:41:24.018916Z",
     "iopub.status.busy": "2021-09-05T06:41:24.018243Z",
     "iopub.status.idle": "2021-09-05T06:41:42.033161Z",
     "shell.execute_reply": "2021-09-05T06:41:42.033783Z",
     "shell.execute_reply.started": "2021-09-04T18:46:33.038636Z"
    },
    "papermill": {
     "duration": 18.164001,
     "end_time": "2021-09-05T06:41:42.034001",
     "exception": false,
     "start_time": "2021-09-05T06:41:23.870000",
     "status": "completed"
    },
    "tags": []
   },
   "outputs": [],
   "source": [
    "## generate predictions\n",
    "preds_flaml = model_flaml.predict_proba(test.to_pandas())[:, 1]"
   ]
  },
  {
   "cell_type": "code",
   "execution_count": 23,
   "id": "9348bbec",
   "metadata": {
    "execution": {
     "iopub.execute_input": "2021-09-05T06:41:42.307220Z",
     "iopub.status.busy": "2021-09-05T06:41:42.306374Z",
     "iopub.status.idle": "2021-09-05T06:41:42.313422Z",
     "shell.execute_reply": "2021-09-05T06:41:42.312931Z",
     "shell.execute_reply.started": "2021-09-04T18:46:36.490327Z"
    },
    "papermill": {
     "duration": 0.143419,
     "end_time": "2021-09-05T06:41:42.313623",
     "exception": false,
     "start_time": "2021-09-05T06:41:42.170204",
     "status": "completed"
    },
    "tags": []
   },
   "outputs": [
    {
     "data": {
      "text/html": [
       "<div class='datatable'>\n",
       "  <table class='frame'>\n",
       "  <thead>\n",
       "    <tr class='colnames'><td class='row_index'></td><th>id</th><th>claim</th></tr>\n",
       "    <tr class='coltypes'><td class='row_index'></td><td class='int' title='int32'>&#x25AA;&#x25AA;&#x25AA;&#x25AA;</td><td class='float' title='float64'>&#x25AA;&#x25AA;&#x25AA;&#x25AA;&#x25AA;&#x25AA;&#x25AA;&#x25AA;</td></tr>\n",
       "  </thead>\n",
       "  <tbody>\n",
       "    <tr><td class='row_index'>0</td><td>957919</td><td>0.5217</td></tr>\n",
       "    <tr><td class='row_index'>1</td><td>957920</td><td>0.29014</td></tr>\n",
       "    <tr><td class='row_index'>2</td><td>957921</td><td>0.433299</td></tr>\n",
       "    <tr><td class='row_index'>3</td><td>957922</td><td>0.263984</td></tr>\n",
       "    <tr><td class='row_index'>4</td><td>957923</td><td>0.261445</td></tr>\n",
       "    <tr><td class='row_index'>5</td><td>957924</td><td>0.388713</td></tr>\n",
       "    <tr><td class='row_index'>6</td><td>957925</td><td>0.82714</td></tr>\n",
       "    <tr><td class='row_index'>7</td><td>957926</td><td>0.25082</td></tr>\n",
       "    <tr><td class='row_index'>8</td><td>957927</td><td>0.397971</td></tr>\n",
       "    <tr><td class='row_index'>9</td><td>957928</td><td>0.648069</td></tr>\n",
       "  </tbody>\n",
       "  </table>\n",
       "  <div class='footer'>\n",
       "    <div class='frame_dimensions'>10 rows &times; 2 columns</div>\n",
       "  </div>\n",
       "</div>\n"
      ],
      "text/plain": [
       "<Frame#7f5de6035630 10x2>"
      ]
     },
     "execution_count": 23,
     "metadata": {},
     "output_type": "execute_result"
    }
   ],
   "source": [
    "## create submission\n",
    "submission = dt.Frame(id=test_ids, claim=preds_flaml)\n",
    "submission.head()"
   ]
  },
  {
   "cell_type": "code",
   "execution_count": 24,
   "id": "8588393b",
   "metadata": {
    "execution": {
     "iopub.execute_input": "2021-09-05T06:41:42.652079Z",
     "iopub.status.busy": "2021-09-05T06:41:42.651307Z",
     "iopub.status.idle": "2021-09-05T06:41:42.654611Z",
     "shell.execute_reply": "2021-09-05T06:41:42.655565Z",
     "shell.execute_reply.started": "2021-09-04T18:46:36.499395Z"
    },
    "papermill": {
     "duration": 0.208052,
     "end_time": "2021-09-05T06:41:42.655813",
     "exception": false,
     "start_time": "2021-09-05T06:41:42.447761",
     "status": "completed"
    },
    "tags": []
   },
   "outputs": [],
   "source": [
    "## save submission\n",
    "submission.to_csv(PATH_FLAML_SUBMISSION)"
   ]
  },
  {
   "cell_type": "code",
   "execution_count": 25,
   "id": "fb971a60",
   "metadata": {
    "_kg_hide-input": true,
    "_kg_hide-output": true,
    "execution": {
     "iopub.execute_input": "2021-09-05T06:41:42.940854Z",
     "iopub.status.busy": "2021-09-05T06:41:42.939858Z",
     "iopub.status.idle": "2021-09-05T06:41:43.377076Z",
     "shell.execute_reply": "2021-09-05T06:41:43.377569Z",
     "shell.execute_reply.started": "2021-09-04T18:46:36.573885Z"
    },
    "papermill": {
     "duration": 0.577368,
     "end_time": "2021-09-05T06:41:43.377763",
     "exception": false,
     "start_time": "2021-09-05T06:41:42.800395",
     "status": "completed"
    },
    "tags": []
   },
   "outputs": [
    {
     "data": {
      "text/plain": [
       "515"
      ]
     },
     "execution_count": 25,
     "metadata": {},
     "output_type": "execute_result"
    }
   ],
   "source": [
    "## clear memory\n",
    "if Path('catboost_info').exists():\n",
    "    shutil.rmtree('catboost_info')\n",
    "\n",
    "os.remove('flaml.log')\n",
    "del model_flaml\n",
    "\n",
    "gc.collect()"
   ]
  },
  {
   "cell_type": "markdown",
   "id": "8176ba11",
   "metadata": {
    "papermill": {
     "duration": 0.133372,
     "end_time": "2021-09-05T06:41:43.644163",
     "exception": false,
     "start_time": "2021-09-05T06:41:43.510791",
     "status": "completed"
    },
    "tags": []
   },
   "source": [
    "Read more in [Documentation of FLAML](https://microsoft.github.io/FLAML)"
   ]
  },
  {
   "cell_type": "markdown",
   "id": "57e070e9",
   "metadata": {
    "papermill": {
     "duration": 0.133132,
     "end_time": "2021-09-05T06:41:43.911537",
     "exception": false,
     "start_time": "2021-09-05T06:41:43.778405",
     "status": "completed"
    },
    "tags": []
   },
   "source": [
    "## H2O AutoML\n",
    "<img src='https://docs.h2o.ai/h2o/latest-stable/h2o-docs/_images/h2o-automl-logo.jpg' width='150px'>\n",
    "\n",
    "[H2O AutoML](https://www.h2o.ai/products/h2o-automl) is an automated machine learning library open sourced by [H2O.ai](https://h2o.ai)"
   ]
  },
  {
   "cell_type": "code",
   "execution_count": 26,
   "id": "a478660a",
   "metadata": {
    "execution": {
     "iopub.execute_input": "2021-09-05T06:41:44.213479Z",
     "iopub.status.busy": "2021-09-05T06:41:44.212814Z",
     "iopub.status.idle": "2021-09-05T06:41:44.326404Z",
     "shell.execute_reply": "2021-09-05T06:41:44.325382Z",
     "shell.execute_reply.started": "2021-09-04T18:46:36.822869Z"
    },
    "papermill": {
     "duration": 0.252347,
     "end_time": "2021-09-05T06:41:44.326561",
     "exception": false,
     "start_time": "2021-09-05T06:41:44.074214",
     "status": "completed"
    },
    "tags": []
   },
   "outputs": [],
   "source": [
    "## import packages\n",
    "import h2o\n",
    "from h2o.automl import H2OAutoML"
   ]
  },
  {
   "cell_type": "code",
   "execution_count": 27,
   "id": "cd16185a",
   "metadata": {
    "execution": {
     "iopub.execute_input": "2021-09-05T06:41:44.600042Z",
     "iopub.status.busy": "2021-09-05T06:41:44.598962Z",
     "iopub.status.idle": "2021-09-05T06:46:02.621528Z",
     "shell.execute_reply": "2021-09-05T06:46:02.622118Z",
     "shell.execute_reply.started": "2021-09-04T18:46:36.932544Z"
    },
    "papermill": {
     "duration": 258.161985,
     "end_time": "2021-09-05T06:46:02.622315",
     "exception": false,
     "start_time": "2021-09-05T06:41:44.460330",
     "status": "completed"
    },
    "tags": []
   },
   "outputs": [
    {
     "name": "stdout",
     "output_type": "stream",
     "text": [
      "Checking whether there is an H2O instance running at http://localhost:54321 ..... not found.\n",
      "Attempting to start a local H2O server...\n",
      "  Java Version: openjdk version \"11.0.11\" 2021-04-20; OpenJDK Runtime Environment (build 11.0.11+9-Ubuntu-0ubuntu2.18.04); OpenJDK 64-Bit Server VM (build 11.0.11+9-Ubuntu-0ubuntu2.18.04, mixed mode, sharing)\n",
      "  Starting server from /opt/conda/lib/python3.7/site-packages/h2o/backend/bin/h2o.jar\n",
      "  Ice root: /tmp/tmpi4g_g5ic\n",
      "  JVM stdout: /tmp/tmpi4g_g5ic/h2o_unknownUser_started_from_python.out\n",
      "  JVM stderr: /tmp/tmpi4g_g5ic/h2o_unknownUser_started_from_python.err\n",
      "  Server is running at http://127.0.0.1:54321\n",
      "Connecting to H2O server at http://127.0.0.1:54321 ... successful.\n",
      "Warning: Your H2O cluster version is too old (3 months and 16 days)! Please download and install the latest version from http://h2o.ai/download/\n"
     ]
    },
    {
     "data": {
      "text/html": [
       "<div style=\"overflow:auto\"><table style=\"width:50%\"><tr><td>H2O_cluster_uptime:</td>\n",
       "<td>03 secs</td></tr>\n",
       "<tr><td>H2O_cluster_timezone:</td>\n",
       "<td>Etc/UTC</td></tr>\n",
       "<tr><td>H2O_data_parsing_timezone:</td>\n",
       "<td>UTC</td></tr>\n",
       "<tr><td>H2O_cluster_version:</td>\n",
       "<td>3.32.1.3</td></tr>\n",
       "<tr><td>H2O_cluster_version_age:</td>\n",
       "<td>3 months and 16 days !!!</td></tr>\n",
       "<tr><td>H2O_cluster_name:</td>\n",
       "<td>H2O_from_python_unknownUser_gwvpju</td></tr>\n",
       "<tr><td>H2O_cluster_total_nodes:</td>\n",
       "<td>1</td></tr>\n",
       "<tr><td>H2O_cluster_free_memory:</td>\n",
       "<td>4 Gb</td></tr>\n",
       "<tr><td>H2O_cluster_total_cores:</td>\n",
       "<td>4</td></tr>\n",
       "<tr><td>H2O_cluster_allowed_cores:</td>\n",
       "<td>4</td></tr>\n",
       "<tr><td>H2O_cluster_status:</td>\n",
       "<td>accepting new members, healthy</td></tr>\n",
       "<tr><td>H2O_connection_url:</td>\n",
       "<td>http://127.0.0.1:54321</td></tr>\n",
       "<tr><td>H2O_connection_proxy:</td>\n",
       "<td>{\"http\": null, \"https\": null}</td></tr>\n",
       "<tr><td>H2O_internal_security:</td>\n",
       "<td>False</td></tr>\n",
       "<tr><td>H2O_API_Extensions:</td>\n",
       "<td>Amazon S3, XGBoost, Algos, AutoML, Core V3, TargetEncoder, Core V4</td></tr>\n",
       "<tr><td>Python_version:</td>\n",
       "<td>3.7.10 final</td></tr></table></div>"
      ],
      "text/plain": [
       "--------------------------  ------------------------------------------------------------------\n",
       "H2O_cluster_uptime:         03 secs\n",
       "H2O_cluster_timezone:       Etc/UTC\n",
       "H2O_data_parsing_timezone:  UTC\n",
       "H2O_cluster_version:        3.32.1.3\n",
       "H2O_cluster_version_age:    3 months and 16 days !!!\n",
       "H2O_cluster_name:           H2O_from_python_unknownUser_gwvpju\n",
       "H2O_cluster_total_nodes:    1\n",
       "H2O_cluster_free_memory:    4 Gb\n",
       "H2O_cluster_total_cores:    4\n",
       "H2O_cluster_allowed_cores:  4\n",
       "H2O_cluster_status:         accepting new members, healthy\n",
       "H2O_connection_url:         http://127.0.0.1:54321\n",
       "H2O_connection_proxy:       {\"http\": null, \"https\": null}\n",
       "H2O_internal_security:      False\n",
       "H2O_API_Extensions:         Amazon S3, XGBoost, Algos, AutoML, Core V3, TargetEncoder, Core V4\n",
       "Python_version:             3.7.10 final\n",
       "--------------------------  ------------------------------------------------------------------"
      ]
     },
     "metadata": {},
     "output_type": "display_data"
    },
    {
     "name": "stdout",
     "output_type": "stream",
     "text": [
      "Parse progress: |█████████████████████████████████████████████████████████| 100%\n",
      "Parse progress: |█████████████████████████████████████████████████████████| 100%\n",
      "Parse progress: |█████████████████████████████████████████████████████████| 100%\n"
     ]
    }
   ],
   "source": [
    "## prepare data\n",
    "h2o.init()\n",
    "\n",
    "h2o_train = h2o.H2OFrame(train.to_pandas())\n",
    "h2o_test = h2o.H2OFrame(test.to_pandas())\n",
    "\n",
    "h2o_train['target'] = h2o.H2OFrame(target).asfactor()"
   ]
  },
  {
   "cell_type": "code",
   "execution_count": 28,
   "id": "1c86e927",
   "metadata": {
    "execution": {
     "iopub.execute_input": "2021-09-05T06:46:02.986541Z",
     "iopub.status.busy": "2021-09-05T06:46:02.985865Z",
     "iopub.status.idle": "2021-09-05T06:56:28.228963Z",
     "shell.execute_reply": "2021-09-05T06:56:28.227817Z",
     "shell.execute_reply.started": "2021-09-04T18:50:47.528141Z"
    },
    "papermill": {
     "duration": 625.427116,
     "end_time": "2021-09-05T06:56:28.229275",
     "exception": false,
     "start_time": "2021-09-05T06:46:02.802159",
     "status": "completed"
    },
    "tags": []
   },
   "outputs": [
    {
     "name": "stdout",
     "output_type": "stream",
     "text": [
      "AutoML progress: |████████████████████████████████████████████████████████| 100%\n"
     ]
    }
   ],
   "source": [
    "## run model\n",
    "features = [x for x in h2o_train.columns if x != 'target']\n",
    "\n",
    "model_h2o = H2OAutoML(stopping_metric='AUC', max_runtime_secs=MAX_MODEL_RUNTIME_SECS)\n",
    "model_h2o.train(x=features, y='target', training_frame=h2o_train)"
   ]
  },
  {
   "cell_type": "code",
   "execution_count": 29,
   "id": "4acc8a5b",
   "metadata": {
    "execution": {
     "iopub.execute_input": "2021-09-05T06:56:28.637003Z",
     "iopub.status.busy": "2021-09-05T06:56:28.636312Z",
     "iopub.status.idle": "2021-09-05T06:56:28.663132Z",
     "shell.execute_reply": "2021-09-05T06:56:28.662581Z",
     "shell.execute_reply.started": "2021-09-04T19:01:18.942089Z"
    },
    "papermill": {
     "duration": 0.228968,
     "end_time": "2021-09-05T06:56:28.663284",
     "exception": false,
     "start_time": "2021-09-05T06:56:28.434316",
     "status": "completed"
    },
    "tags": []
   },
   "outputs": [
    {
     "data": {
      "text/html": [
       "<table>\n",
       "<thead>\n",
       "<tr><th>model_id                                        </th><th style=\"text-align: right;\">     auc</th><th style=\"text-align: right;\">  logloss</th><th style=\"text-align: right;\">   aucpr</th><th style=\"text-align: right;\">  mean_per_class_error</th><th style=\"text-align: right;\">    rmse</th><th style=\"text-align: right;\">     mse</th></tr>\n",
       "</thead>\n",
       "<tbody>\n",
       "<tr><td>StackedEnsemble_AllModels_AutoML_20210905_064603</td><td style=\"text-align: right;\">0.638401</td><td style=\"text-align: right;\"> 0.652366</td><td style=\"text-align: right;\">0.644942</td><td style=\"text-align: right;\">              0.499997</td><td style=\"text-align: right;\">0.479156</td><td style=\"text-align: right;\">0.229591</td></tr>\n",
       "<tr><td>XGBoost_2_AutoML_20210905_064603                </td><td style=\"text-align: right;\">0.615248</td><td style=\"text-align: right;\"> 0.67386 </td><td style=\"text-align: right;\">0.628427</td><td style=\"text-align: right;\">              0.5     </td><td style=\"text-align: right;\">0.490335</td><td style=\"text-align: right;\">0.240429</td></tr>\n",
       "<tr><td>XGBoost_1_AutoML_20210905_064603                </td><td style=\"text-align: right;\">0.566819</td><td style=\"text-align: right;\"> 0.683063</td><td style=\"text-align: right;\">0.589298</td><td style=\"text-align: right;\">              0.5     </td><td style=\"text-align: right;\">0.494966</td><td style=\"text-align: right;\">0.244991</td></tr>\n",
       "</tbody>\n",
       "</table>"
      ]
     },
     "metadata": {},
     "output_type": "display_data"
    },
    {
     "data": {
      "text/plain": []
     },
     "execution_count": 29,
     "metadata": {},
     "output_type": "execute_result"
    }
   ],
   "source": [
    "## check leaderboard\n",
    "model_h2o.leaderboard"
   ]
  },
  {
   "cell_type": "code",
   "execution_count": 30,
   "id": "23cabccf",
   "metadata": {
    "execution": {
     "iopub.execute_input": "2021-09-05T06:56:29.093759Z",
     "iopub.status.busy": "2021-09-05T06:56:29.093058Z",
     "iopub.status.idle": "2021-09-05T06:56:33.698935Z",
     "shell.execute_reply": "2021-09-05T06:56:33.698269Z",
     "shell.execute_reply.started": "2021-09-04T19:01:18.978486Z"
    },
    "papermill": {
     "duration": 4.814181,
     "end_time": "2021-09-05T06:56:33.699081",
     "exception": false,
     "start_time": "2021-09-05T06:56:28.884900",
     "status": "completed"
    },
    "tags": []
   },
   "outputs": [
    {
     "name": "stdout",
     "output_type": "stream",
     "text": [
      "stackedensemble prediction progress: |████████████████████████████████████| 100%\n"
     ]
    }
   ],
   "source": [
    "## generate predictions\n",
    "preds_h2o = model_h2o.leader.predict(h2o_test).as_data_frame()['True']"
   ]
  },
  {
   "cell_type": "code",
   "execution_count": 31,
   "id": "1c7f5e3f",
   "metadata": {
    "execution": {
     "iopub.execute_input": "2021-09-05T06:56:34.105805Z",
     "iopub.status.busy": "2021-09-05T06:56:34.105128Z",
     "iopub.status.idle": "2021-09-05T06:56:34.108418Z",
     "shell.execute_reply": "2021-09-05T06:56:34.108945Z",
     "shell.execute_reply.started": "2021-09-04T19:01:23.748106Z"
    },
    "papermill": {
     "duration": 0.211337,
     "end_time": "2021-09-05T06:56:34.109137",
     "exception": false,
     "start_time": "2021-09-05T06:56:33.897800",
     "status": "completed"
    },
    "tags": []
   },
   "outputs": [
    {
     "data": {
      "text/html": [
       "<div class='datatable'>\n",
       "  <table class='frame'>\n",
       "  <thead>\n",
       "    <tr class='colnames'><td class='row_index'></td><th>id</th><th>claim</th></tr>\n",
       "    <tr class='coltypes'><td class='row_index'></td><td class='int' title='int32'>&#x25AA;&#x25AA;&#x25AA;&#x25AA;</td><td class='float' title='float64'>&#x25AA;&#x25AA;&#x25AA;&#x25AA;&#x25AA;&#x25AA;&#x25AA;&#x25AA;</td></tr>\n",
       "  </thead>\n",
       "  <tbody>\n",
       "    <tr><td class='row_index'>0</td><td>957919</td><td>0.416486</td></tr>\n",
       "    <tr><td class='row_index'>1</td><td>957920</td><td>0.416486</td></tr>\n",
       "    <tr><td class='row_index'>2</td><td>957921</td><td>0.416486</td></tr>\n",
       "    <tr><td class='row_index'>3</td><td>957922</td><td>0.416486</td></tr>\n",
       "    <tr><td class='row_index'>4</td><td>957923</td><td>0.416486</td></tr>\n",
       "    <tr><td class='row_index'>5</td><td>957924</td><td>0.416486</td></tr>\n",
       "    <tr><td class='row_index'>6</td><td>957925</td><td>0.544679</td></tr>\n",
       "    <tr><td class='row_index'>7</td><td>957926</td><td>0.416486</td></tr>\n",
       "    <tr><td class='row_index'>8</td><td>957927</td><td>0.416486</td></tr>\n",
       "    <tr><td class='row_index'>9</td><td>957928</td><td>0.812271</td></tr>\n",
       "  </tbody>\n",
       "  </table>\n",
       "  <div class='footer'>\n",
       "    <div class='frame_dimensions'>10 rows &times; 2 columns</div>\n",
       "  </div>\n",
       "</div>\n"
      ],
      "text/plain": [
       "<Frame#7f5de5d730c0 10x2>"
      ]
     },
     "execution_count": 31,
     "metadata": {},
     "output_type": "execute_result"
    }
   ],
   "source": [
    "## create submission\n",
    "submission = dt.Frame(id=test_ids, claim=dt.Frame(preds_h2o))\n",
    "submission.head()"
   ]
  },
  {
   "cell_type": "code",
   "execution_count": 32,
   "id": "b69654df",
   "metadata": {
    "execution": {
     "iopub.execute_input": "2021-09-05T06:56:34.515594Z",
     "iopub.status.busy": "2021-09-05T06:56:34.514904Z",
     "iopub.status.idle": "2021-09-05T06:56:34.580350Z",
     "shell.execute_reply": "2021-09-05T06:56:34.580995Z",
     "shell.execute_reply.started": "2021-09-04T19:01:23.756823Z"
    },
    "papermill": {
     "duration": 0.269558,
     "end_time": "2021-09-05T06:56:34.581224",
     "exception": false,
     "start_time": "2021-09-05T06:56:34.311666",
     "status": "completed"
    },
    "tags": []
   },
   "outputs": [],
   "source": [
    "## save submission\n",
    "submission.to_csv(PATH_H2OAML_SUBMISSION)"
   ]
  },
  {
   "cell_type": "code",
   "execution_count": 33,
   "id": "0cb7a978",
   "metadata": {
    "_kg_hide-input": true,
    "_kg_hide-output": true,
    "execution": {
     "iopub.execute_input": "2021-09-05T06:56:35.013029Z",
     "iopub.status.busy": "2021-09-05T06:56:35.012014Z",
     "iopub.status.idle": "2021-09-05T06:56:35.374270Z",
     "shell.execute_reply": "2021-09-05T06:56:35.374803Z",
     "shell.execute_reply.started": "2021-09-04T19:01:23.8348Z"
    },
    "papermill": {
     "duration": 0.58593,
     "end_time": "2021-09-05T06:56:35.374990",
     "exception": false,
     "start_time": "2021-09-05T06:56:34.789060",
     "status": "completed"
    },
    "tags": []
   },
   "outputs": [
    {
     "name": "stdout",
     "output_type": "stream",
     "text": [
      "H2O session _sid_a401 closed.\n"
     ]
    },
    {
     "data": {
      "text/plain": [
       "429"
      ]
     },
     "execution_count": 33,
     "metadata": {},
     "output_type": "execute_result"
    }
   ],
   "source": [
    "## clear memory\n",
    "h2o.cluster().shutdown()\n",
    "del model_h2o\n",
    "\n",
    "gc.collect()"
   ]
  },
  {
   "cell_type": "markdown",
   "id": "1b89c9ae",
   "metadata": {
    "papermill": {
     "duration": 0.200817,
     "end_time": "2021-09-05T06:56:35.775436",
     "exception": false,
     "start_time": "2021-09-05T06:56:35.574619",
     "status": "completed"
    },
    "tags": []
   },
   "source": [
    "Read more in [Documentation of H2O AutoML](https://docs.h2o.ai/h2o/latest-stable/h2o-docs/automl.html)"
   ]
  },
  {
   "cell_type": "markdown",
   "id": "e9bd839f",
   "metadata": {
    "papermill": {
     "duration": 0.202368,
     "end_time": "2021-09-05T06:56:36.178084",
     "exception": false,
     "start_time": "2021-09-05T06:56:35.975716",
     "status": "completed"
    },
    "tags": []
   },
   "source": [
    "## LightAutoML\n",
    "<img src='https://github.com/sberbank-ai-lab/LightAutoML/blob/master/imgs/LightAutoML_logo_small.png?raw=true' width='150px'>\n",
    "\n",
    "[LightAutoML](https://github.com/sberbank-ai-lab/LightAutoML) is a framework for automatic classification and regression model creation open sourced by [Sberbank](https://www.sberbank.com) AI Lab."
   ]
  },
  {
   "cell_type": "code",
   "execution_count": 34,
   "id": "29350d7b",
   "metadata": {
    "_kg_hide-input": true,
    "_kg_hide-output": true,
    "execution": {
     "iopub.execute_input": "2021-09-05T06:56:36.652669Z",
     "iopub.status.busy": "2021-09-05T06:56:36.590692Z",
     "iopub.status.idle": "2021-09-05T06:58:47.443371Z",
     "shell.execute_reply": "2021-09-05T06:58:47.442782Z",
     "shell.execute_reply.started": "2021-09-04T19:01:24.093417Z"
    },
    "papermill": {
     "duration": 131.058718,
     "end_time": "2021-09-05T06:58:47.443534",
     "exception": false,
     "start_time": "2021-09-05T06:56:36.384816",
     "status": "completed"
    },
    "tags": []
   },
   "outputs": [
    {
     "name": "stdout",
     "output_type": "stream",
     "text": [
      "ERROR: pip's dependency resolver does not currently take into account all the packages that are installed. This behaviour is the source of the following dependency conflicts.\r\n",
      "kornia 0.5.5 requires numpy<=1.19, but you have numpy 1.21.2 which is incompatible.\r\n",
      "autogluon-contrib-nlp 0.0.1b20210201 requires tokenizers==0.9.4, but you have tokenizers 0.10.3 which is incompatible.\r\n",
      "WARNING: Running pip as root will break packages and permissions. You should install packages reliably by using venv: https://pip.pypa.io/warnings/venv\r\n",
      "ERROR: pip's dependency resolver does not currently take into account all the packages that are installed. This behaviour is the source of the following dependency conflicts.\r\n",
      "torchvision 0.9.1 requires torch==1.8.1, but you have torch 1.9.0 which is incompatible.\r\n",
      "lightautoml 0.2.16 requires torch<1.9, but you have torch 1.9.0 which is incompatible.\r\n",
      "kornia 0.5.5 requires numpy<=1.19, but you have numpy 1.21.2 which is incompatible.\r\n",
      "allennlp 2.5.0 requires torch<1.9.0,>=1.6.0, but you have torch 1.9.0 which is incompatible.\r\n",
      "WARNING: Running pip as root will break packages and permissions. You should install packages reliably by using venv: https://pip.pypa.io/warnings/venv\r\n",
      "ERROR: pip's dependency resolver does not currently take into account all the packages that are installed. This behaviour is the source of the following dependency conflicts.\r\n",
      "lightautoml 0.2.16 requires torch<1.9, but you have torch 1.9.0 which is incompatible.\r\n",
      "allennlp 2.5.0 requires torch<1.9.0,>=1.6.0, but you have torch 1.9.0 which is incompatible.\r\n",
      "allennlp 2.5.0 requires torchvision<0.10.0,>=0.8.1, but you have torchvision 0.10.0 which is incompatible.\r\n",
      "WARNING: Running pip as root will break packages and permissions. You should install packages reliably by using venv: https://pip.pypa.io/warnings/venv\r\n"
     ]
    }
   ],
   "source": [
    "## install packages\n",
    "!python3 -m pip install -q lightautoml\n",
    "!python3 -m pip install -q -U torch\n",
    "!python3 -m pip install -q -U torchvision"
   ]
  },
  {
   "cell_type": "code",
   "execution_count": 35,
   "id": "cc98561e",
   "metadata": {
    "execution": {
     "iopub.execute_input": "2021-09-05T06:58:47.857679Z",
     "iopub.status.busy": "2021-09-05T06:58:47.857005Z",
     "iopub.status.idle": "2021-09-05T06:58:50.270884Z",
     "shell.execute_reply": "2021-09-05T06:58:50.270116Z",
     "shell.execute_reply.started": "2021-09-04T19:03:29.795272Z"
    },
    "papermill": {
     "duration": 2.621848,
     "end_time": "2021-09-05T06:58:50.271045",
     "exception": false,
     "start_time": "2021-09-05T06:58:47.649197",
     "status": "completed"
    },
    "tags": []
   },
   "outputs": [],
   "source": [
    "## import packages\n",
    "from lightautoml.automl.presets.tabular_presets import TabularAutoML\n",
    "from lightautoml.tasks import Task"
   ]
  },
  {
   "cell_type": "code",
   "execution_count": 36,
   "id": "8b29a1a5",
   "metadata": {
    "_kg_hide-output": true,
    "execution": {
     "iopub.execute_input": "2021-09-05T06:58:50.696363Z",
     "iopub.status.busy": "2021-09-05T06:58:50.695304Z",
     "iopub.status.idle": "2021-09-05T07:08:22.758914Z",
     "shell.execute_reply": "2021-09-05T07:08:22.758351Z",
     "shell.execute_reply.started": "2021-09-04T19:03:37.495406Z"
    },
    "papermill": {
     "duration": 572.279513,
     "end_time": "2021-09-05T07:08:22.759072",
     "exception": false,
     "start_time": "2021-09-05T06:58:50.479559",
     "status": "completed"
    },
    "tags": []
   },
   "outputs": [
    {
     "name": "stderr",
     "output_type": "stream",
     "text": [
      "Copying TaskTimer may affect the parent PipelineTimer, so copy will create new unlimited TaskTimer\n"
     ]
    },
    {
     "name": "stdout",
     "output_type": "stream",
     "text": [
      "Start automl preset with listed constraints:\n",
      "- time: 600 seconds\n",
      "- cpus: 4 cores\n",
      "- memory: 16 gb\n",
      "\n",
      "Train data shape: (957919, 119)\n",
      "Feats was rejected during automatic roles guess: []\n",
      "\n",
      "\n",
      "Layer 1 ...\n",
      "Train process start. Time left 540.8030400276184 secs\n",
      "Start fitting Lvl_0_Pipe_0_Mod_0_LinearL2 ...\n",
      "\n",
      "===== Start working with fold 0 for Lvl_0_Pipe_0_Mod_0_LinearL2 =====\n",
      "\n",
      "Linear model: C = 1e-05 score = 0.7071240200800339\n",
      "Linear model: C = 5e-05 score = 0.7826485420745058\n",
      "Linear model: C = 0.0001 score = 0.7924084779147242\n",
      "Linear model: C = 0.0005 score = 0.7979261436180876\n",
      "Linear model: C = 0.001 score = 0.7982724930379466\n",
      "Linear model: C = 0.005 score = 0.7984107927563805\n",
      "Linear model: C = 0.01 score = 0.7984107927563805\n",
      "Linear model: C = 0.05 score = 0.7984107927563805\n",
      "\n",
      "===== Start working with fold 1 for Lvl_0_Pipe_0_Mod_0_LinearL2 =====\n",
      "\n",
      "Linear model: C = 1e-05 score = 0.7099818882846585\n",
      "Linear model: C = 5e-05 score = 0.7850737496179123\n",
      "Linear model: C = 0.0001 score = 0.7944055764416302\n",
      "Linear model: C = 0.0005 score = 0.7994209184665576\n",
      "Linear model: C = 0.001 score = 0.799697617183901\n",
      "Linear model: C = 0.005 score = 0.7998205384547684\n",
      "Linear model: C = 0.01 score = 0.7998205384547684\n",
      "Linear model: C = 0.05 score = 0.7998205384547684\n"
     ]
    },
    {
     "name": "stderr",
     "output_type": "stream",
     "text": [
      "Time limit exceeded after calculating fold 1\n"
     ]
    },
    {
     "name": "stdout",
     "output_type": "stream",
     "text": [
      "Lvl_0_Pipe_0_Mod_0_LinearL2 fitting and predicting completed\n",
      "Time left 493.62562346458435\n",
      "Start fitting Selector_LightGBM ...\n",
      "\n",
      "===== Start working with fold 0 for Selector_LightGBM =====\n",
      "\n",
      "Training until validation scores don't improve for 100 rounds\n",
      "[100]\tvalid's auc: 0.805119\n",
      "[200]\tvalid's auc: 0.806746\n",
      "[300]\tvalid's auc: 0.806778\n",
      "Early stopping, best iteration is:\n",
      "[262]\tvalid's auc: 0.80697\n",
      "Selector_LightGBM fitting and predicting completed\n",
      "Start fitting Lvl_0_Pipe_1_Mod_0_LightGBM ...\n",
      "\n",
      "===== Start working with fold 0 for Lvl_0_Pipe_1_Mod_0_LightGBM =====\n",
      "\n",
      "Training until validation scores don't improve for 100 rounds\n",
      "[100]\tvalid's auc: 0.804177\n",
      "[200]\tvalid's auc: 0.806939\n",
      "[300]\tvalid's auc: 0.807725\n",
      "[400]\tvalid's auc: 0.807866\n",
      "[500]\tvalid's auc: 0.807814\n",
      "Early stopping, best iteration is:\n",
      "[409]\tvalid's auc: 0.807894\n"
     ]
    },
    {
     "name": "stderr",
     "output_type": "stream",
     "text": [
      "Time limit exceeded after calculating fold 0\n"
     ]
    },
    {
     "name": "stdout",
     "output_type": "stream",
     "text": [
      "Lvl_0_Pipe_1_Mod_0_LightGBM fitting and predicting completed\n",
      "Time left 34.82653570175171\n"
     ]
    },
    {
     "name": "stderr",
     "output_type": "stream",
     "text": [
      "Time limit exceeded in one of the tasks. AutoML will blend level 1 models.\n"
     ]
    },
    {
     "name": "stdout",
     "output_type": "stream",
     "text": [
      "Blending: Optimization starts with equal weights and score 0.79980098793866\n",
      "Blending, iter 0: score = 0.7998954308612451, weights = [0.6976864 0.3023136]\n",
      "Blending, iter 1: score = 0.7998954308612451, weights = [0.6976864 0.3023136]\n",
      "No score update. Terminated\n",
      "\n",
      "Automl preset training completed in 571.11 seconds.\n"
     ]
    }
   ],
   "source": [
    "## run model\n",
    "train['target'] = dt.Frame(target)\n",
    "\n",
    "model_laml = TabularAutoML(task = Task('binary'), timeout = MAX_MODEL_RUNTIME_SECS)\n",
    "model_laml.fit_predict(train_data=train.to_pandas(), roles={'target': 'target'})\n",
    "\n",
    "del train['target']"
   ]
  },
  {
   "cell_type": "code",
   "execution_count": 37,
   "id": "50c7eafe",
   "metadata": {
    "execution": {
     "iopub.execute_input": "2021-09-05T07:08:23.224774Z",
     "iopub.status.busy": "2021-09-05T07:08:23.223470Z",
     "iopub.status.idle": "2021-09-05T07:08:41.025485Z",
     "shell.execute_reply": "2021-09-05T07:08:41.026306Z",
     "shell.execute_reply.started": "2021-09-04T19:12:53.369383Z"
    },
    "papermill": {
     "duration": 18.04296,
     "end_time": "2021-09-05T07:08:41.026589",
     "exception": false,
     "start_time": "2021-09-05T07:08:22.983629",
     "status": "completed"
    },
    "tags": []
   },
   "outputs": [],
   "source": [
    "## generate predictions\n",
    "preds_laml = model_laml.predict(test.to_pandas()).data.ravel()"
   ]
  },
  {
   "cell_type": "code",
   "execution_count": 38,
   "id": "a280a2cb",
   "metadata": {
    "execution": {
     "iopub.execute_input": "2021-09-05T07:08:41.506178Z",
     "iopub.status.busy": "2021-09-05T07:08:41.505486Z",
     "iopub.status.idle": "2021-09-05T07:08:41.508267Z",
     "shell.execute_reply": "2021-09-05T07:08:41.508770Z",
     "shell.execute_reply.started": "2021-09-04T19:13:12.40609Z"
    },
    "papermill": {
     "duration": 0.234925,
     "end_time": "2021-09-05T07:08:41.508941",
     "exception": false,
     "start_time": "2021-09-05T07:08:41.274016",
     "status": "completed"
    },
    "tags": []
   },
   "outputs": [
    {
     "data": {
      "text/html": [
       "<div class='datatable'>\n",
       "  <table class='frame'>\n",
       "  <thead>\n",
       "    <tr class='colnames'><td class='row_index'></td><th>id</th><th>claim</th></tr>\n",
       "    <tr class='coltypes'><td class='row_index'></td><td class='int' title='int32'>&#x25AA;&#x25AA;&#x25AA;&#x25AA;</td><td class='float' title='float32'>&#x25AA;&#x25AA;&#x25AA;&#x25AA;</td></tr>\n",
       "  </thead>\n",
       "  <tbody>\n",
       "    <tr><td class='row_index'>0</td><td>957919</td><td>0.4213</td></tr>\n",
       "    <tr><td class='row_index'>1</td><td>957920</td><td>0.182804</td></tr>\n",
       "    <tr><td class='row_index'>2</td><td>957921</td><td>0.436794</td></tr>\n",
       "    <tr><td class='row_index'>3</td><td>957922</td><td>0.244025</td></tr>\n",
       "    <tr><td class='row_index'>4</td><td>957923</td><td>0.273309</td></tr>\n",
       "    <tr><td class='row_index'>5</td><td>957924</td><td>0.269304</td></tr>\n",
       "    <tr><td class='row_index'>6</td><td>957925</td><td>0.764747</td></tr>\n",
       "    <tr><td class='row_index'>7</td><td>957926</td><td>0.265707</td></tr>\n",
       "    <tr><td class='row_index'>8</td><td>957927</td><td>0.440218</td></tr>\n",
       "    <tr><td class='row_index'>9</td><td>957928</td><td>0.668147</td></tr>\n",
       "  </tbody>\n",
       "  </table>\n",
       "  <div class='footer'>\n",
       "    <div class='frame_dimensions'>10 rows &times; 2 columns</div>\n",
       "  </div>\n",
       "</div>\n"
      ],
      "text/plain": [
       "<Frame#7f5ccc112ab0 10x2>"
      ]
     },
     "execution_count": 38,
     "metadata": {},
     "output_type": "execute_result"
    }
   ],
   "source": [
    "## create submission\n",
    "submission = dt.Frame(id=test_ids, claim=preds_laml)\n",
    "submission.head()"
   ]
  },
  {
   "cell_type": "code",
   "execution_count": 39,
   "id": "55e2c32c",
   "metadata": {
    "execution": {
     "iopub.execute_input": "2021-09-05T07:08:41.959567Z",
     "iopub.status.busy": "2021-09-05T07:08:41.958942Z",
     "iopub.status.idle": "2021-09-05T07:08:42.010978Z",
     "shell.execute_reply": "2021-09-05T07:08:42.011604Z",
     "shell.execute_reply.started": "2021-09-04T19:13:12.416686Z"
    },
    "papermill": {
     "duration": 0.279055,
     "end_time": "2021-09-05T07:08:42.011852",
     "exception": false,
     "start_time": "2021-09-05T07:08:41.732797",
     "status": "completed"
    },
    "tags": []
   },
   "outputs": [],
   "source": [
    "## save submission\n",
    "submission.to_csv(PATH_LAML_SUBMISSION)"
   ]
  },
  {
   "cell_type": "code",
   "execution_count": 40,
   "id": "588305ec",
   "metadata": {
    "_kg_hide-input": true,
    "_kg_hide-output": true,
    "execution": {
     "iopub.execute_input": "2021-09-05T07:08:42.473899Z",
     "iopub.status.busy": "2021-09-05T07:08:42.473235Z",
     "iopub.status.idle": "2021-09-05T07:08:42.926174Z",
     "shell.execute_reply": "2021-09-05T07:08:42.926661Z",
     "shell.execute_reply.started": "2021-09-04T19:13:12.465622Z"
    },
    "papermill": {
     "duration": 0.681189,
     "end_time": "2021-09-05T07:08:42.926861",
     "exception": false,
     "start_time": "2021-09-05T07:08:42.245672",
     "status": "completed"
    },
    "tags": []
   },
   "outputs": [
    {
     "data": {
      "text/plain": [
       "171"
      ]
     },
     "execution_count": 40,
     "metadata": {},
     "output_type": "execute_result"
    }
   ],
   "source": [
    "## clear memory\n",
    "if Path('catboost_info').exists():\n",
    "    shutil.rmtree('catboost_info')\n",
    "\n",
    "del model_laml\n",
    "\n",
    "gc.collect()"
   ]
  },
  {
   "cell_type": "markdown",
   "id": "3f0c9963",
   "metadata": {
    "papermill": {
     "duration": 0.224941,
     "end_time": "2021-09-05T07:08:43.379872",
     "exception": false,
     "start_time": "2021-09-05T07:08:43.154931",
     "status": "completed"
    },
    "tags": []
   },
   "source": [
    "Read more in [Documentation of LightAutoML](https://lightautoml.readthedocs.io/en/latest/index.html)"
   ]
  },
  {
   "cell_type": "markdown",
   "id": "e569c902",
   "metadata": {
    "papermill": {
     "duration": 0.225933,
     "end_time": "2021-09-05T07:08:43.831590",
     "exception": false,
     "start_time": "2021-09-05T07:08:43.605657",
     "status": "completed"
    },
    "tags": []
   },
   "source": [
    "## MLJAR\n",
    "<img src='https://mljar.com/images/logo/mljar_circle3.svg' width='150px'>\n",
    "\n",
    "[MLJAR](https://mljar.com) is an automated machine learning tool for tabular data"
   ]
  },
  {
   "cell_type": "code",
   "execution_count": 41,
   "id": "b3089bf2",
   "metadata": {
    "_kg_hide-input": true,
    "_kg_hide-output": true,
    "execution": {
     "iopub.execute_input": "2021-09-05T07:08:44.315526Z",
     "iopub.status.busy": "2021-09-05T07:08:44.314907Z",
     "iopub.status.idle": "2021-09-05T07:09:18.707219Z",
     "shell.execute_reply": "2021-09-05T07:09:18.706629Z",
     "shell.execute_reply.started": "2021-09-04T19:13:12.86383Z"
    },
    "papermill": {
     "duration": 34.651192,
     "end_time": "2021-09-05T07:09:18.707388",
     "exception": false,
     "start_time": "2021-09-05T07:08:44.056196",
     "status": "completed"
    },
    "tags": []
   },
   "outputs": [
    {
     "name": "stdout",
     "output_type": "stream",
     "text": [
      "ERROR: pip's dependency resolver does not currently take into account all the packages that are installed. This behaviour is the source of the following dependency conflicts.\r\n",
      "lightautoml 0.2.16 requires lightgbm<3.0,>=2.3, but you have lightgbm 3.2.1 which is incompatible.\r\n",
      "lightautoml 0.2.16 requires torch<1.9, but you have torch 1.9.0 which is incompatible.\r\n",
      "flaml 0.6.2 requires xgboost<=1.3.3,>=0.90, but you have xgboost 1.4.2 which is incompatible.\r\n",
      "evalml 0.28.0 requires xgboost<1.3.0,>=1.1.0, but you have xgboost 1.4.2 which is incompatible.\r\n",
      "WARNING: Running pip as root will break packages and permissions. You should install packages reliably by using venv: https://pip.pypa.io/warnings/venv\r\n",
      "WARNING: Running pip as root will break packages and permissions. You should install packages reliably by using venv: https://pip.pypa.io/warnings/venv\r\n"
     ]
    }
   ],
   "source": [
    "## install packages\n",
    "!python3 -m pip install -q mljar-supervised\n",
    "!python3 -m pip install -q -U graphviz"
   ]
  },
  {
   "cell_type": "code",
   "execution_count": 42,
   "id": "b0cc951e",
   "metadata": {
    "execution": {
     "iopub.execute_input": "2021-09-05T07:09:19.246607Z",
     "iopub.status.busy": "2021-09-05T07:09:19.245582Z",
     "iopub.status.idle": "2021-09-05T07:09:19.363782Z",
     "shell.execute_reply": "2021-09-05T07:09:19.364464Z",
     "shell.execute_reply.started": "2021-09-04T19:13:39.782158Z"
    },
    "papermill": {
     "duration": 0.401726,
     "end_time": "2021-09-05T07:09:19.364657",
     "exception": false,
     "start_time": "2021-09-05T07:09:18.962931",
     "status": "completed"
    },
    "tags": []
   },
   "outputs": [],
   "source": [
    "## import packages\n",
    "from supervised import AutoML"
   ]
  },
  {
   "cell_type": "code",
   "execution_count": 43,
   "id": "3896597d",
   "metadata": {
    "execution": {
     "iopub.execute_input": "2021-09-05T07:09:19.838102Z",
     "iopub.status.busy": "2021-09-05T07:09:19.837097Z",
     "iopub.status.idle": "2021-09-05T07:29:24.092090Z",
     "shell.execute_reply": "2021-09-05T07:29:24.091064Z",
     "shell.execute_reply.started": "2021-09-04T19:13:41.252698Z"
    },
    "papermill": {
     "duration": 1204.484129,
     "end_time": "2021-09-05T07:29:24.092318",
     "exception": false,
     "start_time": "2021-09-05T07:09:19.608189",
     "status": "completed"
    },
    "tags": []
   },
   "outputs": [
    {
     "name": "stdout",
     "output_type": "stream",
     "text": [
      "Linear algorithm was disabled.\n",
      "AutoML directory: ./model_mljar\n",
      "The task is binary_classification with evaluation metric auc\n",
      "AutoML will use algorithms: ['Baseline', 'Decision Tree', 'Random Forest', 'Xgboost', 'Neural Network']\n",
      "AutoML will ensemble availabe models\n",
      "AutoML steps: ['simple_algorithms', 'default_algorithms', 'ensemble']\n",
      "* Step simple_algorithms will try to check up to 2 models\n",
      "1_Baseline auc 0.5 trained in 32.06 seconds\n",
      "2_DecisionTree auc 0.516824 trained in 208.68 seconds\n",
      "* Step default_algorithms will try to check up to 3 models\n",
      "3_Default_Xgboost auc 0.772663 trained in 629.05 seconds\n",
      "* Step ensemble will try to check up to 1 model\n",
      "Ensemble auc 0.772663 trained in 95.48 seconds\n",
      "AutoML fit time: 1200.87 seconds\n",
      "AutoML best model: 3_Default_Xgboost\n"
     ]
    },
    {
     "data": {
      "text/plain": [
       "AutoML(eval_metric='auc', results_path='./model_mljar', total_time_limit=600)"
      ]
     },
     "execution_count": 43,
     "metadata": {},
     "output_type": "execute_result"
    }
   ],
   "source": [
    "## run model\n",
    "model_mljar = AutoML(eval_metric='auc', total_time_limit=MAX_MODEL_RUNTIME_SECS, results_path='./model_mljar')\n",
    "model_mljar.fit(X=train.to_pandas(), y=target)"
   ]
  },
  {
   "cell_type": "code",
   "execution_count": 44,
   "id": "4e0603aa",
   "metadata": {
    "execution": {
     "iopub.execute_input": "2021-09-05T07:29:24.583961Z",
     "iopub.status.busy": "2021-09-05T07:29:24.583235Z",
     "iopub.status.idle": "2021-09-05T07:29:24.586812Z",
     "shell.execute_reply": "2021-09-05T07:29:24.587295Z",
     "shell.execute_reply.started": "2021-09-04T19:33:37.259124Z"
    },
    "papermill": {
     "duration": 0.25534,
     "end_time": "2021-09-05T07:29:24.587475",
     "exception": false,
     "start_time": "2021-09-05T07:29:24.332135",
     "status": "completed"
    },
    "tags": []
   },
   "outputs": [
    {
     "data": {
      "text/html": [
       "<div>\n",
       "<style scoped>\n",
       "    .dataframe tbody tr th:only-of-type {\n",
       "        vertical-align: middle;\n",
       "    }\n",
       "\n",
       "    .dataframe tbody tr th {\n",
       "        vertical-align: top;\n",
       "    }\n",
       "\n",
       "    .dataframe thead th {\n",
       "        text-align: right;\n",
       "    }\n",
       "</style>\n",
       "<table border=\"1\" class=\"dataframe\">\n",
       "  <thead>\n",
       "    <tr style=\"text-align: right;\">\n",
       "      <th></th>\n",
       "      <th>name</th>\n",
       "      <th>model_type</th>\n",
       "      <th>metric_type</th>\n",
       "      <th>metric_value</th>\n",
       "      <th>train_time</th>\n",
       "    </tr>\n",
       "  </thead>\n",
       "  <tbody>\n",
       "    <tr>\n",
       "      <th>0</th>\n",
       "      <td>1_Baseline</td>\n",
       "      <td>Baseline</td>\n",
       "      <td>auc</td>\n",
       "      <td>-0.500000</td>\n",
       "      <td>33.81</td>\n",
       "    </tr>\n",
       "    <tr>\n",
       "      <th>1</th>\n",
       "      <td>2_DecisionTree</td>\n",
       "      <td>Decision Tree</td>\n",
       "      <td>auc</td>\n",
       "      <td>-0.516824</td>\n",
       "      <td>210.93</td>\n",
       "    </tr>\n",
       "    <tr>\n",
       "      <th>2</th>\n",
       "      <td>3_Default_Xgboost</td>\n",
       "      <td>Xgboost</td>\n",
       "      <td>auc</td>\n",
       "      <td>-0.772663</td>\n",
       "      <td>631.58</td>\n",
       "    </tr>\n",
       "    <tr>\n",
       "      <th>3</th>\n",
       "      <td>Ensemble</td>\n",
       "      <td>Ensemble</td>\n",
       "      <td>auc</td>\n",
       "      <td>-0.772663</td>\n",
       "      <td>95.48</td>\n",
       "    </tr>\n",
       "  </tbody>\n",
       "</table>\n",
       "</div>"
      ],
      "text/plain": [
       "                name     model_type metric_type  metric_value  train_time\n",
       "0         1_Baseline       Baseline         auc     -0.500000       33.81\n",
       "1     2_DecisionTree  Decision Tree         auc     -0.516824      210.93\n",
       "2  3_Default_Xgboost        Xgboost         auc     -0.772663      631.58\n",
       "3           Ensemble       Ensemble         auc     -0.772663       95.48"
      ]
     },
     "execution_count": 44,
     "metadata": {},
     "output_type": "execute_result"
    }
   ],
   "source": [
    "## check leaderboard\n",
    "model_mljar.get_leaderboard()"
   ]
  },
  {
   "cell_type": "code",
   "execution_count": 45,
   "id": "2453f660",
   "metadata": {
    "execution": {
     "iopub.execute_input": "2021-09-05T07:29:25.067915Z",
     "iopub.status.busy": "2021-09-05T07:29:25.067253Z",
     "iopub.status.idle": "2021-09-05T07:29:35.700617Z",
     "shell.execute_reply": "2021-09-05T07:29:35.699920Z",
     "shell.execute_reply.started": "2021-09-04T19:33:37.2774Z"
    },
    "papermill": {
     "duration": 10.876231,
     "end_time": "2021-09-05T07:29:35.700782",
     "exception": false,
     "start_time": "2021-09-05T07:29:24.824551",
     "status": "completed"
    },
    "tags": []
   },
   "outputs": [],
   "source": [
    "## generate predictions\n",
    "preds_mljar = model_mljar.predict_proba(test.to_pandas())[:, 1]"
   ]
  },
  {
   "cell_type": "code",
   "execution_count": 46,
   "id": "74d15eff",
   "metadata": {
    "execution": {
     "iopub.execute_input": "2021-09-05T07:29:36.200214Z",
     "iopub.status.busy": "2021-09-05T07:29:36.199293Z",
     "iopub.status.idle": "2021-09-05T07:29:36.203877Z",
     "shell.execute_reply": "2021-09-05T07:29:36.203320Z",
     "shell.execute_reply.started": "2021-09-04T19:33:46.443402Z"
    },
    "papermill": {
     "duration": 0.254389,
     "end_time": "2021-09-05T07:29:36.204028",
     "exception": false,
     "start_time": "2021-09-05T07:29:35.949639",
     "status": "completed"
    },
    "tags": []
   },
   "outputs": [
    {
     "data": {
      "text/html": [
       "<div class='datatable'>\n",
       "  <table class='frame'>\n",
       "  <thead>\n",
       "    <tr class='colnames'><td class='row_index'></td><th>id</th><th>claim</th></tr>\n",
       "    <tr class='coltypes'><td class='row_index'></td><td class='int' title='int32'>&#x25AA;&#x25AA;&#x25AA;&#x25AA;</td><td class='float' title='float32'>&#x25AA;&#x25AA;&#x25AA;&#x25AA;</td></tr>\n",
       "  </thead>\n",
       "  <tbody>\n",
       "    <tr><td class='row_index'>0</td><td>957919</td><td>0.404375</td></tr>\n",
       "    <tr><td class='row_index'>1</td><td>957920</td><td>0.271768</td></tr>\n",
       "    <tr><td class='row_index'>2</td><td>957921</td><td>0.472501</td></tr>\n",
       "    <tr><td class='row_index'>3</td><td>957922</td><td>0.304574</td></tr>\n",
       "    <tr><td class='row_index'>4</td><td>957923</td><td>0.301043</td></tr>\n",
       "    <tr><td class='row_index'>5</td><td>957924</td><td>0.315587</td></tr>\n",
       "    <tr><td class='row_index'>6</td><td>957925</td><td>0.709262</td></tr>\n",
       "    <tr><td class='row_index'>7</td><td>957926</td><td>0.263653</td></tr>\n",
       "    <tr><td class='row_index'>8</td><td>957927</td><td>0.511456</td></tr>\n",
       "    <tr><td class='row_index'>9</td><td>957928</td><td>0.546277</td></tr>\n",
       "  </tbody>\n",
       "  </table>\n",
       "  <div class='footer'>\n",
       "    <div class='frame_dimensions'>10 rows &times; 2 columns</div>\n",
       "  </div>\n",
       "</div>\n"
      ],
      "text/plain": [
       "<Frame#7f5de5d73d50 10x2>"
      ]
     },
     "execution_count": 46,
     "metadata": {},
     "output_type": "execute_result"
    }
   ],
   "source": [
    "## create submission\n",
    "submission = dt.Frame(id=test_ids, claim=preds_mljar)\n",
    "submission.head()"
   ]
  },
  {
   "cell_type": "code",
   "execution_count": 47,
   "id": "bf1b0e80",
   "metadata": {
    "execution": {
     "iopub.execute_input": "2021-09-05T07:29:36.757328Z",
     "iopub.status.busy": "2021-09-05T07:29:36.756458Z",
     "iopub.status.idle": "2021-09-05T07:29:36.762364Z",
     "shell.execute_reply": "2021-09-05T07:29:36.761751Z",
     "shell.execute_reply.started": "2021-09-04T19:33:46.454846Z"
    },
    "papermill": {
     "duration": 0.319883,
     "end_time": "2021-09-05T07:29:36.762528",
     "exception": false,
     "start_time": "2021-09-05T07:29:36.442645",
     "status": "completed"
    },
    "tags": []
   },
   "outputs": [],
   "source": [
    "## save submission\n",
    "submission.to_csv(PATH_MLJAR_SUBMISSION)"
   ]
  },
  {
   "cell_type": "code",
   "execution_count": 48,
   "id": "c72ed998",
   "metadata": {
    "_kg_hide-input": true,
    "_kg_hide-output": true,
    "execution": {
     "iopub.execute_input": "2021-09-05T07:29:37.263786Z",
     "iopub.status.busy": "2021-09-05T07:29:37.262748Z",
     "iopub.status.idle": "2021-09-05T07:29:41.466082Z",
     "shell.execute_reply": "2021-09-05T07:29:41.465502Z",
     "shell.execute_reply.started": "2021-09-04T19:33:46.49737Z"
    },
    "papermill": {
     "duration": 4.455167,
     "end_time": "2021-09-05T07:29:41.466226",
     "exception": false,
     "start_time": "2021-09-05T07:29:37.011059",
     "status": "completed"
    },
    "tags": []
   },
   "outputs": [
    {
     "data": {
      "text/plain": [
       "2646955"
      ]
     },
     "execution_count": 48,
     "metadata": {},
     "output_type": "execute_result"
    }
   ],
   "source": [
    "## clear memory\n",
    "shutil.rmtree('model_mljar')\n",
    "del model_mljar\n",
    "\n",
    "gc.collect()"
   ]
  },
  {
   "cell_type": "markdown",
   "id": "176f2d94",
   "metadata": {
    "papermill": {
     "duration": 0.236238,
     "end_time": "2021-09-05T07:29:41.938840",
     "exception": false,
     "start_time": "2021-09-05T07:29:41.702602",
     "status": "completed"
    },
    "tags": []
   },
   "source": [
    "Read more in [Documentation of MLJAR](https://supervised.mljar.com)"
   ]
  },
  {
   "cell_type": "markdown",
   "id": "8049781b",
   "metadata": {
    "papermill": {
     "duration": 0.236743,
     "end_time": "2021-09-05T07:29:42.416076",
     "exception": false,
     "start_time": "2021-09-05T07:29:42.179333",
     "status": "completed"
    },
    "tags": []
   },
   "source": [
    "## TPOT\n",
    "<img src='https://raw.githubusercontent.com/EpistasisLab/tpot/master/images/tpot-logo.jpg' width='150px'>\n",
    "\n",
    "[TPOT](http://epistasislab.github.io/tpot) is a Python Automated Machine Learning tool that optimizes machine learning pipelines using genetic programming"
   ]
  },
  {
   "cell_type": "code",
   "execution_count": 49,
   "id": "d8020a4b",
   "metadata": {
    "execution": {
     "iopub.execute_input": "2021-09-05T07:29:42.893908Z",
     "iopub.status.busy": "2021-09-05T07:29:42.893237Z",
     "iopub.status.idle": "2021-09-05T07:29:42.961700Z",
     "shell.execute_reply": "2021-09-05T07:29:42.960873Z",
     "shell.execute_reply.started": "2021-09-04T19:33:50.821142Z"
    },
    "papermill": {
     "duration": 0.309523,
     "end_time": "2021-09-05T07:29:42.961874",
     "exception": false,
     "start_time": "2021-09-05T07:29:42.652351",
     "status": "completed"
    },
    "tags": []
   },
   "outputs": [],
   "source": [
    "## import packages\n",
    "from tpot import TPOTClassifier"
   ]
  },
  {
   "cell_type": "code",
   "execution_count": 50,
   "id": "02c20439",
   "metadata": {
    "execution": {
     "iopub.execute_input": "2021-09-05T07:29:43.447427Z",
     "iopub.status.busy": "2021-09-05T07:29:43.446703Z",
     "iopub.status.idle": "2021-09-05T07:47:42.186464Z",
     "shell.execute_reply": "2021-09-05T07:47:42.187002Z",
     "shell.execute_reply.started": "2021-09-04T19:33:50.950161Z"
    },
    "papermill": {
     "duration": 1078.988623,
     "end_time": "2021-09-05T07:47:42.187184",
     "exception": false,
     "start_time": "2021-09-05T07:29:43.198561",
     "status": "completed"
    },
    "tags": []
   },
   "outputs": [
    {
     "data": {
      "text/plain": [
       "TPOTClassifier(max_time_mins=10, n_jobs=2, scoring='roc_auc')"
      ]
     },
     "execution_count": 50,
     "metadata": {},
     "output_type": "execute_result"
    }
   ],
   "source": [
    "## run model\n",
    "model_tpot = TPOTClassifier(scoring='roc_auc', n_jobs=2, max_time_mins=MAX_MODEL_RUNTIME_MINS)\n",
    "model_tpot.fit(features=train.to_pandas(), target=target)"
   ]
  },
  {
   "cell_type": "code",
   "execution_count": 51,
   "id": "598ce4ba",
   "metadata": {
    "execution": {
     "iopub.execute_input": "2021-09-05T07:47:42.673634Z",
     "iopub.status.busy": "2021-09-05T07:47:42.672587Z",
     "iopub.status.idle": "2021-09-05T07:47:42.677700Z",
     "shell.execute_reply": "2021-09-05T07:47:42.678241Z",
     "shell.execute_reply.started": "2021-09-04T19:51:05.5592Z"
    },
    "papermill": {
     "duration": 0.253313,
     "end_time": "2021-09-05T07:47:42.678413",
     "exception": false,
     "start_time": "2021-09-05T07:47:42.425100",
     "status": "completed"
    },
    "tags": []
   },
   "outputs": [
    {
     "name": "stdout",
     "output_type": "stream",
     "text": [
      "Pipeline(steps=[('stackingestimator',\n",
      "                 StackingEstimator(estimator=GaussianNB())),\n",
      "                ('bernoullinb', BernoulliNB(alpha=0.001, fit_prior=False))])\n"
     ]
    }
   ],
   "source": [
    "## check pipeline\n",
    "print(model_tpot.fitted_pipeline_)"
   ]
  },
  {
   "cell_type": "code",
   "execution_count": 52,
   "id": "354f2830",
   "metadata": {
    "execution": {
     "iopub.execute_input": "2021-09-05T07:47:43.163404Z",
     "iopub.status.busy": "2021-09-05T07:47:43.162436Z",
     "iopub.status.idle": "2021-09-05T07:47:47.860128Z",
     "shell.execute_reply": "2021-09-05T07:47:47.861012Z",
     "shell.execute_reply.started": "2021-09-04T19:51:05.573435Z"
    },
    "papermill": {
     "duration": 4.94322,
     "end_time": "2021-09-05T07:47:47.861298",
     "exception": false,
     "start_time": "2021-09-05T07:47:42.918078",
     "status": "completed"
    },
    "tags": []
   },
   "outputs": [],
   "source": [
    "## generate predictions\n",
    "preds_tpot = model_tpot.predict_proba(test.to_pandas())[:, 1]"
   ]
  },
  {
   "cell_type": "code",
   "execution_count": 53,
   "id": "42f59182",
   "metadata": {
    "execution": {
     "iopub.execute_input": "2021-09-05T07:47:48.364665Z",
     "iopub.status.busy": "2021-09-05T07:47:48.363758Z",
     "iopub.status.idle": "2021-09-05T07:47:48.368371Z",
     "shell.execute_reply": "2021-09-05T07:47:48.367884Z",
     "shell.execute_reply.started": "2021-09-04T19:51:10.35977Z"
    },
    "papermill": {
     "duration": 0.2492,
     "end_time": "2021-09-05T07:47:48.368510",
     "exception": false,
     "start_time": "2021-09-05T07:47:48.119310",
     "status": "completed"
    },
    "tags": []
   },
   "outputs": [
    {
     "data": {
      "text/html": [
       "<div class='datatable'>\n",
       "  <table class='frame'>\n",
       "  <thead>\n",
       "    <tr class='colnames'><td class='row_index'></td><th>id</th><th>claim</th></tr>\n",
       "    <tr class='coltypes'><td class='row_index'></td><td class='int' title='int32'>&#x25AA;&#x25AA;&#x25AA;&#x25AA;</td><td class='float' title='float64'>&#x25AA;&#x25AA;&#x25AA;&#x25AA;&#x25AA;&#x25AA;&#x25AA;&#x25AA;</td></tr>\n",
       "  </thead>\n",
       "  <tbody>\n",
       "    <tr><td class='row_index'>0</td><td>957919</td><td>0.517605</td></tr>\n",
       "    <tr><td class='row_index'>1</td><td>957920</td><td>0.50012</td></tr>\n",
       "    <tr><td class='row_index'>2</td><td>957921</td><td>0.519684</td></tr>\n",
       "    <tr><td class='row_index'>3</td><td>957922</td><td>0.491518</td></tr>\n",
       "    <tr><td class='row_index'>4</td><td>957923</td><td>0.476896</td></tr>\n",
       "    <tr><td class='row_index'>5</td><td>957924</td><td>0.534934</td></tr>\n",
       "    <tr><td class='row_index'>6</td><td>957925</td><td>0.483992</td></tr>\n",
       "    <tr><td class='row_index'>7</td><td>957926</td><td>0.495547</td></tr>\n",
       "    <tr><td class='row_index'>8</td><td>957927</td><td>0.524238</td></tr>\n",
       "    <tr><td class='row_index'>9</td><td>957928</td><td>0.465047</td></tr>\n",
       "  </tbody>\n",
       "  </table>\n",
       "  <div class='footer'>\n",
       "    <div class='frame_dimensions'>10 rows &times; 2 columns</div>\n",
       "  </div>\n",
       "</div>\n"
      ],
      "text/plain": [
       "<Frame#7f5ca5350ed0 10x2>"
      ]
     },
     "execution_count": 53,
     "metadata": {},
     "output_type": "execute_result"
    }
   ],
   "source": [
    "## create submission\n",
    "submission = dt.Frame(id=test_ids, claim=preds_tpot)\n",
    "submission.head()"
   ]
  },
  {
   "cell_type": "code",
   "execution_count": 54,
   "id": "920cf668",
   "metadata": {
    "execution": {
     "iopub.execute_input": "2021-09-05T07:47:48.926269Z",
     "iopub.status.busy": "2021-09-05T07:47:48.925457Z",
     "iopub.status.idle": "2021-09-05T07:47:48.928691Z",
     "shell.execute_reply": "2021-09-05T07:47:48.929594Z",
     "shell.execute_reply.started": "2021-09-04T19:51:10.366758Z"
    },
    "papermill": {
     "duration": 0.319219,
     "end_time": "2021-09-05T07:47:48.929822",
     "exception": false,
     "start_time": "2021-09-05T07:47:48.610603",
     "status": "completed"
    },
    "tags": []
   },
   "outputs": [],
   "source": [
    "## save submission\n",
    "submission.to_csv(PATH_TPOT_SUBMISSION)"
   ]
  },
  {
   "cell_type": "code",
   "execution_count": 55,
   "id": "46e3fe44",
   "metadata": {
    "_kg_hide-input": true,
    "_kg_hide-output": true,
    "execution": {
     "iopub.execute_input": "2021-09-05T07:47:49.961711Z",
     "iopub.status.busy": "2021-09-05T07:47:49.960600Z",
     "iopub.status.idle": "2021-09-05T07:47:49.966603Z",
     "shell.execute_reply": "2021-09-05T07:47:49.967098Z",
     "shell.execute_reply.started": "2021-09-04T19:51:10.448661Z"
    },
    "papermill": {
     "duration": 0.786267,
     "end_time": "2021-09-05T07:47:49.967283",
     "exception": false,
     "start_time": "2021-09-05T07:47:49.181016",
     "status": "completed"
    },
    "tags": []
   },
   "outputs": [
    {
     "data": {
      "text/plain": [
       "509"
      ]
     },
     "execution_count": 55,
     "metadata": {},
     "output_type": "execute_result"
    }
   ],
   "source": [
    "## clear memory\n",
    "del model_tpot\n",
    "\n",
    "gc.collect()"
   ]
  },
  {
   "cell_type": "markdown",
   "id": "ea16bbfa",
   "metadata": {
    "papermill": {
     "duration": 0.241794,
     "end_time": "2021-09-05T07:47:50.456385",
     "exception": false,
     "start_time": "2021-09-05T07:47:50.214591",
     "status": "completed"
    },
    "tags": []
   },
   "source": [
    "Read more in [Documentation of TPOT](http://epistasislab.github.io/tpot)"
   ]
  },
  {
   "cell_type": "markdown",
   "id": "636b26be",
   "metadata": {
    "papermill": {
     "duration": 0.241162,
     "end_time": "2021-09-05T07:47:50.942357",
     "exception": false,
     "start_time": "2021-09-05T07:47:50.701195",
     "status": "completed"
    },
    "tags": []
   },
   "source": [
    "## Similar Tutorials\n",
    "Similar tutorials on other Kaggle TPS competitions are published here:\n",
    "\n",
    "* [AutoML Tutorial: TPS (January 2021)](https://www.kaggle.com/rohanrao/automl-tutorial-tps-january-2021)\n",
    "* [AutoML Tutorial: TPS (February 2021)](https://www.kaggle.com/rohanrao/automl-tutorial-tps-february-2021)\n",
    "* [AutoML Tutorial: TPS (March 2021)](https://www.kaggle.com/rohanrao/automl-tutorial-tps-march-2021)\n",
    "* [AutoML Tutorial: TPS (April 2021)](https://www.kaggle.com/rohanrao/automl-tutorial-tps-april-2021)\n",
    "* [AutoML Tutorial: TPS (May 2021)](https://www.kaggle.com/rohanrao/automl-tutorial-tps-may-2021)\n",
    "* [AutoML Tutorial: TPS (June 2021)](https://www.kaggle.com/rohanrao/automl-tutorial-tps-june-2021)\n",
    "* [AutoML Tutorial: TPS (July 2021)](https://www.kaggle.com/rohanrao/automl-tutorial-tps-july-2021)\n",
    "* [AutoML Tutorial: TPS (August 2021)](https://www.kaggle.com/rohanrao/automl-tutorial-tps-august-2021)"
   ]
  }
 ],
 "metadata": {
  "kernelspec": {
   "display_name": "Python 3",
   "language": "python",
   "name": "python3"
  },
  "language_info": {
   "codemirror_mode": {
    "name": "ipython",
    "version": 3
   },
   "file_extension": ".py",
   "mimetype": "text/x-python",
   "name": "python",
   "nbconvert_exporter": "python",
   "pygments_lexer": "ipython3",
   "version": "3.7.10"
  },
  "papermill": {
   "default_parameters": {},
   "duration": 6521.460293,
   "end_time": "2021-09-05T07:47:54.433676",
   "environment_variables": {},
   "exception": null,
   "input_path": "__notebook__.ipynb",
   "output_path": "__notebook__.ipynb",
   "parameters": {},
   "start_time": "2021-09-05T05:59:12.973383",
   "version": "2.3.3"
  },
  "widgets": {
   "application/vnd.jupyter.widget-state+json": {
    "state": {
     "8f037c151a654ee1ac0273d5424e18cd": {
      "model_module": "jupyterlab-plotly",
      "model_module_version": "^5.1.0",
      "model_name": "FigureModel",
      "state": {
       "_config": {
        "plotlyServerURL": "https://plot.ly"
       },
       "_data": [
        {
         "mode": "lines+markers",
         "name": "Best Score",
         "type": "scatter",
         "uid": "88f88989-b4b7-4699-a0ac-076f9f940249",
         "x": [],
         "y": []
        },
        {
         "marker": {
          "color": "gray"
         },
         "mode": "markers",
         "name": "Iter score",
         "type": "scatter",
         "uid": "2c1cf20a-19ef-4db9-8115-0c41a78ca1c4",
         "x": [],
         "y": []
        }
       ],
       "_dom_classes": [],
       "_js2py_layoutDelta": {},
       "_js2py_pointsCallback": {},
       "_js2py_relayout": {},
       "_js2py_restyle": {},
       "_js2py_traceDeltas": {},
       "_js2py_update": {},
       "_last_layout_edit_id": 53,
       "_last_trace_edit_id": 53,
       "_layout": {
        "title": {
         "text": "Pipeline Search: Iteration vs. Log Loss Binary<br><sub>Gray marker indicates the score at current iteration</sub>"
        },
        "xaxis": {
         "rangemode": "tozero",
         "title": {
          "text": "Iteration"
         }
        },
        "yaxis": {
         "title": {
          "text": "Score"
         }
        }
       },
       "_model_module": "jupyterlab-plotly",
       "_model_module_version": "^5.1.0",
       "_model_name": "FigureModel",
       "_py2js_addTraces": {},
       "_py2js_animate": {},
       "_py2js_deleteTraces": {},
       "_py2js_moveTraces": {},
       "_py2js_relayout": null,
       "_py2js_removeLayoutProps": {},
       "_py2js_removeTraceProps": {},
       "_py2js_restyle": null,
       "_py2js_update": null,
       "_view_count": 0,
       "_view_module": "jupyterlab-plotly",
       "_view_module_version": "^5.1.0",
       "_view_name": "FigureView"
      }
     }
    },
    "version_major": 2,
    "version_minor": 0
   }
  }
 },
 "nbformat": 4,
 "nbformat_minor": 5
}
