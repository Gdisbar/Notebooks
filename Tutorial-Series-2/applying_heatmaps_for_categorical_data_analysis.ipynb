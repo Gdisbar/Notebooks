{
  "cells": [
    {
      "metadata": {
        "_cell_guid": "c6058ffb-d4b9-49bc-a9e1-ec11e432d05c",
        "_uuid": "aaccb06e01b054a82bd7bb851fe350dd6838c321",
        "id": "4jzAXs8zKHYX"
      },
      "cell_type": "markdown",
      "source": [
        "# Medical appointment no-shows analysis\n",
        "This analysis is part of the Udacity Data Analysis Nanodegree program and aims to explore a dataset containing aproximately 100k medical appointments from the Brazilian public health system. It is basically divided into four sections: (1) *Introduction*, where the investigation problem is set and the dataset is described; (2) *Data Wrangling*, where the acquired data are cleaned and parsed; (3) *Exploratory Data Analysis*, in which some intuition about the data are built based on the found patterns; (4) *Conclusion*, where the found insights about the problem are reviewed and communicated. Although the main techniques involved in data analysis are applied, we highlight the use of heatmaps to gain insights regarding the study topic.\n",
        "\n",
        "Those readers not interested in the whole data analysis process may read <a href=\"#intro\">Section 1</a>, to get familiar with the data and the investigation problem and then jump directly to <a href=\"#conclusions\">Section 4</a> to find out the analysis results.\n",
        "\n",
        "## Table of Contents\n",
        "* <a href=\"#intro\">1. Introduction</a>\n",
        "  * <a href=\"#sec1.1\"> 1.1. Initial statements </a>\n",
        "  * <a href=\"#sec1.2\"> 1.2. Understanding the data </a>\n",
        "  * <a href=\"#sec1.3\"> 1.3. Hypothesis to be explored </a>\n",
        "\n",
        "* <a href=\"#wrangling\">2. Data Wrangling</a>\n",
        "  * <a href=\"#sec2.1\"> 2.1. General properties </a>\n",
        "  * <a href=\"#sec2.2\"> 2.2. Numerical attributes and outliers</a>\n",
        "    * <a href=\"#sec2.2.1\"> PatientID</a>\n",
        "    * <a href=\"#sec2.2.2\"> AppointmentID</a>   \n",
        "    * <a href=\"#sec2.2.3\"> Checking the Age attribute</a>   \n",
        "    * <a href=\"#sec2.2.4\"> Checking the Handcap attribute</a>   \n",
        "  * <a href=\"#sec2.3\"> 2.3. Categorical attributes</a>\n",
        "    * <a href=\"#sec2.3.1\"> Gender attribute</a>   \n",
        "    * <a href=\"#sec2.3.2\"> Schedule and appointment date</a>\n",
        "    * <a href=\"#sec2.3.3\"> Waiting days</a>\n",
        "    * <a href=\"#sec2.3.4\"> Neighborhood names</a>\n",
        "    * <a href=\"#sec2.3.5\"> No-show class</a>\n",
        "  * <a href=\"#sec2.4\"> 2.4. Data wrangling overview</a>\n",
        "  \n",
        "* <a href=\"#eda\">3. Exploratory Data Analysis</a>\n",
        "  * <a href=\"#EDA_question1\">3.1. Exploring no-showing appointments</a>\n",
        "    * <a href=\"#sec3.1.1\"> Waiting time between the scheduling and the appointment date </a>\n",
        "    * <a href=\"#sec3.1.2\"> A return to assiduity </a>\n",
        "    * <a href=\"#sec3.1.3\"> Neighborhood analysis </a>    \n",
        "  * <a href=\"#EDA_question2\">3.2. Exploring the patient profiles</a>\n",
        "\n",
        "* <a href=\"#conclusions\">4. Conclusions</a>\n",
        "  * <a href=\"#sec4.1\"> 4.1. Analysis limitations</a>\n",
        "  * <a href=\"#sec4.2\"> 4.2. Analysis overview</a>\n",
        "* <a href=\"#references\">References</a>"
      ]
    },
    {
      "metadata": {
        "_cell_guid": "c061fed3-f23d-4fea-a44a-334d6e36b01a",
        "_uuid": "13930dee2cac846dfa417d67f3a69a440a393d58",
        "id": "FkeM_yXrKHYd"
      },
      "cell_type": "markdown",
      "source": [
        "<a id='intro'></a>\n",
        "## 1. Introduction\n",
        "\n",
        "The Brazilian public health system, known as SUS for *Unified Health System* in its acronym in Portuguese, is one of the largest health system in the world <a href=\"#[1]\">[1]</a>, representing government investment of more than 9% of GDP. However, its operation is not homogeneous and there are distinct perceptions of quality from citizens in different regions of the country.\n",
        "\n",
        "This analysis will use the *no-show appointments dataset* which collects information from 100k medical appointments in Brazil and is focused on the question of whether or not patients show up for their appointment, including a set of characteristics about the patient in each row:\n",
        "- ‘ScheduledDay’: tells us on which day the patient set up their appointment.  \n",
        "- ‘Neighborhood’: indicates the location of the hospital.  \n",
        "- ‘Scholarship’: indicates whether or not the patient is enrolled in Brasilian welfare program called *Bolsa Família*.\n",
        "- 'No-show': it says ‘No’ if the patient showed up to their appointment, and ‘Yes’ if they did not show up.\n",
        "\n",
        "This analysis aims to outline some possible reasons for patient no-showing at the scheduled appointments, as well as get insights about the Brazilian public health system. To accomplish this, we will first try to understand the data and the context on which they were collected. We will then proceed to data wrangling and exploratory data analysis, in an iterative process, in order to draw some conclusions about the subject."
      ]
    },
    {
      "metadata": {
        "_cell_guid": "f0da3dcd-7229-4399-b716-a1abfdaf7ccf",
        "_uuid": "5aa2da1744aa19688f3addf6772c84215faf4bd4",
        "id": "3dP3LZssKHYg"
      },
      "cell_type": "markdown",
      "source": [
        "<a id='sec1.1'></a>\n",
        "### 1.1. Initial statements\n",
        "This section sets up import statements for all the packages that will be used throughout this python notebook."
      ]
    },
    {
      "metadata": {
        "_cell_guid": "4b0a51fe-23d9-42d7-8bee-3e11b2759af2",
        "_uuid": "c6ac17b590a77e072ff29eed271cf3cd8405b23e",
        "collapsed": true,
        "trusted": true,
        "id": "D4K0P7-KKHYj"
      },
      "cell_type": "code",
      "source": [
        "# Data analysis packages:\n",
        "import pandas as pd\n",
        "import numpy as np\n",
        "#from datetime import datetime as dt\n",
        "\n",
        "# Visualization packages:\n",
        "import seaborn as sns\n",
        "import matplotlib.pyplot as plt\n",
        "%matplotlib inline"
      ],
      "execution_count": null,
      "outputs": []
    },
    {
      "metadata": {
        "_cell_guid": "d88f0145-ccab-4960-a3f8-b556e16a30b4",
        "_uuid": "8fc380daee966582c708ee8f99f8aecc3251eee6",
        "id": "ilY3i51hKHYk"
      },
      "cell_type": "markdown",
      "source": [
        "<a id='sec1.2'></a>\n",
        "### 1.2. Understanding the data\n",
        "Since the original dataset is available at Kaggle <a href=\"#[2]\">[2]</a>, the first step was to get additional information available on its original repository, as transcripted below:\n",
        "\n",
        ">In response here it goes: Country? Brazil. Is this from private or public service? Or both? Public Sector (Brazil). Primary, secondary, or tertiary care? Primary care, not sure about it. Only physicians? What would be the specialties? We don't have these information.\n",
        "  \n",
        ">First appointment with that specific professional? I believe first appointments are prone to \"no show\". That is a very good hint, we don't have that information yet. Part of the day? Early morning might be worse. (Perhaps in the next version we can include it.\n",
        "\n",
        "Another relevant point is that any information is provided about the source of data. I.e., did these data come from a government agency or were they a compilation from each health unit? Furthermore, besides it is known the data is about public health unit, it is not said from which government sphere they belong to (municipal, state or federal). \n",
        "The absence of such information can result in a biased analysis, since the complex and decentralized Brazilian health system brings inevitable conflicts and contradictions between its associated entities, as identified in <a href=\"#[3]\">[3]</a>.\n",
        "\n",
        "This question regarding the data source was made at the Kaggle discussion forum (available at https://goo.gl/JB4P4d), on which the following answer were given: \n",
        "> This is at municipal level combining the appointments occurred in more then 45 units. As far as we know, the city has 20 million loss a year with no-shows. After so many studies happening in this data the average no-show now is 20%. Its important to mention that all services offered to the municipality were free of charge."
      ]
    },
    {
      "metadata": {
        "_cell_guid": "aeac958b-e007-4bbc-b8db-6068bae488a1",
        "_uuid": "d570dd842c926c1c5c52d796db50afe57ef8dc4e",
        "id": "wFhJiCweKHYl"
      },
      "cell_type": "markdown",
      "source": [
        "In order to define the hypotheses that will lead this analysis, it is first needed to know which information is available in the dataset (attributes). Thus, the first lines of the dataset are shown below:"
      ]
    },
    {
      "metadata": {
        "_cell_guid": "4bd4aee0-da56-49d2-ba02-b50d8f39836f",
        "_uuid": "4bbc1e6a1eeef9b35beb4cb317f2b6aabd12455d",
        "collapsed": true,
        "trusted": true,
        "id": "9sp7qJJOKHYm"
      },
      "cell_type": "code",
      "source": [
        "## Reading the dataset file name:\n",
        "import os\n",
        "print(os.listdir(\"../input\"))"
      ],
      "execution_count": null,
      "outputs": []
    },
    {
      "metadata": {
        "_cell_guid": "bc088309-947c-491d-a989-ae5523610818",
        "_uuid": "a53885fea3779aad4c93c6fad3d8d60129a986f1",
        "collapsed": true,
        "trusted": true,
        "id": "FaFqnDGdKHYn"
      },
      "cell_type": "code",
      "source": [
        "pd.read_csv('../input/KaggleV2-May-2016.csv').head()"
      ],
      "execution_count": null,
      "outputs": []
    },
    {
      "metadata": {
        "_cell_guid": "79c0660e-624f-4e9b-acbb-42136e09a552",
        "_uuid": "d5e4920ff168293cfa7ff340696136bc60cca076",
        "id": "aPgN4pjpKHYp"
      },
      "cell_type": "markdown",
      "source": [
        "<a id='sec1.3'></a>\n",
        "### 1.3. Hypotheses to be explored\n",
        "\n",
        "From the dataset information and its attributes, the following questions can be formulated:\n",
        "* **Regarding the no-showing appointments**:\n",
        "  - Do the patients forget the appointment?\n",
        "  - What is the average waiting time between the scheduling date and the appointment date?\n",
        "  \n",
        "* **Regarding the patient profile**:\n",
        "  - Is there any common characteristics among those patients that miss appointments?\n",
        "  - What is the *missing appointments per patient* relation in the dataset?  \n",
        "  - How many patients have missed an appointment at least once?\n",
        "  - Patients suffering from serious illnesses are more assiduous?\n",
        "\n",
        "* **Regarding the health unit**:\n",
        "  - What are the neighbourhoods with the highest no-showing rate?\n",
        "  - Considering there are common characteristics among those who do not attend the appointments, how these characteristics are geographically distributed?\n",
        "  \n",
        "* **Regarding the data**:\n",
        "  - Is the data balanced in relation to the interest class (showing/no-showing to appointments)?\n",
        "  - How is the data distributed in relation to the location (neighborhood)? I.e. all the units have an equivalent and balanced number of instances?\n",
        "  \n",
        "The analysis conduced in the next sections will try to address some of these questions answering them based on the available dataset."
      ]
    },
    {
      "metadata": {
        "_cell_guid": "9442a9a7-0e01-40b1-9fb6-ea806fe9b93d",
        "_uuid": "d769593e72c3c3cf8dfcd3ee6e5b33c38463bac4",
        "id": "JGxuO-rxKHYr"
      },
      "cell_type": "markdown",
      "source": [
        "-------------"
      ]
    },
    {
      "metadata": {
        "_cell_guid": "6a6cc965-04bb-4e0d-b361-e68129a8a8e5",
        "_uuid": "08533ff30fd2575f66775a11bd07f84e2c629ea3",
        "id": "PDIDGEutKHYs"
      },
      "cell_type": "markdown",
      "source": [
        "<a id='wrangling'></a>\n",
        "## 2. Data Wrangling\n",
        "In this section the data will be loaded and some operations will be performed to inspect data types, to look for missing values or possibly errant data. Data cleaning operations will be executed in the same section where a specific attribute is being analyzed."
      ]
    },
    {
      "metadata": {
        "_cell_guid": "c19040e5-a46f-4440-a8e1-589a8266584e",
        "_uuid": "a091900eb2f2eb6c7dd86cccf405c2283631c532",
        "id": "utJK1IvPKHYt"
      },
      "cell_type": "markdown",
      "source": [
        "<a id='sec2.1'></a>\n",
        "### 2.1. General Properties"
      ]
    },
    {
      "metadata": {
        "_cell_guid": "a7e9af67-c300-4d84-afe0-c78046a96df8",
        "_uuid": "4e778613329e55c100397e463677a41cada8b0ac",
        "collapsed": true,
        "scrolled": true,
        "trusted": true,
        "id": "kc7lHIcFKHYu"
      },
      "cell_type": "code",
      "source": [
        "## Loading the dataset and printing out a few lines:\n",
        "dataset = pd.read_csv('../input/KaggleV2-May-2016.csv')\n",
        "dataset.head(3)"
      ],
      "execution_count": null,
      "outputs": []
    },
    {
      "metadata": {
        "_cell_guid": "94efd872-f9ee-49d6-8af7-f4c149c49ce9",
        "_uuid": "e0566c24805579b84a078fa43bea708301be4dc5",
        "collapsed": true,
        "scrolled": false,
        "trusted": true,
        "id": "IVXACFV9KHYv"
      },
      "cell_type": "code",
      "source": [
        "## Reading dataset general information:\n",
        "dataset.info()"
      ],
      "execution_count": null,
      "outputs": []
    },
    {
      "metadata": {
        "_cell_guid": "d93fdbd5-434b-4d84-8e31-2a2fcd6cb773",
        "_uuid": "65b1bbc3b76218d7756cc30c03224f03318b2fde",
        "id": "bpzQB7u7KHYw"
      },
      "cell_type": "markdown",
      "source": [
        "From the command above, it is possible to notice the dataset has no missing values, since all the attributes have 110.527 instances. However there is no guarantee these values are all consistent. In the way to check it, the *pandas.describe()* method will be applied in the next section to gather information from the numerical attributes."
      ]
    },
    {
      "metadata": {
        "_cell_guid": "4cbfb9f0-a7d0-4e34-9c3b-031280e37147",
        "_uuid": "9c26c1b56b326934cd772b45c01e8540e778d391",
        "id": "3merlKftKHYx"
      },
      "cell_type": "markdown",
      "source": [
        "<a id='sec2.2'></a>\n",
        "### 2.2. Numerical attributes and outliers"
      ]
    },
    {
      "metadata": {
        "_cell_guid": "1281093e-5d22-4a60-ab41-b5478c625d7d",
        "_uuid": "acb865db19098c9a6184727febf3fb0e58f2f2a9",
        "collapsed": true,
        "scrolled": false,
        "trusted": true,
        "id": "TaSm2D8EKHYx"
      },
      "cell_type": "code",
      "source": [
        "## Describing the numerical attributes:\n",
        "dataset.describe()"
      ],
      "execution_count": null,
      "outputs": []
    },
    {
      "metadata": {
        "_cell_guid": "a83010be-5d89-4a08-a27e-9c745443e1d8",
        "_uuid": "709ee67b185f124efa9949ec593d3d8cc592ec6b",
        "id": "dbeHm42CKHYz"
      },
      "cell_type": "markdown",
      "source": [
        "<a id='sec2.2.1'></a>\n",
        "#### 2.2.1 PatientID:\n",
        "This attribute type is originally numerical *(float64 type)*. However, since it represents the patient identification, any numerical operations should not be applied to it and therefore it will be transformed into a string type:"
      ]
    },
    {
      "metadata": {
        "_cell_guid": "388a7ffc-9ac7-4c69-ad8e-a2672a48427e",
        "_uuid": "d50e1d94904fad6deb3a060d445cbbe383607a9e",
        "collapsed": true,
        "trusted": true,
        "id": "huyMVg3yKHY0"
      },
      "cell_type": "code",
      "source": [
        "## Checking the attribute data type:\n",
        "type(dataset['PatientId'][0])"
      ],
      "execution_count": null,
      "outputs": []
    },
    {
      "metadata": {
        "_cell_guid": "6f62a212-3503-494a-98cf-d9379ac19f2c",
        "_uuid": "795115b07ca0fc83e4f73d0b36e44c3e33d210aa",
        "collapsed": true,
        "trusted": true,
        "id": "qq8YwQzrKHY1"
      },
      "cell_type": "code",
      "source": [
        "## Converting the values to int type and then to str type:\n",
        "dataset['PatientId'] = dataset['PatientId'].apply(lambda x: str(int(x)));"
      ],
      "execution_count": null,
      "outputs": []
    },
    {
      "metadata": {
        "_cell_guid": "e88b0e28-9b49-4f31-af07-a69ce80471e5",
        "_uuid": "d9209f1e345fe9e34421e63db8b559640dfbbd44",
        "collapsed": true,
        "scrolled": true,
        "trusted": true,
        "id": "RpDQRwMSKHY2"
      },
      "cell_type": "code",
      "source": [
        "## Counting how many unique patients are in the dataset:\n",
        "len(dataset['PatientId'].unique())"
      ],
      "execution_count": null,
      "outputs": []
    },
    {
      "metadata": {
        "_cell_guid": "3cadff82-84a7-4bcd-8dbf-4955b4234cfc",
        "_uuid": "1698cb05ca03b50666224d468e7ff63403d7ea6d",
        "id": "n_MrTTgmKHY2"
      },
      "cell_type": "markdown",
      "source": [
        "Counting the unique values of this dataset attribute shows us how many unique patients we are dealing with. In this case, there are 62,299 patients which indicates that some patients had more than one appointment *(an average of 1.77 appointments per patient)*. "
      ]
    },
    {
      "metadata": {
        "_cell_guid": "8787292a-da0e-4e69-94c7-a813abb7914b",
        "_uuid": "b546e8c78e05e681684a372ed1f1a583dea62a45",
        "id": "NPZpUwpGKHY3"
      },
      "cell_type": "markdown",
      "source": [
        "<a id='sec2.2.2'></a>\n",
        "#### 2.2.2 AppointmentID:\n",
        "The same can be said for the *AppointmentID* attribute, which will also be transformed into a string type:"
      ]
    },
    {
      "metadata": {
        "_cell_guid": "a408ac48-6122-45a7-9d7a-bb1464c63ff1",
        "_uuid": "34da312058f03cf36a3670ca81c1d7f33a30f714",
        "collapsed": true,
        "trusted": true,
        "id": "yGc-jkeLKHY3"
      },
      "cell_type": "code",
      "source": [
        "## Checking the attribute data type:\n",
        "type(dataset['AppointmentID'][0])"
      ],
      "execution_count": null,
      "outputs": []
    },
    {
      "metadata": {
        "_cell_guid": "b3d50e56-ffeb-468d-a426-6f4e36d42d7c",
        "_uuid": "3bb4885e878edd39df346c137c70432d37e1c1f8",
        "collapsed": true,
        "trusted": true,
        "id": "GFSo5x_uKHY4"
      },
      "cell_type": "code",
      "source": [
        "## Converting the values to int type and then to str type:\n",
        "dataset['AppointmentID'] = dataset['AppointmentID'].apply(lambda x: str(int(x)));"
      ],
      "execution_count": null,
      "outputs": []
    },
    {
      "metadata": {
        "_cell_guid": "a22d11dd-2428-4d4d-bf0b-cb51bf451fb1",
        "_uuid": "6753ea9d2ad0ab9a4ee4ea107a9eeb6b4a4ad994",
        "collapsed": true,
        "scrolled": true,
        "trusted": true,
        "id": "5OMHckZmKHY5"
      },
      "cell_type": "code",
      "source": [
        "## Counting how many unique patients are in the dataset:\n",
        "len(dataset['AppointmentID'].unique())"
      ],
      "execution_count": null,
      "outputs": []
    },
    {
      "metadata": {
        "_cell_guid": "7a2e6466-1db2-4412-aede-42714a763fbf",
        "_uuid": "103e0f000e2cbd617d093df81b55b321cbe41e43",
        "id": "tAem5s1cKHY5"
      },
      "cell_type": "markdown",
      "source": [
        "This attribute seems to be consistent: there are 110,527 instances in the dataset, as well as 110,527 unique values for the appointmentIDs. For last, since each instance corresponds to an appointment register, we will redefine the dataset index to the appointment IDs. "
      ]
    },
    {
      "metadata": {
        "_cell_guid": "bdc5718a-5de5-4af3-a295-876422e58635",
        "_uuid": "9e154080328185277b514a5f98c4806a13fdf5b7",
        "collapsed": true,
        "trusted": true,
        "id": "tXl8pYbLKHY6"
      },
      "cell_type": "code",
      "source": [
        "dataset.set_index('AppointmentID', drop=True, inplace=True)"
      ],
      "execution_count": null,
      "outputs": []
    },
    {
      "metadata": {
        "_cell_guid": "4257860c-914c-4def-8696-b37eecf80e63",
        "_uuid": "df89b8d1fc6446d9569db2fe6d8019ccb4b0ad91",
        "id": "5KEG8HuzKHY6"
      },
      "cell_type": "markdown",
      "source": [
        "<a id='sec2.2.3'></a>\n",
        "#### 2.2.3. Checking the *Age* attribute:\n",
        "It is not possible to be aged $-1$, as well as older than $100$ years calls some attention. The latter will be analyzed appropriately at the exploratory data analysis section, but agest under zero are definitely a mistake. In this case, we will first check how many instances correspond to this before treat them."
      ]
    },
    {
      "metadata": {
        "_cell_guid": "67f6d380-739f-4f95-b238-ea29782e7ce0",
        "_uuid": "da5f28e3e8b3241b867e419299bdfa3c5c03c00d",
        "collapsed": true,
        "scrolled": false,
        "trusted": true,
        "id": "b-9O6cnoKHY7"
      },
      "cell_type": "code",
      "source": [
        "dataset[dataset['Age']<0]"
      ],
      "execution_count": null,
      "outputs": []
    },
    {
      "metadata": {
        "_cell_guid": "79f009f9-e972-4ede-bfe8-224f94ea9754",
        "_uuid": "fc50b50971f821002624b1884580b9eb8589f546",
        "id": "HF6o8W0TKHY7"
      },
      "cell_type": "markdown",
      "source": [
        "Since there is just one occurrence, it will be removed from the dataset."
      ]
    },
    {
      "metadata": {
        "_cell_guid": "f864e45d-9839-4ab2-bf2e-d0daa11046b6",
        "_uuid": "b281a1c3927a9eb3e342c470567cac702b9a626f",
        "collapsed": true,
        "trusted": true,
        "id": "bS4wbOuIKHY7"
      },
      "cell_type": "code",
      "source": [
        "dataset.drop('5775010',inplace=True)  #Removing the anomalous instance\n",
        "# dataset.reset_index(drop=True,inplace=True)  #Reseting the dataset index"
      ],
      "execution_count": null,
      "outputs": []
    },
    {
      "metadata": {
        "_cell_guid": "8554aaae-00c9-42aa-875d-2171dd066051",
        "_uuid": "c62a4aed49a43f51be67e0257e2f613459c04f51",
        "id": "F_g_x0xaKHY8"
      },
      "cell_type": "markdown",
      "source": [
        "<a id='sec2.2.4'></a>\n",
        "#### 2.2.4. Checking the *Handcap* attribute:\n",
        "In the dataset metadata it is said that the *handcap* attribute should cointain a boolean value. However, as seen above, this attribute assumes values from 0 to 4, probably indicating the handicap number for each patient. In this analysis, we will map to 1 any value higher than 0.  \n",
        "\n",
        "Also, there is a typo in the attribute name (it should be *handicap*) which will be corrected later."
      ]
    },
    {
      "metadata": {
        "_cell_guid": "930974d9-8107-46c5-a95d-b35aaf3b75a8",
        "_uuid": "74638653bec7588c1c9d9b4faef2db8f9877071b",
        "collapsed": true,
        "trusted": true,
        "id": "01SsGsf9KHY9"
      },
      "cell_type": "code",
      "source": [
        "## Converting all 'Handcap' values higher than 0 to 1:\n",
        "dataset['Handcap'] = np.where(dataset['Handcap']>0, 1, 0)"
      ],
      "execution_count": null,
      "outputs": []
    },
    {
      "metadata": {
        "_cell_guid": "3617eec6-4cc0-43f3-a663-4bc749f818f7",
        "_uuid": "7cb6fa7eb7e512731d4b9d2767c7e8252535a56c",
        "id": "Y08WtMM0KHY9"
      },
      "cell_type": "markdown",
      "source": [
        "<a id='sec2.3'></a>\n",
        "### 2.3. Categorical attributes"
      ]
    },
    {
      "metadata": {
        "_cell_guid": "7a029013-b70c-4481-9c57-bc48549c878f",
        "_uuid": "d95dc5ae604c0c2d1bffb71092249a6f087448da",
        "collapsed": true,
        "scrolled": true,
        "trusted": true,
        "id": "AQQWx_rvKHY-"
      },
      "cell_type": "code",
      "source": [
        "## Getting information of the categorical attributes:\n",
        "dataset.info()"
      ],
      "execution_count": null,
      "outputs": []
    },
    {
      "metadata": {
        "_cell_guid": "92e50bc1-886a-4574-a647-47fe821fec82",
        "_uuid": "b5961d15adc8f6a2ba7499b7fa613d50849d58b6",
        "id": "7F6inw7XKHY-"
      },
      "cell_type": "markdown",
      "source": [
        "<a id='sec2.3.1'></a>\n",
        "####  2.3.1. *Gender* attribute:\n",
        "Only two values are expected from this attribute. In order to check its consistency, the sum for both **M**ale and **F**emale classes must equal the total number of instances."
      ]
    },
    {
      "metadata": {
        "_cell_guid": "f9cb49bb-53c7-4473-b78f-6fba80e5c52c",
        "_uuid": "883738515c7a1c6cb151822f9ca827b573fe7b48",
        "collapsed": true,
        "trusted": true,
        "id": "-SpuMWQ7KHY_"
      },
      "cell_type": "code",
      "source": [
        "## Counting gender classes\n",
        "dataset.Gender.value_counts()"
      ],
      "execution_count": null,
      "outputs": []
    },
    {
      "metadata": {
        "_cell_guid": "114f3546-ad3a-4399-9732-b86b7d96cb03",
        "_uuid": "b043446ae96ff627f7c1501319c199438c53d9db",
        "id": "vtyccW_rKHY_"
      },
      "cell_type": "markdown",
      "source": [
        "Although the attribute data are consistent (the total sums 110,526 instances), they are unbalanced. Since each instance represents the appointment and not the patient, this fact can be treated in a further analysis."
      ]
    },
    {
      "metadata": {
        "_cell_guid": "475a2101-aaea-4731-934f-8dd82b147202",
        "_uuid": "50f21854d6987481c7d5e01b7bf3cf792fe81f47",
        "id": "IgD7hZLsKHY_"
      },
      "cell_type": "markdown",
      "source": [
        "<a id='sec2.3.2'></a>\n",
        "####  2.3.2. Schedule and appointment date:\n",
        "These two attributes are related to when the patient scheduled *(ScheduledDay)* and to which date he scheduled the appointment *(AppointmentDay)*. It is effort to notice, though, that the *AppointmentDay* has just the date information, while the *ScheduledDay* has both date and time information.  \n",
        "In this section we will parse the data in order to find out how many days have passed between the schedule date and the appointment date. To get to it, we could use the python native datetime library. However, we choose to use the pandas methods for datetime processing <a href=\"#[4]\">[4]</a>."
      ]
    },
    {
      "metadata": {
        "_cell_guid": "37fe6cea-7f18-4218-9843-0a6c5c024390",
        "_uuid": "118da7270e2593af4e13c072b271a72110bdb171",
        "collapsed": true,
        "scrolled": false,
        "trusted": true,
        "id": "1LYjrNwzKHZA"
      },
      "cell_type": "code",
      "source": [
        "## Reading again the dataset first lines to get acquainted with its content:\n",
        "dataset.head(2)"
      ],
      "execution_count": null,
      "outputs": []
    },
    {
      "metadata": {
        "_cell_guid": "ffb84d6c-3559-42c0-a86f-78f391d0197f",
        "_uuid": "44b4f23f0a2b35994b59bd917ae2a2c843aea95f",
        "id": "4FYZ9GVSKHZB"
      },
      "cell_type": "markdown",
      "source": [
        "##### Parsing the date and time information:"
      ]
    },
    {
      "metadata": {
        "_cell_guid": "04701251-7b5b-4021-8268-1c4429caba1c",
        "_uuid": "95c972b8c7aee36ef78bf3437ad1005e288d009c",
        "collapsed": true,
        "scrolled": true,
        "trusted": true,
        "id": "B54WPSrRKHZB"
      },
      "cell_type": "code",
      "source": [
        "## Converting the date information in string to datetime type:\n",
        "dataset['ScheduledDay'] = pd.to_datetime(dataset.ScheduledDay)\n",
        "dataset['AppointmentDay'] = pd.to_datetime(dataset.AppointmentDay)\n",
        "## Creating a new column (attribute) containing just the scheduling time:\n",
        "dataset['ScheduleTime'] = dataset.ScheduledDay.dt.time\n",
        "## Normalizing the \"Day\" columns to keep just the date information (dropping the time info)\n",
        "dataset['ScheduledDay'] = dataset.ScheduledDay.dt.normalize()"
      ],
      "execution_count": null,
      "outputs": []
    },
    {
      "metadata": {
        "_cell_guid": "d474978e-b7c1-4811-bb84-9a1b74683557",
        "_uuid": "e8eca48bfc2fe3c7aaf8a2bd205c690b75b762d2",
        "id": "6kjxrkaCKHZB"
      },
      "cell_type": "markdown",
      "source": [
        "<a id='sec2.3.3'></a>\n",
        "#### 2.3.3. Waiting days"
      ]
    },
    {
      "metadata": {
        "_cell_guid": "5b3ef652-1841-4a59-8781-6887b9d0a791",
        "_uuid": "7eb92dbb1f94a8630e737aa5109b32992f3e4726",
        "id": "_k7juH1tKHZC"
      },
      "cell_type": "markdown",
      "source": [
        "A relevant information for this analysis is the waiting time, in days, between the scheduling date and the appointment date. To get to this, we will first have to parse the data through the following steps:*\n",
        "* Create a \"Waiting Days\" column;\n",
        "* Categorize these values in the context of this analysis;\n",
        "* Insert the correspondent categories in the working dataset."
      ]
    },
    {
      "metadata": {
        "_cell_guid": "0cba693c-6478-4755-a9f3-bbc98fc1c975",
        "_uuid": "1858e78060f3f49662ae512343d7715d8f8db093",
        "collapsed": true,
        "trusted": true,
        "id": "YOvOMBq3KHZC"
      },
      "cell_type": "code",
      "source": [
        "## Since both 'AppointmentDay' and 'ScheduledDay' are pandas.Timestamp type, this operation can be done directly:\n",
        "dataset['WaitingDays'] = dataset['AppointmentDay'] - dataset['ScheduledDay']"
      ],
      "execution_count": null,
      "outputs": []
    },
    {
      "metadata": {
        "_cell_guid": "ed0d8b4a-26eb-4af9-8535-c990f17e070b",
        "_uuid": "db2350dc449a93e5e6fa9043be3e296c50aa9618",
        "id": "3Di_VdA1KHZD"
      },
      "cell_type": "markdown",
      "source": [
        "At this point we must **check the data consistency** in relation to the scheduling and appointment times: if the new *WaitingDays* attribute has negative values, this indicates that the scheduling was performed after the appointment and such record should therefore be handled.  \n",
        "\n",
        "To help further analysis, a function will be created to return a *time delta* type from a given number of days. "
      ]
    },
    {
      "metadata": {
        "_cell_guid": "152d82e4-fdc0-4410-9d13-0778f5bd421d",
        "_uuid": "c067611fac7b9f5f23444795bdc165830599c784",
        "collapsed": true,
        "trusted": true,
        "id": "54yBHr_mKHZD"
      },
      "cell_type": "code",
      "source": [
        "def waiting_days(days):\n",
        "    '''Auxiliary function to parse a date information from string type to python datetime object.\n",
        "    Syntax: waiting_days(days), where:\n",
        "        days = int type with the number of days considered.\n",
        "    Return: a correspondent pandas._libs.tslib.Timedelta data type.\n",
        "    '''\n",
        "    arg = str(days) + ' days'\n",
        "    return pd.tslib.Timedelta(arg)"
      ],
      "execution_count": null,
      "outputs": []
    },
    {
      "metadata": {
        "_cell_guid": "b754d668-78dd-4767-b086-8183898d6fee",
        "_uuid": "915b7fd4a89eab671f820c329f9d6bceb75efb65",
        "collapsed": true,
        "trusted": true,
        "id": "6av0nsxjKHZE"
      },
      "cell_type": "code",
      "source": [
        "## Checking which instances were scheduled after the appointment:\n",
        "dataset[dataset['WaitingDays'] < waiting_days(0)]"
      ],
      "execution_count": null,
      "outputs": []
    },
    {
      "metadata": {
        "_cell_guid": "43a45cd3-6f05-4063-ae1f-d2d6cd841abf",
        "_uuid": "8480308a0652b9869acfb336c32fd094092a0ee4",
        "id": "M_Y48wu1KHZF"
      },
      "cell_type": "markdown",
      "source": [
        "Since few inconsistent instances have been found, they will be removed:"
      ]
    },
    {
      "metadata": {
        "_cell_guid": "a7d0279e-2cea-4883-ba1d-5cda548cdb1d",
        "_uuid": "f2a24e11146cd270a28cd3d22ce9b69c4592938b",
        "collapsed": true,
        "trusted": true,
        "id": "9sq3w7gdKHZF"
      },
      "cell_type": "code",
      "source": [
        "## Recording the inconsistent instances index \n",
        "dropIx = dataset[dataset['WaitingDays'] < waiting_days(0)].index\n",
        "## Dropping these instances from the dataset:\n",
        "dataset.drop(dropIx, inplace=True)"
      ],
      "execution_count": null,
      "outputs": []
    },
    {
      "metadata": {
        "_cell_guid": "3a2a57d0-3689-41f4-9c12-00cc9ff588ff",
        "_uuid": "3d67d3cdb4f6cd7c2a52c1f11d79ddc02e71fab4",
        "id": "ePWnFl7YKHZH"
      },
      "cell_type": "markdown",
      "source": [
        "The latest operations return a *pandas..Timedelta* type. However, in order to analyze this data, we need first to get just the number of days using a native method from pandas library:"
      ]
    },
    {
      "metadata": {
        "_cell_guid": "c8587b79-ba42-4fb9-b20f-da44a47f3c91",
        "_uuid": "ae06e2a068f8435fe3dff5043efebef413f47232",
        "collapsed": true,
        "trusted": true,
        "id": "42NstJcDKHZH"
      },
      "cell_type": "code",
      "source": [
        "dataset['WaitingDays'] = dataset.WaitingDays.dt.days  #Extract just the day value from the full \"timedelta\" object."
      ],
      "execution_count": null,
      "outputs": []
    },
    {
      "metadata": {
        "_cell_guid": "ef2b5f06-c191-43b5-9414-af33dcfd644a",
        "_uuid": "ef550b351e1da8cf6b6789ed7411f64e50022808",
        "id": "KJ0ZLTawKHZH"
      },
      "cell_type": "markdown",
      "source": [
        "Now, making use of another dataframe, these data will be parsed appropriately making use of the *groupBy* method, which returns a *pandas.groupby object* with the selected attributes as index:"
      ]
    },
    {
      "metadata": {
        "_cell_guid": "564fa7dd-a75d-45df-925c-0fa09c575993",
        "_uuid": "00f63f18b2f1d01adaf9723c6e56fe59d5b9ce52",
        "collapsed": true,
        "trusted": true,
        "id": "kzDSeHOJKHZI"
      },
      "cell_type": "code",
      "source": [
        "## Grouping by the 'WaitingDays' and 'No_show' values:\n",
        "waitingdays = dataset.groupby(by=['WaitingDays','No-show'])"
      ],
      "execution_count": null,
      "outputs": []
    },
    {
      "metadata": {
        "_cell_guid": "85921638-e045-4ba3-b54a-3172dd7f5fab",
        "_uuid": "c1ee7280f72a30a5903efd1a8bc87f12dbd2874e",
        "id": "xANWTLJ1KHZI"
      },
      "cell_type": "markdown",
      "source": [
        "Since we are interested in the number of instances grouped either by 'WaitingDays' as by 'No_show' attributes, we will then use the *count()* method. To avoid redundancy we choose the 'PatientId' as reference, but it could be applied in any other attribute. We make use of the *unstack()* method to transform the hierarchical index as dataframe columns again."
      ]
    },
    {
      "metadata": {
        "_cell_guid": "d2378da6-f432-4283-9852-d78eb62902e7",
        "_uuid": "1e08dad4267d4d25ffad2f5bbb25cff935bef6ca",
        "collapsed": true,
        "trusted": true,
        "id": "1dqp7UW0KHZI"
      },
      "cell_type": "code",
      "source": [
        "waitingdays = waitingdays.count()['PatientId'].unstack()"
      ],
      "execution_count": null,
      "outputs": []
    },
    {
      "metadata": {
        "_cell_guid": "bb39918e-e94f-4092-ae2b-ac13d7739b29",
        "_uuid": "5b109f108f52242dda6ea0bb242d8b24e83d0bc8",
        "id": "yDq5-jUgKHZK"
      },
      "cell_type": "markdown",
      "source": [
        "Since for a given number of waiting days there is no correspondent values for *No_show: Yes* or *No_show: No*, the last operation will result in a *NumPy.NaN* value. However, in order to be able to plot these data, we will replace those NaN for 0. We will also reset the index, moving its values to a new dataframe column:"
      ]
    },
    {
      "metadata": {
        "_cell_guid": "16f3064f-5ee0-4aa5-9994-c6f684af388d",
        "_uuid": "7a5c7ea4e9ac14af3654f3b22059e0b341a1165b",
        "collapsed": true,
        "scrolled": false,
        "trusted": true,
        "id": "KogpaPXHKHZK"
      },
      "cell_type": "code",
      "source": [
        "waitingdays.fillna(value=0, inplace=True)\n",
        "waitingdays.reset_index(drop=False, inplace=True)\n",
        "waitingdays.info()"
      ],
      "execution_count": null,
      "outputs": []
    },
    {
      "metadata": {
        "_cell_guid": "d93bca79-028c-4d30-97ee-3420e7f021bd",
        "_uuid": "dd8f96712fa9b83aa9b6b711f59cd368625c9708",
        "id": "vtu4Tm4jKHZK"
      },
      "cell_type": "markdown",
      "source": [
        "The days some patients have to wait to be attended varies from 0 to 128. In order to enable a data analysis, we will categorize them as follow, using the *cut()* method as explained in <a href=\"#[5]\">[5]</a>:\n",
        "\n",
        "Waiting time   | Number of days\n",
        "--- | ---\n",
        "Same day | 0\n",
        "Short | 1 - 3\n",
        "Week | 4 - 7\n",
        "Fortnight | 8 - 15\n",
        "Month | 16 - 30\n",
        "Quarter | 31 - 90\n",
        "Semester | 91 - 180\n",
        "Very long | > 180"
      ]
    },
    {
      "metadata": {
        "_cell_guid": "9dd40202-a995-461a-9b09-6c7407144429",
        "_uuid": "02e2d298e89d6ba3736ad931300b5cd5677bbff9",
        "collapsed": true,
        "trusted": true,
        "id": "ovXaGysjKHZK"
      },
      "cell_type": "code",
      "source": [
        "## Defining the categories label:\n",
        "categories = pd.Series(['Same day: 0', 'Short: 1-3', 'Week: 4-7', 'Fortnight: 8-15', 'Month: 16-30', 'Quarter: 31-90', 'Semester: 91-180', 'Very long: >180'])"
      ],
      "execution_count": null,
      "outputs": []
    },
    {
      "metadata": {
        "_cell_guid": "22386311-1f74-4234-b473-5096949a4593",
        "_uuid": "5900435b82748d66fbb6ed83324962fa4556a330",
        "collapsed": true,
        "trusted": true,
        "id": "_RZ82GKrKHZL"
      },
      "cell_type": "code",
      "source": [
        "## Applying these categories both to the auxiliary and to the working datasets:\n",
        "waitingdays['WaitingDays'] = pd.cut(waitingdays.WaitingDays, bins = [-1,0,3,7,15,30,90,180, 10000], labels=categories)\n",
        "dataset['WaitingCategories'] = pd.cut(dataset.WaitingDays, bins = [-1,0,3,7,15,30,90,180, 10000], labels=categories)"
      ],
      "execution_count": null,
      "outputs": []
    },
    {
      "metadata": {
        "_cell_guid": "1be0b11f-dda2-4a5b-bf43-3cd28af6e91c",
        "_uuid": "e144f8a8f1237db5dbd7fc0b9ea1d580e8fe506f",
        "id": "AozTkvmxKHZM"
      },
      "cell_type": "markdown",
      "source": [
        "The categorized waiting days information was updated in the main dataset. However, it would be useful to parse the auxiliary dataset (*waitingdays*) in order to find out how the no-showing rate is distributed among the waiting categories."
      ]
    },
    {
      "metadata": {
        "_cell_guid": "9568a586-8fe3-4dd7-abb1-e6d85d28f5f4",
        "_uuid": "72e8f9df0a5b8a23b4566c847c69a692a4c3a101",
        "collapsed": true,
        "trusted": true,
        "id": "XHnixeVuKHZM"
      },
      "cell_type": "code",
      "source": [
        "## Grouping the dataset by the waiting categories, returning the sum of all instances:\n",
        "waitingdays = waitingdays.groupby('WaitingDays').sum()\n",
        "## Creating a new attribute, \"No-showing rate\", relating how many patients did not show up against those who did.\n",
        "waitingdays['No-showing rate'] = (waitingdays.Yes / waitingdays.No)*100"
      ],
      "execution_count": null,
      "outputs": []
    },
    {
      "metadata": {
        "_cell_guid": "ee9a0da1-baed-4c7d-a446-5b03af6c6a4e",
        "_uuid": "34a41fda683a2735d9b9f595ab757fe6dd59e8b4",
        "collapsed": true,
        "scrolled": true,
        "trusted": true,
        "id": "214G4UOyKHZN"
      },
      "cell_type": "code",
      "source": [
        "## Viewing the resulting dataset:\n",
        "waitingdays"
      ],
      "execution_count": null,
      "outputs": []
    },
    {
      "metadata": {
        "_cell_guid": "323b2c30-e8cb-4ec5-b1bb-14b313d4eebc",
        "_uuid": "3da749a63a225fd6234afb5a724c2fd062b00aca",
        "id": "9zDO3DBMKHZO"
      },
      "cell_type": "markdown",
      "source": [
        "<a id='sec2.3.4'></a>\n",
        "#### 2.3.4. *Neighborhood* names\n",
        "Accordingly to the dataset description, this attributes refers to the neighborhoods the health units are located in the city of *Vitória*, in the State of *Espírito Santo*, Brazil."
      ]
    },
    {
      "metadata": {
        "_cell_guid": "d8f33d68-fe58-4ea6-836c-d7f3d900c487",
        "_uuid": "f5dcb921522c4a6c83c20afcec97072b950230bf",
        "collapsed": true,
        "trusted": true,
        "id": "X0d5wrZdKHZO"
      },
      "cell_type": "code",
      "source": [
        "## Checking the unique neighborhood names:\n",
        "neighborhood = dataset.Neighbourhood.unique()\n",
        "neighborhood.sort()  #Sorting the names in alphabetical order\n",
        "neighborhood  #Showing the results"
      ],
      "execution_count": null,
      "outputs": []
    },
    {
      "metadata": {
        "_cell_guid": "6f606a62-3bdd-4517-a372-cc0cba60a757",
        "_uuid": "0b26b81fc15ed79e31e9f0d21b7fb979e6d13880",
        "id": "5rIsRUoOKHZQ"
      },
      "cell_type": "markdown",
      "source": [
        "Considering \"ILHAS OCEÂNICAS DE TRINDADE\" is not an official neighborhood of *Vitória* <a href=\"#[8]\">[8]</a>, the two instances related to them will be dropped off. "
      ]
    },
    {
      "metadata": {
        "_cell_guid": "5c80c93d-b925-466d-bac7-19d72ca8a405",
        "_uuid": "bad3dff700de55eea75423bc1f9a23e189438b0b",
        "collapsed": true,
        "trusted": true,
        "id": "gV0RmF3OKHZQ"
      },
      "cell_type": "code",
      "source": [
        "dataset.drop(dataset[dataset['Neighbourhood'] == 'ILHAS OCEÂNICAS DE TRINDADE'].index, inplace=True)"
      ],
      "execution_count": null,
      "outputs": []
    },
    {
      "metadata": {
        "_cell_guid": "ec9e36af-3e16-47de-8945-022216baed8a",
        "_uuid": "1b7cf838e584279f2b7dd3c028912da74db0e471",
        "collapsed": true,
        "trusted": true,
        "id": "btMa55iGKHZR"
      },
      "cell_type": "code",
      "source": [
        "## Counting again the neighborhood number:\n",
        "neighborhood = dataset.Neighbourhood.unique()\n",
        "neighborhood.sort()"
      ],
      "execution_count": null,
      "outputs": []
    },
    {
      "metadata": {
        "_cell_guid": "80d258a3-a011-46e5-9cf8-c6368584f1e2",
        "_uuid": "cbf59640efeea4a889d67c795b4333264fcb4a32",
        "collapsed": true,
        "trusted": true,
        "id": "1WPAYBlEKHZR"
      },
      "cell_type": "code",
      "source": [
        "## Counting neighborhood:\n",
        "len(neighborhood)"
      ],
      "execution_count": null,
      "outputs": []
    },
    {
      "metadata": {
        "_cell_guid": "64b455ab-8697-4e14-882a-c4e35bff24b0",
        "_uuid": "f93c4c4f48a2f62001409e4ffb579a790d0bb9f7",
        "collapsed": true,
        "scrolled": false,
        "trusted": true,
        "id": "2Cwt2HTSKHZR"
      },
      "cell_type": "code",
      "source": [
        "## Plotting an histogram with the neighborhoods sorted alphabetically. \n",
        "plt.figure(figsize=(16,6))\n",
        "ax = sns.countplot(x='Neighbourhood', data=dataset, order=neighborhood)\n",
        "ax.set_xticklabels(ax.get_xticklabels(), rotation=40, ha=\"right\", fontsize=8)\n",
        "plt.title('Distribution of appointments per neighborhood', fontsize=14, fontweight='bold')\n",
        "plt.show()"
      ],
      "execution_count": null,
      "outputs": []
    },
    {
      "metadata": {
        "_cell_guid": "4771b9d1-ac9e-486c-8555-8176504341ae",
        "_uuid": "63104cfbe78c3c6570e8465e8e6f134eff686001",
        "id": "JFk2wXZoKHZS"
      },
      "cell_type": "markdown",
      "source": [
        "From the graph above, it can be noticed there are 81 different neighborhood being considered, where 8 of them register more than 3k appointments. However, in the data description (see <a href=\"#intro\">Section 1</a></li>) it is said there are 45 health units, which leads us to consider the neighborhood as where the patient lives.  \n",
        "\n",
        "Due to this, EDA involving the neighborhood must be carried out in a careful manner."
      ]
    },
    {
      "metadata": {
        "_cell_guid": "da5cecf2-8fe5-4e1b-b08e-d8b8fcb669e8",
        "_uuid": "80d04355f6091e65da3efcb56a38a48184a14d75",
        "id": "0v8Vn1OjKHZT"
      },
      "cell_type": "markdown",
      "source": [
        "<a id='sec2.3.5'></a>\n",
        "####  2.3.5. *No-show* class:\n",
        "We want to check wheter the class values are consistent with the expected values for this database (true or false)."
      ]
    },
    {
      "metadata": {
        "_cell_guid": "33cc1bf6-e224-40dc-ae16-7e7a10d45d5a",
        "_uuid": "f5688bf68cc9762805d8a2a5d2751613eb4e1bbb",
        "collapsed": true,
        "trusted": true,
        "id": "ACOTbEgSKHZU"
      },
      "cell_type": "code",
      "source": [
        "## Counting gender classes\n",
        "dataset['No-show'].value_counts()"
      ],
      "execution_count": null,
      "outputs": []
    },
    {
      "metadata": {
        "_cell_guid": "9b4135f0-cf80-4ceb-bf90-641217942561",
        "_uuid": "842d2bbfc74ec93cdf7063c0191ac11ec1503d4c",
        "id": "m97uuAxBKHZV"
      },
      "cell_type": "markdown",
      "source": [
        "The total sum is consistent with the dataset length. However, as it was also noticed for the *Gender* attribute, this data are unbalanced, i.e. there are more instances pertaining to one class than other. Since this attribute represents our dataset categorization, this fact becomes more relevant for the further analysis. In other words, although we can get some useful insights from this data, we must be careful when applying this dataset to training machine learning algorithms and so on. "
      ]
    },
    {
      "metadata": {
        "_cell_guid": "a2931e24-4f2d-488b-a865-5b2a2d2cc8e8",
        "_uuid": "1f746b26ac9d2025ac655b216b0758f68c7bb959",
        "id": "r2GjQO7GKHZV"
      },
      "cell_type": "markdown",
      "source": [
        "<a id='sec2.4'></a>\n",
        "### 2.4. Data wrangling overview"
      ]
    },
    {
      "metadata": {
        "_cell_guid": "1c4c3bf8-b6e2-4e20-8aa4-a57b63b57ca3",
        "_uuid": "4e911e8f7bad19749965f082933cf92d936f026f",
        "id": "u9sLRwkJKHZW"
      },
      "cell_type": "markdown",
      "source": [
        "Just in order to help its reading, the dataset attributes will be rearranged to put all the date and time information together, as well as correcting the typos in the attribute names:"
      ]
    },
    {
      "metadata": {
        "_cell_guid": "c46590a8-a0e5-4d11-a067-64d814afb1a9",
        "_uuid": "a4ca851da13c7c90ac0ce346721595b11d30eab7",
        "collapsed": true,
        "scrolled": true,
        "trusted": true,
        "id": "JYlQc8uYKHZX"
      },
      "cell_type": "code",
      "source": [
        "## Reading the dataset attributes (columns):\n",
        "dataset.columns"
      ],
      "execution_count": null,
      "outputs": []
    },
    {
      "metadata": {
        "_cell_guid": "88bd04d5-b404-4364-b64c-db870c7b75ae",
        "_uuid": "bd601ed4d6eb14820baa83a254a41f2f98fd63a3",
        "collapsed": true,
        "trusted": true,
        "id": "kUoMw2xoKHZX"
      },
      "cell_type": "code",
      "source": [
        "dataset = dataset.reindex(columns=['PatientId', 'Gender', 'Age', 'Scholarship', 'Hipertension', 'Diabetes',\n",
        "       'Alcoholism', 'Handcap', 'ScheduledDay', 'ScheduleTime', 'AppointmentDay', 'WaitingDays', 'WaitingCategories', 'SMS_received', \n",
        "       'Neighbourhood', 'No-show'])"
      ],
      "execution_count": null,
      "outputs": []
    },
    {
      "metadata": {
        "_cell_guid": "02bc9e68-8ca8-4dea-ba15-1da39e1129b7",
        "_uuid": "760e752862757720037ec1391be0a3f20ce6d33d",
        "collapsed": true,
        "scrolled": true,
        "trusted": true,
        "id": "B6GhQCH3KHZX"
      },
      "cell_type": "code",
      "source": [
        "## Reading again the current attribute labels:\n",
        "dataset.columns"
      ],
      "execution_count": null,
      "outputs": []
    },
    {
      "metadata": {
        "_cell_guid": "37a155e0-b080-4e24-9a60-7a317de4d504",
        "_uuid": "56fbb0b0d349b4255443785563621307c1a72786",
        "collapsed": true,
        "trusted": true,
        "id": "nEzD1txjKHZY"
      },
      "cell_type": "code",
      "source": [
        "## Renaming \"No-show\"to \"No_show\"; \"Handcap\" to \"Handicap\"; and \"ScheduleTime\" to \"ScheduledTime\":\n",
        "dataset.columns = ['PatientId', 'Gender', 'Age', 'Scholarship', 'Hipertension', 'Diabetes',\n",
        "       'Alcoholism', 'Handicap', 'ScheduledDay', 'ScheduledTime', 'AppointmentDay', 'WaitingDays', \n",
        "       'WaitingCategories', 'SMS_received', 'Neighbourhood', 'No_show']"
      ],
      "execution_count": null,
      "outputs": []
    },
    {
      "metadata": {
        "_cell_guid": "a6489b46-eb93-4cb4-9467-8e274e4f9144",
        "_uuid": "c978e0642bb80b3f12c2fac5fe5cf258d1f733f8",
        "id": "qcqC8Bo0KHZY"
      },
      "cell_type": "markdown",
      "source": [
        "We then conclude this data wrangling step by showing an overview of the pre-processed data, i.e. the data after the wrangling and cleansing process. "
      ]
    },
    {
      "metadata": {
        "_cell_guid": "1ef663b1-4bd9-43ec-87c5-84b4b1fbf411",
        "_uuid": "a229aa2ee323e86631fe890fd30ce92a2884af03",
        "collapsed": true,
        "trusted": true,
        "id": "lste_Ra3KHZZ"
      },
      "cell_type": "code",
      "source": [
        "## Checking again the dataset information (for numerical attributes) and description (for categorical ones):\n",
        "print(dataset.info())\n",
        "dataset.describe()"
      ],
      "execution_count": null,
      "outputs": []
    },
    {
      "metadata": {
        "_cell_guid": "e7af93f8-b1f7-4fc4-b878-2edc9770eb2a",
        "_uuid": "15888a4e7f4780fab177711b0bd11a6f178d9aa3",
        "collapsed": true,
        "trusted": true,
        "id": "y1FVG5T8KHZZ"
      },
      "cell_type": "code",
      "source": [
        "## Visualizing few instances of the data:\n",
        "dataset.head(3)"
      ],
      "execution_count": null,
      "outputs": []
    },
    {
      "metadata": {
        "_cell_guid": "dd50d5bc-0d3d-495a-9a59-7d3f4e86b0d0",
        "_uuid": "97454505f3568363ef06d8427be98f851afb54f6",
        "id": "qBy2C26TKHZa"
      },
      "cell_type": "markdown",
      "source": [
        "As it can be seen, the numerical attributes are consistent with the expected values (i.e. counting 110.519 values, with a minimum of 0 and maximum value of 1 to the boolean attributes, while in a range from 0 to 115 for the age attribute). In the same way, the categorical attributes are as expected."
      ]
    },
    {
      "metadata": {
        "_cell_guid": "cec6cda9-9a46-49f1-950b-78b0db60c5b6",
        "_uuid": "d9d01790fd88b4f66bf72c4deabf287d0e90707d",
        "id": "KBDEy-dGKHZa"
      },
      "cell_type": "markdown",
      "source": [
        "-------------"
      ]
    },
    {
      "metadata": {
        "_cell_guid": "bc6f23d8-308b-4316-97fa-240c67ddb23f",
        "_uuid": "0c4a589ef474c78f844ffe336915f5609f5ab08a",
        "id": "0122h4blKHZa"
      },
      "cell_type": "markdown",
      "source": [
        "<a id='eda'></a>\n",
        "## 3. Exploratory Data Analysis\n",
        "\n",
        "Once the data were trimmed and cleaned, we will move on to explore the questions posed on  <a href=\"#sec1.3\">Section 1.3</a></li>. Besides it was identified in <a href=\"#wrangling\">Section 2</a></li> that data are unbalanced, it will not be taken into account in the following analysis. Given the dataset limitations, this analysis will address the first two questions, as organized in the following topics::  \n",
        "\n",
        "* **<a href=\"#EDA_question1\">3.1. Exploring no-showing appointments</a>**\n",
        "* **<a href=\"#EDA_question2\">3.2. Exploring the patient profiles</a>**\n",
        "\n",
        "Some functions will be defined below in order to facilitate the further analyzing process."
      ]
    },
    {
      "metadata": {
        "_cell_guid": "37b4ce01-03d3-46d0-be93-b052942c4a9d",
        "_uuid": "77a824001c112b0d134f6ca7e7e29a509383a0de",
        "collapsed": true,
        "trusted": true,
        "id": "58tuCHO8KHZb"
      },
      "cell_type": "code",
      "source": [
        "def get_statistics(data, bins=20):\n",
        "    '''Prints basic statistics from the input data. \n",
        "    Syntax: get_statistics(data, bins=20), where:\n",
        "        data = the input data series;\n",
        "        bins = the number of bins to the histogram.\n",
        "    '''\n",
        "    total = data.values\n",
        "    print('Mean:', np.mean(total))\n",
        "    print('Standard deviation:', np.std(total))\n",
        "    print('Minimum:', np.min(total))\n",
        "    print('Maximum:', np.max(total))\n",
        "    print('Median:', np.median(total))\n",
        "    plt.hist(data, bins=bins);"
      ],
      "execution_count": null,
      "outputs": []
    },
    {
      "metadata": {
        "_cell_guid": "ea12f7fd-4577-4ced-8e5c-beb7c050f9ff",
        "_uuid": "fd63d934035ebf84ddac767e0f79b9f82fa72948",
        "collapsed": true,
        "trusted": true,
        "id": "O3yo3-_rKHZb"
      },
      "cell_type": "code",
      "source": [
        "def get_total(dataframe):\n",
        "    '''Return the total sum of each numerical attribute of a pandas.Dataframe.'''\n",
        "    return dataframe.sum(axis=1)"
      ],
      "execution_count": null,
      "outputs": []
    },
    {
      "metadata": {
        "_cell_guid": "1234b454-8d77-4d2c-8118-839f29568906",
        "_uuid": "eebcd58a6d043cc4007cce746e24373c7e1e93c2",
        "collapsed": true,
        "trusted": true,
        "id": "Aop1ILy6KHZc"
      },
      "cell_type": "code",
      "source": [
        "def df_row_normalize(dataframe):\n",
        "    '''Normalizes the values of a given pandas.Dataframe by the total sum of each line.\n",
        "    Algorithm based on https://stackoverflow.com/questions/26537878/pandas-sum-across-columns-and-divide-each-cell-from-that-value'''\n",
        "    return dataframe.div(dataframe.sum(axis=1), axis=0)"
      ],
      "execution_count": null,
      "outputs": []
    },
    {
      "metadata": {
        "_cell_guid": "3b37ec15-164d-4ef9-b10e-673a3cc09fd8",
        "_uuid": "202ff660e0298e99ee31e162d8ea5cebc26456e0",
        "collapsed": true,
        "trusted": true,
        "id": "vvw-JIUwKHZd"
      },
      "cell_type": "code",
      "source": [
        "def df_column_normalize(dataframe, percent=False):\n",
        "    '''Normalizes the values of a given pandas.Dataframe by the total sum of each column.\n",
        "    If percent=True, multiplies the final value by 100.\n",
        "    Algorithm based on https://stackoverflow.com/questions/26537878/pandas-sum-across-columns-and-divide-each-cell-from-that-value'''\n",
        "    if percent:\n",
        "        return dataframe.div(dataframe.sum(axis=0), axis=1)*100\n",
        "    else:\n",
        "        return dataframe.div(dataframe.sum(axis=0), axis=1)"
      ],
      "execution_count": null,
      "outputs": []
    },
    {
      "metadata": {
        "_cell_guid": "9f8ca57c-65ea-4a63-b722-32a9d739aacf",
        "_uuid": "acfe9d94dd1b958ea3d7c9c60170e750a41946dc",
        "id": "xji2XyR0KHZd"
      },
      "cell_type": "markdown",
      "source": [
        "<a id='EDA_question1'></a>\n",
        "### 3.1. Exploring the *no-showing appointments*\n",
        "In this section we will seek to answer the following questions based on the available data:  \n",
        "* What is the average waiting time between the scheduling date and the appointment date?\n",
        "* Is there any relation between the waiting time and the no-showing appointments?\n",
        "* How the *no-showing appointments* are distributed among the health units (neighborhood)?"
      ]
    },
    {
      "metadata": {
        "_cell_guid": "996898ab-04b3-42e7-96bc-4db5ef6dd3ec",
        "_uuid": "548a4123db6d0601d27018150bc4d9fb5c86b318",
        "id": "6LLQzxyHKHZe"
      },
      "cell_type": "markdown",
      "source": [
        "In orther to find the answers, we will now focus on those attributes related specifically to appointments: *patient ID; scheduled date; appointment date; and health unit neighborhood*, as well as those attributes resulting from these."
      ]
    },
    {
      "metadata": {
        "_cell_guid": "0ec3ba49-6b21-448e-bb98-200cfd00389e",
        "_uuid": "338692a3e77d10dc223a6f953e7ba23aae40032b",
        "id": "h3lVy0zIKHZe"
      },
      "cell_type": "markdown",
      "source": [
        "<a id='sec3.1.1'></a>\n",
        "#### 3.1.1. Waiting time between the scheduling and the appointment date\n",
        "To get an overall idea of the no-showing appointments, we will start analyzing the basic statistics of the waiting days:"
      ]
    },
    {
      "metadata": {
        "_cell_guid": "468e5742-8bda-460b-833c-8ea13af9c6db",
        "_uuid": "78a229e4eb792930648d91f35e19d637b2ceff05",
        "collapsed": true,
        "trusted": true,
        "id": "TSMw2_JjKHZe"
      },
      "cell_type": "code",
      "source": [
        "get_statistics(dataset.WaitingDays)"
      ],
      "execution_count": null,
      "outputs": []
    },
    {
      "metadata": {
        "_cell_guid": "89607261-b482-4332-ab5a-c8c3ffabffc9",
        "_uuid": "8ca3dc4122902426bda36a00da5e10020c6dba2c",
        "id": "Dt_QCmeyKHZf"
      },
      "cell_type": "markdown",
      "source": [
        "The **average waiting is about 10 days**, with a standard deviation of approximately 15 days. These values suggest that this distribution is not normal, since the mean is not in the center, as confirmed by its histogram. "
      ]
    },
    {
      "metadata": {
        "_cell_guid": "7087048d-c6f3-480f-b8ec-9a64b9f552a3",
        "_uuid": "5b3466dd649e8f2016ec21e03b7d4c8e4cad2767",
        "id": "ZkDqzwPDKHZg"
      },
      "cell_type": "markdown",
      "source": [
        "Looking back at the *waitingdays* dataframe created in <a href=\"#sec2.3.3\">Section 2.3.3</a>, we can compare the no-showing rate (i.e. the number of patients that missed the appointment against those who attended) in relation to each of *WaitingDays* categories."
      ]
    },
    {
      "metadata": {
        "_cell_guid": "efc93bf8-a789-4cc8-bb17-b7cd91fb7e36",
        "_uuid": "0781bcddaa9180b87a448960865ca2a20ba24a48",
        "collapsed": true,
        "scrolled": true,
        "trusted": true,
        "id": "hM3n6bcTKHZi"
      },
      "cell_type": "code",
      "source": [
        "## Showing the data again:\n",
        "waitingdays"
      ],
      "execution_count": null,
      "outputs": []
    },
    {
      "metadata": {
        "_cell_guid": "722205e9-2e66-40ec-9745-b5328761dbb0",
        "_uuid": "4a9e1d88df800a2b0695ff9bbb875c7cd2b8a748",
        "id": "e5FC-hrFKHZk"
      },
      "cell_type": "markdown",
      "source": [
        "This data could be better understood graphically. To do so, we will first manipulate the *waitingdays* dataframe in\n",
        "order to get the percentual information. We will also multiply by *500* the *No-showing rate* values in order to put this attribute in the same scale of the chart. For last, we will show all these information in the same chart, based on the codes proposed in <a href=\"#[6]\">[6]</a> and <a href=\"#[7]\">[7]</a>."
      ]
    },
    {
      "metadata": {
        "_cell_guid": "6a24ce49-0982-49a1-b1ec-59275fd42298",
        "_uuid": "951993dba02c7fa627832c3e9128064b8d1cec77",
        "collapsed": true,
        "scrolled": false,
        "trusted": true,
        "id": "1jMMVD2bKHZl"
      },
      "cell_type": "code",
      "source": [
        "## Adjusting the dataframe:\n",
        "eda_waitingDays = waitingdays.copy()  #Copying the dataframe from Section 2.3.3\n",
        "eda_waitingDays.reset_index(drop=False, inplace=True)  #Making the index as a column in order to be plotted.\n",
        "eda_waitingDays.drop(7, inplace=True)  #Droppping the last row, since it's empty.\n",
        "\n",
        "## Adding new columns:\n",
        "#Transforming the 'No-showing rate' into strings with the percentual values:\n",
        "eda_waitingDays['No-show percentual'] = eda_waitingDays['No-showing rate'].apply(lambda x: '{0:.2f}%'.format(x))\n",
        "#Multiplying the rate values by 500 times in order to be plotted in the same scale:\n",
        "eda_waitingDays['No-showing rate (500x)'] = eda_waitingDays['No-showing rate']*500\n",
        "\n",
        "## Showing the adjusting dataframe:\n",
        "eda_waitingDays"
      ],
      "execution_count": null,
      "outputs": []
    },
    {
      "metadata": {
        "_cell_guid": "bcc3b53f-be93-4aa9-8601-4ce576588795",
        "_uuid": "ce86d2c3f41f5515a429f3309b7065684609ea41",
        "collapsed": true,
        "scrolled": false,
        "trusted": true,
        "id": "8A1QRKisKHZm"
      },
      "cell_type": "code",
      "source": [
        "## Setting the graph parameters:\n",
        "fig1, ax = plt.subplots(figsize=[12,6])  #Defines the graph window size\n",
        "fig1.subplots_adjust(top=0.92)\n",
        "plt.suptitle('Appointments distribution by waiting time categories', fontsize=14, fontweight='bold')\n",
        "\n",
        "colors = ['tab:blue', 'tab:green', 'tab:red']  #Defines the colors to be used\n",
        "\n",
        "ax.set_ylabel('Number of occurences', color=colors[0], fontsize=12)  #Set the y-axis color and label\n",
        "ax.tick_params(axis='y', labelcolor=colors[0])\n",
        "\n",
        "## Plotting the line chart:\n",
        "eda_waitingDays[['WaitingDays', 'No-showing rate (500x)']].plot(x='WaitingDays', linestyle='-', marker='o', ax=ax, color=colors[2])\n",
        "#Setting the line chart marker labels\n",
        "x = ax.get_xticks()  #Getting the x-axis ticks to plot the label\n",
        "for a,b,c in zip(x,eda_waitingDays['No-showing rate (500x)'], eda_waitingDays['No-show percentual']):\n",
        "    plt.text(a,b+1500,c, color='red', fontsize=14)\n",
        "    \n",
        "## Plotting the bar chart:\n",
        "eda_waitingDays[['WaitingDays', 'No', 'Yes']].plot(x='WaitingDays', kind='bar', ax=ax, color=colors[0:2])\n",
        "\n",
        "ax.set_xlabel('Waiting time categories', fontsize=12)  #Set the y-axis color and label\n",
        "\n",
        "plt.show()"
      ],
      "execution_count": null,
      "outputs": []
    },
    {
      "metadata": {
        "_cell_guid": "1db96ea9-dd32-40f7-85ac-e5ef34cca3a1",
        "_uuid": "460e3a406ea1ef7c5f9183cc4ce0b74943b6041e",
        "id": "0uA1L42dKHZm"
      },
      "cell_type": "markdown",
      "source": [
        "Through the chart above, it becomes evident that **the *no-showing rate* increases as the waiting gets longer**. It reaches the lower rates when the attendance occurs in the same day it was scheduled. We can then associate it with the emergency care or even when the patient goes to the health unit without previous scheduling.  \n",
        "\n",
        "It is curious to notice that after one quarter waiting there is a slight return to the patient assiduity, when the *no-showing rate* downs from *49.6%* to *%34.78*. This question will be explored deeply in the next section."
      ]
    },
    {
      "metadata": {
        "_cell_guid": "e38c46ce-84c9-4ea4-804a-a36358da7bdd",
        "_uuid": "ec0d7b050d76edbeb1c6429ddfcc6c04623b4d2a",
        "id": "yjHvvtjjKHZn"
      },
      "cell_type": "markdown",
      "source": [
        "<a id='sec3.1.2'></a>\n",
        "#### 3.1.2. A return to assiduity\n",
        "As noted in the chart above, the *no-showing rate* increases along the waiting time, however it starts to decrease after one quarter waiting. To get insights for the next analysis (the patient profiles will be explored in <a href=\"EDA_question2\">Section 3.2</a>), we will now compare some basic statistics of the numerical attributes from the group patients attending to the appointments in the same day **(Group I)** and after one quarter **(Group II)**. "
      ]
    },
    {
      "metadata": {
        "_cell_guid": "1725d6aa-4002-4d31-8e41-d488ac3363ca",
        "_uuid": "ca1b5e1048c701ef94fb1504c5d3da40ca8f8dbe",
        "collapsed": true,
        "trusted": true,
        "id": "I9PlTJd4KHZn"
      },
      "cell_type": "code",
      "source": [
        "## Group I - Describing the numerical attributes for the same day appointments:\n",
        "group_I = dataset[dataset['WaitingCategories'] == 'Same day: 0'].describe()\n",
        "group_I"
      ],
      "execution_count": null,
      "outputs": []
    },
    {
      "metadata": {
        "_cell_guid": "f4e41e83-0989-4213-8aed-4c148ff209ff",
        "_uuid": "8b42b3d850e8fe12ffee783908b518bc5453e2ad",
        "collapsed": true,
        "trusted": true,
        "id": "lL_YqZGNKHZn"
      },
      "cell_type": "code",
      "source": [
        "## Group II - Describing the numerical attributes for the semester appointments:\n",
        "group_II = dataset[dataset['WaitingDays']>90].describe()\n",
        "group_II"
      ],
      "execution_count": null,
      "outputs": []
    },
    {
      "metadata": {
        "_cell_guid": "d5f237c4-70eb-4d4e-b341-c1bbcef5493e",
        "_uuid": "f7e2802da4b1b4acedd471a877ef7573b8d640a6",
        "id": "Enu29ESEKHZo"
      },
      "cell_type": "markdown",
      "source": [
        "Despite the number of instances are in a proportion of 1:217, the basic statistics from these two groups of patients reveals interesting characteristics we can therefore associate to the reduction of the no-showing rate. To help finding them, we will make use of the *find_differences()* function, as defined below, applied to the *mean* values of each group."
      ]
    },
    {
      "metadata": {
        "_cell_guid": "d7b2885e-7d3d-45a5-a6c3-0932d328627c",
        "_uuid": "a3d600eb76884b4530f237f6f8c27fb426bc0226",
        "collapsed": true,
        "trusted": true,
        "id": "21hWT1eeKHZo"
      },
      "cell_type": "code",
      "source": [
        "def find_differences(serie1, serie2, pct_diff):\n",
        "    '''Given two data series [serie1, serie2], compare those attributes and return \n",
        "    those who difference among them is higher than pct_diff (e.g. 50% must be entered as 0.5).\n",
        "    The index of both series must be identical.\n",
        "    '''\n",
        "    try:\n",
        "        if (serie1.index.all() == serie2.index.all()):\n",
        "            ## Calculating the differences\n",
        "            testA = serie1 / serie2\n",
        "            testB = serie2 / serie1\n",
        "            checkA = [x for x in testA if (x > pct_diff)&(x<1)]\n",
        "            checkB = [x for x in testB if (x > pct_diff)&(x<1)]\n",
        "            \n",
        "            ## Showing which attributes in serie1 are less than \"pct_diff\" of those in serie1:\n",
        "            print('Attributes in \"Serie I\" whose values are less than {0:.1f}% of those in \"Serie II\":'.format(pct_diff*100))\n",
        "            for item in checkA:\n",
        "                print('\\t{0}: {1:.1f}%'.format(testA[testA == item].index[0], item*100))\n",
        "            \n",
        "            ## Showing which attributes of serie2 are \"pct_diff\" higher in serie1:\n",
        "            print('Attributes in \"Serie II\" whose values are less than {0:.1f}% of those in \"Serie I\":'.format(pct_diff*100))\n",
        "            for item in checkB:\n",
        "                print('\\t{0}: {1:.1f}%'.format(testB[testB == item].index[0], item*100))\n",
        "    except ValueError:\n",
        "        print('The series must have same index and length!')\n",
        "    return    "
      ],
      "execution_count": null,
      "outputs": []
    },
    {
      "metadata": {
        "_cell_guid": "e619b724-a70c-4ac3-b7d8-035bc133de96",
        "_uuid": "8461adebfce0933c6ac12f1f967de5ef7ee06e8f",
        "collapsed": true,
        "trusted": true,
        "id": "dscPgu3jKHZp"
      },
      "cell_type": "code",
      "source": [
        "find_differences(group_I.loc['mean'], group_II.loc['mean'], 0.30)"
      ],
      "execution_count": null,
      "outputs": []
    },
    {
      "metadata": {
        "_cell_guid": "c472fa3b-fcff-4cff-b25f-106682741d06",
        "_uuid": "ad898314820d749d61d5c027fc6cdb4a23eaa696",
        "collapsed": true,
        "id": "ReSPuHWEKHZp"
      },
      "cell_type": "markdown",
      "source": [
        "Based on the findings above, the both group of patients can be characterized as follow, considering those attributes with a difference in the mean values higher than 30% of the other group:\n",
        "\n",
        "* Group I - Same day scheduling appointment:\n",
        "  * Average age: 34.5 years old (young adults)\n",
        "  * Scholarship: **10% receives scholarship**\n",
        "  * Alcoholism: present in **3.9% of the group individuals**\n",
        "  * Hipertension: present in 17.5% of the group individuals\n",
        "  * Diabetes: present in 6.6% of the group individuals\n",
        "  * Handicap: present in 2.4% of the group individuals\n",
        "  \n",
        "* Group II - A semester waiting between schedulling and the appointment:\n",
        "  * Average age: **60.8 years old (senior)**\n",
        "  * Scholarship: 6.4% receives scholarship\n",
        "  * Alcoholism: present in 1.4% of the group individuals\n",
        "  * Hipertension: present in **53.9% of the group individuals**\n",
        "  * Diabetes: present in **13.4% of the group individuals**\n",
        "  * Handicap: present in **6.9% of the group individuals**  \n",
        "  \n",
        "From this analysis, one hipothesys for the *no-showing rate* reduction for waiting periods higher than a quarter can be assigned to the patient profile: **elderly people as well as those with chronic diseases who require regular medical follow-up tend to schedule long-term appointments and attend to them.**"
      ]
    },
    {
      "metadata": {
        "_cell_guid": "d8f766ea-42fe-4366-9b9f-6c0d19e762ea",
        "_uuid": "90d72eed670cdfe44e33e364f073eaa7d50736b0",
        "collapsed": true,
        "id": "hJGWvX5-KHZq"
      },
      "cell_type": "markdown",
      "source": [
        "<a id='sec3.1.3'></a>\n",
        "#### 3.1.3 Neighborhood analysis\n",
        "This last analysis seeks to find out how the *no-showing appointments* are distributed among the health units. In other words, how many appointments are registered to each health unit and if they were attended to or not. To find this out, we will carry two slightly distinct analysis based on the neighborhood attribute: \n",
        "* (i) How the absence number is distributed along the neighborhoods? \n",
        "* (ii) We have already seen that the no-showing rate increases as the waiting gets longer. Is the validity of this statement indifferent to geographical location?\n",
        "\n",
        "To find this out, we will first group the dataset by the neighborhood names, followed by some data manipulation to gather the desired information for each question."
      ]
    },
    {
      "metadata": {
        "_cell_guid": "ae48fd38-1dd5-49c8-b8ec-90f588eef2b6",
        "_uuid": "78a808688f26cb1582d1134156cdc21fcb98d4a3",
        "id": "rpivYH3EKHZq"
      },
      "cell_type": "markdown",
      "source": [
        "#### (i) No-showing rate by neighborhood\n",
        "In this analysis we will show the absence number distribution into two ways: first in absolute numbers, to get not only the information of which health unit presents more absence, but to know which one has the highest number of attendments. Second, it is interesting to compare the normalized data, i.e. how much the absence of each health unit represents the total of its attendments."
      ]
    },
    {
      "metadata": {
        "_cell_guid": "a8159637-fc79-4abd-a01e-63c63851cce5",
        "_uuid": "2d6852258ef664bdb01dab6a44d6bf95700c637b",
        "collapsed": true,
        "trusted": true,
        "id": "eG-f6b4fKHZr"
      },
      "cell_type": "code",
      "source": [
        "## Using the pandas.groupby() method to generate a pivot table:\n",
        "neighbors_I = dataset.groupby(by='Neighbourhood').No_show.value_counts().sort_index()"
      ],
      "execution_count": null,
      "outputs": []
    },
    {
      "metadata": {
        "_cell_guid": "68f4c6d9-90cd-4212-a5c8-8d73f02f53f8",
        "_uuid": "08d8a497654ec6b4ed67a8fb7d577c20dc0199ff",
        "collapsed": true,
        "trusted": true,
        "id": "rQaFZgAjKHZs"
      },
      "cell_type": "code",
      "source": [
        "## Manipulating the data:\n",
        "neighbors_I = neighbors_I.unstack()  #Converting the groupby object into a dataset\n",
        "neighbors_I.fillna(value=0, inplace=True)  #Replacing NaN values by zero\n",
        "print(neighbors_I.head(3))"
      ],
      "execution_count": null,
      "outputs": []
    },
    {
      "metadata": {
        "_cell_guid": "b156853c-247b-4e25-9ac7-5e13bea8ee4d",
        "_uuid": "5410cb10b66e313dfd70d4d396a79e6b6a95d5e9",
        "collapsed": true,
        "trusted": true,
        "id": "WgKMO6uGKHZs"
      },
      "cell_type": "code",
      "source": [
        "## Normalizing the data using a predefined function:\n",
        "normalNeighbor = df_row_normalize(neighbors_I)\n",
        "print(normalNeighbor.head(3))"
      ],
      "execution_count": null,
      "outputs": []
    },
    {
      "metadata": {
        "_cell_guid": "1c4ffc34-4417-48af-8084-edd63f049a74",
        "_uuid": "e8bebde12f5977d818204f88397882be84238413",
        "collapsed": true,
        "trusted": true,
        "id": "Y5mThOFqKHZt"
      },
      "cell_type": "code",
      "source": [
        "## Getting the normalized data statistics:\n",
        "normalNeighbor.describe()"
      ],
      "execution_count": null,
      "outputs": []
    },
    {
      "metadata": {
        "_cell_guid": "935727c8-d8e2-4a91-a3f8-80df0030d953",
        "_uuid": "35aaa282dcfbaaae68abeeea5eb63c486636728b",
        "collapsed": true,
        "trusted": true,
        "id": "-rA_rSkjKHZt"
      },
      "cell_type": "code",
      "source": [
        "## Adding a total column:\n",
        "neighbors_I['Total'] = get_total(neighbors_I)\n",
        "normalNeighbor['Total'] = get_total(normalNeighbor)"
      ],
      "execution_count": null,
      "outputs": []
    },
    {
      "metadata": {
        "_cell_guid": "b9ea5db0-6559-413d-a366-a2bba67cb7ab",
        "_uuid": "e25f99b79fec3a44b3fc4cd800e77a53666696a5",
        "collapsed": true,
        "trusted": true,
        "id": "9SPj1RXyKHZu"
      },
      "cell_type": "code",
      "source": [
        "#Reseting the 'neighbourhood' index and making it as a column:\n",
        "neighbors_I.reset_index(inplace=True)  \n",
        "normalNeighbor.reset_index(inplace=True)"
      ],
      "execution_count": null,
      "outputs": []
    },
    {
      "metadata": {
        "_cell_guid": "26d83e63-8786-4f93-a39b-a49977a807e4",
        "_uuid": "edf9e21bf23b2b2d53cd7cdef2fbe13014c4bf1a",
        "collapsed": true,
        "scrolled": false,
        "trusted": true,
        "id": "HIyqsUsEKHZu"
      },
      "cell_type": "code",
      "source": [
        "## Initialize the matplotlib figure:\n",
        "fig2, (ax1, ax2) = plt.subplots(1,2, figsize=(12,16), sharey=False)\n",
        "fig2.tight_layout()  #When working with 'tight_layout', the subplot must be adjusted [https://stackoverflow.com/questions/7066121/how-to-set-a-single-main-title-above-all-the-subplots-with-pyplot]\n",
        "fig2.subplots_adjust(top=0.96)  #Adjusting the space for the superior title\n",
        "\n",
        "## Plot the relative absence by neighborhood\n",
        "#Total appointments\n",
        "sns.set_color_codes(\"pastel\")\n",
        "sns.barplot(x=\"Total\", y=\"Neighbourhood\", data=normalNeighbor, label=\"Total\", color=\"b\", ax=ax1)\n",
        "#Attended appointments\n",
        "sns.set_color_codes(\"muted\")\n",
        "sns.barplot(x=\"No\", y=\"Neighbourhood\", data=normalNeighbor, label=\"Attended\", color=\"b\", ax=ax1)\n",
        "## Add a legend and informative axis label\n",
        "ax1.legend(ncol=2, loc=\"lower left\", frameon=True)\n",
        "ax1.set(xlim=(0, 1), ylabel=\"\", xlabel=\"Relative attended appointments by neighborhood\")\n",
        "sns.despine(left=True, bottom=True,ax=ax1)\n",
        "\n",
        "## Plot the absolute absence by neighborhood\n",
        "#Total appointments\n",
        "sns.set_color_codes(\"pastel\")\n",
        "sns.barplot(x=\"Total\", y=\"Neighbourhood\", data=neighbors_I, label=\"Total\", color=\"b\",ax=ax2)\n",
        "#Attended appointments\n",
        "sns.set_color_codes(\"muted\")\n",
        "sns.barplot(x=\"No\", y=\"Neighbourhood\", data=neighbors_I, label=\"Attended\", color=\"b\", ax=ax2)\n",
        "## Add a legend and informative axis label\n",
        "ax2.legend(ncol=2, loc=\"lower right\", frameon=True)\n",
        "ax2.set(xlim=(0, 7720), ylabel=\"\", xlabel=\"Absolute attended appointments by neighborhood\")  #The xlim value comes from the maximum value in the dataset.\n",
        "ax2.set_yticklabels([''])\n",
        "sns.despine(left=True, bottom=True, ax=ax2)\n",
        "\n",
        "plt.suptitle('Attended appointments by neighborhood', fontsize=14, fontweight='bold')\n",
        "plt.show()"
      ],
      "execution_count": null,
      "outputs": []
    },
    {
      "metadata": {
        "_cell_guid": "5a8f946a-6097-4e9e-8796-f04381744e06",
        "_uuid": "b663b9fb214c48ff2cc65a09481b28848fa895ed",
        "id": "SuGgLwQoKHZw"
      },
      "cell_type": "markdown",
      "source": [
        "From the analyzed data we found out that 80% of the appointments are attended to, with a standard deviation of 3.8%. The distribution of this numbers are easily perceived on the charts above. The chart representing the absolute values (the right one) is important to avoid biased interpretations: the neighborhood *Parque Industrial* had attended all its appointments but the same neighborhood carries the lowest number of appointments."
      ]
    },
    {
      "metadata": {
        "_cell_guid": "1e21825d-f56b-46c6-8fb6-5a76ede45a9e",
        "_uuid": "e13cd5a672da0d895d201423e0b4ea40c7466def",
        "id": "mxcdWUDSKHZx"
      },
      "cell_type": "markdown",
      "source": [
        "#### (ii) Relative absence: neighborhoods versus waiting categories\n",
        "The main purpose of this analysis is to check if the no-showing rate increases as the waiting gets longer along all the considered geographical locations. In order to get to this we will make use of a *heatmap*, which in turn is an array where the columns represent one attribute and the rows represent another. The value of each cell represents the correlation between these attributes and, for ease of viewing, is converted to a color map <a href=\"#[9]\">[9]</a>. In our case, the columns represent the *waiting time categories* while the rows represent the *neighborhoods*. The value (or color) of each cell represents the percentage of no-showing appointments."
      ]
    },
    {
      "metadata": {
        "_cell_guid": "97c124de-7d4d-4d7a-9c30-14b1339bca54",
        "_uuid": "94cb93eed705d45fd5e7b66de9e1d43ae8b0b130",
        "collapsed": true,
        "scrolled": false,
        "trusted": true,
        "id": "52YU1GP5KHZx"
      },
      "cell_type": "code",
      "source": [
        "## Using the pandas.groupby() method to produce a pivot table:\n",
        "neighbors_II = dataset.groupby(by=['Neighbourhood','No_show']).WaitingCategories.value_counts().sort_index()"
      ],
      "execution_count": null,
      "outputs": []
    },
    {
      "metadata": {
        "_cell_guid": "99a90874-f157-48c9-9695-ee4d1b0102bb",
        "_uuid": "51eaab6814355595194bcf65d2e99575b411882d",
        "collapsed": true,
        "trusted": true,
        "id": "jwDYpkRPKHZx"
      },
      "cell_type": "code",
      "source": [
        "## Manipulating the data:\n",
        "neighbors_II = neighbors_II.unstack(1).unstack()  #Converting the groupby object into a dataset\n",
        "neighbors_II.fillna(value=0, inplace=True)  #Replacing NaN values by zero\n",
        "neighbors_II = df_row_normalize(neighbors_II)  #Normalizing its values by the total of each row\n",
        "neighbors_II = neighbors_II['Yes']  #Keeping only the values related to the absence\n",
        "## Converting the normalized float values to percentual int values:\n",
        "neighbors_II = (neighbors_II*100).astype('int64')\n",
        "neighbors_II = neighbors_II.reindex(columns=['Same day: 0', 'Short: 1-3', 'Week: 4-7', 'Fortnight: 8-15', 'Month: 16-30', 'Quarter: 31-90', 'Semester: 91-180'])"
      ],
      "execution_count": null,
      "outputs": []
    },
    {
      "metadata": {
        "_cell_guid": "e2725d70-699c-45c7-83ab-79a4a5207560",
        "_uuid": "246b9b5b8423643430360657470740055b95ef56",
        "collapsed": true,
        "scrolled": false,
        "trusted": true,
        "id": "jXcP1rqiKHZy"
      },
      "cell_type": "code",
      "source": [
        "# Drawing a heatmap with the numeric values in each cell\n",
        "fig3, ax = plt.subplots(figsize=(10, 25))\n",
        "fig3.subplots_adjust(top=.965)\n",
        "plt.suptitle('Relative absence distributed by neighborhood and waiting categories', fontsize=14, fontweight='bold')\n",
        "\n",
        "cbar_kws = {'orientation':\"horizontal\", 'pad':0.08, 'aspect':50}\n",
        "sns.heatmap(neighbors_II, annot=True, fmt='d', linewidths=.3, ax=ax, cmap='RdPu', cbar_kws=cbar_kws);"
      ],
      "execution_count": null,
      "outputs": []
    },
    {
      "metadata": {
        "_cell_guid": "0d91a0aa-8a89-4219-99e7-71dffbe43905",
        "_uuid": "022edfd70541675c39f451092980faf13a306563",
        "id": "yAxwSsA8KHZz"
      },
      "cell_type": "markdown",
      "source": [
        "It can be drawn from the heatmap above that in general the no-showing rate increases as the waiting gets longer for most of neighborhood, besides slightly different for each local. Some neighborhoods have higher no-showing rates even for short waiting times (e.g. *Ilha do Frade* and *Morada de Camburi*).  \n",
        "\n",
        "From these insights, it would be reasonable for the public administration of these localities to investigate the reasons for such occurrences by collecting more detailed data and conducting deeper analysis."
      ]
    },
    {
      "metadata": {
        "_cell_guid": "c64174b1-c474-4e45-bf35-d23916fde877",
        "_uuid": "640f7a68f24ce324f34c441628980f3face6500c",
        "id": "98G4ZBu5KHZz"
      },
      "cell_type": "markdown",
      "source": [
        "<a id='EDA_question2'></a>\n",
        "### 3.2. Exploring the patient profiles\n",
        "After understanding the characteristics of the missed appointments, as explored in the last section, we will now analyze the patient profiles driven by the following questions:\n",
        "* How the *no-shows* are distributed among the patients? \n",
        "* Is there any common characteristics among those patients that miss appointments?\n",
        "* Patients suffering from serious illnesses are more assiduous?"
      ]
    },
    {
      "metadata": {
        "_cell_guid": "467e14a3-09b2-4c8c-b2d8-5c819ea788ee",
        "_uuid": "29052ddc6db812594eac652c64fd3530690fc222",
        "id": "oFCYAzaFKHZ0"
      },
      "cell_type": "markdown",
      "source": [
        "Since we are now interested in the patients attribute that could characterize and differentiate those who attends to appointments from those who does not, we will first manipulate the dataset to show only the relevant information."
      ]
    },
    {
      "metadata": {
        "_cell_guid": "18674028-7939-49ba-afa5-893d443abad2",
        "_uuid": "97f05a70fe37315cd651710ffad7718524c7d704",
        "collapsed": true,
        "trusted": true,
        "id": "eNuh2n2SKHZ1"
      },
      "cell_type": "code",
      "source": [
        "## Defining a new dataframe from the attributes of interest:\n",
        "patients = dataset[['Gender','Age','Scholarship','Hipertension','Diabetes',\n",
        "                    'Alcoholism','Handicap','WaitingCategories','SMS_received','No_show']]"
      ],
      "execution_count": null,
      "outputs": []
    },
    {
      "metadata": {
        "_cell_guid": "8055d3ac-f25e-44b5-8cba-d32497052e9c",
        "_uuid": "99fda3760522f941949caf9513641b2af905cded",
        "id": "pQPjOI_GKHZ1"
      },
      "cell_type": "markdown",
      "source": [
        "By using *pandas.groupby()* method we could extract the relation among *waiting categories* and the patient attributes like *age, hipertension, diabetes* and so forth, primarily separated among the *No_show* classes. This task is easily accomplished by the *sum()* method, except for the *Age* attribute which must be calculated by the *mean()* method."
      ]
    },
    {
      "metadata": {
        "_cell_guid": "a3e6de38-c20e-49f0-87e1-82fecd981faf",
        "_uuid": "103e5fb182d23a46f221a66e8a16ab2bf07b0eab",
        "collapsed": true,
        "trusted": true,
        "id": "F22l9nMgKHZ2"
      },
      "cell_type": "code",
      "source": [
        "## Obtaining an statistical overview of all the attributes:\n",
        "patients.groupby(by=['No_show','WaitingCategories']).describe()"
      ],
      "execution_count": null,
      "outputs": []
    },
    {
      "metadata": {
        "_cell_guid": "0f10f708-2ba1-4338-8c89-6f00f133b5d0",
        "_uuid": "7c953a1a9251c1e6d6d10a273cb562c37e607388",
        "collapsed": true,
        "scrolled": false,
        "trusted": true,
        "id": "XdEY6iq4KHZ2"
      },
      "cell_type": "code",
      "source": [
        "## Grouping by classes and waiting categories and calculating the instances sum:\n",
        "patients_sum = patients.groupby(by=['No_show','WaitingCategories']).sum()\n",
        "## Grouping by classes and waiting categories and calculating the instances sum:\n",
        "patients_mean = patients.groupby(by=['No_show','WaitingCategories']).mean()"
      ],
      "execution_count": null,
      "outputs": []
    },
    {
      "metadata": {
        "_cell_guid": "400aa065-df20-41a1-8df5-f75bb8bbabe5",
        "_uuid": "6189a85a9a480907a9530e79bdc094c888bcc1d1",
        "collapsed": true,
        "trusted": true,
        "id": "SQGeDxKgKHZ2"
      },
      "cell_type": "code",
      "source": [
        "## Adjusting the 'Age' attribute to have the mean instead of sum values:\n",
        "patients = patients_sum.copy()\n",
        "patients['Age'] = patients_mean['Age']"
      ],
      "execution_count": null,
      "outputs": []
    },
    {
      "metadata": {
        "_cell_guid": "3e6d4c9c-ed27-4a25-be26-1296527885c9",
        "_uuid": "700a9e900a1d69e2c722cf8dcc4fbae20c44dbaa",
        "collapsed": true,
        "trusted": true,
        "id": "W9dlcORJKHZ3"
      },
      "cell_type": "code",
      "source": [
        "## Normalizing data using the predefined function\n",
        "patients = df_column_normalize(patients, percent=True)"
      ],
      "execution_count": null,
      "outputs": []
    },
    {
      "metadata": {
        "_cell_guid": "539a2643-6fb7-4b6e-9644-c604c5a0a2be",
        "_uuid": "0e9327fd2c1aa357520235d1989a75eb241987da",
        "collapsed": true,
        "trusted": true,
        "id": "VkIS5kclKHZ4"
      },
      "cell_type": "code",
      "source": [
        "# Drawing a heatmap with the numeric values in each cell\n",
        "fig4, ax = plt.subplots(figsize=(12, 10))\n",
        "fig4.subplots_adjust(top=.94)\n",
        "plt.suptitle('Distribution of patients attributes by waiting categories and no-showing classes', fontsize=14, fontweight='bold')\n",
        "\n",
        "ax.set_yticklabels(ax.get_yticklabels(), ha=\"right\", fontsize=12, weight='bold')\n",
        "ax.set_xticklabels(ax.get_xticklabels(), fontsize=12, weight='bold')\n",
        "\n",
        "cbar_kws = {'orientation':\"horizontal\", 'pad':0.05, 'aspect':50}\n",
        "sns.heatmap(patients, annot=True, fmt='.2f', linewidths=.3, ax=ax, cmap='RdPu', cbar_kws=cbar_kws);"
      ],
      "execution_count": null,
      "outputs": []
    },
    {
      "metadata": {
        "_cell_guid": "375bc11b-78d7-4ac6-a88a-122e88163ad7",
        "_uuid": "964d1187b9c4dc0db50d36b4aa542a4c3446f964",
        "id": "G8fQevPJKHZ6"
      },
      "cell_type": "markdown",
      "source": [
        "From the heatmap and descriptive statistics above the following conclusions can be drawn:\n",
        "* The patients who attend to the appointments are in general older than those who don't.\n",
        "* Most of the patients **who attend** the appointments scheduled in the **same day** receives *scholarship* and presents *hipertension, diabetes, alcoholism*, and *handicap*. These data may indicate these group of patients (i) may not have access to scheduling systems; or (ii) may need emergency care more often.\n",
        "* Patients suffering from hypertension and diabetes are more assiduous in relation to medical appointments. \n",
        "* Most **patients who have received SMS (70%) have attended to appointments scheduled from a week to a quarter**."
      ]
    },
    {
      "metadata": {
        "_cell_guid": "7755a549-6412-45f3-8a07-643abc63d8e2",
        "_uuid": "35d47db12b8574290a68019e2d46906d04226754",
        "collapsed": true,
        "id": "v--g-J9DKHZ6"
      },
      "cell_type": "markdown",
      "source": [
        "-----------"
      ]
    },
    {
      "metadata": {
        "_cell_guid": "33d80122-0a7a-45ea-81d0-96d33eb388ec",
        "_uuid": "f55fc168f1974c829c555881bb571ee5e70c843b",
        "id": "nDAYq0UAKHZ7"
      },
      "cell_type": "markdown",
      "source": [
        "<a id='conclusions'></a>\n",
        "## 4. Conclusions\n",
        "This analysis sought to explore the medical appointment no-shows dataset, available in <a href=\"#[2]\">[2]</a>, containing more than *100.000* appointments and of which approximately 30% of the patients have not attended. In this way, the data exploration presented in this notebook had the purpose to show up some insights on the possible causes of this appointment missing. It is important to notice, though, that with the provided data and the applied methods it is not possible to affirm any statement with statistical validity nor causal relations. On the other hand, the insights obtained through this analysis can, instead, inform and direct in-depth research on the subject, in order to validate the causes of the appointment missing and find ways to eradicate them."
      ]
    },
    {
      "metadata": {
        "_cell_guid": "50bb18a9-0a25-4077-b81b-d8c220c62495",
        "_uuid": "b166440fa23aa5d7fdce91c54c19342ad0ac4d36",
        "id": "tezAD2rtKHZ7"
      },
      "cell_type": "markdown",
      "source": [
        "----------\n",
        "<a id='sec4.1'></a>\n",
        "### 4.1. Analysis limitations"
      ]
    },
    {
      "metadata": {
        "_cell_guid": "c5bf8f6d-0500-4a2f-a231-eecf69c7d4ab",
        "_uuid": "01fac277374d0e3af3fbb6608c51a4f7a8b22019",
        "id": "D3eAutGKKHZ8"
      },
      "cell_type": "markdown",
      "source": [
        "This section aims to expose some limitations and challenges faced during the data analysis process in order to help improving the data for further analysis:\n",
        "\n",
        "* **Concerning data acquisition**:  \n",
        "The dataset description affirms it comes from public health units from a specific municipality in Brazil. There are some data issues, though, that should be clarified: \n",
        "    * There is no description on how the data were acquired;\n",
        "    * There is no description on how the patients ID were anonymized;\n",
        "    * It is not known if the health units share the same patient database. From this it follows that is not possible to know if the same patient receives different identification codes when he/she goes to a different health unit.  \n",
        "    \n",
        "\n",
        "* **Concerning the data scope**:  \n",
        "There are some references in the data source to the Brazilian health system (SUS) although the provided data are only related to municipal health units from *Vitória, ES*. As exposed in Section 1.2, the SUS is very heterogeneous and concerns to a country with almost 200 million people. In this way, it is not possible to infer the no-showing causes or to generalize any rules from this data.  \n",
        "Besides that, there are some inconsistencies regarding the *Neighborhood* attribute. In the data description and in some forum comments it is said this attribute refers to the health unit location. However it is late stated it comes from 45 health units (against 80 unique neighborhood names). For last, it should be provided more details about the health unit and patients working and residence addresses, which in turn could allow in-depth analysis associating the displacement habits of each patient as well as the socioeconomic characteristics of each neighborhood. \n",
        "\n",
        "\n",
        "* **Concerning the data quality**:\n",
        "    * Besides there were few data to be cleaned in the provided dataset, some of them suggest a process issue that should be verified in the case of an in-depth research. To cite some identified in this analysis: *negative age*; *scheduling date older than appointment date*.\n",
        "\n",
        "\n",
        "* **Concerning the data analysis**:\n",
        "Given the above, the present analysis was limited to categorizing the patient waiting time and exploring the associations of these categories with other attributes. Nevertheless, it was possible to provide relevant insights that could lead to a controlled data acquisition for future researches on this topic."
      ]
    },
    {
      "metadata": {
        "_cell_guid": "67b30047-a1f3-43b8-9742-4a4a3ad34440",
        "_uuid": "9ed680de68fbfa9443876d56db02c9453ceb7103",
        "id": "DGgk8zAFKHZ8"
      },
      "cell_type": "markdown",
      "source": [
        "-------------\n",
        "<a id='sec4.2'></a>\n",
        "### 4.2. Analysis overview"
      ]
    },
    {
      "metadata": {
        "_cell_guid": "359dc226-5c6c-46be-b929-587bd618af60",
        "_uuid": "a380645a9cd988a6d731969fe34b4a72d3ecac4f",
        "id": "-XFOsLTnKHZ9"
      },
      "cell_type": "markdown",
      "source": [
        "In the <a href=\"#intro\">Introduction</a> section of this notebook we have formulated some questions that have driven this analysis. We will now present the insights gained from the data exploration for each of them."
      ]
    },
    {
      "metadata": {
        "_cell_guid": "86173d3d-47b0-4dee-8b9d-3c223b815d56",
        "_uuid": "6800461efcf67f40037c6596171206f69929a7df",
        "id": "bpXYLs9ZKHZ9"
      },
      "cell_type": "markdown",
      "source": [
        "* **Regarding the no-showing appointments**:\n",
        "  - Do the patients forget the appointment?\n",
        "  - What is the average waiting time between the scheduling date and the appointment date?"
      ]
    },
    {
      "metadata": {
        "_cell_guid": "188121ef-fcd1-4881-93aa-82f801f89006",
        "_uuid": "769e975a1ee43e929d5415ecdb84ccb97ac3c6ec",
        "id": "6H0UeMe6KHZ9"
      },
      "cell_type": "markdown",
      "source": [
        "<font color='#21618C'> From the chart below it can be seen that probably people forget the appointment, since **the no-showing rate increases as the waiting time gets longer**. As it can be seen by the red line in the chart, the no-showing rate reaches its lower value when the attendance occurs in the same day it was scheduled. We can then associate it with the emergency care or even when the patient goes to the health unit without a previously scheduling.<br>    \n",
        "\n",
        "It is curious to notice that after one quarter waiting there is a slight return to the patient assiduity, when the *no-showing rate* downs from *49.6%* to *%34.78*. From the analysis in Section 3.1.2, a possible hipothesys for the *no-showing rate* reduction in waiting periods higher than a quarter can be assigned to the patient profile: **elderly people as well as those with chronic diseases who require regular medical follow-up tend to schedule long-term appointments and attend to them.**<br>  \n",
        "\n",
        "For last, considering the whole dataset the average waiting is of *10.18 days* with a standard deviation of *15.25 days*.\n",
        "</font>\n"
      ]
    },
    {
      "metadata": {
        "_cell_guid": "64afdbab-9de6-4989-994a-d87404c4179e",
        "_uuid": "1cd741ecbfd06952cda15b2fa3c1affee4bce3ab",
        "collapsed": true,
        "scrolled": false,
        "trusted": true,
        "id": "aDSF3RviKHZ-"
      },
      "cell_type": "code",
      "source": [
        "fig1 ##This chart was generated in Section 3.1.1"
      ],
      "execution_count": null,
      "outputs": []
    },
    {
      "metadata": {
        "_cell_guid": "b0749173-2ed8-43af-8988-00f6d8cb1815",
        "_uuid": "8435b11e41d18a7d93cea1a218355cd8491dbeca",
        "id": "9KNMqPmLKHZ-"
      },
      "cell_type": "markdown",
      "source": [
        "--------------"
      ]
    },
    {
      "metadata": {
        "_cell_guid": "565ed385-9a25-41a1-878a-0e88ce77baf9",
        "_uuid": "658db6c910d4e801c35f7ea96f02db17ab9ac71a",
        "id": "EB-ufwFmKHZ_"
      },
      "cell_type": "markdown",
      "source": [
        "* **Regarding the patient profile**:\n",
        "  - Is there any common characteristics among those patients that miss appointments?\n",
        "  - What is the *missing appointments per patient* relation in the dataset?  \n",
        "  - How many patients have missed an appointment at least once?\n",
        "  - Patients suffering from serious illnesses are more assiduous?"
      ]
    },
    {
      "metadata": {
        "_cell_guid": "fbad140d-e229-4e29-b1aa-65960d2a3ad5",
        "_uuid": "349c5cdc72bba83ab61e58ce3d4afe4ab709b1de",
        "id": "E7cvpN8OKHZ_"
      },
      "cell_type": "markdown",
      "source": [
        "<font color='#21618C'> The possible answers for these questions were explored at Section 3.2 and comes from descriptive statistics, as those shown in the heatmap below. The following conclusions could be drawn:  \n",
        "<ul>\n",
        "<li>* The patients who attend to the appointments are in general older than those who don't.\n",
        "<li>* Most of the patients **who attend** the appointments scheduled in the **same day** receives *scholarship* and presents *hipertension, diabetes, alcoholism*, and *handicap*. These data may indicate these group of patients (i) may not have access to scheduling systems; or (ii) may need emergency care more often.\n",
        "<li>* Patients suffering from hypertension and diabetes are more assiduous in relation to medical appointments. \n",
        "<li>* Most **patients who have received SMS (70%) have attended to appointments scheduled from a week to a quarter**.\n",
        "</ul>\n",
        "</font>\n"
      ]
    },
    {
      "metadata": {
        "_cell_guid": "990602a9-add6-47a8-82c6-6e7993769f9a",
        "_uuid": "4663cf00af3238c79f7b40efb907a7e1cdd990fa",
        "collapsed": true,
        "scrolled": false,
        "trusted": true,
        "id": "-K3uINJWKHaA"
      },
      "cell_type": "code",
      "source": [
        "fig4 ##This chart was generated in Section 3.2"
      ],
      "execution_count": null,
      "outputs": []
    },
    {
      "metadata": {
        "_cell_guid": "0901638f-5eb2-46ff-8b43-d0a4735ffb0c",
        "_uuid": "2e0ffd5f6a70c7a80cd1eb0a7c762e668ad8f7b4",
        "id": "lCmOrf6kKHaB"
      },
      "cell_type": "markdown",
      "source": [
        "--------------"
      ]
    },
    {
      "metadata": {
        "_cell_guid": "06f37ebc-22de-4e01-bb9b-1f1d3f6c7c0f",
        "_uuid": "6df3d75f3be9dea3bbf5b0a4fde207eb1ff37083",
        "id": "EeWFQdlXKHaB"
      },
      "cell_type": "markdown",
      "source": [
        "* **Regarding the health unit**:\n",
        "  - What are the neighbourhoods with the highest no-showing rate?\n",
        "  - Considering there are common characteristics among those who do not attend the appointments, how these characteristics are geographically distributed?\n",
        "  "
      ]
    },
    {
      "metadata": {
        "_cell_guid": "d5e3dff8-8de7-4c06-b773-36ea54e10f99",
        "_uuid": "af5b470133e4ea39ce1fcdbc1bdc60a1c5229d59",
        "id": "8orkYru_KHaB"
      },
      "cell_type": "markdown",
      "source": [
        "<font color='#21618C'> These questions are directly answered by the three charts below. From the analyzed data we found out that 80% of the appointments are attended to, with a standard deviation of 3.8%, and the geographical  distribution of this number is easily perceived on the bar charts below. The neighborhood with the highest relative no-showing rate is *Santos Dumont*.<br>  \n",
        "\n",
        "From the heatmap it can be drawn that in general the no-showing rate increases as the waiting gets longer for most of neighborhood, besides slightly different for each local. Some neighborhoods have higher no-showing rates even for short waiting times (e.g. *Ilha do Frade* and *Morada de Camburi*).<br>  \n",
        "\n",
        "From these insights, it would be reasonable for the public administration of these localities to investigate the reasons for such occurrences by collecting more detailed data and conducting deeper analysis.\n",
        "</font>"
      ]
    },
    {
      "metadata": {
        "_cell_guid": "662d2980-ae63-45bf-ad89-8b921d71e57f",
        "_uuid": "24cc07aeac3e798e9e88e254a819dd8130cbe41b",
        "collapsed": true,
        "trusted": true,
        "id": "1SO3_TjYKHaB"
      },
      "cell_type": "code",
      "source": [
        "fig2 ##This chart was generated in Section 3.1.3"
      ],
      "execution_count": null,
      "outputs": []
    },
    {
      "metadata": {
        "_cell_guid": "e2e316d8-5af1-4431-8a43-12fbad3aceba",
        "_uuid": "3382e3b18534c307b58e54057a9dfd043e72723c",
        "collapsed": true,
        "trusted": true,
        "id": "L1fsQGOSKHaC"
      },
      "cell_type": "code",
      "source": [
        "fig3 ##This chart was generated in Section 3.1.3"
      ],
      "execution_count": null,
      "outputs": []
    },
    {
      "metadata": {
        "_cell_guid": "4cde8935-e314-42fe-9382-8bfa748a744e",
        "_uuid": "5929ab7f0870721a2371b6de9ef45f534297b54b",
        "id": "YLdQYrleKHaC"
      },
      "cell_type": "markdown",
      "source": [
        "--------------"
      ]
    },
    {
      "metadata": {
        "_cell_guid": "25a7a00b-efcf-479f-b430-d9761664a3f3",
        "_uuid": "e4c3b9060063457b219b295c8fdf08ecfe590852",
        "id": "010hZzGrKHaE"
      },
      "cell_type": "markdown",
      "source": [
        "* **Regarding the data**:\n",
        "  - Is the data balanced in relation to the interest class (showing/no-showing to appointments)?\n",
        "  - How is the data distributed in relation to the location (neighborhood)? I.e. all the units have an equivalent and balanced number of instances?\n",
        "  \n"
      ]
    },
    {
      "metadata": {
        "_cell_guid": "477e2769-a035-4e07-9214-aaffe8d46540",
        "_uuid": "5f6e404ac17314515e61e5c45c3cf61c84a961e0",
        "id": "Z8WngjilKHaE"
      },
      "cell_type": "markdown",
      "source": [
        "<font color='#21618C'> As it was identified in Sections 2.3.1 and 2.3.5, the data are unbalanced in relation to *gender* attribute, as well as to the *No_showing* class. From the *absolute attended appointments bar chart* above it is also clear the data are unbalanced in relation to the health units. "
      ]
    },
    {
      "metadata": {
        "_cell_guid": "be5300eb-334e-435e-a472-63c334f55dcf",
        "_uuid": "936db1179c6b00e9d98c99f55f911b0dc6d7b5bb",
        "id": "X40Y9h1fKHaE"
      },
      "cell_type": "markdown",
      "source": [
        "--------------"
      ]
    },
    {
      "metadata": {
        "_cell_guid": "26c43ff1-6074-4cb4-8fd4-b802fd4230f6",
        "_uuid": "d003bf9c44a35c0d04ec956a5be843292ed30cbf",
        "id": "wA7IkuI0KHaE"
      },
      "cell_type": "markdown",
      "source": [
        "<a id='references'></a>\n",
        "## References\n",
        "\n",
        "<a id='[1]'></a>[1] Wikipedia contributors. Brazil. Wikipedia, The Free Encyclopedia. February 9, 2018, 22:06 UTC. Available at: https://en.wikipedia.org/w/index.php?title=Brazil&oldid=824851232. Accessed in February 10, 2018.\n",
        "\n",
        "<a id='[2]'></a>[2] Kaggle. *Medical Appointment No Shows*. Reviewed dataset. Available at: https://www.kaggle.com/joniarroba/noshowappointments. Accessed in February 10, 2018.\n",
        "\n",
        "<a id='[3]'></a>[3] Victora, C. G., Barreto, M. L., Leal, M. D. C., Monteiro, C. A., Schmidt, M. I., Paim, J. S., ... & Reichenheim, M. E. (2011). *Condições de saúde e inovações nas políticas de saúde no Brasil: o caminho a percorrer* (in Portuguese). Available at: https://repositorio.ufba.br/ri/handle/ri/5973. Accessed in February 12, 2018.\n",
        "\n",
        "<a id='[4]'></a>[4] Pandas 0.22.0 documentation. Available at: https://pandas.pydata.org/pandas-docs/stable/timeseries.html. Accessed in February 20, 2018.\n",
        "\n",
        "<a id='[5]'></a>[5] Twelve useful Pandas techniques in Python for data manipulation. Analytics Vhidya. Available at: https://www.analyticsvidhya.com/blog/2016/01/12-pandas-techniques-python-data-manipulation/. Accessed in February 22, 2018.\n",
        "\n",
        "<a id='[6]'></a>[6] Stack Overflow. Plot pandas DataFrame as bar and line on the same one chart. Available at https://stackoverflow.com/questions/23482201/plot-pandas-dataframe-as-bar-and-line-on-the-same-one-chart. Accessed in February 24, 2018.\n",
        "\n",
        "<a id='[7]'></a>[7] Stack Overflow. Writing numerical numerical values on the plot with Matplotlib. Available at https://stackoverflow.com/questions/6282058/writing-numerical-values-on-the-plot-with-matplotlib. Accessed in February 24, 2018.\n",
        "\n",
        "<a id='[8]'></a>[8] Wikipedia contributors. *Lista de Bairros de Vitória*. Available at: https://pt.wikipedia.org/wiki/Lista_de_bairros_de_Vit%C3%B3ria. Accessed in February 27, 2018.\n",
        "\n",
        "<a id='[9]'></a>[9] Matplotlib. Colorbar API. Version 2.1.2. Available at https://matplotlib.org/api/colorbar_api.html. Accessed in February 27, 2018."
      ]
    }
  ],
  "metadata": {
    "kernelspec": {
      "display_name": "Python 3",
      "language": "python",
      "name": "python3"
    },
    "language_info": {
      "codemirror_mode": {
        "name": "ipython",
        "version": 3
      },
      "file_extension": ".py",
      "mimetype": "text/x-python",
      "name": "python",
      "nbconvert_exporter": "python",
      "pygments_lexer": "ipython3",
      "version": "3.6.4"
    },
    "colab": {
      "provenance": []
    }
  },
  "nbformat": 4,
  "nbformat_minor": 0
}