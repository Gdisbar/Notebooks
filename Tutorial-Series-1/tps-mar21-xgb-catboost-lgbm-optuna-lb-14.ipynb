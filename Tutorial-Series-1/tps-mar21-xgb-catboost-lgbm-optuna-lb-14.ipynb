{
 "cells": [
  {
   "cell_type": "markdown",
   "id": "74ed4264",
   "metadata": {
    "papermill": {
     "duration": 0.015109,
     "end_time": "2022-01-14T09:16:57.561856",
     "exception": false,
     "start_time": "2022-01-14T09:16:57.546747",
     "status": "completed"
    },
    "tags": []
   },
   "source": [
    "# Introduction\n",
    "\n",
    "Hey, thanks for viewing my Kernel!\n",
    "\n",
    "If you like my work, please, leave an upvote: it will be really appreciated and it will motivate me in offering more content to the Kaggle community ! 😊"
   ]
  },
  {
   "cell_type": "code",
   "execution_count": 1,
   "id": "c3f25d91",
   "metadata": {
    "execution": {
     "iopub.execute_input": "2022-01-14T09:16:57.597226Z",
     "iopub.status.busy": "2022-01-14T09:16:57.595719Z",
     "iopub.status.idle": "2022-01-14T09:17:02.942007Z",
     "shell.execute_reply": "2022-01-14T09:17:02.942710Z",
     "shell.execute_reply.started": "2022-01-03T12:08:10.346656Z"
    },
    "papermill": {
     "duration": 5.365431,
     "end_time": "2022-01-14T09:17:02.943114",
     "exception": false,
     "start_time": "2022-01-14T09:16:57.577683",
     "status": "completed"
    },
    "tags": []
   },
   "outputs": [
    {
     "name": "stdout",
     "output_type": "stream",
     "text": [
      "X shape:  (300000, 68)\n",
      "X_test shape:  (200000, 68)\n",
      "y shape:  (300000, 1)\n",
      "      cont0     cont1     cont2     cont3     cont4     cont5     cont6  \\\n",
      "0  0.771882  1.831469  0.757355  1.831778  1.734982  3.604858  1.614927   \n",
      "1  0.839769  1.263666  0.868692  1.580342  1.315982  2.338179  1.623011   \n",
      "2  0.803225  1.257000  0.884926  1.654517  1.894852  3.244596  1.367991   \n",
      "3  0.709523  1.672173  0.740416  1.843903  1.903929  3.591256  1.233940   \n",
      "4  0.876465  1.204973  0.886647  1.319137  1.632942  1.481867  1.601123   \n",
      "\n",
      "      cont7     cont8     cont9  ...  cat11cat12M  cat11cat13M  cat11cat14M  \\\n",
      "0  0.417356  0.158744  0.256644  ...            0            0            0   \n",
      "1  0.633500  0.362071  0.269906  ...            0            0            0   \n",
      "2  0.649517  0.351679  0.825885  ...            0            0            0   \n",
      "3  0.378396  0.221788  0.343216  ...            0            0            0   \n",
      "4  0.751206  0.404528  0.713877  ...            0            0            0   \n",
      "\n",
      "   cat12cat13M  cat12cat14M  cat13cat14M  cat15_16TotalTotal  \\\n",
      "0            0            0            0                  24   \n",
      "1            0            1            0                  24   \n",
      "2            0            0            0                  24   \n",
      "3            0            0            0                  24   \n",
      "4            0            0            0                  18   \n",
      "\n",
      "   cat15_16MulTotal  cat11_14TotalTotal  cat11_14MulTotal  \n",
      "0                22                   0                 0  \n",
      "1                22                   8                 1  \n",
      "2                22                   4                 0  \n",
      "3                22                   0                 0  \n",
      "4                12                   4                 0  \n",
      "\n",
      "[5 rows x 68 columns]\n"
     ]
    }
   ],
   "source": [
    "import pandas as pd\n",
    "import numpy as np\n",
    "from sklearn.model_selection import train_test_split\n",
    "import warnings\n",
    "\n",
    "\n",
    "warnings.simplefilter(\"ignore\")\n",
    "\n",
    "X = pd.read_csv('/kaggle/input/prepared-data/x_train.csv')\n",
    "X_test = pd.read_csv('/kaggle/input/prepared-data/x_test.csv')\n",
    "y = pd.read_csv('/kaggle/input/prepared-data/y_train.csv')\n",
    "\n",
    "print('X shape: ', X.shape)\n",
    "print('X_test shape: ', X_test.shape)\n",
    "print('y shape: ', y.shape)\n",
    "print(X.head())\n",
    "\n",
    "train_X, val_X, train_y, val_y = train_test_split(X, y, random_state=42)"
   ]
  },
  {
   "cell_type": "markdown",
   "id": "a5c582ab",
   "metadata": {
    "papermill": {
     "duration": 0.015258,
     "end_time": "2022-01-14T09:17:02.974292",
     "exception": false,
     "start_time": "2022-01-14T09:17:02.959034",
     "status": "completed"
    },
    "tags": []
   },
   "source": [
    "# Model Creating and Evaluating"
   ]
  },
  {
   "cell_type": "code",
   "execution_count": 2,
   "id": "c07164dc",
   "metadata": {
    "execution": {
     "iopub.execute_input": "2022-01-14T09:17:03.009250Z",
     "iopub.status.busy": "2022-01-14T09:17:03.008573Z",
     "iopub.status.idle": "2022-01-14T09:17:05.161114Z",
     "shell.execute_reply": "2022-01-14T09:17:05.160056Z",
     "shell.execute_reply.started": "2022-01-03T12:08:15.69007Z"
    },
    "papermill": {
     "duration": 2.172155,
     "end_time": "2022-01-14T09:17:05.161279",
     "exception": false,
     "start_time": "2022-01-14T09:17:02.989124",
     "status": "completed"
    },
    "tags": []
   },
   "outputs": [
    {
     "data": {
      "text/html": [
       "<style type='text/css'>\n",
       ".datatable table.frame { margin-bottom: 0; }\n",
       ".datatable table.frame thead { border-bottom: none; }\n",
       ".datatable table.frame tr.coltypes td {  color: #FFFFFF;  line-height: 6px;  padding: 0 0.5em;}\n",
       ".datatable .bool    { background: #DDDD99; }\n",
       ".datatable .object  { background: #565656; }\n",
       ".datatable .int     { background: #5D9E5D; }\n",
       ".datatable .float   { background: #4040CC; }\n",
       ".datatable .str     { background: #CC4040; }\n",
       ".datatable .time    { background: #40CC40; }\n",
       ".datatable .row_index {  background: var(--jp-border-color3);  border-right: 1px solid var(--jp-border-color0);  color: var(--jp-ui-font-color3);  font-size: 9px;}\n",
       ".datatable .frame tbody td { text-align: left; }\n",
       ".datatable .frame tr.coltypes .row_index {  background: var(--jp-border-color0);}\n",
       ".datatable th:nth-child(2) { padding-left: 12px; }\n",
       ".datatable .hellipsis {  color: var(--jp-cell-editor-border-color);}\n",
       ".datatable .vellipsis {  background: var(--jp-layout-color0);  color: var(--jp-cell-editor-border-color);}\n",
       ".datatable .na {  color: var(--jp-cell-editor-border-color);  font-size: 80%;}\n",
       ".datatable .sp {  opacity: 0.25;}\n",
       ".datatable .footer { font-size: 9px; }\n",
       ".datatable .frame_dimensions {  background: var(--jp-border-color3);  border-top: 1px solid var(--jp-border-color0);  color: var(--jp-ui-font-color3);  display: inline-block;  opacity: 0.6;  padding: 1px 10px 1px 5px;}\n",
       "</style>\n"
      ],
      "text/plain": [
       "<IPython.core.display.HTML object>"
      ]
     },
     "metadata": {},
     "output_type": "display_data"
    }
   ],
   "source": [
    "from xgboost import XGBClassifier\n",
    "from lightgbm import LGBMClassifier\n",
    "from catboost import CatBoostClassifier\n",
    "\n",
    "from sklearn.metrics import roc_auc_score\n",
    "from sklearn.model_selection import cross_val_score\n",
    "from sklearn.pipeline import make_pipeline\n",
    "from sklearn.preprocessing import StandardScaler\n",
    "\n",
    "import optuna\n",
    "from optuna.visualization import plot_optimization_history, plot_param_importances\n",
    "\n",
    "from sklearn.model_selection import KFold\n",
    "from sklearn.model_selection import StratifiedKFold\n",
    "\n",
    "def scorer(y, y_pred):\n",
    "    return roc_auc_score(y, y_pred)"
   ]
  },
  {
   "cell_type": "code",
   "execution_count": 3,
   "id": "175f5789",
   "metadata": {
    "execution": {
     "iopub.execute_input": "2022-01-14T09:17:05.200422Z",
     "iopub.status.busy": "2022-01-14T09:17:05.199610Z",
     "iopub.status.idle": "2022-01-14T09:28:46.405465Z",
     "shell.execute_reply": "2022-01-14T09:28:46.406082Z",
     "shell.execute_reply.started": "2022-01-03T12:08:18.22123Z"
    },
    "papermill": {
     "duration": 701.228733,
     "end_time": "2022-01-14T09:28:46.406331",
     "exception": false,
     "start_time": "2022-01-14T09:17:05.177598",
     "status": "completed"
    },
    "tags": []
   },
   "outputs": [
    {
     "name": "stdout",
     "output_type": "stream",
     "text": [
      "[09:17:08] WARNING: ../src/learner.cc:1115: Starting in XGBoost 1.4.0, the default evaluation metric used with the objective 'binary:logitraw' was changed from 'auc' to 'logloss'. Explicitly set eval_metric if you'd like to restore the old behavior.\n",
      "[09:18:25] WARNING: ../src/learner.cc:1115: Starting in XGBoost 1.4.0, the default evaluation metric used with the objective 'binary:logitraw' was changed from 'auc' to 'logloss'. Explicitly set eval_metric if you'd like to restore the old behavior.\n",
      "[09:19:42] WARNING: ../src/learner.cc:1115: Starting in XGBoost 1.4.0, the default evaluation metric used with the objective 'binary:logitraw' was changed from 'auc' to 'logloss'. Explicitly set eval_metric if you'd like to restore the old behavior.\n",
      "[09:20:59] WARNING: ../src/learner.cc:1115: Starting in XGBoost 1.4.0, the default evaluation metric used with the objective 'binary:logitraw' was changed from 'auc' to 'logloss'. Explicitly set eval_metric if you'd like to restore the old behavior.\n",
      "[09:22:16] WARNING: ../src/learner.cc:1115: Starting in XGBoost 1.4.0, the default evaluation metric used with the objective 'binary:logitraw' was changed from 'auc' to 'logloss'. Explicitly set eval_metric if you'd like to restore the old behavior.\n",
      "xgbc_score:  0.8898202612356174\n",
      "ligthgbmc_score:  0.8879385374274603\n",
      "cbc_score:  0.8909648517647316\n"
     ]
    }
   ],
   "source": [
    "# XGBClassifier\n",
    "xgbc_model = XGBClassifier(min_child_weight=0.1, reg_lambda=100, booster='gbtree', objective='binary:logitraw', random_state=42)\n",
    "xgbc_score = cross_val_score(xgbc_model, train_X, train_y, scoring='roc_auc', cv=5)\n",
    "print('xgbc_score: ', xgbc_score.mean())\n",
    "\n",
    "# LGBMClassifier\n",
    "ligthgbmc_model = LGBMClassifier(boosting_type='gbdt', objective='binary', random_state=42)\n",
    "ligthgbmc_score = cross_val_score(ligthgbmc_model, train_X, train_y, scoring='roc_auc', cv=5)\n",
    "print('ligthgbmc_score: ', ligthgbmc_score.mean())\n",
    "\n",
    "# CatBoostClassifier\n",
    "cbc_model = CatBoostClassifier(loss_function='Logloss', random_state=42, verbose=False)\n",
    "cbc_score = cross_val_score(cbc_model, train_X, train_y, scoring='roc_auc', cv=5)\n",
    "print('cbc_score: ', cbc_score.mean())"
   ]
  },
  {
   "cell_type": "markdown",
   "id": "e7605935",
   "metadata": {
    "papermill": {
     "duration": 0.016759,
     "end_time": "2022-01-14T09:28:46.441188",
     "exception": false,
     "start_time": "2022-01-14T09:28:46.424429",
     "status": "completed"
    },
    "tags": []
   },
   "source": [
    "# XGB Optuna"
   ]
  },
  {
   "cell_type": "code",
   "execution_count": 4,
   "id": "0d110001",
   "metadata": {
    "execution": {
     "iopub.execute_input": "2022-01-14T09:28:46.488541Z",
     "iopub.status.busy": "2022-01-14T09:28:46.487782Z",
     "iopub.status.idle": "2022-01-14T09:28:46.490430Z",
     "shell.execute_reply": "2022-01-14T09:28:46.489993Z",
     "shell.execute_reply.started": "2022-01-03T12:19:58.57582Z"
    },
    "papermill": {
     "duration": 0.032431,
     "end_time": "2022-01-14T09:28:46.490544",
     "exception": false,
     "start_time": "2022-01-14T09:28:46.458113",
     "status": "completed"
    },
    "tags": []
   },
   "outputs": [],
   "source": [
    "def objective(trial, data=X, target=y):\n",
    "    X_train, X_val, y_train, y_val = train_test_split(data, target, test_size=0.2, random_state=42)\n",
    "\n",
    "    params = {\n",
    "        'max_depth': trial.suggest_int('max_depth', 3, 32),\n",
    "        'learning_rate': trial.suggest_categorical('learning_rate', [0.005, 0.02, 0.05, 0.08, 0.1]),\n",
    "        'n_estimators': trial.suggest_int('n_estimators', 2000, 8000),\n",
    "        'min_child_weight': trial.suggest_int('min_child_weight', 1, 300),\n",
    "        'gamma': trial.suggest_float('gamma', 0.0001, 1.0, log = True),\n",
    "        'alpha': trial.suggest_float('alpha', 0.0001, 10.0, log = True),\n",
    "        'lambda': trial.suggest_float('lambda', 0.0001, 10.0, log = True),\n",
    "        'colsample_bytree': trial.suggest_float('colsample_bytree', 0.1, 0.8),\n",
    "        'subsample': trial.suggest_float('subsample', 0.1, 0.8),\n",
    "        'tree_method': 'gpu_hist',\n",
    "        'booster': 'gbtree',\n",
    "        'random_state': 42,\n",
    "        'use_label_encoder': False,\n",
    "        'eval_metric': 'auc'\n",
    "\n",
    "    }\n",
    "    \n",
    "    model = XGBClassifier(**params)  \n",
    "    model.fit(X_train, y_train, eval_set = [(X_val,y_val)], early_stopping_rounds = 333, verbose = False)\n",
    "    y_pred = model.predict_proba(X_val)[:,1]\n",
    "    roc_auc = roc_auc_score(y_val, y_pred)\n",
    "\n",
    "    return roc_auc"
   ]
  },
  {
   "cell_type": "code",
   "execution_count": 5,
   "id": "c38123a7",
   "metadata": {
    "execution": {
     "iopub.execute_input": "2022-01-14T09:28:46.528327Z",
     "iopub.status.busy": "2022-01-14T09:28:46.527548Z",
     "iopub.status.idle": "2022-01-14T09:28:46.530074Z",
     "shell.execute_reply": "2022-01-14T09:28:46.529657Z",
     "shell.execute_reply.started": "2022-01-03T12:19:58.58697Z"
    },
    "papermill": {
     "duration": 0.022861,
     "end_time": "2022-01-14T09:28:46.530177",
     "exception": false,
     "start_time": "2022-01-14T09:28:46.507316",
     "status": "completed"
    },
    "tags": []
   },
   "outputs": [],
   "source": [
    "#study = optuna.create_study(direction='maximize')\n",
    "#study.optimize(objective, n_trials=50)\n",
    "#print('Number of finished trials: ', len(study.trials))\n",
    "#print('Best trial: ', study.best_trial.params)\n",
    "#print('Best value: ', study.best_value)"
   ]
  },
  {
   "cell_type": "markdown",
   "id": "21efb01d",
   "metadata": {
    "papermill": {
     "duration": 0.016558,
     "end_time": "2022-01-14T09:28:46.563457",
     "exception": false,
     "start_time": "2022-01-14T09:28:46.546899",
     "status": "completed"
    },
    "tags": []
   },
   "source": [
    "Number of finished trials: 1 Best trial: {'max_depth': 4, 'learning_rate': 0.1, 'n_estimators': 2616, 'min_child_weight': 36, 'gamma': 0.0001231342905079067, 'alpha': 5.138826788428377, 'lambda': 0.006952601632723477, 'colsample_bytree': 0.3019243613187322, 'subsample': 0.7474126793277557} Best value: 0.8941200673933261\n",
    "\n",
    "Number of finished trials: 50 Best trial: {'max_depth': 6, 'learning_rate': 0.02, 'n_estimators': 2941, 'min_child_weight': 10, 'gamma': 0.027689264382343946, 'alpha': 2.239319562015662, 'lambda': 0.005116156806904708, 'colsample_bytree': 0.2018103901998171, 'subsample': 0.7452030806282816} Best value: 0.8951492161710065"
   ]
  },
  {
   "cell_type": "markdown",
   "id": "222179b7",
   "metadata": {
    "papermill": {
     "duration": 0.016689,
     "end_time": "2022-01-14T09:28:46.596948",
     "exception": false,
     "start_time": "2022-01-14T09:28:46.580259",
     "status": "completed"
    },
    "tags": []
   },
   "source": [
    "# CatBoost Optuna"
   ]
  },
  {
   "cell_type": "code",
   "execution_count": 6,
   "id": "d4109036",
   "metadata": {
    "execution": {
     "iopub.execute_input": "2022-01-14T09:28:46.639262Z",
     "iopub.status.busy": "2022-01-14T09:28:46.638723Z",
     "iopub.status.idle": "2022-01-14T09:28:46.642268Z",
     "shell.execute_reply": "2022-01-14T09:28:46.641819Z",
     "shell.execute_reply.started": "2022-01-03T12:19:58.617427Z"
    },
    "papermill": {
     "duration": 0.028608,
     "end_time": "2022-01-14T09:28:46.642437",
     "exception": false,
     "start_time": "2022-01-14T09:28:46.613829",
     "status": "completed"
    },
    "tags": []
   },
   "outputs": [],
   "source": [
    "def objective(trial, data=X, target=y):\n",
    "    X_train, X_val, y_train, y_val = train_test_split(X, y, test_size=0.2, random_state=42)\n",
    "\n",
    "    params = {\n",
    "        'max_depth': trial.suggest_int('max_depth', 3, 64),\n",
    "        'learning_rate': trial.suggest_categorical('learning_rate', [0.005, 0.02, 0.05, 0.08, 0.1]),\n",
    "        'n_estimators': trial.suggest_int('n_estimators', 2000, 8000),\n",
    "        'max_bin': trial.suggest_int('max_bin', 200, 400),\n",
    "        'min_data_in_leaf': trial.suggest_int('min_data_in_leaf', 1, 300),\n",
    "        'l2_leaf_reg': trial.suggest_float('l2_leaf_reg', 0.0001, 1.0, log = True),\n",
    "        'subsample': trial.suggest_float('subsample', 0.1, 0.8),\n",
    "        'random_seed': 42,\n",
    "        'task_type': 'GPU',\n",
    "        'loss_function': 'Logloss',\n",
    "        'eval_metric': 'AUC',\n",
    "        'bootstrap_type': 'Poisson'\n",
    "    }\n",
    "    \n",
    "    model = CatBoostClassifier(**params)  \n",
    "    model.fit(X_train, y_train, eval_set = [(X_val,y_val)], early_stopping_rounds = 222, verbose = False)\n",
    "    y_pred = model.predict_proba(X_val)[:,1]\n",
    "    roc_auc = roc_auc_score(y_val, y_pred)\n",
    "\n",
    "    return roc_auc"
   ]
  },
  {
   "cell_type": "code",
   "execution_count": 7,
   "id": "f08fe2da",
   "metadata": {
    "execution": {
     "iopub.execute_input": "2022-01-14T09:28:46.679653Z",
     "iopub.status.busy": "2022-01-14T09:28:46.678985Z",
     "iopub.status.idle": "2022-01-14T09:28:46.682342Z",
     "shell.execute_reply": "2022-01-14T09:28:46.681870Z",
     "shell.execute_reply.started": "2022-01-03T12:19:58.628752Z"
    },
    "papermill": {
     "duration": 0.023283,
     "end_time": "2022-01-14T09:28:46.682453",
     "exception": false,
     "start_time": "2022-01-14T09:28:46.659170",
     "status": "completed"
    },
    "tags": []
   },
   "outputs": [],
   "source": [
    "#study = optuna.create_study(direction = 'maximize')\n",
    "#study.optimize(objective, n_trials = 50)\n",
    "#print('Number of finished trials:', len(study.trials))\n",
    "#print('Best trial:', study.best_trial.params)\n",
    "#print('Best value:', study.best_value)"
   ]
  },
  {
   "cell_type": "markdown",
   "id": "d3996da4",
   "metadata": {
    "papermill": {
     "duration": 0.016515,
     "end_time": "2022-01-14T09:28:46.715769",
     "exception": false,
     "start_time": "2022-01-14T09:28:46.699254",
     "status": "completed"
    },
    "tags": []
   },
   "source": [
    "Number of finished trials: 50 Best trial: {'max_depth': 4, 'learning_rate': 0.1, 'n_estimators': 2877, 'max_bin': 200, 'min_data_in_leaf': 10, 'l2_leaf_reg': 0.09385107162927438, 'subsample': 0.7990428819543426} Best value: 0.8925910141177894"
   ]
  },
  {
   "cell_type": "markdown",
   "id": "7ced3b13",
   "metadata": {
    "papermill": {
     "duration": 0.01653,
     "end_time": "2022-01-14T09:28:46.748985",
     "exception": false,
     "start_time": "2022-01-14T09:28:46.732455",
     "status": "completed"
    },
    "tags": []
   },
   "source": [
    "# LGBM Optuna"
   ]
  },
  {
   "cell_type": "code",
   "execution_count": 8,
   "id": "803619ec",
   "metadata": {
    "execution": {
     "iopub.execute_input": "2022-01-14T09:28:46.794425Z",
     "iopub.status.busy": "2022-01-14T09:28:46.793599Z",
     "iopub.status.idle": "2022-01-14T09:28:46.795519Z",
     "shell.execute_reply": "2022-01-14T09:28:46.795915Z",
     "shell.execute_reply.started": "2022-01-03T12:19:58.641982Z"
    },
    "papermill": {
     "duration": 0.030388,
     "end_time": "2022-01-14T09:28:46.796034",
     "exception": false,
     "start_time": "2022-01-14T09:28:46.765646",
     "status": "completed"
    },
    "tags": []
   },
   "outputs": [],
   "source": [
    "def objective(trial,data=X,target=y):   \n",
    "    train_x, test_x, train_y, test_y = train_test_split(data, target, test_size=0.15,random_state=42)\n",
    "    params = {\n",
    "        'reg_alpha': trial.suggest_float('reg_alpha', 0.001, 10.0),\n",
    "        'reg_lambda': trial.suggest_float('reg_lambda', 0.001, 10.0),\n",
    "        'num_leaves': trial.suggest_int('num_leaves', 11, 333),\n",
    "        'min_child_samples': trial.suggest_int('min_child_samples', 5, 100),\n",
    "        'max_depth': trial.suggest_int('max_depth', 5, 64),\n",
    "        'learning_rate': trial.suggest_categorical('learning_rate', [0.01, 0.02, 0.05, 0.005, 0.1]),\n",
    "        'colsample_bytree': trial.suggest_float('colsample_bytree', 0.1, 0.5),\n",
    "        'n_estimators': trial.suggest_int('n_estimators', 2000, 8000),\n",
    "        'cat_smooth' : trial.suggest_int('cat_smooth', 10, 100),\n",
    "        'cat_l2': trial.suggest_int('cat_l2', 1, 20),\n",
    "        'min_data_per_group': trial.suggest_int('min_data_per_group', 50, 200),\n",
    "        'cat_feature' : [11, 12, 13, 14, 15, 16, 17, 18, 19, 20, 21, 22, 23, 24, 25, 26, 27, 28, 29, 30, 31, \n",
    "                         32, 33, 34, 35, 36, 37, 38, 39, 40, 41, 42, 43, 44, 45, 46, 47, 48, 49, 50, 51, 52, \n",
    "                         53, 54, 55, 56, 57, 58, 59, 60, 61, 62, 63, 64, 65, 66, 67],\n",
    "        'n_jobs' : -1, \n",
    "        'random_state': 42,\n",
    "        'boosting_type': 'gbdt',\n",
    "        'metric': 'AUC',\n",
    "        'device': 'gpu'\n",
    "    }\n",
    "    model = LGBMClassifier(**params)  \n",
    "    \n",
    "    model.fit(train_x,train_y,eval_set=[(test_x,test_y)],eval_metric='auc', early_stopping_rounds=300, verbose=False)\n",
    "    \n",
    "    preds = model.predict_proba(test_x)[:,1]\n",
    "    \n",
    "    auc = roc_auc_score(test_y, preds)\n",
    "    \n",
    "    return auc"
   ]
  },
  {
   "cell_type": "code",
   "execution_count": 9,
   "id": "0ce9836e",
   "metadata": {
    "execution": {
     "iopub.execute_input": "2022-01-14T09:28:46.834710Z",
     "iopub.status.busy": "2022-01-14T09:28:46.833949Z",
     "iopub.status.idle": "2022-01-14T12:57:08.983792Z",
     "shell.execute_reply": "2022-01-14T12:57:08.983102Z",
     "shell.execute_reply.started": "2022-01-03T12:19:58.661619Z"
    },
    "papermill": {
     "duration": 12502.171231,
     "end_time": "2022-01-14T12:57:08.983964",
     "exception": false,
     "start_time": "2022-01-14T09:28:46.812733",
     "status": "completed"
    },
    "tags": []
   },
   "outputs": [
    {
     "name": "stderr",
     "output_type": "stream",
     "text": [
      "\u001b[32m[I 2022-01-14 09:28:46,832]\u001b[0m A new study created in memory with name: no-name-0cdfba62-7b73-433b-8e88-6e2a5bcb39a4\u001b[0m\n",
      "\u001b[32m[I 2022-01-14 09:32:02,412]\u001b[0m Trial 0 finished with value: 0.8955073188832696 and parameters: {'reg_alpha': 5.1443519018289585, 'reg_lambda': 4.415244949244017, 'num_leaves': 26, 'min_child_samples': 61, 'max_depth': 26, 'learning_rate': 0.01, 'colsample_bytree': 0.37058327649790235, 'n_estimators': 5108, 'cat_smooth': 58, 'cat_l2': 7, 'min_data_per_group': 55}. Best is trial 0 with value: 0.8955073188832696.\u001b[0m\n",
      "\u001b[32m[I 2022-01-14 09:35:21,640]\u001b[0m Trial 1 finished with value: 0.8954177148782939 and parameters: {'reg_alpha': 5.358676472636174, 'reg_lambda': 7.636187731515871, 'num_leaves': 165, 'min_child_samples': 93, 'max_depth': 30, 'learning_rate': 0.005, 'colsample_bytree': 0.4892020956172842, 'n_estimators': 2465, 'cat_smooth': 63, 'cat_l2': 16, 'min_data_per_group': 189}. Best is trial 0 with value: 0.8955073188832696.\u001b[0m\n",
      "\u001b[32m[I 2022-01-14 09:36:00,971]\u001b[0m Trial 2 finished with value: 0.8952991835357945 and parameters: {'reg_alpha': 6.121671669131497, 'reg_lambda': 5.426265510265543, 'num_leaves': 210, 'min_child_samples': 16, 'max_depth': 63, 'learning_rate': 0.1, 'colsample_bytree': 0.27144761632213854, 'n_estimators': 7047, 'cat_smooth': 71, 'cat_l2': 5, 'min_data_per_group': 154}. Best is trial 0 with value: 0.8955073188832696.\u001b[0m\n",
      "\u001b[32m[I 2022-01-14 09:38:22,715]\u001b[0m Trial 3 finished with value: 0.8953064798546173 and parameters: {'reg_alpha': 8.041626616090866, 'reg_lambda': 3.8746916344368256, 'num_leaves': 80, 'min_child_samples': 22, 'max_depth': 22, 'learning_rate': 0.01, 'colsample_bytree': 0.464306924231059, 'n_estimators': 2396, 'cat_smooth': 15, 'cat_l2': 2, 'min_data_per_group': 150}. Best is trial 0 with value: 0.8955073188832696.\u001b[0m\n",
      "\u001b[32m[I 2022-01-14 09:39:56,311]\u001b[0m Trial 4 finished with value: 0.8957598246343945 and parameters: {'reg_alpha': 6.112293960846961, 'reg_lambda': 1.459341478473584, 'num_leaves': 156, 'min_child_samples': 8, 'max_depth': 62, 'learning_rate': 0.02, 'colsample_bytree': 0.4358015523502069, 'n_estimators': 4876, 'cat_smooth': 48, 'cat_l2': 12, 'min_data_per_group': 75}. Best is trial 4 with value: 0.8957598246343945.\u001b[0m\n",
      "\u001b[32m[I 2022-01-14 09:40:43,089]\u001b[0m Trial 5 finished with value: 0.8952899846067082 and parameters: {'reg_alpha': 4.924991719238198, 'reg_lambda': 9.838119906028236, 'num_leaves': 168, 'min_child_samples': 74, 'max_depth': 33, 'learning_rate': 0.05, 'colsample_bytree': 0.4328886727109714, 'n_estimators': 3953, 'cat_smooth': 20, 'cat_l2': 4, 'min_data_per_group': 184}. Best is trial 4 with value: 0.8957598246343945.\u001b[0m\n",
      "\u001b[32m[I 2022-01-14 09:42:35,123]\u001b[0m Trial 6 finished with value: 0.8960004397098318 and parameters: {'reg_alpha': 1.9206829322089467, 'reg_lambda': 3.3509268353616704, 'num_leaves': 209, 'min_child_samples': 75, 'max_depth': 18, 'learning_rate': 0.02, 'colsample_bytree': 0.2071374482189827, 'n_estimators': 2081, 'cat_smooth': 72, 'cat_l2': 15, 'min_data_per_group': 173}. Best is trial 6 with value: 0.8960004397098318.\u001b[0m\n",
      "\u001b[32m[I 2022-01-14 09:45:41,823]\u001b[0m Trial 7 finished with value: 0.8963183773771478 and parameters: {'reg_alpha': 2.249606793795376, 'reg_lambda': 9.109877112284268, 'num_leaves': 246, 'min_child_samples': 89, 'max_depth': 23, 'learning_rate': 0.01, 'colsample_bytree': 0.3352121773905973, 'n_estimators': 4415, 'cat_smooth': 26, 'cat_l2': 8, 'min_data_per_group': 74}. Best is trial 7 with value: 0.8963183773771478.\u001b[0m\n",
      "\u001b[32m[I 2022-01-14 09:46:52,424]\u001b[0m Trial 8 finished with value: 0.8955880329737118 and parameters: {'reg_alpha': 8.933602810583535, 'reg_lambda': 4.059779169567785, 'num_leaves': 197, 'min_child_samples': 71, 'max_depth': 43, 'learning_rate': 0.05, 'colsample_bytree': 0.17313073213792363, 'n_estimators': 3683, 'cat_smooth': 74, 'cat_l2': 14, 'min_data_per_group': 132}. Best is trial 7 with value: 0.8963183773771478.\u001b[0m\n",
      "\u001b[32m[I 2022-01-14 09:47:51,846]\u001b[0m Trial 9 finished with value: 0.8957024960502386 and parameters: {'reg_alpha': 5.213861487439295, 'reg_lambda': 3.85950032917742, 'num_leaves': 278, 'min_child_samples': 90, 'max_depth': 13, 'learning_rate': 0.05, 'colsample_bytree': 0.2507300597792973, 'n_estimators': 4780, 'cat_smooth': 12, 'cat_l2': 11, 'min_data_per_group': 187}. Best is trial 7 with value: 0.8963183773771478.\u001b[0m\n",
      "\u001b[32m[I 2022-01-14 09:51:30,520]\u001b[0m Trial 10 finished with value: 0.8942059870936266 and parameters: {'reg_alpha': 2.2947588893814688, 'reg_lambda': 9.77383585658524, 'num_leaves': 306, 'min_child_samples': 38, 'max_depth': 5, 'learning_rate': 0.01, 'colsample_bytree': 0.11629016738068376, 'n_estimators': 6783, 'cat_smooth': 98, 'cat_l2': 19, 'min_data_per_group': 98}. Best is trial 7 with value: 0.8963183773771478.\u001b[0m\n",
      "\u001b[32m[I 2022-01-14 09:53:10,928]\u001b[0m Trial 11 finished with value: 0.8959179558087685 and parameters: {'reg_alpha': 0.01940005463054928, 'reg_lambda': 0.44836971009664195, 'num_leaves': 257, 'min_child_samples': 99, 'max_depth': 16, 'learning_rate': 0.02, 'colsample_bytree': 0.33205775522856107, 'n_estimators': 5948, 'cat_smooth': 38, 'cat_l2': 8, 'min_data_per_group': 103}. Best is trial 7 with value: 0.8963183773771478.\u001b[0m\n",
      "\u001b[32m[I 2022-01-14 09:55:13,828]\u001b[0m Trial 12 finished with value: 0.8958927647381114 and parameters: {'reg_alpha': 2.3969904236520114, 'reg_lambda': 6.771737054516214, 'num_leaves': 244, 'min_child_samples': 79, 'max_depth': 44, 'learning_rate': 0.02, 'colsample_bytree': 0.20149756261491553, 'n_estimators': 3453, 'cat_smooth': 87, 'cat_l2': 17, 'min_data_per_group': 106}. Best is trial 7 with value: 0.8963183773771478.\u001b[0m\n",
      "\u001b[32m[I 2022-01-14 09:55:49,477]\u001b[0m Trial 13 finished with value: 0.8937667624912282 and parameters: {'reg_alpha': 1.9706392811891782, 'reg_lambda': 1.941814860335301, 'num_leaves': 122, 'min_child_samples': 50, 'max_depth': 5, 'learning_rate': 0.1, 'colsample_bytree': 0.34972343279825346, 'n_estimators': 2071, 'cat_smooth': 32, 'cat_l2': 8, 'min_data_per_group': 156}. Best is trial 7 with value: 0.8963183773771478.\u001b[0m\n",
      "\u001b[32m[I 2022-01-14 09:59:59,661]\u001b[0m Trial 14 finished with value: 0.896243690347406 and parameters: {'reg_alpha': 0.00814444469805764, 'reg_lambda': 7.958820161023756, 'num_leaves': 229, 'min_child_samples': 81, 'max_depth': 41, 'learning_rate': 0.005, 'colsample_bytree': 0.22041327010564923, 'n_estimators': 3081, 'cat_smooth': 42, 'cat_l2': 13, 'min_data_per_group': 54}. Best is trial 7 with value: 0.8963183773771478.\u001b[0m\n",
      "\u001b[32m[I 2022-01-14 10:05:22,219]\u001b[0m Trial 15 finished with value: 0.8963698014848884 and parameters: {'reg_alpha': 0.03616947900566059, 'reg_lambda': 8.363759772834792, 'num_leaves': 316, 'min_child_samples': 86, 'max_depth': 44, 'learning_rate': 0.005, 'colsample_bytree': 0.2993324653574277, 'n_estimators': 3277, 'cat_smooth': 32, 'cat_l2': 12, 'min_data_per_group': 51}. Best is trial 15 with value: 0.8963698014848884.\u001b[0m\n",
      "\u001b[32m[I 2022-01-14 10:11:18,528]\u001b[0m Trial 16 finished with value: 0.8962233107099523 and parameters: {'reg_alpha': 3.6146127859932076, 'reg_lambda': 8.44345373251797, 'num_leaves': 321, 'min_child_samples': 59, 'max_depth': 54, 'learning_rate': 0.005, 'colsample_bytree': 0.3891505679903168, 'n_estimators': 4347, 'cat_smooth': 27, 'cat_l2': 9, 'min_data_per_group': 78}. Best is trial 15 with value: 0.8963698014848884.\u001b[0m\n",
      "\u001b[32m[I 2022-01-14 10:14:48,980]\u001b[0m Trial 17 finished with value: 0.8963334245981852 and parameters: {'reg_alpha': 1.1599385041718249, 'reg_lambda': 6.234548363357418, 'num_leaves': 295, 'min_child_samples': 43, 'max_depth': 52, 'learning_rate': 0.01, 'colsample_bytree': 0.289331525321381, 'n_estimators': 7863, 'cat_smooth': 27, 'cat_l2': 10, 'min_data_per_group': 75}. Best is trial 15 with value: 0.8963698014848884.\u001b[0m\n",
      "\u001b[32m[I 2022-01-14 10:21:35,787]\u001b[0m Trial 18 finished with value: 0.89639660913581 and parameters: {'reg_alpha': 1.084280334647603, 'reg_lambda': 6.282630618481596, 'num_leaves': 301, 'min_child_samples': 37, 'max_depth': 52, 'learning_rate': 0.005, 'colsample_bytree': 0.28662474894987244, 'n_estimators': 7902, 'cat_smooth': 48, 'cat_l2': 11, 'min_data_per_group': 52}. Best is trial 18 with value: 0.89639660913581.\u001b[0m\n",
      "\u001b[32m[I 2022-01-14 10:30:04,115]\u001b[0m Trial 19 finished with value: 0.8960428972878607 and parameters: {'reg_alpha': 3.5156995539198435, 'reg_lambda': 6.584089595724601, 'num_leaves': 332, 'min_child_samples': 34, 'max_depth': 52, 'learning_rate': 0.005, 'colsample_bytree': 0.1280703262125064, 'n_estimators': 5934, 'cat_smooth': 50, 'cat_l2': 20, 'min_data_per_group': 59}. Best is trial 18 with value: 0.89639660913581.\u001b[0m\n",
      "\u001b[32m[I 2022-01-14 10:36:14,967]\u001b[0m Trial 20 finished with value: 0.8963636646090989 and parameters: {'reg_alpha': 1.009383831777387, 'reg_lambda': 7.317494237108506, 'num_leaves': 276, 'min_child_samples': 27, 'max_depth': 38, 'learning_rate': 0.005, 'colsample_bytree': 0.29733687065431164, 'n_estimators': 5733, 'cat_smooth': 39, 'cat_l2': 12, 'min_data_per_group': 119}. Best is trial 18 with value: 0.89639660913581.\u001b[0m\n",
      "\u001b[32m[I 2022-01-14 10:41:47,374]\u001b[0m Trial 21 finished with value: 0.8964507352055088 and parameters: {'reg_alpha': 0.9289631769802931, 'reg_lambda': 5.530387882308622, 'num_leaves': 275, 'min_child_samples': 28, 'max_depth': 38, 'learning_rate': 0.005, 'colsample_bytree': 0.30624998078798055, 'n_estimators': 7979, 'cat_smooth': 39, 'cat_l2': 12, 'min_data_per_group': 127}. Best is trial 21 with value: 0.8964507352055088.\u001b[0m\n",
      "\u001b[32m[I 2022-01-14 10:48:20,665]\u001b[0m Trial 22 finished with value: 0.8964031035490988 and parameters: {'reg_alpha': 0.8298904959076812, 'reg_lambda': 5.548850649899169, 'num_leaves': 291, 'min_child_samples': 46, 'max_depth': 47, 'learning_rate': 0.005, 'colsample_bytree': 0.25040984033205127, 'n_estimators': 7761, 'cat_smooth': 47, 'cat_l2': 11, 'min_data_per_group': 129}. Best is trial 21 with value: 0.8964507352055088.\u001b[0m\n",
      "\u001b[32m[I 2022-01-14 10:55:10,827]\u001b[0m Trial 23 finished with value: 0.8965905987675136 and parameters: {'reg_alpha': 3.467321707011301, 'reg_lambda': 5.339385477716219, 'num_leaves': 276, 'min_child_samples': 46, 'max_depth': 49, 'learning_rate': 0.005, 'colsample_bytree': 0.2541165776295765, 'n_estimators': 7979, 'cat_smooth': 52, 'cat_l2': 10, 'min_data_per_group': 134}. Best is trial 23 with value: 0.8965905987675136.\u001b[0m\n",
      "\u001b[32m[I 2022-01-14 11:02:14,198]\u001b[0m Trial 24 finished with value: 0.8965901314149254 and parameters: {'reg_alpha': 3.2974563896310807, 'reg_lambda': 2.862811345082264, 'num_leaves': 278, 'min_child_samples': 50, 'max_depth': 48, 'learning_rate': 0.005, 'colsample_bytree': 0.24678338325615515, 'n_estimators': 7259, 'cat_smooth': 62, 'cat_l2': 6, 'min_data_per_group': 134}. Best is trial 23 with value: 0.8965905987675136.\u001b[0m\n",
      "\u001b[32m[I 2022-01-14 11:09:13,668]\u001b[0m Trial 25 finished with value: 0.8963641523924013 and parameters: {'reg_alpha': 3.9415283057009862, 'reg_lambda': 2.4666102994797057, 'num_leaves': 264, 'min_child_samples': 60, 'max_depth': 57, 'learning_rate': 0.005, 'colsample_bytree': 0.23906057003448078, 'n_estimators': 7178, 'cat_smooth': 63, 'cat_l2': 6, 'min_data_per_group': 141}. Best is trial 23 with value: 0.8965905987675136.\u001b[0m\n",
      "\u001b[32m[I 2022-01-14 11:16:40,922]\u001b[0m Trial 26 finished with value: 0.8963354114851448 and parameters: {'reg_alpha': 3.172597314153085, 'reg_lambda': 4.99113290034652, 'num_leaves': 230, 'min_child_samples': 29, 'max_depth': 35, 'learning_rate': 0.005, 'colsample_bytree': 0.15524593898252595, 'n_estimators': 6484, 'cat_smooth': 81, 'cat_l2': 1, 'min_data_per_group': 117}. Best is trial 23 with value: 0.8965905987675136.\u001b[0m\n",
      "\u001b[32m[I 2022-01-14 11:24:03,697]\u001b[0m Trial 27 finished with value: 0.8961494434626195 and parameters: {'reg_alpha': 4.267936765674673, 'reg_lambda': 2.855574010370357, 'num_leaves': 127, 'min_child_samples': 53, 'max_depth': 47, 'learning_rate': 0.005, 'colsample_bytree': 0.18231316278346466, 'n_estimators': 7422, 'cat_smooth': 57, 'cat_l2': 3, 'min_data_per_group': 166}. Best is trial 23 with value: 0.8965905987675136.\u001b[0m\n",
      "\u001b[32m[I 2022-01-14 11:24:32,756]\u001b[0m Trial 28 finished with value: 0.8942785569906053 and parameters: {'reg_alpha': 2.8619363686124544, 'reg_lambda': 0.15966091356366974, 'num_leaves': 188, 'min_child_samples': 18, 'max_depth': 38, 'learning_rate': 0.1, 'colsample_bytree': 0.32322311234438195, 'n_estimators': 6573, 'cat_smooth': 64, 'cat_l2': 6, 'min_data_per_group': 136}. Best is trial 23 with value: 0.8965905987675136.\u001b[0m\n",
      "\u001b[32m[I 2022-01-14 11:31:00,664]\u001b[0m Trial 29 finished with value: 0.8963301454685497 and parameters: {'reg_alpha': 7.182333610185353, 'reg_lambda': 4.90161136544674, 'num_leaves': 273, 'min_child_samples': 66, 'max_depth': 29, 'learning_rate': 0.005, 'colsample_bytree': 0.36062212975675895, 'n_estimators': 7465, 'cat_smooth': 56, 'cat_l2': 9, 'min_data_per_group': 144}. Best is trial 23 with value: 0.8965905987675136.\u001b[0m\n",
      "\u001b[32m[I 2022-01-14 11:37:19,193]\u001b[0m Trial 30 finished with value: 0.896317968762863 and parameters: {'reg_alpha': 4.335482788761899, 'reg_lambda': 5.817572519619217, 'num_leaves': 229, 'min_child_samples': 43, 'max_depth': 58, 'learning_rate': 0.005, 'colsample_bytree': 0.3897043436908576, 'n_estimators': 6364, 'cat_smooth': 52, 'cat_l2': 6, 'min_data_per_group': 114}. Best is trial 23 with value: 0.8965905987675136.\u001b[0m\n",
      "\u001b[32m[I 2022-01-14 11:43:11,926]\u001b[0m Trial 31 finished with value: 0.8965012961155729 and parameters: {'reg_alpha': 0.9276449660316981, 'reg_lambda': 4.529343724891802, 'num_leaves': 290, 'min_child_samples': 51, 'max_depth': 48, 'learning_rate': 0.005, 'colsample_bytree': 0.25527358251427346, 'n_estimators': 7951, 'cat_smooth': 44, 'cat_l2': 10, 'min_data_per_group': 129}. Best is trial 23 with value: 0.8965905987675136.\u001b[0m\n",
      "\u001b[32m[I 2022-01-14 11:49:55,010]\u001b[0m Trial 32 finished with value: 0.896585958441542 and parameters: {'reg_alpha': 1.65793072804134, 'reg_lambda': 4.686012888995241, 'num_leaves': 286, 'min_child_samples': 54, 'max_depth': 47, 'learning_rate': 0.005, 'colsample_bytree': 0.26630448328590545, 'n_estimators': 7488, 'cat_smooth': 44, 'cat_l2': 10, 'min_data_per_group': 122}. Best is trial 23 with value: 0.8965905987675136.\u001b[0m\n",
      "\u001b[32m[I 2022-01-14 11:55:11,128]\u001b[0m Trial 33 finished with value: 0.8959687363490109 and parameters: {'reg_alpha': 2.9471335752200196, 'reg_lambda': 4.652641747145689, 'num_leaves': 50, 'min_child_samples': 54, 'max_depth': 48, 'learning_rate': 0.005, 'colsample_bytree': 0.2591112210099417, 'n_estimators': 7327, 'cat_smooth': 61, 'cat_l2': 10, 'min_data_per_group': 90}. Best is trial 23 with value: 0.8965905987675136.\u001b[0m\n",
      "\u001b[32m[I 2022-01-14 12:01:55,655]\u001b[0m Trial 34 finished with value: 0.8964095162395308 and parameters: {'reg_alpha': 1.634760773246624, 'reg_lambda': 3.198982984001116, 'num_leaves': 294, 'min_child_samples': 65, 'max_depth': 49, 'learning_rate': 0.005, 'colsample_bytree': 0.22733689195341483, 'n_estimators': 6908, 'cat_smooth': 67, 'cat_l2': 7, 'min_data_per_group': 163}. Best is trial 23 with value: 0.8965905987675136.\u001b[0m\n",
      "\u001b[32m[I 2022-01-14 12:02:31,509]\u001b[0m Trial 35 finished with value: 0.8950964291276823 and parameters: {'reg_alpha': 2.7366039835973432, 'reg_lambda': 4.156610689272313, 'num_leaves': 252, 'min_child_samples': 48, 'max_depth': 58, 'learning_rate': 0.1, 'colsample_bytree': 0.2706519365487756, 'n_estimators': 7584, 'cat_smooth': 43, 'cat_l2': 9, 'min_data_per_group': 148}. Best is trial 23 with value: 0.8965905987675136.\u001b[0m\n",
      "\u001b[32m[I 2022-01-14 12:06:15,327]\u001b[0m Trial 36 finished with value: 0.8934888792391789 and parameters: {'reg_alpha': 5.979859262603512, 'reg_lambda': 1.813138876837987, 'num_leaves': 16, 'min_child_samples': 57, 'max_depth': 64, 'learning_rate': 0.005, 'colsample_bytree': 0.19320739991180794, 'n_estimators': 7088, 'cat_smooth': 57, 'cat_l2': 4, 'min_data_per_group': 200}. Best is trial 23 with value: 0.8965905987675136.\u001b[0m\n",
      "\u001b[32m[I 2022-01-14 12:07:10,412]\u001b[0m Trial 37 finished with value: 0.8953305906512591 and parameters: {'reg_alpha': 1.6581321624186638, 'reg_lambda': 3.446452083284626, 'num_leaves': 310, 'min_child_samples': 65, 'max_depth': 56, 'learning_rate': 0.05, 'colsample_bytree': 0.21920949602467862, 'n_estimators': 7552, 'cat_smooth': 53, 'cat_l2': 16, 'min_data_per_group': 110}. Best is trial 23 with value: 0.8965905987675136.\u001b[0m\n",
      "\u001b[32m[I 2022-01-14 12:12:37,147]\u001b[0m Trial 38 finished with value: 0.8962767702275991 and parameters: {'reg_alpha': 4.582187609375644, 'reg_lambda': 0.9905643065215721, 'num_leaves': 148, 'min_child_samples': 42, 'max_depth': 61, 'learning_rate': 0.005, 'colsample_bytree': 0.15777351556887836, 'n_estimators': 5199, 'cat_smooth': 77, 'cat_l2': 5, 'min_data_per_group': 123}. Best is trial 23 with value: 0.8965905987675136.\u001b[0m\n",
      "\u001b[32m[I 2022-01-14 12:19:01,207]\u001b[0m Trial 39 finished with value: 0.8966645758299353 and parameters: {'reg_alpha': 3.444027580169452, 'reg_lambda': 2.6823672979117004, 'num_leaves': 211, 'min_child_samples': 54, 'max_depth': 50, 'learning_rate': 0.005, 'colsample_bytree': 0.26986900577926765, 'n_estimators': 6749, 'cat_smooth': 34, 'cat_l2': 14, 'min_data_per_group': 136}. Best is trial 39 with value: 0.8966645758299353.\u001b[0m\n",
      "\u001b[32m[I 2022-01-14 12:20:55,095]\u001b[0m Trial 40 finished with value: 0.8963067420853884 and parameters: {'reg_alpha': 5.6735176560666485, 'reg_lambda': 2.540510554881723, 'num_leaves': 194, 'min_child_samples': 9, 'max_depth': 33, 'learning_rate': 0.02, 'colsample_bytree': 0.2804850706782178, 'n_estimators': 6219, 'cat_smooth': 20, 'cat_l2': 14, 'min_data_per_group': 135}. Best is trial 39 with value: 0.8966645758299353.\u001b[0m\n",
      "\u001b[32m[I 2022-01-14 12:27:27,669]\u001b[0m Trial 41 finished with value: 0.8965980329936575 and parameters: {'reg_alpha': 3.445748282708059, 'reg_lambda': 4.625115687306115, 'num_leaves': 331, 'min_child_samples': 54, 'max_depth': 50, 'learning_rate': 0.005, 'colsample_bytree': 0.26166460971047184, 'n_estimators': 6828, 'cat_smooth': 33, 'cat_l2': 13, 'min_data_per_group': 142}. Best is trial 39 with value: 0.8966645758299353.\u001b[0m\n",
      "\u001b[32m[I 2022-01-14 12:33:59,895]\u001b[0m Trial 42 finished with value: 0.8965684033503316 and parameters: {'reg_alpha': 3.4383188907480298, 'reg_lambda': 3.6720829482683803, 'num_leaves': 332, 'min_child_samples': 56, 'max_depth': 41, 'learning_rate': 0.005, 'colsample_bytree': 0.2682720151869532, 'n_estimators': 7151, 'cat_smooth': 34, 'cat_l2': 15, 'min_data_per_group': 158}. Best is trial 39 with value: 0.8966645758299353.\u001b[0m\n",
      "\u001b[32m[I 2022-01-14 12:37:48,908]\u001b[0m Trial 43 finished with value: 0.8962364093516191 and parameters: {'reg_alpha': 9.999371731021707, 'reg_lambda': 2.9451875821833893, 'num_leaves': 211, 'min_child_samples': 71, 'max_depth': 51, 'learning_rate': 0.01, 'colsample_bytree': 0.31389082254318845, 'n_estimators': 6772, 'cat_smooth': 35, 'cat_l2': 13, 'min_data_per_group': 140}. Best is trial 39 with value: 0.8966645758299353.\u001b[0m\n",
      "\u001b[32m[I 2022-01-14 12:38:49,110]\u001b[0m Trial 44 finished with value: 0.8955499526762088 and parameters: {'reg_alpha': 4.884368223578064, 'reg_lambda': 4.396226119713992, 'num_leaves': 318, 'min_child_samples': 62, 'max_depth': 45, 'learning_rate': 0.05, 'colsample_bytree': 0.23588996219933211, 'n_estimators': 5415, 'cat_smooth': 23, 'cat_l2': 14, 'min_data_per_group': 150}. Best is trial 39 with value: 0.8966645758299353.\u001b[0m\n",
      "\u001b[32m[I 2022-01-14 12:45:32,945]\u001b[0m Trial 45 finished with value: 0.8965006934095028 and parameters: {'reg_alpha': 3.833211191658452, 'reg_lambda': 2.304698081798536, 'num_leaves': 238, 'min_child_samples': 39, 'max_depth': 55, 'learning_rate': 0.005, 'colsample_bytree': 0.21495713343581185, 'n_estimators': 6830, 'cat_smooth': 68, 'cat_l2': 17, 'min_data_per_group': 144}. Best is trial 39 with value: 0.8966645758299353.\u001b[0m\n",
      "\u001b[32m[I 2022-01-14 12:46:06,866]\u001b[0m Trial 46 finished with value: 0.8942202732705586 and parameters: {'reg_alpha': 2.489646486637756, 'reg_lambda': 1.1751447572009237, 'num_leaves': 216, 'min_child_samples': 48, 'max_depth': 41, 'learning_rate': 0.1, 'colsample_bytree': 0.23786880052822268, 'n_estimators': 7667, 'cat_smooth': 16, 'cat_l2': 15, 'min_data_per_group': 176}. Best is trial 39 with value: 0.8966645758299353.\u001b[0m\n",
      "\u001b[32m[I 2022-01-14 12:52:15,269]\u001b[0m Trial 47 finished with value: 0.8964539964582693 and parameters: {'reg_alpha': 4.2591426319521375, 'reg_lambda': 3.8791059558662857, 'num_leaves': 176, 'min_child_samples': 34, 'max_depth': 61, 'learning_rate': 0.005, 'colsample_bytree': 0.3415866944229039, 'n_estimators': 6085, 'cat_smooth': 46, 'cat_l2': 13, 'min_data_per_group': 123}. Best is trial 39 with value: 0.8966645758299353.\u001b[0m\n",
      "\u001b[32m[I 2022-01-14 12:54:01,124]\u001b[0m Trial 48 finished with value: 0.895636440997263 and parameters: {'reg_alpha': 7.2196185880035415, 'reg_lambda': 5.086326507968984, 'num_leaves': 254, 'min_child_samples': 70, 'max_depth': 45, 'learning_rate': 0.02, 'colsample_bytree': 0.48108229433088556, 'n_estimators': 7305, 'cat_smooth': 29, 'cat_l2': 18, 'min_data_per_group': 136}. Best is trial 39 with value: 0.8966645758299353.\u001b[0m\n",
      "\u001b[32m[I 2022-01-14 12:57:08,932]\u001b[0m Trial 49 finished with value: 0.8964871529536407 and parameters: {'reg_alpha': 3.2652346094658915, 'reg_lambda': 5.98342720885359, 'num_leaves': 263, 'min_child_samples': 53, 'max_depth': 54, 'learning_rate': 0.01, 'colsample_bytree': 0.270315939550489, 'n_estimators': 6658, 'cat_smooth': 41, 'cat_l2': 7, 'min_data_per_group': 100}. Best is trial 39 with value: 0.8966645758299353.\u001b[0m\n"
     ]
    },
    {
     "name": "stdout",
     "output_type": "stream",
     "text": [
      "Number of finished trials:  50\n",
      "Best trial:  {'reg_alpha': 3.444027580169452, 'reg_lambda': 2.6823672979117004, 'num_leaves': 211, 'min_child_samples': 54, 'max_depth': 50, 'learning_rate': 0.005, 'colsample_bytree': 0.26986900577926765, 'n_estimators': 6749, 'cat_smooth': 34, 'cat_l2': 14, 'min_data_per_group': 136}\n",
      "Best value:  0.8966645758299353\n"
     ]
    }
   ],
   "source": [
    "study = optuna.create_study(direction='maximize')\n",
    "study.optimize(objective, n_trials=50)\n",
    "print('Number of finished trials: ', len(study.trials))\n",
    "print('Best trial: ', study.best_trial.params)\n",
    "print('Best value: ', study.best_value)"
   ]
  },
  {
   "cell_type": "markdown",
   "id": "40137793",
   "metadata": {
    "papermill": {
     "duration": 0.030598,
     "end_time": "2022-01-14T12:57:09.045889",
     "exception": false,
     "start_time": "2022-01-14T12:57:09.015291",
     "status": "completed"
    },
    "tags": []
   },
   "source": [
    "Trial 32 finished with value: 0.8960118885713237 and parameters: {'reg_alpha': 5.028382776465415, 'reg_lambda': 7.969115943661513, 'num_leaves': 196, 'min_child_samples': 39, 'max_depth': 20, 'learning_rate': 0.01, 'colsample_bytree': 0.22772406492167746, 'n_estimators': 7028, 'cat_smooth': 38, 'cat_l2': 20, 'min_data_per_group': 199}. Best is trial 32 with value: 0.8960118885713237.\n",
    "\n",
    "Number of finished trials: 50 Best trial: {'reg_alpha': 5.028382776465415, 'reg_lambda': 7.969115943661513, 'num_leaves': 196, 'min_child_samples': 39, 'max_depth': 20, 'learning_rate': 0.01, 'colsample_bytree': 0.22772406492167746, 'n_estimators': 7028, 'cat_smooth': 38, 'cat_l2': 20, 'min_data_per_group': 199}. Best is trial 32 with value: 0.8960118885713237."
   ]
  },
  {
   "cell_type": "code",
   "execution_count": 10,
   "id": "a055f41b",
   "metadata": {
    "execution": {
     "iopub.execute_input": "2022-01-14T12:57:09.119688Z",
     "iopub.status.busy": "2022-01-14T12:57:09.119108Z",
     "iopub.status.idle": "2022-01-14T12:57:09.248931Z",
     "shell.execute_reply": "2022-01-14T12:57:09.248450Z",
     "shell.execute_reply.started": "2022-01-03T12:20:43.770449Z"
    },
    "papermill": {
     "duration": 0.170694,
     "end_time": "2022-01-14T12:57:09.249097",
     "exception": false,
     "start_time": "2022-01-14T12:57:09.078403",
     "status": "completed"
    },
    "tags": []
   },
   "outputs": [
    {
     "data": {
      "text/html": [
       "        <script type=\"text/javascript\">\n",
       "        window.PlotlyConfig = {MathJaxConfig: 'local'};\n",
       "        if (window.MathJax) {MathJax.Hub.Config({SVG: {font: \"STIX-Web\"}});}\n",
       "        if (typeof require !== 'undefined') {\n",
       "        require.undef(\"plotly\");\n",
       "        requirejs.config({\n",
       "            paths: {\n",
       "                'plotly': ['https://cdn.plot.ly/plotly-2.6.3.min']\n",
       "            }\n",
       "        });\n",
       "        require(['plotly'], function(Plotly) {\n",
       "            window._Plotly = Plotly;\n",
       "        });\n",
       "        }\n",
       "        </script>\n",
       "        "
      ]
     },
     "metadata": {},
     "output_type": "display_data"
    },
    {
     "data": {
      "text/html": [
       "<div>                            <div id=\"8951c208-5103-41c7-818a-59a2e200ee9f\" class=\"plotly-graph-div\" style=\"height:525px; width:100%;\"></div>            <script type=\"text/javascript\">                require([\"plotly\"], function(Plotly) {                    window.PLOTLYENV=window.PLOTLYENV || {};                                    if (document.getElementById(\"8951c208-5103-41c7-818a-59a2e200ee9f\")) {                    Plotly.newPlot(                        \"8951c208-5103-41c7-818a-59a2e200ee9f\",                        [{\"mode\":\"markers\",\"name\":\"Objective Value\",\"x\":[0,1,2,3,4,5,6,7,8,9,10,11,12,13,14,15,16,17,18,19,20,21,22,23,24,25,26,27,28,29,30,31,32,33,34,35,36,37,38,39,40,41,42,43,44,45,46,47,48,49],\"y\":[0.8955073188832696,0.8954177148782939,0.8952991835357945,0.8953064798546173,0.8957598246343945,0.8952899846067082,0.8960004397098318,0.8963183773771478,0.8955880329737118,0.8957024960502386,0.8942059870936266,0.8959179558087685,0.8958927647381114,0.8937667624912282,0.896243690347406,0.8963698014848884,0.8962233107099523,0.8963334245981852,0.89639660913581,0.8960428972878607,0.8963636646090989,0.8964507352055088,0.8964031035490988,0.8965905987675136,0.8965901314149254,0.8963641523924013,0.8963354114851448,0.8961494434626195,0.8942785569906053,0.8963301454685497,0.896317968762863,0.8965012961155729,0.896585958441542,0.8959687363490109,0.8964095162395308,0.8950964291276823,0.8934888792391789,0.8953305906512591,0.8962767702275991,0.8966645758299353,0.8963067420853884,0.8965980329936575,0.8965684033503316,0.8962364093516191,0.8955499526762088,0.8965006934095028,0.8942202732705586,0.8964539964582693,0.895636440997263,0.8964871529536407],\"type\":\"scatter\"},{\"name\":\"Best Value\",\"x\":[0,1,2,3,4,5,6,7,8,9,10,11,12,13,14,15,16,17,18,19,20,21,22,23,24,25,26,27,28,29,30,31,32,33,34,35,36,37,38,39,40,41,42,43,44,45,46,47,48,49],\"y\":[0.8955073188832696,0.8955073188832696,0.8955073188832696,0.8955073188832696,0.8957598246343945,0.8957598246343945,0.8960004397098318,0.8963183773771478,0.8963183773771478,0.8963183773771478,0.8963183773771478,0.8963183773771478,0.8963183773771478,0.8963183773771478,0.8963183773771478,0.8963698014848884,0.8963698014848884,0.8963698014848884,0.89639660913581,0.89639660913581,0.89639660913581,0.8964507352055088,0.8964507352055088,0.8965905987675136,0.8965905987675136,0.8965905987675136,0.8965905987675136,0.8965905987675136,0.8965905987675136,0.8965905987675136,0.8965905987675136,0.8965905987675136,0.8965905987675136,0.8965905987675136,0.8965905987675136,0.8965905987675136,0.8965905987675136,0.8965905987675136,0.8965905987675136,0.8966645758299353,0.8966645758299353,0.8966645758299353,0.8966645758299353,0.8966645758299353,0.8966645758299353,0.8966645758299353,0.8966645758299353,0.8966645758299353,0.8966645758299353,0.8966645758299353],\"type\":\"scatter\"}],                        {\"title\":{\"text\":\"Optimization History Plot\"},\"xaxis\":{\"title\":{\"text\":\"#Trials\"}},\"yaxis\":{\"title\":{\"text\":\"Objective Value\"}},\"template\":{\"data\":{\"bar\":[{\"error_x\":{\"color\":\"#2a3f5f\"},\"error_y\":{\"color\":\"#2a3f5f\"},\"marker\":{\"line\":{\"color\":\"#E5ECF6\",\"width\":0.5},\"pattern\":{\"fillmode\":\"overlay\",\"size\":10,\"solidity\":0.2}},\"type\":\"bar\"}],\"barpolar\":[{\"marker\":{\"line\":{\"color\":\"#E5ECF6\",\"width\":0.5},\"pattern\":{\"fillmode\":\"overlay\",\"size\":10,\"solidity\":0.2}},\"type\":\"barpolar\"}],\"carpet\":[{\"aaxis\":{\"endlinecolor\":\"#2a3f5f\",\"gridcolor\":\"white\",\"linecolor\":\"white\",\"minorgridcolor\":\"white\",\"startlinecolor\":\"#2a3f5f\"},\"baxis\":{\"endlinecolor\":\"#2a3f5f\",\"gridcolor\":\"white\",\"linecolor\":\"white\",\"minorgridcolor\":\"white\",\"startlinecolor\":\"#2a3f5f\"},\"type\":\"carpet\"}],\"choropleth\":[{\"colorbar\":{\"outlinewidth\":0,\"ticks\":\"\"},\"type\":\"choropleth\"}],\"contour\":[{\"colorbar\":{\"outlinewidth\":0,\"ticks\":\"\"},\"colorscale\":[[0.0,\"#0d0887\"],[0.1111111111111111,\"#46039f\"],[0.2222222222222222,\"#7201a8\"],[0.3333333333333333,\"#9c179e\"],[0.4444444444444444,\"#bd3786\"],[0.5555555555555556,\"#d8576b\"],[0.6666666666666666,\"#ed7953\"],[0.7777777777777778,\"#fb9f3a\"],[0.8888888888888888,\"#fdca26\"],[1.0,\"#f0f921\"]],\"type\":\"contour\"}],\"contourcarpet\":[{\"colorbar\":{\"outlinewidth\":0,\"ticks\":\"\"},\"type\":\"contourcarpet\"}],\"heatmap\":[{\"colorbar\":{\"outlinewidth\":0,\"ticks\":\"\"},\"colorscale\":[[0.0,\"#0d0887\"],[0.1111111111111111,\"#46039f\"],[0.2222222222222222,\"#7201a8\"],[0.3333333333333333,\"#9c179e\"],[0.4444444444444444,\"#bd3786\"],[0.5555555555555556,\"#d8576b\"],[0.6666666666666666,\"#ed7953\"],[0.7777777777777778,\"#fb9f3a\"],[0.8888888888888888,\"#fdca26\"],[1.0,\"#f0f921\"]],\"type\":\"heatmap\"}],\"heatmapgl\":[{\"colorbar\":{\"outlinewidth\":0,\"ticks\":\"\"},\"colorscale\":[[0.0,\"#0d0887\"],[0.1111111111111111,\"#46039f\"],[0.2222222222222222,\"#7201a8\"],[0.3333333333333333,\"#9c179e\"],[0.4444444444444444,\"#bd3786\"],[0.5555555555555556,\"#d8576b\"],[0.6666666666666666,\"#ed7953\"],[0.7777777777777778,\"#fb9f3a\"],[0.8888888888888888,\"#fdca26\"],[1.0,\"#f0f921\"]],\"type\":\"heatmapgl\"}],\"histogram\":[{\"marker\":{\"pattern\":{\"fillmode\":\"overlay\",\"size\":10,\"solidity\":0.2}},\"type\":\"histogram\"}],\"histogram2d\":[{\"colorbar\":{\"outlinewidth\":0,\"ticks\":\"\"},\"colorscale\":[[0.0,\"#0d0887\"],[0.1111111111111111,\"#46039f\"],[0.2222222222222222,\"#7201a8\"],[0.3333333333333333,\"#9c179e\"],[0.4444444444444444,\"#bd3786\"],[0.5555555555555556,\"#d8576b\"],[0.6666666666666666,\"#ed7953\"],[0.7777777777777778,\"#fb9f3a\"],[0.8888888888888888,\"#fdca26\"],[1.0,\"#f0f921\"]],\"type\":\"histogram2d\"}],\"histogram2dcontour\":[{\"colorbar\":{\"outlinewidth\":0,\"ticks\":\"\"},\"colorscale\":[[0.0,\"#0d0887\"],[0.1111111111111111,\"#46039f\"],[0.2222222222222222,\"#7201a8\"],[0.3333333333333333,\"#9c179e\"],[0.4444444444444444,\"#bd3786\"],[0.5555555555555556,\"#d8576b\"],[0.6666666666666666,\"#ed7953\"],[0.7777777777777778,\"#fb9f3a\"],[0.8888888888888888,\"#fdca26\"],[1.0,\"#f0f921\"]],\"type\":\"histogram2dcontour\"}],\"mesh3d\":[{\"colorbar\":{\"outlinewidth\":0,\"ticks\":\"\"},\"type\":\"mesh3d\"}],\"parcoords\":[{\"line\":{\"colorbar\":{\"outlinewidth\":0,\"ticks\":\"\"}},\"type\":\"parcoords\"}],\"pie\":[{\"automargin\":true,\"type\":\"pie\"}],\"scatter\":[{\"marker\":{\"colorbar\":{\"outlinewidth\":0,\"ticks\":\"\"}},\"type\":\"scatter\"}],\"scatter3d\":[{\"line\":{\"colorbar\":{\"outlinewidth\":0,\"ticks\":\"\"}},\"marker\":{\"colorbar\":{\"outlinewidth\":0,\"ticks\":\"\"}},\"type\":\"scatter3d\"}],\"scattercarpet\":[{\"marker\":{\"colorbar\":{\"outlinewidth\":0,\"ticks\":\"\"}},\"type\":\"scattercarpet\"}],\"scattergeo\":[{\"marker\":{\"colorbar\":{\"outlinewidth\":0,\"ticks\":\"\"}},\"type\":\"scattergeo\"}],\"scattergl\":[{\"marker\":{\"colorbar\":{\"outlinewidth\":0,\"ticks\":\"\"}},\"type\":\"scattergl\"}],\"scattermapbox\":[{\"marker\":{\"colorbar\":{\"outlinewidth\":0,\"ticks\":\"\"}},\"type\":\"scattermapbox\"}],\"scatterpolar\":[{\"marker\":{\"colorbar\":{\"outlinewidth\":0,\"ticks\":\"\"}},\"type\":\"scatterpolar\"}],\"scatterpolargl\":[{\"marker\":{\"colorbar\":{\"outlinewidth\":0,\"ticks\":\"\"}},\"type\":\"scatterpolargl\"}],\"scatterternary\":[{\"marker\":{\"colorbar\":{\"outlinewidth\":0,\"ticks\":\"\"}},\"type\":\"scatterternary\"}],\"surface\":[{\"colorbar\":{\"outlinewidth\":0,\"ticks\":\"\"},\"colorscale\":[[0.0,\"#0d0887\"],[0.1111111111111111,\"#46039f\"],[0.2222222222222222,\"#7201a8\"],[0.3333333333333333,\"#9c179e\"],[0.4444444444444444,\"#bd3786\"],[0.5555555555555556,\"#d8576b\"],[0.6666666666666666,\"#ed7953\"],[0.7777777777777778,\"#fb9f3a\"],[0.8888888888888888,\"#fdca26\"],[1.0,\"#f0f921\"]],\"type\":\"surface\"}],\"table\":[{\"cells\":{\"fill\":{\"color\":\"#EBF0F8\"},\"line\":{\"color\":\"white\"}},\"header\":{\"fill\":{\"color\":\"#C8D4E3\"},\"line\":{\"color\":\"white\"}},\"type\":\"table\"}]},\"layout\":{\"annotationdefaults\":{\"arrowcolor\":\"#2a3f5f\",\"arrowhead\":0,\"arrowwidth\":1},\"autotypenumbers\":\"strict\",\"coloraxis\":{\"colorbar\":{\"outlinewidth\":0,\"ticks\":\"\"}},\"colorscale\":{\"diverging\":[[0,\"#8e0152\"],[0.1,\"#c51b7d\"],[0.2,\"#de77ae\"],[0.3,\"#f1b6da\"],[0.4,\"#fde0ef\"],[0.5,\"#f7f7f7\"],[0.6,\"#e6f5d0\"],[0.7,\"#b8e186\"],[0.8,\"#7fbc41\"],[0.9,\"#4d9221\"],[1,\"#276419\"]],\"sequential\":[[0.0,\"#0d0887\"],[0.1111111111111111,\"#46039f\"],[0.2222222222222222,\"#7201a8\"],[0.3333333333333333,\"#9c179e\"],[0.4444444444444444,\"#bd3786\"],[0.5555555555555556,\"#d8576b\"],[0.6666666666666666,\"#ed7953\"],[0.7777777777777778,\"#fb9f3a\"],[0.8888888888888888,\"#fdca26\"],[1.0,\"#f0f921\"]],\"sequentialminus\":[[0.0,\"#0d0887\"],[0.1111111111111111,\"#46039f\"],[0.2222222222222222,\"#7201a8\"],[0.3333333333333333,\"#9c179e\"],[0.4444444444444444,\"#bd3786\"],[0.5555555555555556,\"#d8576b\"],[0.6666666666666666,\"#ed7953\"],[0.7777777777777778,\"#fb9f3a\"],[0.8888888888888888,\"#fdca26\"],[1.0,\"#f0f921\"]]},\"colorway\":[\"#636efa\",\"#EF553B\",\"#00cc96\",\"#ab63fa\",\"#FFA15A\",\"#19d3f3\",\"#FF6692\",\"#B6E880\",\"#FF97FF\",\"#FECB52\"],\"font\":{\"color\":\"#2a3f5f\"},\"geo\":{\"bgcolor\":\"white\",\"lakecolor\":\"white\",\"landcolor\":\"#E5ECF6\",\"showlakes\":true,\"showland\":true,\"subunitcolor\":\"white\"},\"hoverlabel\":{\"align\":\"left\"},\"hovermode\":\"closest\",\"mapbox\":{\"style\":\"light\"},\"paper_bgcolor\":\"white\",\"plot_bgcolor\":\"#E5ECF6\",\"polar\":{\"angularaxis\":{\"gridcolor\":\"white\",\"linecolor\":\"white\",\"ticks\":\"\"},\"bgcolor\":\"#E5ECF6\",\"radialaxis\":{\"gridcolor\":\"white\",\"linecolor\":\"white\",\"ticks\":\"\"}},\"scene\":{\"xaxis\":{\"backgroundcolor\":\"#E5ECF6\",\"gridcolor\":\"white\",\"gridwidth\":2,\"linecolor\":\"white\",\"showbackground\":true,\"ticks\":\"\",\"zerolinecolor\":\"white\"},\"yaxis\":{\"backgroundcolor\":\"#E5ECF6\",\"gridcolor\":\"white\",\"gridwidth\":2,\"linecolor\":\"white\",\"showbackground\":true,\"ticks\":\"\",\"zerolinecolor\":\"white\"},\"zaxis\":{\"backgroundcolor\":\"#E5ECF6\",\"gridcolor\":\"white\",\"gridwidth\":2,\"linecolor\":\"white\",\"showbackground\":true,\"ticks\":\"\",\"zerolinecolor\":\"white\"}},\"shapedefaults\":{\"line\":{\"color\":\"#2a3f5f\"}},\"ternary\":{\"aaxis\":{\"gridcolor\":\"white\",\"linecolor\":\"white\",\"ticks\":\"\"},\"baxis\":{\"gridcolor\":\"white\",\"linecolor\":\"white\",\"ticks\":\"\"},\"bgcolor\":\"#E5ECF6\",\"caxis\":{\"gridcolor\":\"white\",\"linecolor\":\"white\",\"ticks\":\"\"}},\"title\":{\"x\":0.05},\"xaxis\":{\"automargin\":true,\"gridcolor\":\"white\",\"linecolor\":\"white\",\"ticks\":\"\",\"title\":{\"standoff\":15},\"zerolinecolor\":\"white\",\"zerolinewidth\":2},\"yaxis\":{\"automargin\":true,\"gridcolor\":\"white\",\"linecolor\":\"white\",\"ticks\":\"\",\"title\":{\"standoff\":15},\"zerolinecolor\":\"white\",\"zerolinewidth\":2}}}},                        {\"responsive\": true}                    ).then(function(){\n",
       "                            \n",
       "var gd = document.getElementById('8951c208-5103-41c7-818a-59a2e200ee9f');\n",
       "var x = new MutationObserver(function (mutations, observer) {{\n",
       "        var display = window.getComputedStyle(gd).display;\n",
       "        if (!display || display === 'none') {{\n",
       "            console.log([gd, 'removed!']);\n",
       "            Plotly.purge(gd);\n",
       "            observer.disconnect();\n",
       "        }}\n",
       "}});\n",
       "\n",
       "// Listen for the removal of the full notebook cells\n",
       "var notebookContainer = gd.closest('#notebook-container');\n",
       "if (notebookContainer) {{\n",
       "    x.observe(notebookContainer, {childList: true});\n",
       "}}\n",
       "\n",
       "// Listen for the clearing of the current output cell\n",
       "var outputEl = gd.closest('.output');\n",
       "if (outputEl) {{\n",
       "    x.observe(outputEl, {childList: true});\n",
       "}}\n",
       "\n",
       "                        })                };                });            </script>        </div>"
      ]
     },
     "metadata": {},
     "output_type": "display_data"
    }
   ],
   "source": [
    "# Historic\n",
    "plot_optimization_history(study)"
   ]
  },
  {
   "cell_type": "code",
   "execution_count": 11,
   "id": "139de887",
   "metadata": {
    "execution": {
     "iopub.execute_input": "2022-01-14T12:57:09.327930Z",
     "iopub.status.busy": "2022-01-14T12:57:09.327070Z",
     "iopub.status.idle": "2022-01-14T12:57:11.099860Z",
     "shell.execute_reply": "2022-01-14T12:57:11.099426Z",
     "shell.execute_reply.started": "2022-01-03T12:20:43.929379Z"
    },
    "papermill": {
     "duration": 1.812286,
     "end_time": "2022-01-14T12:57:11.099980",
     "exception": false,
     "start_time": "2022-01-14T12:57:09.287694",
     "status": "completed"
    },
    "tags": []
   },
   "outputs": [
    {
     "data": {
      "text/html": [
       "<div>                            <div id=\"923f9b0d-971f-4d26-b9e9-96907466ea8b\" class=\"plotly-graph-div\" style=\"height:525px; width:100%;\"></div>            <script type=\"text/javascript\">                require([\"plotly\"], function(Plotly) {                    window.PLOTLYENV=window.PLOTLYENV || {};                                    if (document.getElementById(\"923f9b0d-971f-4d26-b9e9-96907466ea8b\")) {                    Plotly.newPlot(                        \"923f9b0d-971f-4d26-b9e9-96907466ea8b\",                        [{\"cliponaxis\":false,\"hovertemplate\":[\"cat_l2 (IntUniformDistribution): 0.012557173038808302<extra></extra>\",\"reg_alpha (UniformDistribution): 0.012695760960654872<extra></extra>\",\"min_child_samples (IntUniformDistribution): 0.015978625069482097<extra></extra>\",\"n_estimators (IntUniformDistribution): 0.01663912790950269<extra></extra>\",\"colsample_bytree (UniformDistribution): 0.02335654498339062<extra></extra>\",\"cat_smooth (IntUniformDistribution): 0.03643688777506857<extra></extra>\",\"num_leaves (IntUniformDistribution): 0.03904667389727013<extra></extra>\",\"max_depth (IntUniformDistribution): 0.12685026861227952<extra></extra>\",\"min_data_per_group (IntUniformDistribution): 0.13941797951387963<extra></extra>\",\"reg_lambda (UniformDistribution): 0.15673112572673148<extra></extra>\",\"learning_rate (CategoricalDistribution): 0.420289832512932<extra></extra>\"],\"marker\":{\"color\":\"rgb(66,146,198)\"},\"orientation\":\"h\",\"text\":[\"0.012557173038808302\",\"0.012695760960654872\",\"0.015978625069482097\",\"0.01663912790950269\",\"0.02335654498339062\",\"0.03643688777506857\",\"0.03904667389727013\",\"0.12685026861227952\",\"0.13941797951387963\",\"0.15673112572673148\",\"0.420289832512932\"],\"textposition\":\"outside\",\"texttemplate\":\"%{text:.2f}\",\"x\":[0.012557173038808302,0.012695760960654872,0.015978625069482097,0.01663912790950269,0.02335654498339062,0.03643688777506857,0.03904667389727013,0.12685026861227952,0.13941797951387963,0.15673112572673148,0.420289832512932],\"y\":[\"cat_l2\",\"reg_alpha\",\"min_child_samples\",\"n_estimators\",\"colsample_bytree\",\"cat_smooth\",\"num_leaves\",\"max_depth\",\"min_data_per_group\",\"reg_lambda\",\"learning_rate\"],\"type\":\"bar\"}],                        {\"showlegend\":false,\"title\":{\"text\":\"Hyperparameter Importances\"},\"xaxis\":{\"title\":{\"text\":\"Importance for Objective Value\"}},\"yaxis\":{\"title\":{\"text\":\"Hyperparameter\"}},\"template\":{\"data\":{\"bar\":[{\"error_x\":{\"color\":\"#2a3f5f\"},\"error_y\":{\"color\":\"#2a3f5f\"},\"marker\":{\"line\":{\"color\":\"#E5ECF6\",\"width\":0.5},\"pattern\":{\"fillmode\":\"overlay\",\"size\":10,\"solidity\":0.2}},\"type\":\"bar\"}],\"barpolar\":[{\"marker\":{\"line\":{\"color\":\"#E5ECF6\",\"width\":0.5},\"pattern\":{\"fillmode\":\"overlay\",\"size\":10,\"solidity\":0.2}},\"type\":\"barpolar\"}],\"carpet\":[{\"aaxis\":{\"endlinecolor\":\"#2a3f5f\",\"gridcolor\":\"white\",\"linecolor\":\"white\",\"minorgridcolor\":\"white\",\"startlinecolor\":\"#2a3f5f\"},\"baxis\":{\"endlinecolor\":\"#2a3f5f\",\"gridcolor\":\"white\",\"linecolor\":\"white\",\"minorgridcolor\":\"white\",\"startlinecolor\":\"#2a3f5f\"},\"type\":\"carpet\"}],\"choropleth\":[{\"colorbar\":{\"outlinewidth\":0,\"ticks\":\"\"},\"type\":\"choropleth\"}],\"contour\":[{\"colorbar\":{\"outlinewidth\":0,\"ticks\":\"\"},\"colorscale\":[[0.0,\"#0d0887\"],[0.1111111111111111,\"#46039f\"],[0.2222222222222222,\"#7201a8\"],[0.3333333333333333,\"#9c179e\"],[0.4444444444444444,\"#bd3786\"],[0.5555555555555556,\"#d8576b\"],[0.6666666666666666,\"#ed7953\"],[0.7777777777777778,\"#fb9f3a\"],[0.8888888888888888,\"#fdca26\"],[1.0,\"#f0f921\"]],\"type\":\"contour\"}],\"contourcarpet\":[{\"colorbar\":{\"outlinewidth\":0,\"ticks\":\"\"},\"type\":\"contourcarpet\"}],\"heatmap\":[{\"colorbar\":{\"outlinewidth\":0,\"ticks\":\"\"},\"colorscale\":[[0.0,\"#0d0887\"],[0.1111111111111111,\"#46039f\"],[0.2222222222222222,\"#7201a8\"],[0.3333333333333333,\"#9c179e\"],[0.4444444444444444,\"#bd3786\"],[0.5555555555555556,\"#d8576b\"],[0.6666666666666666,\"#ed7953\"],[0.7777777777777778,\"#fb9f3a\"],[0.8888888888888888,\"#fdca26\"],[1.0,\"#f0f921\"]],\"type\":\"heatmap\"}],\"heatmapgl\":[{\"colorbar\":{\"outlinewidth\":0,\"ticks\":\"\"},\"colorscale\":[[0.0,\"#0d0887\"],[0.1111111111111111,\"#46039f\"],[0.2222222222222222,\"#7201a8\"],[0.3333333333333333,\"#9c179e\"],[0.4444444444444444,\"#bd3786\"],[0.5555555555555556,\"#d8576b\"],[0.6666666666666666,\"#ed7953\"],[0.7777777777777778,\"#fb9f3a\"],[0.8888888888888888,\"#fdca26\"],[1.0,\"#f0f921\"]],\"type\":\"heatmapgl\"}],\"histogram\":[{\"marker\":{\"pattern\":{\"fillmode\":\"overlay\",\"size\":10,\"solidity\":0.2}},\"type\":\"histogram\"}],\"histogram2d\":[{\"colorbar\":{\"outlinewidth\":0,\"ticks\":\"\"},\"colorscale\":[[0.0,\"#0d0887\"],[0.1111111111111111,\"#46039f\"],[0.2222222222222222,\"#7201a8\"],[0.3333333333333333,\"#9c179e\"],[0.4444444444444444,\"#bd3786\"],[0.5555555555555556,\"#d8576b\"],[0.6666666666666666,\"#ed7953\"],[0.7777777777777778,\"#fb9f3a\"],[0.8888888888888888,\"#fdca26\"],[1.0,\"#f0f921\"]],\"type\":\"histogram2d\"}],\"histogram2dcontour\":[{\"colorbar\":{\"outlinewidth\":0,\"ticks\":\"\"},\"colorscale\":[[0.0,\"#0d0887\"],[0.1111111111111111,\"#46039f\"],[0.2222222222222222,\"#7201a8\"],[0.3333333333333333,\"#9c179e\"],[0.4444444444444444,\"#bd3786\"],[0.5555555555555556,\"#d8576b\"],[0.6666666666666666,\"#ed7953\"],[0.7777777777777778,\"#fb9f3a\"],[0.8888888888888888,\"#fdca26\"],[1.0,\"#f0f921\"]],\"type\":\"histogram2dcontour\"}],\"mesh3d\":[{\"colorbar\":{\"outlinewidth\":0,\"ticks\":\"\"},\"type\":\"mesh3d\"}],\"parcoords\":[{\"line\":{\"colorbar\":{\"outlinewidth\":0,\"ticks\":\"\"}},\"type\":\"parcoords\"}],\"pie\":[{\"automargin\":true,\"type\":\"pie\"}],\"scatter\":[{\"marker\":{\"colorbar\":{\"outlinewidth\":0,\"ticks\":\"\"}},\"type\":\"scatter\"}],\"scatter3d\":[{\"line\":{\"colorbar\":{\"outlinewidth\":0,\"ticks\":\"\"}},\"marker\":{\"colorbar\":{\"outlinewidth\":0,\"ticks\":\"\"}},\"type\":\"scatter3d\"}],\"scattercarpet\":[{\"marker\":{\"colorbar\":{\"outlinewidth\":0,\"ticks\":\"\"}},\"type\":\"scattercarpet\"}],\"scattergeo\":[{\"marker\":{\"colorbar\":{\"outlinewidth\":0,\"ticks\":\"\"}},\"type\":\"scattergeo\"}],\"scattergl\":[{\"marker\":{\"colorbar\":{\"outlinewidth\":0,\"ticks\":\"\"}},\"type\":\"scattergl\"}],\"scattermapbox\":[{\"marker\":{\"colorbar\":{\"outlinewidth\":0,\"ticks\":\"\"}},\"type\":\"scattermapbox\"}],\"scatterpolar\":[{\"marker\":{\"colorbar\":{\"outlinewidth\":0,\"ticks\":\"\"}},\"type\":\"scatterpolar\"}],\"scatterpolargl\":[{\"marker\":{\"colorbar\":{\"outlinewidth\":0,\"ticks\":\"\"}},\"type\":\"scatterpolargl\"}],\"scatterternary\":[{\"marker\":{\"colorbar\":{\"outlinewidth\":0,\"ticks\":\"\"}},\"type\":\"scatterternary\"}],\"surface\":[{\"colorbar\":{\"outlinewidth\":0,\"ticks\":\"\"},\"colorscale\":[[0.0,\"#0d0887\"],[0.1111111111111111,\"#46039f\"],[0.2222222222222222,\"#7201a8\"],[0.3333333333333333,\"#9c179e\"],[0.4444444444444444,\"#bd3786\"],[0.5555555555555556,\"#d8576b\"],[0.6666666666666666,\"#ed7953\"],[0.7777777777777778,\"#fb9f3a\"],[0.8888888888888888,\"#fdca26\"],[1.0,\"#f0f921\"]],\"type\":\"surface\"}],\"table\":[{\"cells\":{\"fill\":{\"color\":\"#EBF0F8\"},\"line\":{\"color\":\"white\"}},\"header\":{\"fill\":{\"color\":\"#C8D4E3\"},\"line\":{\"color\":\"white\"}},\"type\":\"table\"}]},\"layout\":{\"annotationdefaults\":{\"arrowcolor\":\"#2a3f5f\",\"arrowhead\":0,\"arrowwidth\":1},\"autotypenumbers\":\"strict\",\"coloraxis\":{\"colorbar\":{\"outlinewidth\":0,\"ticks\":\"\"}},\"colorscale\":{\"diverging\":[[0,\"#8e0152\"],[0.1,\"#c51b7d\"],[0.2,\"#de77ae\"],[0.3,\"#f1b6da\"],[0.4,\"#fde0ef\"],[0.5,\"#f7f7f7\"],[0.6,\"#e6f5d0\"],[0.7,\"#b8e186\"],[0.8,\"#7fbc41\"],[0.9,\"#4d9221\"],[1,\"#276419\"]],\"sequential\":[[0.0,\"#0d0887\"],[0.1111111111111111,\"#46039f\"],[0.2222222222222222,\"#7201a8\"],[0.3333333333333333,\"#9c179e\"],[0.4444444444444444,\"#bd3786\"],[0.5555555555555556,\"#d8576b\"],[0.6666666666666666,\"#ed7953\"],[0.7777777777777778,\"#fb9f3a\"],[0.8888888888888888,\"#fdca26\"],[1.0,\"#f0f921\"]],\"sequentialminus\":[[0.0,\"#0d0887\"],[0.1111111111111111,\"#46039f\"],[0.2222222222222222,\"#7201a8\"],[0.3333333333333333,\"#9c179e\"],[0.4444444444444444,\"#bd3786\"],[0.5555555555555556,\"#d8576b\"],[0.6666666666666666,\"#ed7953\"],[0.7777777777777778,\"#fb9f3a\"],[0.8888888888888888,\"#fdca26\"],[1.0,\"#f0f921\"]]},\"colorway\":[\"#636efa\",\"#EF553B\",\"#00cc96\",\"#ab63fa\",\"#FFA15A\",\"#19d3f3\",\"#FF6692\",\"#B6E880\",\"#FF97FF\",\"#FECB52\"],\"font\":{\"color\":\"#2a3f5f\"},\"geo\":{\"bgcolor\":\"white\",\"lakecolor\":\"white\",\"landcolor\":\"#E5ECF6\",\"showlakes\":true,\"showland\":true,\"subunitcolor\":\"white\"},\"hoverlabel\":{\"align\":\"left\"},\"hovermode\":\"closest\",\"mapbox\":{\"style\":\"light\"},\"paper_bgcolor\":\"white\",\"plot_bgcolor\":\"#E5ECF6\",\"polar\":{\"angularaxis\":{\"gridcolor\":\"white\",\"linecolor\":\"white\",\"ticks\":\"\"},\"bgcolor\":\"#E5ECF6\",\"radialaxis\":{\"gridcolor\":\"white\",\"linecolor\":\"white\",\"ticks\":\"\"}},\"scene\":{\"xaxis\":{\"backgroundcolor\":\"#E5ECF6\",\"gridcolor\":\"white\",\"gridwidth\":2,\"linecolor\":\"white\",\"showbackground\":true,\"ticks\":\"\",\"zerolinecolor\":\"white\"},\"yaxis\":{\"backgroundcolor\":\"#E5ECF6\",\"gridcolor\":\"white\",\"gridwidth\":2,\"linecolor\":\"white\",\"showbackground\":true,\"ticks\":\"\",\"zerolinecolor\":\"white\"},\"zaxis\":{\"backgroundcolor\":\"#E5ECF6\",\"gridcolor\":\"white\",\"gridwidth\":2,\"linecolor\":\"white\",\"showbackground\":true,\"ticks\":\"\",\"zerolinecolor\":\"white\"}},\"shapedefaults\":{\"line\":{\"color\":\"#2a3f5f\"}},\"ternary\":{\"aaxis\":{\"gridcolor\":\"white\",\"linecolor\":\"white\",\"ticks\":\"\"},\"baxis\":{\"gridcolor\":\"white\",\"linecolor\":\"white\",\"ticks\":\"\"},\"bgcolor\":\"#E5ECF6\",\"caxis\":{\"gridcolor\":\"white\",\"linecolor\":\"white\",\"ticks\":\"\"}},\"title\":{\"x\":0.05},\"xaxis\":{\"automargin\":true,\"gridcolor\":\"white\",\"linecolor\":\"white\",\"ticks\":\"\",\"title\":{\"standoff\":15},\"zerolinecolor\":\"white\",\"zerolinewidth\":2},\"yaxis\":{\"automargin\":true,\"gridcolor\":\"white\",\"linecolor\":\"white\",\"ticks\":\"\",\"title\":{\"standoff\":15},\"zerolinecolor\":\"white\",\"zerolinewidth\":2}}}},                        {\"responsive\": true}                    ).then(function(){\n",
       "                            \n",
       "var gd = document.getElementById('923f9b0d-971f-4d26-b9e9-96907466ea8b');\n",
       "var x = new MutationObserver(function (mutations, observer) {{\n",
       "        var display = window.getComputedStyle(gd).display;\n",
       "        if (!display || display === 'none') {{\n",
       "            console.log([gd, 'removed!']);\n",
       "            Plotly.purge(gd);\n",
       "            observer.disconnect();\n",
       "        }}\n",
       "}});\n",
       "\n",
       "// Listen for the removal of the full notebook cells\n",
       "var notebookContainer = gd.closest('#notebook-container');\n",
       "if (notebookContainer) {{\n",
       "    x.observe(notebookContainer, {childList: true});\n",
       "}}\n",
       "\n",
       "// Listen for the clearing of the current output cell\n",
       "var outputEl = gd.closest('.output');\n",
       "if (outputEl) {{\n",
       "    x.observe(outputEl, {childList: true});\n",
       "}}\n",
       "\n",
       "                        })                };                });            </script>        </div>"
      ]
     },
     "metadata": {},
     "output_type": "display_data"
    }
   ],
   "source": [
    "# Importance\n",
    "optuna.visualization.plot_param_importances(study)"
   ]
  },
  {
   "cell_type": "code",
   "execution_count": 12,
   "id": "01563ab8",
   "metadata": {
    "execution": {
     "iopub.execute_input": "2022-01-14T12:57:11.171568Z",
     "iopub.status.busy": "2022-01-14T12:57:11.170925Z",
     "iopub.status.idle": "2022-01-14T12:57:11.173620Z",
     "shell.execute_reply": "2022-01-14T12:57:11.173164Z",
     "shell.execute_reply.started": "2022-01-03T12:30:01.740726Z"
    },
    "papermill": {
     "duration": 0.041387,
     "end_time": "2022-01-14T12:57:11.173725",
     "exception": false,
     "start_time": "2022-01-14T12:57:11.132338",
     "status": "completed"
    },
    "tags": []
   },
   "outputs": [],
   "source": [
    "lgb_params =  {'reg_alpha': 5.028382776465415, \n",
    "               'reg_lambda': 7.969115943661513, \n",
    "               'num_leaves': 196, \n",
    "               'min_child_samples': 39, \n",
    "               'max_depth': 20, \n",
    "               'learning_rate': 0.01, \n",
    "               'colsample_bytree': 0.22772406492167746, \n",
    "               'n_estimators': 7028, \n",
    "               'cat_smooth': 38, \n",
    "               'cat_l2': 20, \n",
    "               'min_data_per_group': 199,\n",
    "               'cat_feature' : [11, 12, 13, 14, 15, 16, 17, 18, 19, 20, 21, 22, 23, 24, 25, 26, 27, 28, 29, 30, 31, \n",
    "                                 32, 33, 34, 35, 36, 37, 38, 39, 40, 41, 42, 43, 44, 45, 46, 47, 48, 49, 50, 51, 52, \n",
    "                                 53, 54, 55, 56, 57, 58, 59, 60, 61, 62, 63, 64, 65, 66, 67],\n",
    "               'n_jobs' : -1, \n",
    "               'random_state': 42,\n",
    "               'boosting_type': 'gbdt',\n",
    "               'metric': 'AUC',\n",
    "               'device': 'gpu'\n",
    "}"
   ]
  },
  {
   "cell_type": "code",
   "execution_count": 13,
   "id": "dba2646c",
   "metadata": {
    "execution": {
     "iopub.execute_input": "2022-01-14T12:57:11.244644Z",
     "iopub.status.busy": "2022-01-14T12:57:11.243879Z",
     "iopub.status.idle": "2022-01-14T12:57:11.246286Z",
     "shell.execute_reply": "2022-01-14T12:57:11.245844Z",
     "shell.execute_reply.started": "2022-01-03T12:30:05.631467Z"
    },
    "papermill": {
     "duration": 0.040947,
     "end_time": "2022-01-14T12:57:11.246392",
     "exception": false,
     "start_time": "2022-01-14T12:57:11.205445",
     "status": "completed"
    },
    "tags": []
   },
   "outputs": [],
   "source": [
    "lgb_params = study.best_trial.params\n",
    "lgb_params['device'] = \"gpu\"\n",
    "lgb_params['random_state'] = 42\n",
    "lgb_params['cat_feature'] = [11, 12, 13, 14, 15, 16, 17, 18, 19, 20, 21, 22, 23, 24, 25, 26, 27, 28, 29, 30, 31, \n",
    "                             32, 33, 34, 35, 36, 37, 38, 39, 40, 41, 42, 43, 44, 45, 46, 47, 48, 49, 50, 51, 52, \n",
    "                             53, 54, 55, 56, 57, 58, 59, 60, 61, 62, 63, 64, 65, 66, 67]\n",
    "lgb_params['n_jobs'] = -1 \n",
    "lgb_params['boosting_type'] =  'gbdt'\n",
    "lgb_params['metric'] =  'AUC'"
   ]
  },
  {
   "cell_type": "code",
   "execution_count": 14,
   "id": "8a9783f0",
   "metadata": {
    "execution": {
     "iopub.execute_input": "2022-01-14T12:57:11.319096Z",
     "iopub.status.busy": "2022-01-14T12:57:11.318073Z",
     "iopub.status.idle": "2022-01-14T16:12:34.468082Z",
     "shell.execute_reply": "2022-01-14T16:12:34.468596Z",
     "shell.execute_reply.started": "2022-01-03T12:31:02.290967Z"
    },
    "papermill": {
     "duration": 11723.19057,
     "end_time": "2022-01-14T16:12:34.468762",
     "exception": false,
     "start_time": "2022-01-14T12:57:11.278192",
     "status": "completed"
    },
    "tags": []
   },
   "outputs": [
    {
     "name": "stdout",
     "output_type": "stream",
     "text": [
      "--> Fold 1\n",
      ": LGB - ROC AUC Score = 0.9021636273375255\n",
      "--> Fold 2\n",
      ": LGB - ROC AUC Score = 0.8917105762710301\n",
      "--> Fold 3\n",
      ": LGB - ROC AUC Score = 0.895656797009998\n",
      "--> Fold 4\n",
      ": LGB - ROC AUC Score = 0.8962422533291337\n",
      "--> Fold 5\n",
      ": LGB - ROC AUC Score = 0.8990828200994236\n",
      "--> Fold 6\n",
      ": LGB - ROC AUC Score = 0.8940285715192222\n",
      "--> Fold 7\n",
      ": LGB - ROC AUC Score = 0.8990148908232043\n",
      "--> Fold 8\n",
      ": LGB - ROC AUC Score = 0.8965821279672065\n",
      "--> Fold 9\n",
      ": LGB - ROC AUC Score = 0.8987658852874936\n",
      "--> Fold 10\n",
      ": LGB - ROC AUC Score = 0.900633301263989\n",
      "--> Fold 11\n",
      ": LGB - ROC AUC Score = 0.8973259033252727\n",
      "--> Fold 12\n",
      ": LGB - ROC AUC Score = 0.8953067192850737\n",
      "--> Fold 13\n",
      ": LGB - ROC AUC Score = 0.8961045230694875\n",
      "--> Fold 14\n",
      ": LGB - ROC AUC Score = 0.9011333666481998\n",
      "--> Fold 15\n",
      ": LGB - ROC AUC Score = 0.8940033719490117\n",
      "--> Fold 16\n",
      ": LGB - ROC AUC Score = 0.8964601702646395\n",
      "--> Fold 17\n",
      ": LGB - ROC AUC Score = 0.9013588388896292\n",
      "--> Fold 18\n",
      ": LGB - ROC AUC Score = 0.8971573811994907\n",
      "--> Fold 19\n",
      ": LGB - ROC AUC Score = 0.8965250408973731\n",
      "--> Fold 20\n",
      ": LGB - ROC AUC Score = 0.8971048756879813\n"
     ]
    }
   ],
   "source": [
    "NFOLDS = 20\n",
    "folds = StratifiedKFold(n_splits=NFOLDS, random_state=42, shuffle=True)\n",
    "predictions = np.zeros(len(X_test))\n",
    "for fold, (train_index, test_index) in enumerate(folds.split(X, y)):\n",
    "    print(\"--> Fold {}\".format(fold + 1))\n",
    "    \n",
    "    X_train, X_valid = X.iloc[train_index], X.iloc[test_index]\n",
    "    y_train, y_valid = y.iloc[train_index], y.iloc[test_index]\n",
    "    \n",
    "    lgb_model = LGBMClassifier(**lgb_params).fit(X_train, y_train, \n",
    "                                                  eval_set=[(X_valid, y_valid)], \n",
    "                                                  eval_metric='auc', \n",
    "                                                  early_stopping_rounds=300, verbose=0)\n",
    "    \n",
    "    y_preds = lgb_model.predict_proba(X_valid)[:,1]\n",
    "    predictions += lgb_model.predict_proba(X_test)[:,1] / folds.n_splits \n",
    "    \n",
    "    print(\": LGB - ROC AUC Score = {}\".format(roc_auc_score(y_valid, y_preds, average=\"micro\")))"
   ]
  },
  {
   "cell_type": "code",
   "execution_count": 15,
   "id": "58c5088a",
   "metadata": {
    "execution": {
     "iopub.execute_input": "2022-01-14T16:12:34.549061Z",
     "iopub.status.busy": "2022-01-14T16:12:34.548518Z",
     "iopub.status.idle": "2022-01-14T16:12:35.262866Z",
     "shell.execute_reply": "2022-01-14T16:12:35.262359Z",
     "shell.execute_reply.started": "2022-01-03T12:20:44.142217Z"
    },
    "papermill": {
     "duration": 0.755951,
     "end_time": "2022-01-14T16:12:35.262995",
     "exception": false,
     "start_time": "2022-01-14T16:12:34.507044",
     "status": "completed"
    },
    "tags": []
   },
   "outputs": [],
   "source": [
    "sub = pd.read_csv('../input/tabular-playground-series-mar-2021/sample_submission.csv')\n",
    "sub['target'] = predictions\n",
    "regr_table = sub.to_csv(\"Sub_lgb_v2.csv\", index = False)"
   ]
  }
 ],
 "metadata": {
  "kernelspec": {
   "display_name": "Python 3",
   "language": "python",
   "name": "python3"
  },
  "language_info": {
   "codemirror_mode": {
    "name": "ipython",
    "version": 3
   },
   "file_extension": ".py",
   "mimetype": "text/x-python",
   "name": "python",
   "nbconvert_exporter": "python",
   "pygments_lexer": "ipython3",
   "version": "3.7.12"
  },
  "papermill": {
   "default_parameters": {},
   "duration": 24947.140693,
   "end_time": "2022-01-14T16:12:36.582477",
   "environment_variables": {},
   "exception": null,
   "input_path": "__notebook__.ipynb",
   "output_path": "__notebook__.ipynb",
   "parameters": {},
   "start_time": "2022-01-14T09:16:49.441784",
   "version": "2.3.3"
  }
 },
 "nbformat": 4,
 "nbformat_minor": 5
}
